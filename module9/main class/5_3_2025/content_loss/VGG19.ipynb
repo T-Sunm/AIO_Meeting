{
 "cells": [
  {
   "cell_type": "code",
   "execution_count": 1,
   "id": "82df7c15-bf14-4737-b52e-c65a69f7b9d0",
   "metadata": {},
   "outputs": [
    {
     "name": "stderr",
     "output_type": "stream",
     "text": [
      "Downloading: \"https://download.pytorch.org/models/vgg19-dcbb9e9d.pth\" to /Users/quangvinh/.cache/torch/hub/checkpoints/vgg19-dcbb9e9d.pth\n",
      "100%|██████████| 548M/548M [00:05<00:00, 104MB/s]  \n"
     ]
    }
   ],
   "source": [
    "from torchvision.models import vgg19, VGG19_Weights\n",
    "\n",
    "VGG19_pretrained = vgg19(weights=VGG19_Weights.DEFAULT).features.eval()\n",
    "for param in VGG19_pretrained.parameters():\n",
    "    param.requires_grad_(False)\n"
   ]
  },
  {
   "cell_type": "code",
   "execution_count": null,
   "id": "da6ba77b-161e-41ee-a35b-404ed19634f6",
   "metadata": {},
   "outputs": [],
   "source": []
  },
  {
   "cell_type": "code",
   "execution_count": 2,
   "id": "25cc8dfb-7027-43e1-aaf3-3c9cbeed378a",
   "metadata": {},
   "outputs": [
    {
     "name": "stdout",
     "output_type": "stream",
     "text": [
      "0\n",
      "1\n",
      "2\n",
      "3\n",
      "4\n",
      "5\n",
      "6\n",
      "7\n",
      "8\n",
      "9\n",
      "10\n",
      "11\n",
      "12\n",
      "13\n",
      "14\n",
      "15\n",
      "16\n",
      "17\n",
      "18\n",
      "19\n",
      "20\n",
      "21\n",
      "22\n",
      "23\n",
      "24\n",
      "25\n",
      "26\n",
      "27\n",
      "28\n",
      "29\n",
      "30\n",
      "31\n",
      "32\n",
      "33\n",
      "34\n",
      "35\n",
      "36\n"
     ]
    }
   ],
   "source": [
    "for name, pretrained_layer in VGG19_pretrained._modules.items():\n",
    "    print(name)"
   ]
  },
  {
   "cell_type": "code",
   "execution_count": null,
   "id": "cec61ad8-3a67-447a-ae1a-f8724c3e3b0d",
   "metadata": {},
   "outputs": [],
   "source": []
  },
  {
   "cell_type": "code",
   "execution_count": null,
   "id": "8dc79ae7-fbe5-4817-bfe6-2d083f01facd",
   "metadata": {},
   "outputs": [],
   "source": []
  },
  {
   "cell_type": "code",
   "execution_count": 4,
   "id": "08509c55-a479-430e-9705-7a47dd44257d",
   "metadata": {},
   "outputs": [
    {
     "name": "stdout",
     "output_type": "stream",
     "text": [
      "torch.Size([1, 1000])\n",
      "tensor(208)\n"
     ]
    }
   ],
   "source": [
    "from PIL import Image\n",
    "import torchvision.transforms as transforms\n",
    "from torchvision.models import vgg19, VGG19_Weights\n",
    "import torch\n",
    "\n",
    "imsize = 256\n",
    "img_transforms = transforms.Compose([\n",
    "    transforms.Resize((imsize, imsize)), \n",
    "    transforms.ToTensor()\n",
    "])\n",
    "\n",
    "def image_loader(image_name):\n",
    "    image = Image.open(image_name)\n",
    "    image = img_transforms(image).unsqueeze(0)\n",
    "    return image\n",
    "\n",
    "content_img = image_loader(\"content_img_1.jpg\")\n",
    "VGG19_pretrained = vgg19(weights=VGG19_Weights.DEFAULT)\n",
    "outputs = VGG19_pretrained(content_img)\n",
    "print(outputs.shape)\n",
    "print(torch.argmax(outputs))"
   ]
  },
  {
   "cell_type": "code",
   "execution_count": null,
   "id": "e831cd54-535e-4788-838c-2610eeb5e54f",
   "metadata": {},
   "outputs": [],
   "source": []
  },
  {
   "cell_type": "code",
   "execution_count": null,
   "id": "ca0f3f4c-e32b-4d05-bd9f-008bbcc100e1",
   "metadata": {},
   "outputs": [],
   "source": []
  },
  {
   "cell_type": "code",
   "execution_count": null,
   "id": "a55229be-83a5-4139-857a-878966c08e45",
   "metadata": {},
   "outputs": [],
   "source": []
  },
  {
   "cell_type": "code",
   "execution_count": 6,
   "id": "47342b0d-1660-4e3a-b6ca-f0fb805e783f",
   "metadata": {},
   "outputs": [
    {
     "name": "stdout",
     "output_type": "stream",
     "text": [
      "torch.Size([1, 1000])\n",
      "tensor(275)\n"
     ]
    }
   ],
   "source": [
    "from PIL import Image\n",
    "import torchvision.transforms as transforms\n",
    "from torchvision.models import vgg19, VGG19_Weights\n",
    "import torch\n",
    "\n",
    "imsize = 256\n",
    "img_transforms = transforms.Compose([\n",
    "    transforms.Resize((imsize, imsize)), \n",
    "    transforms.ToTensor()\n",
    "])\n",
    "\n",
    "def image_loader(image_name):\n",
    "    image = Image.open(image_name)\n",
    "    image = img_transforms(image).unsqueeze(0)\n",
    "    return image\n",
    "\n",
    "content_img = image_loader(\"content_img_1.jpg\")\n",
    "VGG19_pretrained = vgg19()\n",
    "outputs = VGG19_pretrained(content_img)\n",
    "print(outputs.shape)\n",
    "print(torch.argmax(outputs))"
   ]
  },
  {
   "cell_type": "code",
   "execution_count": null,
   "id": "f002065b-ac6c-48a0-b8a3-15a94621f654",
   "metadata": {},
   "outputs": [],
   "source": []
  }
 ],
 "metadata": {
  "kernelspec": {
   "display_name": "Python 3 (ipykernel)",
   "language": "python",
   "name": "python3"
  },
  "language_info": {
   "codemirror_mode": {
    "name": "ipython",
    "version": 3
   },
   "file_extension": ".py",
   "mimetype": "text/x-python",
   "name": "python",
   "nbconvert_exporter": "python",
   "pygments_lexer": "ipython3",
   "version": "3.12.4"
  }
 },
 "nbformat": 4,
 "nbformat_minor": 5
}
