{
  "cells": [
    {
      "cell_type": "code",
      "execution_count": 1,
      "metadata": {
        "id": "ZsbyQZuzs-6g"
      },
      "outputs": [],
      "source": [
        "import torch\n",
        "import torch.nn as nn\n",
        "import torch.optim as optim\n",
        "\n",
        "torch.manual_seed(0)\n",
        "\n",
        "class SimpleCNN(nn.Module):\n",
        "    def __init__(self):\n",
        "        super(SimpleCNN, self).__init__()\n",
        "        self.conv1 = nn.Conv2d(in_channels=1, out_channels=1, kernel_size=3, padding=0, bias=True)\n",
        "        self.conv2 = nn.Conv2d(in_channels=1, out_channels=1, kernel_size=3, padding=0, bias=True)\n",
        "\n",
        "    def forward(self, x):\n",
        "        x = nn.ReLU()(self.conv1(x))\n",
        "        x = self.conv2(x)\n",
        "        return x\n",
        "\n",
        "net = SimpleCNN()\n",
        "\n",
        "noise_img = torch.randn(1, 1, 7, 7)\n",
        "noise_img = nn.Parameter(noise_img)\n",
        "\n",
        "target_data = torch.tensor([\n",
        "    [0, 0, 0, 1, 0, 0, 0],\n",
        "    [0, 0, 1, 1, 0, 0, 0],\n",
        "    [0, 1, 0, 1, 0, 0, 0],\n",
        "    [0, 0, 0, 1, 0, 0, 0],\n",
        "    [0, 0, 0, 1, 0, 0, 0],\n",
        "    [0, 0, 0, 1, 0, 0, 0],\n",
        "    [0, 0, 0, 1, 0, 0, 0]\n",
        "], dtype=torch.float32).unsqueeze(0).unsqueeze(0)\n",
        "\n",
        "criterion = nn.MSELoss()\n",
        "optimizer = optim.Adam([noise_img], lr=0.01)\n",
        "\n",
        "conv1_w_before = net.conv1.weight.clone().detach()\n",
        "conv1_b_before = net.conv1.bias.clone().detach()\n",
        "conv2_w_before = net.conv2.weight.clone().detach()\n",
        "conv2_b_before = net.conv2.bias.clone().detach()"
      ]
    },
    {
      "cell_type": "code",
      "execution_count": null,
      "metadata": {
        "colab": {
          "base_uri": "https://localhost:8080/"
        },
        "id": "FVwBQoOwuAdc",
        "outputId": "eecb8a6c-eece-4fce-8d1a-321476b9902c"
      },
      "outputs": [
        {
          "name": "stdout",
          "output_type": "stream",
          "text": [
            "Epoch [10/500], Loss: 0.060196\n",
            "Epoch [20/500], Loss: 0.045720\n",
            "Epoch [30/500], Loss: 0.035025\n",
            "Epoch [40/500], Loss: 0.028242\n",
            "Epoch [50/500], Loss: 0.023416\n",
            "Epoch [60/500], Loss: 0.019798\n",
            "Epoch [70/500], Loss: 0.016487\n",
            "Epoch [80/500], Loss: 0.013697\n",
            "Epoch [90/500], Loss: 0.011230\n",
            "Epoch [100/500], Loss: 0.009263\n",
            "Epoch [110/500], Loss: 0.007724\n",
            "Epoch [120/500], Loss: 0.006497\n",
            "Epoch [130/500], Loss: 0.005558\n",
            "Epoch [140/500], Loss: 0.004793\n",
            "Epoch [150/500], Loss: 0.004155\n",
            "Epoch [160/500], Loss: 0.003605\n",
            "Epoch [170/500], Loss: 0.003134\n",
            "Epoch [180/500], Loss: 0.002727\n",
            "Epoch [190/500], Loss: 0.002373\n",
            "Epoch [200/500], Loss: 0.002075\n",
            "Epoch [210/500], Loss: 0.001820\n",
            "Epoch [220/500], Loss: 0.001599\n",
            "Epoch [230/500], Loss: 0.001410\n",
            "Epoch [240/500], Loss: 0.001275\n",
            "Epoch [250/500], Loss: 0.001177\n",
            "Epoch [260/500], Loss: 0.001099\n",
            "Epoch [270/500], Loss: 0.001037\n",
            "Epoch [280/500], Loss: 0.000986\n",
            "Epoch [290/500], Loss: 0.000942\n",
            "Epoch [300/500], Loss: 0.000904\n",
            "Epoch [310/500], Loss: 0.000871\n",
            "Epoch [320/500], Loss: 0.000841\n",
            "Epoch [330/500], Loss: 0.000814\n",
            "Epoch [340/500], Loss: 0.000790\n",
            "Epoch [350/500], Loss: 0.000765\n",
            "Epoch [360/500], Loss: 0.000743\n",
            "Epoch [370/500], Loss: 0.000722\n",
            "Epoch [380/500], Loss: 0.000701\n",
            "Epoch [390/500], Loss: 0.000680\n",
            "Epoch [400/500], Loss: 0.000659\n",
            "Epoch [410/500], Loss: 0.000640\n",
            "Epoch [420/500], Loss: 0.000621\n",
            "Epoch [430/500], Loss: 0.000596\n",
            "Epoch [440/500], Loss: 0.000574\n",
            "Epoch [450/500], Loss: 0.000552\n",
            "Epoch [460/500], Loss: 0.000530\n",
            "Epoch [470/500], Loss: 0.000508\n",
            "Epoch [480/500], Loss: 0.000488\n",
            "Epoch [490/500], Loss: 0.000468\n",
            "Epoch [500/500], Loss: 0.000450\n"
          ]
        }
      ],
      "source": [
        "num_epochs = 500\n",
        "\n",
        "for epoch in range(num_epochs):\n",
        "    optimizer.zero_grad()\n",
        "\n",
        "    noise_img_feature = net(noise_img)\n",
        "    target_img_feature = net(target_data)\n",
        "\n",
        "    loss = criterion(noise_img_feature, target_img_feature)\n",
        "\n",
        "    loss.backward()\n",
        "    optimizer.step()\n",
        "\n",
        "    if (epoch+1) % 10 == 0:\n",
        "        print(f\"Epoch [{epoch+1}/{num_epochs}], Loss: {loss.item():.6f}\")\n",
        "\n",
        "conv1_w_after = net.conv1.weight.clone().detach()\n",
        "conv1_b_after = net.conv1.bias.clone().detach()\n",
        "conv2_w_after = net.conv2.weight.clone().detach()\n",
        "conv2_b_after = net.conv2.bias.clone().detach()"
      ]
    },
    {
      "cell_type": "code",
      "execution_count": 2,
      "metadata": {
        "colab": {
          "base_uri": "https://localhost:8080/"
        },
        "id": "L-W3wNvIuiEv",
        "outputId": "cc4c85b6-8fc8-4d01-98f5-aaab789599f8"
      },
      "outputs": [
        {
          "name": "stdout",
          "output_type": "stream",
          "text": [
            "Trọng số của conv1.weight trước và sau:\n",
            "Trước:\n",
            "tensor([[[[-0.0025,  0.1788, -0.2743],\n",
            "          [-0.2453, -0.1284,  0.0894],\n",
            "          [-0.0066,  0.2643, -0.0296]]]])\n",
            "Sau:\n"
          ]
        },
        {
          "ename": "NameError",
          "evalue": "name 'conv1_w_after' is not defined",
          "output_type": "error",
          "traceback": [
            "\u001b[0;31m---------------------------------------------------------------------------\u001b[0m",
            "\u001b[0;31mNameError\u001b[0m                                 Traceback (most recent call last)",
            "Cell \u001b[0;32mIn[2], line 5\u001b[0m\n\u001b[1;32m      3\u001b[0m \u001b[38;5;28mprint\u001b[39m(conv1_w_before)\n\u001b[1;32m      4\u001b[0m \u001b[38;5;28mprint\u001b[39m(\u001b[38;5;124m\"\u001b[39m\u001b[38;5;124mSau:\u001b[39m\u001b[38;5;124m\"\u001b[39m)\n\u001b[0;32m----> 5\u001b[0m \u001b[38;5;28mprint\u001b[39m(\u001b[43mconv1_w_after\u001b[49m)\n\u001b[1;32m      7\u001b[0m \u001b[38;5;28mprint\u001b[39m(\u001b[38;5;124m\"\u001b[39m\u001b[38;5;130;01m\\n\u001b[39;00m\u001b[38;5;124mTrọng số cảu conv1.bias trước và sau:\u001b[39m\u001b[38;5;124m\"\u001b[39m)\n\u001b[1;32m      8\u001b[0m \u001b[38;5;28mprint\u001b[39m(\u001b[38;5;124m\"\u001b[39m\u001b[38;5;124mTrước:\u001b[39m\u001b[38;5;124m\"\u001b[39m)\n",
            "\u001b[0;31mNameError\u001b[0m: name 'conv1_w_after' is not defined"
          ]
        }
      ],
      "source": [
        "print(\"Trọng số của conv1.weight trước và sau:\")\n",
        "print(\"Trước:\")\n",
        "print(conv1_w_before)\n",
        "print(\"Sau:\")\n",
        "print(conv1_w_after)\n",
        "\n",
        "print(\"\\nTrọng số cảu conv1.bias trước và sau:\")\n",
        "print(\"Trước:\")\n",
        "print(conv1_b_before)\n",
        "print(\"Sau:\")\n",
        "print(conv1_b_after)\n",
        "\n",
        "print(\"\\nTrọng số conv2.weight trước và sau:\")\n",
        "print(\"Trước:\")\n",
        "print(conv2_w_before)\n",
        "print(\"Sau:\")\n",
        "print(conv2_w_after)\n",
        "\n",
        "print(\"\\nTrọng số conv2.bias trước và sau:\")\n",
        "print(\"Trước:\")\n",
        "print(conv2_b_before)\n",
        "print(\"Sau:\")\n",
        "print(conv2_b_after)\n",
        "\n",
        "noise_img_final = noise_img.detach()\n",
        "noise_feature_final = net(noise_img_final).detach()\n",
        "target_feature_final = net(target_data).detach()\n",
        "\n",
        "print(\"\\nNoise_img ban đầu được update thành (7x7):\")\n",
        "print(noise_img_final[0, 0])\n",
        "\n",
        "print(\"\\nFeature cuối của noise_img (sau CNN):\")\n",
        "print(noise_feature_final[0, 0])\n",
        "\n",
        "print(\"\\nFeature cuối của target_img (sau CNN):\")\n",
        "print(target_feature_final[0, 0])"
      ]
    },
    {
      "cell_type": "code",
      "execution_count": null,
      "metadata": {
        "colab": {
          "base_uri": "https://localhost:8080/"
        },
        "id": "ytdDlow8undG",
        "outputId": "d7a270f2-51dc-46de-c312-1c14434db798"
      },
      "outputs": [
        {
          "name": "stdout",
          "output_type": "stream",
          "text": [
            "tensor([[[[0., 0., 0., 1., 0., 0., 0.],\n",
            "          [0., 0., 1., 1., 0., 0., 0.],\n",
            "          [0., 1., 0., 1., 0., 0., 0.],\n",
            "          [0., 0., 0., 1., 0., 0., 0.],\n",
            "          [0., 0., 0., 1., 0., 0., 0.],\n",
            "          [0., 0., 0., 1., 0., 0., 0.],\n",
            "          [0., 0., 0., 1., 0., 0., 0.]]]])\n"
          ]
        }
      ],
      "source": [
        "print(target_data)"
      ]
    },
    {
      "cell_type": "code",
      "execution_count": 3,
      "metadata": {
        "colab": {
          "base_uri": "https://localhost:8080/"
        },
        "id": "Ajd7uXLFz1Wb",
        "outputId": "2d91c91c-a619-4430-8111-ebd49fe857e4"
      },
      "outputs": [
        {
          "name": "stdout",
          "output_type": "stream",
          "text": [
            "Parameter containing:\n",
            "tensor([[[[ 0.5988, -1.5551, -0.3414,  1.8530,  0.4681, -0.1577,  1.4437],\n",
            "          [ 0.2660,  1.3894,  1.5863,  0.9463, -0.8437,  0.9318,  1.2590],\n",
            "          [ 2.0050,  0.0537,  0.4397,  0.1124,  0.6408,  0.4412, -0.2159],\n",
            "          [-0.7425,  0.5627,  0.2596,  0.5229,  2.3022, -1.4689, -1.5867],\n",
            "          [ 1.2032,  0.0845, -1.2001, -0.0048, -0.2303,  2.5672, -0.4731],\n",
            "          [ 0.3356,  1.5091,  2.0820,  1.7067,  2.3804, -1.1256,  1.1149],\n",
            "          [-0.1407,  0.8058,  0.3276, -0.7607, -1.5991,  0.0185, -0.7504]]]],\n",
            "       requires_grad=True)\n"
          ]
        }
      ],
      "source": [
        "print(noise_img)"
      ]
    },
    {
      "cell_type": "code",
      "execution_count": null,
      "metadata": {
        "id": "VdnhiOak1T5q"
      },
      "outputs": [],
      "source": []
    }
  ],
  "metadata": {
    "colab": {
      "provenance": []
    },
    "kernelspec": {
      "display_name": "Python 3",
      "name": "python3"
    },
    "language_info": {
      "codemirror_mode": {
        "name": "ipython",
        "version": 3
      },
      "file_extension": ".py",
      "mimetype": "text/x-python",
      "name": "python",
      "nbconvert_exporter": "python",
      "pygments_lexer": "ipython3",
      "version": "3.12.4"
    }
  },
  "nbformat": 4,
  "nbformat_minor": 0
}
