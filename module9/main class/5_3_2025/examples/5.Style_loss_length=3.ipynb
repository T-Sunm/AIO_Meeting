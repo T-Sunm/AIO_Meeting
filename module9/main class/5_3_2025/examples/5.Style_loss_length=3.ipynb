{
  "cells": [
    {
      "cell_type": "code",
      "execution_count": null,
      "metadata": {
        "colab": {
          "base_uri": "https://localhost:8080/"
        },
        "id": "mj8S0irlcRd4",
        "outputId": "da2f88cb-1703-437d-8ab4-e3ce6f46424e"
      },
      "outputs": [
        {
          "name": "stdout",
          "output_type": "stream",
          "text": [
            "style_mat:\n",
            " tensor([[ 2.,  3.],\n",
            "        [-1.,  4.]])\n",
            "G_style:\n",
            " tensor([[13., 10.],\n",
            "        [10., 17.]])\n",
            "input_mat:\n",
            " Parameter containing:\n",
            "tensor([[-1.2328e-01,  1.0980e+00,  1.4641e+00],\n",
            "        [ 1.1249e-03, -2.9110e-01, -2.4231e+00]], requires_grad=True)\n"
          ]
        }
      ],
      "source": [
        "import torch\n",
        "import torch.nn as nn\n",
        "import torch.optim as optim\n",
        "\n",
        "def gram_matrix(mat):\n",
        "    G = mat@mat.T    \n",
        "    return G\n",
        "\n",
        "style_mat = torch.tensor([\n",
        "    [2.0,  3.0],\n",
        "    [-1.0, 4.0]\n",
        "])\n",
        "style_mat.requires_grad_(False)\n",
        "G_style = gram_matrix(style_mat)\n",
        "print(\"style_mat:\\n\", style_mat)\n",
        "print(\"G_style:\\n\", G_style)\n",
        "\n",
        "input_mat = nn.Parameter(torch.randn(2, 3))\n",
        "print(\"input_mat:\\n\", input_mat)"
      ]
    },
    {
      "cell_type": "code",
      "execution_count": 2,
      "metadata": {
        "colab": {
          "base_uri": "https://localhost:8080/"
        },
        "id": "X2hUiIqbjToX",
        "outputId": "8deae671-b7f3-4ff9-e554-90899e641124"
      },
      "outputs": [
        {
          "name": "stdout",
          "output_type": "stream",
          "text": [
            "Epoch [100/2000], Loss = 40.950680\n",
            "Epoch [200/2000], Loss = 0.712595\n",
            "Epoch [300/2000], Loss = 0.071621\n",
            "Epoch [400/2000], Loss = 0.007151\n",
            "Epoch [500/2000], Loss = 0.000528\n",
            "Epoch [600/2000], Loss = 0.000027\n",
            "Epoch [700/2000], Loss = 0.000001\n",
            "Epoch [800/2000], Loss = 0.000000\n",
            "Epoch [900/2000], Loss = 0.000000\n",
            "Epoch [1000/2000], Loss = 0.000000\n",
            "Epoch [1100/2000], Loss = 0.000000\n",
            "Epoch [1200/2000], Loss = 0.000000\n",
            "Epoch [1300/2000], Loss = 0.000000\n",
            "Epoch [1400/2000], Loss = 0.000000\n",
            "Epoch [1500/2000], Loss = 0.000000\n",
            "Epoch [1600/2000], Loss = 0.000000\n",
            "Epoch [1700/2000], Loss = 0.000000\n",
            "Epoch [1800/2000], Loss = 0.000000\n",
            "Epoch [1900/2000], Loss = 0.000000\n",
            "Epoch [2000/2000], Loss = 0.000000\n",
            "style_mat:\n",
            " tensor([[ 2.,  3.],\n",
            "        [-1.,  4.]])\n",
            "input_mat:\n",
            " Parameter containing:\n",
            "tensor([[-2.1855,  2.8429, -0.3762],\n",
            "        [-2.0084,  1.5430, -3.2535]], requires_grad=True)\n"
          ]
        }
      ],
      "source": [
        "criterion = nn.MSELoss()\n",
        "optimizer = optim.Adam([input_mat], lr=0.01)\n",
        "\n",
        "num_epochs = 2000\n",
        "for epoch in range(num_epochs):\n",
        "    optimizer.zero_grad()\n",
        "\n",
        "    G_input = gram_matrix(input_mat)\n",
        "    loss = criterion(G_input, G_style)\n",
        "\n",
        "    loss.backward()\n",
        "    optimizer.step()\n",
        "\n",
        "    if (epoch+1) % 100 == 0:\n",
        "        print(f\"Epoch [{epoch+1}/{num_epochs}], Loss = {loss.item():.6f}\")\n",
        "\n",
        "print(\"style_mat:\\n\", style_mat)\n",
        "print(\"input_mat:\\n\", input_mat)"
      ]
    },
    {
      "cell_type": "code",
      "execution_count": 3,
      "metadata": {
        "id": "p1Vjy8btvCwW"
      },
      "outputs": [
        {
          "data": {
            "text/plain": [
              "tensor([[13., 10.],\n",
              "        [10., 17.]])"
            ]
          },
          "execution_count": 3,
          "metadata": {},
          "output_type": "execute_result"
        }
      ],
      "source": [
        "gram_matrix(style_mat)"
      ]
    },
    {
      "cell_type": "code",
      "execution_count": 4,
      "metadata": {},
      "outputs": [
        {
          "data": {
            "text/plain": [
              "tensor([[13.0000, 10.0000],\n",
              "        [10.0000, 17.0000]], grad_fn=<MmBackward0>)"
            ]
          },
          "execution_count": 4,
          "metadata": {},
          "output_type": "execute_result"
        }
      ],
      "source": [
        "gram_matrix(input_mat)"
      ]
    }
  ],
  "metadata": {
    "colab": {
      "provenance": []
    },
    "kernelspec": {
      "display_name": "Python 3",
      "name": "python3"
    },
    "language_info": {
      "codemirror_mode": {
        "name": "ipython",
        "version": 3
      },
      "file_extension": ".py",
      "mimetype": "text/x-python",
      "name": "python",
      "nbconvert_exporter": "python",
      "pygments_lexer": "ipython3",
      "version": "3.12.4"
    }
  },
  "nbformat": 4,
  "nbformat_minor": 0
}
