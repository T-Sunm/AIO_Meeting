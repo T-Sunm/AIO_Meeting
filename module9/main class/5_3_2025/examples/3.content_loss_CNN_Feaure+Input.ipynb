{
  "cells": [
    {
      "cell_type": "code",
      "execution_count": 1,
      "metadata": {
        "id": "ZsbyQZuzs-6g"
      },
      "outputs": [],
      "source": [
        "import torch\n",
        "import torch.nn as nn\n",
        "import torch.optim as optim\n",
        "\n",
        "torch.manual_seed(0)\n",
        "\n",
        "class SimpleCNN(nn.Module):\n",
        "    def __init__(self):\n",
        "        super(SimpleCNN, self).__init__()\n",
        "        self.conv1 = nn.Conv2d(in_channels=1, out_channels=1, kernel_size=3, padding=0, bias=True)\n",
        "        self.conv2 = nn.Conv2d(in_channels=1, out_channels=1, kernel_size=3, padding=0, bias=True)\n",
        "\n",
        "    def forward(self, x):\n",
        "        x = nn.ReLU()(self.conv1(x))\n",
        "        x = self.conv2(x)\n",
        "        return x\n",
        "\n",
        "net = SimpleCNN()\n",
        "\n",
        "noise_img = torch.randn(1, 1, 7, 7)\n",
        "noise_img = nn.Parameter(noise_img)\n",
        "\n",
        "target_data = torch.tensor([\n",
        "    [0, 0, 0, 1, 0, 0, 0],\n",
        "    [0, 0, 1, 1, 0, 0, 0],\n",
        "    [0, 1, 0, 1, 0, 0, 0],\n",
        "    [0, 0, 0, 1, 0, 0, 0],\n",
        "    [0, 0, 0, 1, 0, 0, 0],\n",
        "    [0, 0, 0, 1, 0, 0, 0],\n",
        "    [0, 0, 0, 1, 0, 0, 0]\n",
        "], dtype=torch.float32).unsqueeze(0).unsqueeze(0)\n",
        "\n",
        "criterion = nn.MSELoss()\n",
        "optimizer = optim.Adam([noise_img], lr=0.01)\n",
        "\n",
        "conv1_w_before = net.conv1.weight.clone().detach()\n",
        "conv1_b_before = net.conv1.bias.clone().detach()\n",
        "conv2_w_before = net.conv2.weight.clone().detach()\n",
        "conv2_b_before = net.conv2.bias.clone().detach()"
      ]
    },
    {
      "cell_type": "code",
      "execution_count": 2,
      "metadata": {
        "colab": {
          "base_uri": "https://localhost:8080/"
        },
        "id": "FVwBQoOwuAdc",
        "outputId": "46de4b94-b3be-46ff-9590-b6ecaf9e5ecc"
      },
      "outputs": [
        {
          "name": "stdout",
          "output_type": "stream",
          "text": [
            "Epoch [10/500], Loss: 1.178450\n",
            "Epoch [20/500], Loss: 1.012863\n",
            "Epoch [30/500], Loss: 0.870394\n",
            "Epoch [40/500], Loss: 0.748415\n",
            "Epoch [50/500], Loss: 0.644161\n",
            "Epoch [60/500], Loss: 0.554443\n",
            "Epoch [70/500], Loss: 0.477392\n",
            "Epoch [80/500], Loss: 0.411092\n",
            "Epoch [90/500], Loss: 0.353957\n",
            "Epoch [100/500], Loss: 0.304658\n",
            "Epoch [110/500], Loss: 0.262092\n",
            "Epoch [120/500], Loss: 0.224847\n",
            "Epoch [130/500], Loss: 0.192679\n",
            "Epoch [140/500], Loss: 0.165019\n",
            "Epoch [150/500], Loss: 0.141240\n",
            "Epoch [160/500], Loss: 0.120811\n",
            "Epoch [170/500], Loss: 0.103276\n",
            "Epoch [180/500], Loss: 0.088129\n",
            "Epoch [190/500], Loss: 0.075223\n",
            "Epoch [200/500], Loss: 0.064194\n",
            "Epoch [210/500], Loss: 0.054775\n",
            "Epoch [220/500], Loss: 0.046727\n",
            "Epoch [230/500], Loss: 0.039825\n",
            "Epoch [240/500], Loss: 0.033906\n",
            "Epoch [250/500], Loss: 0.028836\n",
            "Epoch [260/500], Loss: 0.024503\n",
            "Epoch [270/500], Loss: 0.020801\n",
            "Epoch [280/500], Loss: 0.017642\n",
            "Epoch [290/500], Loss: 0.014948\n",
            "Epoch [300/500], Loss: 0.012653\n",
            "Epoch [310/500], Loss: 0.010699\n",
            "Epoch [320/500], Loss: 0.009039\n",
            "Epoch [330/500], Loss: 0.007640\n",
            "Epoch [340/500], Loss: 0.006455\n",
            "Epoch [350/500], Loss: 0.005448\n",
            "Epoch [360/500], Loss: 0.004591\n",
            "Epoch [370/500], Loss: 0.003862\n",
            "Epoch [380/500], Loss: 0.003242\n",
            "Epoch [390/500], Loss: 0.002717\n",
            "Epoch [400/500], Loss: 0.002273\n",
            "Epoch [410/500], Loss: 0.001897\n",
            "Epoch [420/500], Loss: 0.001581\n",
            "Epoch [430/500], Loss: 0.001314\n",
            "Epoch [440/500], Loss: 0.001090\n",
            "Epoch [450/500], Loss: 0.000902\n",
            "Epoch [460/500], Loss: 0.000745\n",
            "Epoch [470/500], Loss: 0.000614\n",
            "Epoch [480/500], Loss: 0.000505\n",
            "Epoch [490/500], Loss: 0.000414\n",
            "Epoch [500/500], Loss: 0.000339\n"
          ]
        }
      ],
      "source": [
        "num_epochs = 500\n",
        "\n",
        "for epoch in range(num_epochs):\n",
        "    optimizer.zero_grad()\n",
        "\n",
        "    noise_img_feature = net(noise_img)\n",
        "    target_img_feature = net(target_data)\n",
        "\n",
        "    loss = criterion(noise_img_feature, target_img_feature) + criterion(noise_img, target_data)\n",
        "\n",
        "    loss.backward()\n",
        "    optimizer.step()\n",
        "\n",
        "    if (epoch+1) % 10 == 0:\n",
        "        print(f\"Epoch [{epoch+1}/{num_epochs}], Loss: {loss.item():.6f}\")\n",
        "\n",
        "conv1_w_after = net.conv1.weight.clone().detach()\n",
        "conv1_b_after = net.conv1.bias.clone().detach()\n",
        "conv2_w_after = net.conv2.weight.clone().detach()\n",
        "conv2_b_after = net.conv2.bias.clone().detach()"
      ]
    },
    {
      "cell_type": "code",
      "execution_count": 3,
      "metadata": {
        "colab": {
          "base_uri": "https://localhost:8080/"
        },
        "id": "L-W3wNvIuiEv",
        "outputId": "5e257946-5a18-4ee7-8403-1fa157452bcb"
      },
      "outputs": [
        {
          "name": "stdout",
          "output_type": "stream",
          "text": [
            "Trọng số của conv1.weight trước và sau:\n",
            "Trước:\n",
            "tensor([[[[-0.0025,  0.1788, -0.2743],\n",
            "          [-0.2453, -0.1284,  0.0894],\n",
            "          [-0.0066,  0.2643, -0.0296]]]])\n",
            "Sau:\n",
            "tensor([[[[-0.0025,  0.1788, -0.2743],\n",
            "          [-0.2453, -0.1284,  0.0894],\n",
            "          [-0.0066,  0.2643, -0.0296]]]])\n",
            "\n",
            "Trọng số cảu conv1.bias trước và sau:\n",
            "Trước:\n",
            "tensor([0.0882])\n",
            "Sau:\n",
            "tensor([0.0882])\n",
            "\n",
            "Trọng số conv2.weight trước và sau:\n",
            "Trước:\n",
            "tensor([[[[-0.1007, -0.0655, -0.3184],\n",
            "          [-0.2208, -0.1374,  0.0123],\n",
            "          [ 0.1318,  0.2000, -0.2260]]]])\n",
            "Sau:\n",
            "tensor([[[[-0.1007, -0.0655, -0.3184],\n",
            "          [-0.2208, -0.1374,  0.0123],\n",
            "          [ 0.1318,  0.2000, -0.2260]]]])\n",
            "\n",
            "Trọng số conv2.bias trước và sau:\n",
            "Trước:\n",
            "tensor([-0.1452])\n",
            "Sau:\n",
            "tensor([-0.1452])\n",
            "\n",
            "Noise_img ban đầu được update thành (7x7):\n",
            "tensor([[ 2.8202e-07, -5.2328e-04,  3.2168e-05,  9.9971e-01,  4.2022e-04,\n",
            "         -7.3855e-04,  1.7046e-03],\n",
            "        [ 2.5076e-05,  7.8715e-05,  1.0004e+00,  1.0004e+00,  5.5809e-04,\n",
            "          8.2246e-04, -8.5725e-04],\n",
            "        [ 1.1529e-02,  1.0006e+00, -1.1638e-03,  9.9869e-01,  7.2672e-04,\n",
            "         -2.9128e-03,  2.5807e-03],\n",
            "        [-8.1488e-04, -8.4721e-04,  1.5773e-03,  1.0013e+00,  4.1953e-02,\n",
            "          2.0151e-03, -1.8602e-03],\n",
            "        [ 7.0796e-04,  1.1036e-03, -1.8282e-03,  9.9828e-01,  2.3602e-04,\n",
            "          1.0191e-01,  1.4521e-03],\n",
            "        [-5.9653e-05, -6.8090e-04,  1.5493e-02,  1.0010e+00,  5.9438e-02,\n",
            "          8.7129e-04, -4.3725e-04],\n",
            "        [-2.0185e-06,  7.7584e-05, -8.5867e-06,  9.9746e-01, -7.3813e-04,\n",
            "         -9.9978e-04,  1.2305e-04]])\n",
            "\n",
            "Feature cuối của noise_img (sau CNN):\n",
            "tensor([[-0.2910, -0.1293, -0.2456],\n",
            "        [-0.4036, -0.1489, -0.2677],\n",
            "        [-0.3947, -0.1447, -0.2716]])\n",
            "\n",
            "Feature cuối của target_img (sau CNN):\n",
            "tensor([[-0.2908, -0.1299, -0.2433],\n",
            "        [-0.4061, -0.1462, -0.2683],\n",
            "        [-0.3943, -0.1463, -0.2685]])\n"
          ]
        }
      ],
      "source": [
        "print(\"Trọng số của conv1.weight trước và sau:\")\n",
        "print(\"Trước:\")\n",
        "print(conv1_w_before)\n",
        "print(\"Sau:\")\n",
        "print(conv1_w_after)\n",
        "\n",
        "print(\"\\nTrọng số cảu conv1.bias trước và sau:\")\n",
        "print(\"Trước:\")\n",
        "print(conv1_b_before)\n",
        "print(\"Sau:\")\n",
        "print(conv1_b_after)\n",
        "\n",
        "print(\"\\nTrọng số conv2.weight trước và sau:\")\n",
        "print(\"Trước:\")\n",
        "print(conv2_w_before)\n",
        "print(\"Sau:\")\n",
        "print(conv2_w_after)\n",
        "\n",
        "print(\"\\nTrọng số conv2.bias trước và sau:\")\n",
        "print(\"Trước:\")\n",
        "print(conv2_b_before)\n",
        "print(\"Sau:\")\n",
        "print(conv2_b_after)\n",
        "\n",
        "noise_img_final = noise_img.detach()\n",
        "noise_feature_final = net(noise_img_final).detach()\n",
        "target_feature_final = net(target_data).detach()\n",
        "\n",
        "print(\"\\nNoise_img ban đầu được update thành (7x7):\")\n",
        "print(noise_img_final[0, 0])\n",
        "\n",
        "print(\"\\nFeature cuối của noise_img (sau CNN):\")\n",
        "print(noise_feature_final[0, 0])\n",
        "\n",
        "print(\"\\nFeature cuối của target_img (sau CNN):\")\n",
        "print(target_feature_final[0, 0])"
      ]
    },
    {
      "cell_type": "code",
      "execution_count": 4,
      "metadata": {
        "colab": {
          "base_uri": "https://localhost:8080/"
        },
        "id": "ytdDlow8undG",
        "outputId": "e2925b3a-b1dd-449f-840f-78dffabd7c11"
      },
      "outputs": [
        {
          "name": "stdout",
          "output_type": "stream",
          "text": [
            "tensor([[[[0., 0., 0., 1., 0., 0., 0.],\n",
            "          [0., 0., 1., 1., 0., 0., 0.],\n",
            "          [0., 1., 0., 1., 0., 0., 0.],\n",
            "          [0., 0., 0., 1., 0., 0., 0.],\n",
            "          [0., 0., 0., 1., 0., 0., 0.],\n",
            "          [0., 0., 0., 1., 0., 0., 0.],\n",
            "          [0., 0., 0., 1., 0., 0., 0.]]]])\n"
          ]
        }
      ],
      "source": [
        "print(target_data)"
      ]
    },
    {
      "cell_type": "code",
      "execution_count": 6,
      "metadata": {
        "colab": {
          "base_uri": "https://localhost:8080/"
        },
        "id": "Ajd7uXLFz1Wb",
        "outputId": "97a7bc42-8cc9-4198-c9bf-78fe1aa20db9"
      },
      "outputs": [
        {
          "name": "stdout",
          "output_type": "stream",
          "text": [
            "[[[[ 0. -0.  0.  1.  0. -0.  0.]\n",
            "   [ 0.  0.  1.  1.  0.  0. -0.]\n",
            "   [ 0.  1. -0.  1.  0. -0.  0.]\n",
            "   [-0. -0.  0.  1.  0.  0. -0.]\n",
            "   [ 0.  0. -0.  1.  0.  0.  0.]\n",
            "   [-0. -0.  0.  1.  0.  0. -0.]\n",
            "   [-0.  0. -0.  1. -0. -0.  0.]]]]\n"
          ]
        }
      ],
      "source": [
        "print(noise_img.detach().numpy().round(0))"
      ]
    },
    {
      "cell_type": "code",
      "execution_count": null,
      "metadata": {
        "id": "VdnhiOak1T5q"
      },
      "outputs": [],
      "source": []
    }
  ],
  "metadata": {
    "colab": {
      "provenance": []
    },
    "kernelspec": {
      "display_name": "Python 3",
      "name": "python3"
    },
    "language_info": {
      "codemirror_mode": {
        "name": "ipython",
        "version": 3
      },
      "file_extension": ".py",
      "mimetype": "text/x-python",
      "name": "python",
      "nbconvert_exporter": "python",
      "pygments_lexer": "ipython3",
      "version": "3.12.4"
    }
  },
  "nbformat": 4,
  "nbformat_minor": 0
}
