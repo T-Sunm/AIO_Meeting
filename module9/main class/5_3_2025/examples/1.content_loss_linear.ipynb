{
  "cells": [
    {
      "cell_type": "code",
      "execution_count": 3,
      "metadata": {
        "colab": {
          "base_uri": "https://localhost:8080/"
        },
        "id": "Ti1bXcLs5Il8",
        "outputId": "0d3e1020-95eb-4065-860f-1e23b70cf33f"
      },
      "outputs": [
        {
          "name": "stdout",
          "output_type": "stream",
          "text": [
            "Epoch [1/20], x = 2.0328, Loss = 6.0467\n",
            "Epoch [2/20], x = 2.4262, Loss = 3.8699\n",
            "Epoch [3/20], x = 2.7410, Loss = 2.4767\n",
            "Epoch [4/20], x = 2.9928, Loss = 1.5851\n",
            "Epoch [5/20], x = 3.1942, Loss = 1.0145\n",
            "Epoch [6/20], x = 3.3554, Loss = 0.6493\n",
            "Epoch [7/20], x = 3.4843, Loss = 0.4155\n",
            "Epoch [8/20], x = 3.5874, Loss = 0.2659\n",
            "Epoch [9/20], x = 3.6700, Loss = 0.1702\n",
            "Epoch [10/20], x = 3.7360, Loss = 0.1089\n",
            "Epoch [11/20], x = 3.7888, Loss = 0.0697\n",
            "Epoch [12/20], x = 3.8310, Loss = 0.0446\n",
            "Epoch [13/20], x = 3.8648, Loss = 0.0286\n",
            "Epoch [14/20], x = 3.8919, Loss = 0.0183\n",
            "Epoch [15/20], x = 3.9135, Loss = 0.0117\n",
            "Epoch [16/20], x = 3.9308, Loss = 0.0075\n",
            "Epoch [17/20], x = 3.9446, Loss = 0.0048\n",
            "Epoch [18/20], x = 3.9557, Loss = 0.0031\n",
            "Epoch [19/20], x = 3.9646, Loss = 0.0020\n",
            "Epoch [20/20], x = 3.9716, Loss = 0.0013\n"
          ]
        }
      ],
      "source": [
        "import torch\n",
        "import torch.nn as nn\n",
        "import torch.optim as optim\n",
        "\n",
        "torch.manual_seed(0)\n",
        "\n",
        "class SimpleLinear(nn.Module):\n",
        "    def __init__(self):\n",
        "        super(SimpleLinear, self).__init__()\n",
        "        self.a = nn.Parameter(torch.tensor([1.0]), requires_grad=False)\n",
        "        self.b = nn.Parameter(torch.tensor([2.0]), requires_grad=False)\n",
        "\n",
        "    def forward(self, x):\n",
        "        return self.a * x + self.b\n",
        "\n",
        "net = SimpleLinear()\n",
        "\n",
        "\n",
        "x_input = torch.randn(1, requires_grad=True)\n",
        "x_input = nn.Parameter(x_input)\n",
        "x_real = torch.tensor([4.0])\n",
        "\n",
        "\n",
        "criterion = nn.MSELoss()\n",
        "optimizer = optim.SGD([x_input], lr=0.1)\n",
        "\n",
        "\n",
        "num_epochs = 20\n",
        "for epoch in range(num_epochs):\n",
        "    optimizer.zero_grad()\n",
        "\n",
        "    x_input_feature = net(x_input)\n",
        "    x_real_featrue = net(x_real)\n",
        "\n",
        "    loss = criterion(x_input_feature, x_real_featrue)\n",
        "\n",
        "    loss.backward()\n",
        "    optimizer.step()\n",
        "\n",
        "    print(f\"Epoch [{epoch+1}/{num_epochs}], x = {x_input.item():.4f}, Loss = {loss.item():.4f}\")"
      ]
    },
    {
      "cell_type": "code",
      "execution_count": null,
      "metadata": {
        "id": "C5c0x2ze8O9o"
      },
      "outputs": [],
      "source": []
    }
  ],
  "metadata": {
    "colab": {
      "provenance": []
    },
    "kernelspec": {
      "display_name": "Python 3",
      "name": "python3"
    },
    "language_info": {
      "codemirror_mode": {
        "name": "ipython",
        "version": 3
      },
      "file_extension": ".py",
      "mimetype": "text/x-python",
      "name": "python",
      "nbconvert_exporter": "python",
      "pygments_lexer": "ipython3",
      "version": "3.12.4"
    }
  },
  "nbformat": 4,
  "nbformat_minor": 0
}
