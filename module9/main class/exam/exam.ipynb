{
 "cells": [
  {
   "cell_type": "code",
   "execution_count": 12,
   "id": "6830c902",
   "metadata": {},
   "outputs": [
    {
     "name": "stdout",
     "output_type": "stream",
     "text": [
      "z.shape = torch.Size([1, 3, 1, 1])\n",
      "out.shape = torch.Size([1, 1, 2, 2])\n",
      "Output tensor:\n",
      " tensor([[[[ 0.0301, -0.2116],\n",
      "          [ 0.0598,  0.0561]]]], grad_fn=<ConvolutionBackward0>)\n"
     ]
    }
   ],
   "source": [
    "import torch\n",
    "import torch.nn as nn\n",
    "\n",
    "class SimpleGenerator(nn.Module):\n",
    "    def __init__(self):\n",
    "        super(SimpleGenerator, self).__init__()\n",
    "        # (A) 3 kênh input, 1 kênh output\n",
    "        self.convT = nn.ConvTranspose2d(\n",
    "            in_channels=3,\n",
    "            out_channels=1,\n",
    "            kernel_size=2,\n",
    "            stride=2,\n",
    "            padding=0,\n",
    "            bias=False\n",
    "        )\n",
    "        self.init_weights()\n",
    "\n",
    "    def init_weights(self):\n",
    "        # Weight shape của convT sẽ là [in_channels, out_channels, kH, kW] = [3, 1, 2, 2]\n",
    "        with torch.no_grad():\n",
    "            w = torch.zeros((3, 1, 2, 2))\n",
    "            # Gán kernel cho input channel 0\n",
    "            w[0, 0] = torch.tensor([[0.29, -0.39],\n",
    "                                    [-0.25, 0.15]])\n",
    "            # Gán kernel cho input channel 1\n",
    "            w[1, 0] = torch.tensor([[0.11, -0.13],\n",
    "                                    [0.30, 0.34]])\n",
    "            # Gán kernel cho input channel 2\n",
    "            w[2, 0] = torch.tensor([[-0.36, -0.27],\n",
    "                                    [0.46, -0.17]])\n",
    "            self.convT.weight.copy_(w)\n",
    "\n",
    "    def forward(self, x):\n",
    "        return self.convT(x)\n",
    "\n",
    "\n",
    "# Tạo noise đầu vào z có shape (1, 3, 1, 1): 3 kênh đầu vào.\n",
    "z = torch.tensor([[[[0.34]], [[0.13]], [[0.23]]]], dtype=torch.float)\n",
    "\n",
    "gen = SimpleGenerator()\n",
    "out = gen(z)\n",
    "print(\"z.shape =\", z.shape)        # mong đợi (1,3,1,1)\n",
    "print(\"out.shape =\", out.shape)    # mong đợi (1,1,2,2)\n",
    "print(\"Output tensor:\\n\", out)"
   ]
  }
 ],
 "metadata": {
  "kernelspec": {
   "display_name": "AIOEx",
   "language": "python",
   "name": "python3"
  },
  "language_info": {
   "codemirror_mode": {
    "name": "ipython",
    "version": 3
   },
   "file_extension": ".py",
   "mimetype": "text/x-python",
   "name": "python",
   "nbconvert_exporter": "python",
   "pygments_lexer": "ipython3",
   "version": "3.10.15"
  }
 },
 "nbformat": 4,
 "nbformat_minor": 5
}
