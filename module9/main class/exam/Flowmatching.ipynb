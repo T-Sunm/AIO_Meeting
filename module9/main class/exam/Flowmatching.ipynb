{
  "nbformat": 4,
  "nbformat_minor": 0,
  "metadata": {
    "colab": {
      "provenance": []
    },
    "kernelspec": {
      "name": "python3",
      "display_name": "Python 3"
    },
    "language_info": {
      "name": "python"
    }
  },
  "cells": [
    {
      "cell_type": "markdown",
      "source": [
        "#Flow Matching\n",
        "*   Yêu cầu: Thay thế code vào các đoạn None bên dưới để hoàn thành quá trình training và sampling cho mô hình Flow Matching\n",
        "\n",
        "Lưu ý:\n",
        "1. Chỉ được thay đổi code trong vùng yêu cầu\n",
        "2. Run with CPU"
      ],
      "metadata": {
        "id": "xgG63IPZ44rf"
      }
    },
    {
      "cell_type": "code",
      "execution_count": 1,
      "metadata": {
        "id": "N5Xwln3zgqW4",
        "outputId": "cccd163a-6b58-4bcf-b407-90283d2ce412",
        "colab": {
          "base_uri": "https://localhost:8080/",
          "height": 430
        }
      },
      "outputs": [
        {
          "output_type": "display_data",
          "data": {
            "text/plain": [
              "<Figure size 640x480 with 1 Axes>"
            ],
            "image/png": "[encoded data removed]"
          },
          "metadata": {}
        }
      ],
      "source": [
        "import torch\n",
        "import torch.nn as nn\n",
        "import torch.optim as optim\n",
        "import matplotlib.pyplot as plt\n",
        "import numpy as np\n",
        "\n",
        "#!!! Run with CPU !!!#\n",
        "\n",
        "image_5 = torch.tensor([\n",
        "    [0, 1, 1, 1, 0],\n",
        "    [0, 1, 0, 0, 0],\n",
        "    [0, 1, 1, 1, 0],\n",
        "    [0, 0, 0, 1, 0],\n",
        "    [0, 1, 1, 1, 0]\n",
        "], dtype=torch.float32).unsqueeze(0).unsqueeze(0)\n",
        "\n",
        "plt.imshow(image_5[0][0], cmap='gray')\n",
        "plt.show()"
      ]
    },
    {
      "cell_type": "code",
      "source": [
        "class Flow(nn.Module):\n",
        "  def __init__(self) -> None:\n",
        "    super().__init__()\n",
        "\n",
        "    self.time_embed = nn.Linear(1, 1)\n",
        "\n",
        "    self.encoder = nn.Sequential(\n",
        "        nn.Conv2d(1, 4, kernel_size=3, padding=1),\n",
        "        nn.ELU(),\n",
        "        nn.Conv2d(4, 4, kernel_size=3, padding=1),\n",
        "        nn.ELU()\n",
        "        )\n",
        "\n",
        "    self.decoder = nn.ConvTranspose2d(4, 1, kernel_size=3, padding=1)\n",
        "\n",
        "  def forward(self,  t: torch.Tensor, x: torch.Tensor) -> torch.Tensor:\n",
        "    t_embed = self.time_embed(t.unsqueeze(-1).float())\n",
        "    t_embed = t_embed.view(-1, 1, 1, 1)\n",
        "\n",
        "    # START YOUR CODE\n",
        "    # Mở rộng t_embed để khớp với kích thước không gian của x\n",
        "    t_embed_expanded = t_embed.expand(-1, 1, x.size(2), x.size(3))\n",
        "\n",
        "    # Kết hợp đặc trưng thời gian và đầu vào (bằng phép cộng để giữ số kênh)\n",
        "    x_t_combined = x + t_embed_expanded\n",
        "\n",
        "    # Mã hóa đầu vào\n",
        "    x_encoded = self.encoder(x_t_combined)\n",
        "\n",
        "    # Giải mã và trả về kết quả\n",
        "    return self.decoder(x_encoded)\n",
        "    # END YOUR CODE\n"
      ],
      "metadata": {
        "id": "agimskTkhbs_"
      },
      "execution_count": 2,
      "outputs": []
    },
    {
      "cell_type": "code",
      "source": [
        "torch.manual_seed(42)\n",
        "\n",
        "model = Flow()\n",
        "\n",
        "optimizer = torch.optim.Adam(model.parameters(), lr=1e-2)\n",
        "loss_fn = nn.MSELoss()\n",
        "\n",
        "losses = []\n",
        "steps = 100\n",
        "\n",
        "x_1 = image_5\n",
        "for step in range(steps):\n",
        "    torch.manual_seed(42)\n",
        "    optimizer.zero_grad()\n",
        "    x_0 = torch.randn_like(x_1)\n",
        "    t = torch.rand(1)\n",
        "\n",
        "    # START YOUR CODE\n",
        "    target = x_1 - x_0  # Vector trường mục tiêu (gradient của ODE)\n",
        "    x_t = t * x_1 + (1-t) * x_0  # Nội suy tuyến tính giữa x_0 và x_1\n",
        "    pred = model(t, x_t)  # Dự đoán vector trường tại thời điểm t\n",
        "    # END YOUR CODE\n",
        "\n",
        "    loss = loss_fn(pred, target)\n",
        "    loss.backward()\n",
        "    optimizer.step()\n",
        "    if step % 99 == 0:\n",
        "        losses += [loss.detach()]\n",
        "        print(f\"Step: {step}, loss: {loss.item()}\")\n"
      ],
      "metadata": {
        "id": "z_ulxNO2h8-B",
        "outputId": "cf5c3535-709f-4b56-8655-b1babf43b466",
        "colab": {
          "base_uri": "https://localhost:8080/"
        }
      },
      "execution_count": 3,
      "outputs": [
        {
          "output_type": "stream",
          "name": "stdout",
          "text": [
            "Step: 0, loss: 1.332879900932312\n",
            "Step: 99, loss: 2.769704587990418e-05\n"
          ]
        }
      ]
    },
    {
      "cell_type": "code",
      "source": [
        "steps = 5\n",
        "with torch.no_grad():\n",
        "    torch.manual_seed(42)\n",
        "    x_0 = torch.randn_like(x_1)\n",
        "    t = torch.zeros(1)\n",
        "    delta = 1/steps\n",
        "    x_t = x_0\n",
        "    list_x_t = [x_t]\n",
        "\n",
        "    for i in range(steps):\n",
        "\n",
        "        # START YOUR CODE\n",
        "        x_t = x_t + model(t, x_t) * delta  # Cập nhật vị trí dựa trên vector vận tốc\n",
        "        t = t + delta  # Cập nhật thời gian\n",
        "        # END YOUR CODE\n",
        "\n",
        "        list_x_t.append(x_t)\n",
        "\n",
        "fig, axes = plt.subplots(1, len(list_x_t), figsize=(8, 3))\n",
        "for i, x_t in enumerate(list_x_t):\n",
        "    img = x_t.squeeze().detach().cpu().numpy()\n",
        "    axes[i].imshow(img, cmap='gray')\n",
        "    axes[i].set_title(f\"t={i * delta:.2f}\")\n",
        "    axes[i].axis('off')\n",
        "\n",
        "plt.tight_layout()\n",
        "plt.show()\n"
      ],
      "metadata": {
        "id": "8pwKe4NQiODA",
        "outputId": "1a582a3e-d478-4946-cd74-92067b7763c3",
        "colab": {
          "base_uri": "https://localhost:8080/",
          "height": 175
        }
      },
      "execution_count": 4,
      "outputs": [
        {
          "output_type": "display_data",
          "data": {
            "text/plain": [
              "<Figure size 800x300 with 6 Axes>"
            ],
            "image/png": "[encoded data removed]"
          },
          "metadata": {}
        }
      ]
    }
  ]
}