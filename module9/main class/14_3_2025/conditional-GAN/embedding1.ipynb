{
 "cells": [
  {
   "cell_type": "code",
   "execution_count": 1,
   "metadata": {},
   "outputs": [
    {
     "data": {
      "text/plain": [
       "'cuda'"
      ]
     },
     "execution_count": 1,
     "metadata": {},
     "output_type": "execute_result"
    }
   ],
   "source": [
    "import torch\n",
    "from torch import nn\n",
    "import numpy as np\n",
    "from torchvision.utils import save_image\n",
    "\n",
    "device = \"cuda\" if torch.cuda.is_available() else \"cpu\"\n",
    "device"
   ]
  },
  {
   "cell_type": "markdown",
   "metadata": {},
   "source": [
    "# 1. Dataset"
   ]
  },
  {
   "cell_type": "code",
   "execution_count": 2,
   "metadata": {},
   "outputs": [],
   "source": [
    "import torchvision\n",
    "\n",
    "img_size = 32\n",
    "num_classes = 10"
   ]
  },
  {
   "cell_type": "code",
   "execution_count": 3,
   "metadata": {},
   "outputs": [],
   "source": [
    "transform = torchvision.transforms.Compose([\n",
    "    torchvision.transforms.Resize((img_size, img_size)),\n",
    "    torchvision.transforms.ToTensor(),\n",
    "    torchvision.transforms.Normalize(mean=[0.5], std=[0.5])\n",
    "])\n",
    "\n",
    "mnist_images = torchvision.datasets.MNIST(root='mnist_data', train=True, \n",
    "                                    download=True, transform=transform)"
   ]
  },
  {
   "cell_type": "code",
   "execution_count": 4,
   "metadata": {},
   "outputs": [],
   "source": [
    "from torch.utils.data import DataLoader\n",
    "\n",
    "BATCH_SIZE = 32\n",
    "dataloader = DataLoader(mnist_images, batch_size=BATCH_SIZE, shuffle=True)"
   ]
  },
  {
   "cell_type": "markdown",
   "metadata": {},
   "source": [
    "# 2. Model"
   ]
  },
  {
   "cell_type": "code",
   "execution_count": 5,
   "metadata": {},
   "outputs": [],
   "source": [
    "channels = 1\n",
    "img_shape = (channels, img_size, img_size)\n",
    "latent_dim = 100"
   ]
  },
  {
   "cell_type": "code",
   "execution_count": 6,
   "metadata": {},
   "outputs": [
    {
     "data": {
      "text/plain": [
       "Embedding(10, 16)"
      ]
     },
     "execution_count": 6,
     "metadata": {},
     "output_type": "execute_result"
    }
   ],
   "source": [
    "emb_dim=16\n",
    "label_emb = nn.Embedding(num_classes, emb_dim, _freeze=True) \n",
    "label_emb.to(device)"
   ]
  },
  {
   "cell_type": "code",
   "execution_count": 9,
   "metadata": {},
   "outputs": [
    {
     "name": "stdout",
     "output_type": "stream",
     "text": [
      "Parameter containing:\n",
      "tensor([[ 0.9258,  2.3938, -0.1443, -0.4354,  1.6637,  1.3191, -1.3365, -0.6047,\n",
      "         -1.3645, -1.0489, -0.4607, -0.1710, -1.6421,  1.1338,  1.0476,  1.0769],\n",
      "        [-0.1661,  0.5422, -0.9975, -1.6783,  1.1237, -1.3186, -1.6384, -0.4724,\n",
      "         -0.5700, -0.0405,  1.0312,  0.9640,  0.6198,  1.5520, -1.2713, -0.3896],\n",
      "        [-0.9217, -1.4727,  0.1746, -1.7818, -1.0208, -1.1770,  0.1896, -1.1848,\n",
      "         -1.1443, -0.0965,  0.1967,  0.7601,  0.7213,  0.9259, -2.3169, -0.6858],\n",
      "        [-0.6363, -0.0180,  0.0915,  1.8618,  0.2904,  0.4646,  1.3824, -0.3942,\n",
      "          0.8689, -0.1972,  1.4784, -0.2482,  0.8844, -0.6958, -0.3277, -0.5520],\n",
      "        [ 0.3253,  0.5345,  2.2241,  2.2806,  0.8769,  1.9120, -0.4606, -1.5523,\n",
      "         -0.4705,  0.3438, -0.4633, -1.6691, -0.4672,  0.3611, -1.3241, -0.7577],\n",
      "        [ 0.1736,  0.0759,  0.0550,  1.0535,  2.5562,  0.0740, -0.0260, -0.3254,\n",
      "          2.6763, -0.0517, -0.1028, -1.1810, -1.1921, -0.5814,  0.0085,  0.3317],\n",
      "        [ 0.6214,  0.9653,  1.8820,  1.3872,  1.0445,  0.3707, -0.8398, -0.0921,\n",
      "         -1.6952, -0.0241,  0.7721,  0.5669,  1.1959,  0.9138,  1.2090,  0.9217],\n",
      "        [-1.1802,  0.7865,  1.4640, -0.7710,  0.7713, -0.1041,  0.0968, -1.3655,\n",
      "         -1.0919, -0.6158,  0.5693, -0.4682,  0.5570,  0.1674,  1.6126, -0.5975],\n",
      "        [-1.4918, -0.6072,  1.2579,  1.0655, -0.6924, -0.7997,  0.8833,  1.2361,\n",
      "          0.1377,  0.3088,  1.0934,  0.9231, -0.4200,  1.0762, -0.7094, -0.2648],\n",
      "        [-0.8328, -2.6176, -0.7072, -1.9279, -0.5080, -0.1833, -1.1724,  0.1313,\n",
      "         -2.2875,  0.0222, -0.6653, -0.8967,  0.2012,  0.2477,  0.2010,  1.0466]],\n",
      "       device='cuda:0')\n"
     ]
    }
   ],
   "source": [
    "print(label_emb.weight)"
   ]
  },
  {
   "cell_type": "code",
   "execution_count": null,
   "metadata": {},
   "outputs": [],
   "source": []
  },
  {
   "cell_type": "code",
   "execution_count": 10,
   "metadata": {},
   "outputs": [],
   "source": [
    "class Generator(nn.Module):\n",
    "    def __init__(self, num_classes, emb_dim):\n",
    "        super().__init__()\n",
    "        \n",
    "        self.model = nn.Sequential(\n",
    "            nn.Linear(latent_dim + emb_dim, 256),\n",
    "            nn.BatchNorm1d(256,),\n",
    "            nn.LeakyReLU(0.2, inplace=True),\n",
    "\n",
    "            nn.Linear(256, 512),\n",
    "            nn.BatchNorm1d(512),\n",
    "            nn.LeakyReLU(0.2, inplace=True),\n",
    "\n",
    "            nn.Linear(512, 1024),\n",
    "            nn.BatchNorm1d(1024),\n",
    "            nn.LeakyReLU(0.2, inplace=True),\n",
    "        \n",
    "            nn.Linear(1024, int(np.prod(img_shape))),\n",
    "            nn.Tanh()\n",
    "        )\n",
    "        \n",
    "    def forward(self, z, label):\n",
    "        cond = label_emb(label)\n",
    "        x = torch.cat([z, cond], 1)\n",
    "        img = self.model(x)\n",
    "        img = img.view(img.size(0), *img_shape)\n",
    "        return img"
   ]
  },
  {
   "cell_type": "code",
   "execution_count": 11,
   "metadata": {},
   "outputs": [],
   "source": [
    "class Descriminator(nn.Module):\n",
    "    def __init__(self, num_classes, emb_dim):\n",
    "        super().__init__()\n",
    "\n",
    "        self.model = nn.Sequential(\n",
    "            nn.Linear(int(np.prod(img_shape))+emb_dim, 512),\n",
    "            nn.LeakyReLU(0.2, inplace=True),\n",
    "\n",
    "            nn.Linear(512, 256),\n",
    "            nn.LeakyReLU(0.2, inplace=True),\n",
    "            \n",
    "            nn.Linear(256, 1),\n",
    "            nn.Sigmoid()\n",
    "        )\n",
    "        \n",
    "    def forward(self, img, label):\n",
    "        img_flat = img.view(img.size(0), -1)\n",
    "        cond = label_emb(label)\n",
    "        x = torch.cat([img_flat, cond], 1)\n",
    "        validity = self.model(x)\n",
    "        return validity"
   ]
  },
  {
   "cell_type": "code",
   "execution_count": 12,
   "metadata": {},
   "outputs": [],
   "source": [
    "generator = Generator(num_classes=num_classes, emb_dim=16)\n",
    "discriminator = Descriminator(num_classes=num_classes, emb_dim=16)"
   ]
  },
  {
   "cell_type": "code",
   "execution_count": 13,
   "metadata": {},
   "outputs": [
    {
     "data": {
      "text/plain": [
       "Generator(\n",
       "  (model): Sequential(\n",
       "    (0): Linear(in_features=116, out_features=256, bias=True)\n",
       "    (1): BatchNorm1d(256, eps=1e-05, momentum=0.1, affine=True, track_running_stats=True)\n",
       "    (2): LeakyReLU(negative_slope=0.2, inplace=True)\n",
       "    (3): Linear(in_features=256, out_features=512, bias=True)\n",
       "    (4): BatchNorm1d(512, eps=1e-05, momentum=0.1, affine=True, track_running_stats=True)\n",
       "    (5): LeakyReLU(negative_slope=0.2, inplace=True)\n",
       "    (6): Linear(in_features=512, out_features=1024, bias=True)\n",
       "    (7): BatchNorm1d(1024, eps=1e-05, momentum=0.1, affine=True, track_running_stats=True)\n",
       "    (8): LeakyReLU(negative_slope=0.2, inplace=True)\n",
       "    (9): Linear(in_features=1024, out_features=1024, bias=True)\n",
       "    (10): Tanh()\n",
       "  )\n",
       ")"
      ]
     },
     "execution_count": 13,
     "metadata": {},
     "output_type": "execute_result"
    }
   ],
   "source": [
    "generator.to(device)"
   ]
  },
  {
   "cell_type": "code",
   "execution_count": 14,
   "metadata": {},
   "outputs": [
    {
     "data": {
      "text/plain": [
       "Descriminator(\n",
       "  (model): Sequential(\n",
       "    (0): Linear(in_features=1040, out_features=512, bias=True)\n",
       "    (1): LeakyReLU(negative_slope=0.2, inplace=True)\n",
       "    (2): Linear(in_features=512, out_features=256, bias=True)\n",
       "    (3): LeakyReLU(negative_slope=0.2, inplace=True)\n",
       "    (4): Linear(in_features=256, out_features=1, bias=True)\n",
       "    (5): Sigmoid()\n",
       "  )\n",
       ")"
      ]
     },
     "execution_count": 14,
     "metadata": {},
     "output_type": "execute_result"
    }
   ],
   "source": [
    "discriminator.to(device)"
   ]
  },
  {
   "cell_type": "markdown",
   "metadata": {},
   "source": [
    "# 3. Training"
   ]
  },
  {
   "cell_type": "code",
   "execution_count": 15,
   "metadata": {},
   "outputs": [],
   "source": [
    "EPOCHS = 1\n",
    "\n",
    "optimizer_G = torch.optim.Adam(generator.parameters(), lr=0.0001)\n",
    "optimizer_D = torch.optim.Adam(discriminator.parameters(), lr=0.0002)\n",
    "\n",
    "criterion = nn.BCELoss()\n",
    "hist = {\n",
    "        \"train_G_loss\": [],\n",
    "        \"train_D_loss\": [],\n",
    "}"
   ]
  },
  {
   "cell_type": "code",
   "execution_count": 16,
   "metadata": {},
   "outputs": [
    {
     "name": "stdout",
     "output_type": "stream",
     "text": [
      "Epoch [1/1], Train G Loss: 26.3742, Train D Loss: 0.0461\n"
     ]
    }
   ],
   "source": [
    "for epoch in range(EPOCHS):\n",
    "    running_G_loss = 0.0\n",
    "    running_D_loss = 0.0\n",
    "\n",
    "    for i, (imgs, labels) in enumerate(dataloader):\n",
    "        real_imgs = imgs.to(device)\n",
    "        labels = labels.to(device)\n",
    "        \n",
    "        real_labels = torch.ones((imgs.shape[0], 1)).to(device)\n",
    "        fake_labels = torch.zeros((imgs.shape[0], 1)).to(device)\n",
    "\n",
    "\n",
    "        # -------------------------- Train Generator --- \n",
    "        optimizer_G.zero_grad()\n",
    "        \n",
    "        # Noise input for Generator\n",
    "        z = torch.randn((imgs.shape[0], latent_dim)).to(device)\n",
    "\n",
    "        gen_imgs = generator(z, labels)\n",
    "        validity = discriminator(gen_imgs, labels)\n",
    "        G_loss = criterion(validity, real_labels)\n",
    "        running_G_loss += G_loss.item()\n",
    "\n",
    "        G_loss.backward()\n",
    "        optimizer_G.step()\n",
    "\n",
    "\n",
    "        # -------------- Train Discriminator --- \n",
    "        optimizer_D.zero_grad()\n",
    "\n",
    "        real_validity = discriminator(real_imgs, labels)\n",
    "        real_loss = criterion(real_validity, real_labels)\n",
    "\n",
    "        fake_validity = discriminator(gen_imgs.detach(), labels)\n",
    "        fake_loss = criterion(fake_validity, fake_labels)\n",
    "        \n",
    "        D_loss = (real_loss + fake_loss) / 2\n",
    "        running_D_loss += D_loss.item()\n",
    "\n",
    "        D_loss.backward()\n",
    "        optimizer_D.step()\n",
    "    \n",
    "    epoch_G_loss = running_G_loss / len(dataloader)\n",
    "    epoch_D_loss = running_D_loss / len(dataloader)\n",
    "    \n",
    "    print(f\"Epoch [{epoch + 1}/{EPOCHS}], Train G Loss: {epoch_G_loss:.4f}, Train D Loss: {epoch_D_loss:.4f}\")\n",
    "\n",
    "    hist[\"train_G_loss\"].append(epoch_G_loss)\n",
    "    hist[\"train_D_loss\"].append(epoch_D_loss)"
   ]
  },
  {
   "cell_type": "code",
   "execution_count": 17,
   "metadata": {},
   "outputs": [
    {
     "name": "stdout",
     "output_type": "stream",
     "text": [
      "Parameter containing:\n",
      "tensor([[ 0.9258,  2.3938, -0.1443, -0.4354,  1.6637,  1.3191, -1.3365, -0.6047,\n",
      "         -1.3645, -1.0489, -0.4607, -0.1710, -1.6421,  1.1338,  1.0476,  1.0769],\n",
      "        [-0.1661,  0.5422, -0.9975, -1.6783,  1.1237, -1.3186, -1.6384, -0.4724,\n",
      "         -0.5700, -0.0405,  1.0312,  0.9640,  0.6198,  1.5520, -1.2713, -0.3896],\n",
      "        [-0.9217, -1.4727,  0.1746, -1.7818, -1.0208, -1.1770,  0.1896, -1.1848,\n",
      "         -1.1443, -0.0965,  0.1967,  0.7601,  0.7213,  0.9259, -2.3169, -0.6858],\n",
      "        [-0.6363, -0.0180,  0.0915,  1.8618,  0.2904,  0.4646,  1.3824, -0.3942,\n",
      "          0.8689, -0.1972,  1.4784, -0.2482,  0.8844, -0.6958, -0.3277, -0.5520],\n",
      "        [ 0.3253,  0.5345,  2.2241,  2.2806,  0.8769,  1.9120, -0.4606, -1.5523,\n",
      "         -0.4705,  0.3438, -0.4633, -1.6691, -0.4672,  0.3611, -1.3241, -0.7577],\n",
      "        [ 0.1736,  0.0759,  0.0550,  1.0535,  2.5562,  0.0740, -0.0260, -0.3254,\n",
      "          2.6763, -0.0517, -0.1028, -1.1810, -1.1921, -0.5814,  0.0085,  0.3317],\n",
      "        [ 0.6214,  0.9653,  1.8820,  1.3872,  1.0445,  0.3707, -0.8398, -0.0921,\n",
      "         -1.6952, -0.0241,  0.7721,  0.5669,  1.1959,  0.9138,  1.2090,  0.9217],\n",
      "        [-1.1802,  0.7865,  1.4640, -0.7710,  0.7713, -0.1041,  0.0968, -1.3655,\n",
      "         -1.0919, -0.6158,  0.5693, -0.4682,  0.5570,  0.1674,  1.6126, -0.5975],\n",
      "        [-1.4918, -0.6072,  1.2579,  1.0655, -0.6924, -0.7997,  0.8833,  1.2361,\n",
      "          0.1377,  0.3088,  1.0934,  0.9231, -0.4200,  1.0762, -0.7094, -0.2648],\n",
      "        [-0.8328, -2.6176, -0.7072, -1.9279, -0.5080, -0.1833, -1.1724,  0.1313,\n",
      "         -2.2875,  0.0222, -0.6653, -0.8967,  0.2012,  0.2477,  0.2010,  1.0466]],\n",
      "       device='cuda:0')\n"
     ]
    }
   ],
   "source": [
    "print(label_emb.weight)"
   ]
  },
  {
   "cell_type": "code",
   "execution_count": null,
   "metadata": {},
   "outputs": [],
   "source": []
  }
 ],
 "metadata": {
  "kernelspec": {
   "display_name": "Python 3 (ipykernel)",
   "language": "python",
   "name": "python3"
  },
  "language_info": {
   "codemirror_mode": {
    "name": "ipython",
    "version": 3
   },
   "file_extension": ".py",
   "mimetype": "text/x-python",
   "name": "python",
   "nbconvert_exporter": "python",
   "pygments_lexer": "ipython3",
   "version": "3.12.8"
  }
 },
 "nbformat": 4,
 "nbformat_minor": 4
}
