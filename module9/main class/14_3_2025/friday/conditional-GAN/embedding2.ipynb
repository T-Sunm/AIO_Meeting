{
 "cells": [
  {
   "cell_type": "code",
   "execution_count": 1,
   "metadata": {},
   "outputs": [
    {
     "data": {
      "text/plain": [
       "'cuda'"
      ]
     },
     "execution_count": 1,
     "metadata": {},
     "output_type": "execute_result"
    }
   ],
   "source": [
    "import torch\n",
    "from torch import nn\n",
    "import numpy as np\n",
    "from torchvision.utils import save_image\n",
    "\n",
    "device = \"cuda\" if torch.cuda.is_available() else \"cpu\"\n",
    "device"
   ]
  },
  {
   "cell_type": "markdown",
   "metadata": {},
   "source": [
    "# 1. Dataset"
   ]
  },
  {
   "cell_type": "code",
   "execution_count": 2,
   "metadata": {},
   "outputs": [],
   "source": [
    "import torchvision\n",
    "\n",
    "img_size = 32\n",
    "num_classes = 10"
   ]
  },
  {
   "cell_type": "code",
   "execution_count": 3,
   "metadata": {},
   "outputs": [],
   "source": [
    "transform = torchvision.transforms.Compose([\n",
    "    torchvision.transforms.Resize((img_size, img_size)),\n",
    "    torchvision.transforms.ToTensor(),\n",
    "    torchvision.transforms.Normalize(mean=[0.5], std=[0.5])\n",
    "])\n",
    "\n",
    "mnist_images = torchvision.datasets.MNIST(root='mnist_data', train=True, \n",
    "                                    download=True, transform=transform)"
   ]
  },
  {
   "cell_type": "code",
   "execution_count": 4,
   "metadata": {},
   "outputs": [],
   "source": [
    "from torch.utils.data import DataLoader\n",
    "\n",
    "BATCH_SIZE = 32\n",
    "dataloader = DataLoader(mnist_images, batch_size=BATCH_SIZE, shuffle=True)"
   ]
  },
  {
   "cell_type": "markdown",
   "metadata": {},
   "source": [
    "# 2. Model"
   ]
  },
  {
   "cell_type": "code",
   "execution_count": 5,
   "metadata": {},
   "outputs": [],
   "source": [
    "channels = 1\n",
    "img_shape = (channels, img_size, img_size)\n",
    "latent_dim = 100"
   ]
  },
  {
   "cell_type": "code",
   "execution_count": 6,
   "metadata": {},
   "outputs": [],
   "source": [
    "class Generator(nn.Module):\n",
    "    def __init__(self, num_classes, emb_dim):\n",
    "        super().__init__()\n",
    "\n",
    "        self.label_emb = nn.Embedding(num_classes, emb_dim) \n",
    "        \n",
    "        self.model = nn.Sequential(\n",
    "            nn.Linear(latent_dim + emb_dim, 256),\n",
    "            nn.BatchNorm1d(256,),\n",
    "            nn.LeakyReLU(0.2, inplace=True),\n",
    "\n",
    "            nn.Linear(256, 512),\n",
    "            nn.BatchNorm1d(512),\n",
    "            nn.LeakyReLU(0.2, inplace=True),\n",
    "\n",
    "            nn.Linear(512, 1024),\n",
    "            nn.BatchNorm1d(1024),\n",
    "            nn.LeakyReLU(0.2, inplace=True),\n",
    "        \n",
    "            nn.Linear(1024, int(np.prod(img_shape))),\n",
    "            nn.Tanh()\n",
    "        )\n",
    "        \n",
    "    def forward(self, z, label):\n",
    "        cond = self.label_emb(label)\n",
    "        x = torch.cat([z, cond], 1)\n",
    "        img = self.model(x)\n",
    "        img = img.view(img.size(0), *img_shape)\n",
    "        return img"
   ]
  },
  {
   "cell_type": "code",
   "execution_count": 7,
   "metadata": {},
   "outputs": [],
   "source": [
    "class Descriminator(nn.Module):\n",
    "    def __init__(self, num_classes, emb_dim):\n",
    "        super().__init__()\n",
    "\n",
    "        self.label_emb = nn.Embedding(num_classes, emb_dim) \n",
    "\n",
    "        self.model = nn.Sequential(\n",
    "            nn.Linear(int(np.prod(img_shape))+emb_dim, 512),\n",
    "            nn.LeakyReLU(0.2, inplace=True),\n",
    "\n",
    "            nn.Linear(512, 256),\n",
    "            nn.LeakyReLU(0.2, inplace=True),\n",
    "            \n",
    "            nn.Linear(256, 1),\n",
    "            nn.Sigmoid()\n",
    "        )\n",
    "        \n",
    "    def forward(self, img, label):\n",
    "        img_flat = img.view(img.size(0), -1)\n",
    "        cond = self.label_emb(label)\n",
    "        x = torch.cat([img_flat, cond], 1)\n",
    "        validity = self.model(x)\n",
    "        return validity"
   ]
  },
  {
   "cell_type": "code",
   "execution_count": 8,
   "metadata": {},
   "outputs": [],
   "source": [
    "generator = Generator(num_classes=num_classes, emb_dim=16)\n",
    "discriminator = Descriminator(num_classes=num_classes, emb_dim=16)"
   ]
  },
  {
   "cell_type": "code",
   "execution_count": 9,
   "metadata": {},
   "outputs": [
    {
     "data": {
      "text/plain": [
       "Generator(\n",
       "  (label_emb): Embedding(10, 16)\n",
       "  (model): Sequential(\n",
       "    (0): Linear(in_features=116, out_features=256, bias=True)\n",
       "    (1): BatchNorm1d(256, eps=1e-05, momentum=0.1, affine=True, track_running_stats=True)\n",
       "    (2): LeakyReLU(negative_slope=0.2, inplace=True)\n",
       "    (3): Linear(in_features=256, out_features=512, bias=True)\n",
       "    (4): BatchNorm1d(512, eps=1e-05, momentum=0.1, affine=True, track_running_stats=True)\n",
       "    (5): LeakyReLU(negative_slope=0.2, inplace=True)\n",
       "    (6): Linear(in_features=512, out_features=1024, bias=True)\n",
       "    (7): BatchNorm1d(1024, eps=1e-05, momentum=0.1, affine=True, track_running_stats=True)\n",
       "    (8): LeakyReLU(negative_slope=0.2, inplace=True)\n",
       "    (9): Linear(in_features=1024, out_features=1024, bias=True)\n",
       "    (10): Tanh()\n",
       "  )\n",
       ")"
      ]
     },
     "execution_count": 9,
     "metadata": {},
     "output_type": "execute_result"
    }
   ],
   "source": [
    "generator.to(device)\n"
   ]
  },
  {
   "cell_type": "code",
   "execution_count": 10,
   "metadata": {},
   "outputs": [
    {
     "data": {
      "text/plain": [
       "Descriminator(\n",
       "  (label_emb): Embedding(10, 16)\n",
       "  (model): Sequential(\n",
       "    (0): Linear(in_features=1040, out_features=512, bias=True)\n",
       "    (1): LeakyReLU(negative_slope=0.2, inplace=True)\n",
       "    (2): Linear(in_features=512, out_features=256, bias=True)\n",
       "    (3): LeakyReLU(negative_slope=0.2, inplace=True)\n",
       "    (4): Linear(in_features=256, out_features=1, bias=True)\n",
       "    (5): Sigmoid()\n",
       "  )\n",
       ")"
      ]
     },
     "execution_count": 10,
     "metadata": {},
     "output_type": "execute_result"
    }
   ],
   "source": [
    "discriminator.to(device)\n"
   ]
  },
  {
   "cell_type": "code",
   "execution_count": 11,
   "metadata": {},
   "outputs": [
    {
     "data": {
      "text/plain": [
       "Parameter containing:\n",
       "tensor([[ 1.3921e+00,  1.5551e+00, -2.0304e+00,  8.5707e-01, -4.8496e-01,\n",
       "         -1.7082e+00,  1.4773e+00, -7.3380e-01, -1.9674e+00,  2.0983e+00,\n",
       "          3.4575e-01,  3.3494e-01, -8.1928e-01,  1.7746e-01, -8.3734e-01,\n",
       "          1.9602e+00],\n",
       "        [ 2.0074e-01,  1.2127e+00, -3.9997e-02,  1.3045e+00,  5.1198e-01,\n",
       "         -5.0860e-01, -6.5350e-01,  1.5844e+00,  5.5103e-02, -1.4875e+00,\n",
       "         -2.5723e-01, -4.1075e-01, -2.5581e-01,  1.4165e+00, -1.0728e+00,\n",
       "          1.7852e-01],\n",
       "        [ 8.2097e-01,  5.6045e-01,  1.1845e-01,  1.1224e+00,  1.5691e+00,\n",
       "         -5.7020e-01,  1.8601e-01, -9.4479e-01,  3.8005e-01,  2.1652e-01,\n",
       "         -6.0831e-01, -1.6018e+00,  6.7142e-01,  1.4244e-01,  9.4347e-01,\n",
       "         -7.7309e-01],\n",
       "        [-1.3265e+00,  1.2587e-01, -1.6731e+00, -3.8101e-01,  8.7552e-01,\n",
       "         -8.3858e-01,  1.3657e-01, -1.9664e-02, -2.2608e-01, -4.7246e-01,\n",
       "         -3.6512e-01, -8.3210e-02, -1.6211e-01,  1.9598e+00,  1.2385e+00,\n",
       "          6.8994e-01],\n",
       "        [ 9.2750e-01, -1.5077e+00, -1.3127e+00,  3.2122e-02, -1.4334e+00,\n",
       "          4.4932e-02,  5.7655e-01, -8.7032e-01,  7.2512e-02, -2.1357e+00,\n",
       "          1.8642e+00, -1.5958e+00,  6.8744e-01,  1.0924e+00,  5.8277e-01,\n",
       "          2.9402e-01],\n",
       "        [ 7.3019e-01,  6.8234e-01,  3.2782e-01,  2.4175e+00,  1.1746e+00,\n",
       "         -4.4110e-01, -6.9741e-02, -3.4045e-01, -3.1860e-01, -1.0414e+00,\n",
       "          9.3637e-01,  1.2916e-01, -8.6571e-01, -2.7233e+00,  5.2648e-01,\n",
       "          5.9750e-02],\n",
       "        [ 5.8255e-01,  5.2359e-01, -1.5921e+00, -1.5460e-01, -6.3813e-01,\n",
       "         -1.1730e+00,  1.1215e+00,  2.6452e-03, -1.3166e+00, -1.6029e+00,\n",
       "          1.5962e+00,  7.7174e-01,  7.0599e-01,  4.3965e-01, -9.1212e-01,\n",
       "         -1.1424e+00],\n",
       "        [ 1.7693e-01,  4.9579e-01, -4.8564e-01,  2.5074e-01, -2.4435e-01,\n",
       "          5.0635e-01,  6.7254e-01, -1.9573e+00,  3.1912e+00, -5.1070e-01,\n",
       "          4.2570e-01, -5.2924e-01,  9.3356e-01,  6.9406e-01,  1.5915e+00,\n",
       "          3.7392e-01],\n",
       "        [ 1.7220e+00,  2.6610e-01, -1.4986e+00, -8.9197e-01, -1.4742e-03,\n",
       "         -9.4174e-01, -9.9138e-02,  2.8960e+00, -9.3826e-01, -5.2740e-03,\n",
       "          5.5372e-01, -1.1414e-01, -3.1362e-01, -7.2384e-01, -4.9084e-01,\n",
       "          6.6486e-01],\n",
       "        [-7.7432e-01,  5.4050e-02, -1.3850e+00, -4.8202e-01,  1.6736e-01,\n",
       "          3.8492e-01,  1.1147e+00, -1.5733e+00, -6.0709e-01, -1.3684e+00,\n",
       "         -9.5346e-01, -8.2966e-01,  5.5161e-01, -4.2160e-01,  4.4010e-01,\n",
       "          2.3546e-01]], device='cuda:0', requires_grad=True)"
      ]
     },
     "execution_count": 11,
     "metadata": {},
     "output_type": "execute_result"
    }
   ],
   "source": [
    "generator.label_emb.weight"
   ]
  },
  {
   "cell_type": "code",
   "execution_count": null,
   "metadata": {},
   "outputs": [],
   "source": []
  },
  {
   "cell_type": "markdown",
   "metadata": {},
   "source": [
    "# 3. Training"
   ]
  },
  {
   "cell_type": "code",
   "execution_count": 12,
   "metadata": {},
   "outputs": [],
   "source": [
    "EPOCHS = 1\n",
    "\n",
    "optimizer_G = torch.optim.Adam(generator.parameters(), lr=0.0001)\n",
    "optimizer_D = torch.optim.Adam(discriminator.parameters(), lr=0.0002)\n",
    "\n",
    "criterion = nn.BCELoss()\n",
    "hist = {\n",
    "        \"train_G_loss\": [],\n",
    "        \"train_D_loss\": [],\n",
    "}"
   ]
  },
  {
   "cell_type": "code",
   "execution_count": 13,
   "metadata": {},
   "outputs": [
    {
     "name": "stdout",
     "output_type": "stream",
     "text": [
      "Epoch [1/1], Train G Loss: 15.6032, Train D Loss: 0.0677\n"
     ]
    }
   ],
   "source": [
    "for epoch in range(EPOCHS):\n",
    "    running_G_loss = 0.0\n",
    "    running_D_loss = 0.0\n",
    "\n",
    "    for i, (imgs, labels) in enumerate(dataloader):\n",
    "        real_imgs = imgs.to(device)\n",
    "        labels = labels.to(device)\n",
    "        \n",
    "        real_labels = torch.ones((imgs.shape[0], 1)).to(device)\n",
    "        fake_labels = torch.zeros((imgs.shape[0], 1)).to(device)\n",
    "\n",
    "\n",
    "        # -------------------------- Train Generator --- \n",
    "        optimizer_G.zero_grad()\n",
    "        \n",
    "        # Noise input for Generator\n",
    "        z = torch.randn((imgs.shape[0], latent_dim)).to(device)\n",
    "\n",
    "        gen_imgs = generator(z, labels)\n",
    "        validity = discriminator(gen_imgs, labels)\n",
    "        G_loss = criterion(validity, real_labels)\n",
    "        running_G_loss += G_loss.item()\n",
    "\n",
    "        G_loss.backward()\n",
    "        optimizer_G.step()\n",
    "\n",
    "\n",
    "        # -------------- Train Discriminator --- \n",
    "        optimizer_D.zero_grad()\n",
    "\n",
    "        real_validity = discriminator(real_imgs, labels)\n",
    "        real_loss = criterion(real_validity, real_labels)\n",
    "\n",
    "        fake_validity = discriminator(gen_imgs.detach(), labels)\n",
    "        fake_loss = criterion(fake_validity, fake_labels)\n",
    "        \n",
    "        D_loss = (real_loss + fake_loss) / 2\n",
    "        running_D_loss += D_loss.item()\n",
    "\n",
    "        D_loss.backward()\n",
    "        optimizer_D.step()\n",
    "    \n",
    "    epoch_G_loss = running_G_loss / len(dataloader)\n",
    "    epoch_D_loss = running_D_loss / len(dataloader)\n",
    "    \n",
    "    print(f\"Epoch [{epoch + 1}/{EPOCHS}], Train G Loss: {epoch_G_loss:.4f}, Train D Loss: {epoch_D_loss:.4f}\")\n",
    "\n",
    "    hist[\"train_G_loss\"].append(epoch_G_loss)\n",
    "    hist[\"train_D_loss\"].append(epoch_D_loss)"
   ]
  },
  {
   "cell_type": "code",
   "execution_count": 14,
   "metadata": {},
   "outputs": [
    {
     "data": {
      "text/plain": [
       "Parameter containing:\n",
       "tensor([[ 1.4145,  1.5255, -2.0129,  0.8499, -0.5002, -1.6947,  1.4860, -0.7572,\n",
       "         -1.9573,  2.0881,  0.3743,  0.3425, -0.7990,  0.1912, -0.8259,  1.9661],\n",
       "        [ 0.2331,  1.2357, -0.0441,  1.3109,  0.5102, -0.5107, -0.6521,  1.5919,\n",
       "          0.0505, -1.4527, -0.2328, -0.3740, -0.2695,  1.3991, -1.0757,  0.1832],\n",
       "        [ 0.8225,  0.5861,  0.0866,  1.1562,  1.6056, -0.6152,  0.1480, -0.8960,\n",
       "          0.3426,  0.2271, -0.6191, -1.5825,  0.6270,  0.1047,  0.9060, -0.8080],\n",
       "        [-1.3245,  0.1510, -1.6815, -0.3453,  0.9090, -0.8721,  0.1065,  0.0164,\n",
       "         -0.2515, -0.4504, -0.3913, -0.0860, -0.1969,  1.9252,  1.2106,  0.6615],\n",
       "        [ 0.8851, -1.5616, -1.3409,  0.0329, -1.4201,  0.0367,  0.5719, -0.8645,\n",
       "          0.0535, -2.2126,  1.8443, -1.6660,  0.6919,  1.0952,  0.5706,  0.2790],\n",
       "        [ 0.7413,  0.6840,  0.3124,  2.4086,  1.1710, -0.4486, -0.0706, -0.3337,\n",
       "         -0.3261, -1.0436,  0.9440,  0.1324, -0.8684, -2.7197,  0.5176,  0.0585],\n",
       "        [ 0.6066,  0.5655, -1.6271, -0.1520, -0.6277, -1.1927,  1.1112,  0.0315,\n",
       "         -1.3303, -1.5958,  1.6205,  0.8260,  0.6854,  0.4283, -0.9384, -1.1749],\n",
       "        [ 0.1929,  0.4279, -0.3763,  0.1693, -0.3544,  0.6198,  0.7821, -2.0682,\n",
       "          3.3059, -0.5285,  0.4808, -0.5287,  1.0448,  0.7939,  1.6935,  0.4866],\n",
       "        [ 1.7660,  0.2745, -1.4425, -0.9263, -0.0552, -0.8893, -0.0512,  2.8406,\n",
       "         -0.8854,  0.0264,  0.5936, -0.0788, -0.2728, -0.6935, -0.4373,  0.7228],\n",
       "        [-0.7879,  0.1014, -1.3769, -0.4670,  0.1958,  0.3625,  1.0901, -1.5476,\n",
       "         -0.6234, -1.3095, -0.9877, -0.8068,  0.5229, -0.4528,  0.4215,  0.2256]],\n",
       "       device='cuda:0', requires_grad=True)"
      ]
     },
     "execution_count": 14,
     "metadata": {},
     "output_type": "execute_result"
    }
   ],
   "source": [
    "generator.label_emb.weight"
   ]
  },
  {
   "cell_type": "code",
   "execution_count": null,
   "metadata": {},
   "outputs": [],
   "source": []
  }
 ],
 "metadata": {
  "kernelspec": {
   "display_name": "Python 3 (ipykernel)",
   "language": "python",
   "name": "python3"
  },
  "language_info": {
   "codemirror_mode": {
    "name": "ipython",
    "version": 3
   },
   "file_extension": ".py",
   "mimetype": "text/x-python",
   "name": "python",
   "nbconvert_exporter": "python",
   "pygments_lexer": "ipython3",
   "version": "3.12.8"
  }
 },
 "nbformat": 4,
 "nbformat_minor": 4
}
