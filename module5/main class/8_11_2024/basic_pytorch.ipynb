{
 "cells": [
  {
   "cell_type": "code",
   "execution_count": 20,
   "metadata": {},
   "outputs": [
    {
     "name": "stdout",
     "output_type": "stream",
     "text": [
      "Collecting torch-summary\n",
      "  Downloading torch_summary-1.4.5-py3-none-any.whl.metadata (18 kB)\n",
      "Downloading torch_summary-1.4.5-py3-none-any.whl (16 kB)\n",
      "Installing collected packages: torch-summary\n",
      "Successfully installed torch-summary-1.4.5\n"
     ]
    }
   ],
   "source": [
    "! pip install torch-summary"
   ]
  },
  {
   "cell_type": "code",
   "execution_count": 1,
   "metadata": {},
   "outputs": [],
   "source": [
    "import torch"
   ]
  },
  {
   "cell_type": "code",
   "execution_count": 3,
   "metadata": {},
   "outputs": [
    {
     "data": {
      "text/plain": [
       "tensor([1, 2, 3])"
      ]
     },
     "execution_count": 3,
     "metadata": {},
     "output_type": "execute_result"
    }
   ],
   "source": [
    "data = [1, 2, 3]\n",
    "data = torch.tensor(data)\n",
    "data"
   ]
  },
  {
   "cell_type": "code",
   "execution_count": 4,
   "metadata": {},
   "outputs": [
    {
     "data": {
      "text/plain": [
       "torch.Size([3])"
      ]
     },
     "execution_count": 4,
     "metadata": {},
     "output_type": "execute_result"
    }
   ],
   "source": [
    "data.shape"
   ]
  },
  {
   "cell_type": "code",
   "execution_count": 6,
   "metadata": {},
   "outputs": [
    {
     "data": {
      "text/plain": [
       "tensor([[0.9290, 0.5243, 0.2332],\n",
       "        [0.1730, 0.8162, 0.3580],\n",
       "        [0.1148, 0.6745, 0.3241]])"
      ]
     },
     "execution_count": 6,
     "metadata": {},
     "output_type": "execute_result"
    }
   ],
   "source": [
    "# create a 3x3 tensor with\n",
    "# with random values between 0 and 1\n",
    "random_tensor = torch.rand(3, 3)\n",
    "\n",
    "random_tensor"
   ]
  },
  {
   "cell_type": "code",
   "execution_count": 8,
   "metadata": {},
   "outputs": [
    {
     "data": {
      "text/plain": [
       "tensor([[-1.4937,  0.0287, -1.1063],\n",
       "        [ 1.6091, -1.0078,  0.6393],\n",
       "        [ 0.7744,  0.3333,  0.7003]])"
      ]
     },
     "execution_count": 8,
     "metadata": {},
     "output_type": "execute_result"
    }
   ],
   "source": [
    "# create a 3x3 tensor with\n",
    "# with random values between 0 and 1\n",
    "data = torch.randn(3, 3)\n",
    "data"
   ]
  },
  {
   "cell_type": "code",
   "execution_count": 9,
   "metadata": {},
   "outputs": [
    {
     "name": "stdout",
     "output_type": "stream",
     "text": [
      "tensor([[-0.8971, -0.1056,  1.1270],\n",
      "        [-0.4706, -0.1821, -0.8250],\n",
      "        [-0.5070, -0.2878, -1.6854]])\n"
     ]
    }
   ],
   "source": [
    "# Create a 3x3 tensor with random values\n",
    "# from  a standard normal distribution : mean = 0 , std = 1\n",
    "\n",
    "data = torch.randn(3, 3)\n",
    "print(data)"
   ]
  },
  {
   "cell_type": "markdown",
   "metadata": {},
   "source": [
    "#### MSE loss in pytorch"
   ]
  },
  {
   "cell_type": "code",
   "execution_count": 10,
   "metadata": {},
   "outputs": [
    {
     "name": "stdout",
     "output_type": "stream",
     "text": [
      "x:\n",
      " tensor([1., 2., 3., 4.])\n",
      "y = 5\n",
      "squared_diff:\n",
      " tensor([16.,  9.,  4.,  1.])\n"
     ]
    }
   ],
   "source": [
    "# Compute squared difference\n",
    "import torch\n",
    "\n",
    "# Create two tensors\n",
    "x = torch.tensor([1.0, 2.0, 3.0, 4.0])\n",
    "y = 5\n",
    "\n",
    "# Compute squared difference\n",
    "squared_diff = (x - y) ** 2\n",
    "\n",
    "print(f'x:\\n {x}')\n",
    "print(f'y = {y}')\n",
    "print(f'squared_diff:\\n {squared_diff}')"
   ]
  },
  {
   "cell_type": "code",
   "execution_count": 11,
   "metadata": {},
   "outputs": [
    {
     "name": "stdout",
     "output_type": "stream",
     "text": [
      "x:\n",
      " tensor([1., 2., 3., 4.])\n",
      "y = tensor([5., 5., 5., 5.])\n",
      "mse:\n",
      " 7.5\n"
     ]
    }
   ],
   "source": [
    "# Compute squared difference\n",
    "import torch\n",
    "\n",
    "# Create two tensors\n",
    "x = torch.tensor([1.0, 2.0, 3.0, 4.0])\n",
    "y = torch.tensor([5.0, 5.0, 5.0, 5.0])\n",
    "\n",
    "# Compute squared difference\n",
    "loss_fn = torch.nn.MSELoss()\n",
    "mse = loss_fn(x, y)\n",
    "\n",
    "print(f'x:\\n {x}')\n",
    "print(f'y = {y}')\n",
    "print(f'mse:\\n {mse}')"
   ]
  },
  {
   "cell_type": "markdown",
   "metadata": {},
   "source": [
    "#### Concatnate tensors"
   ]
  },
  {
   "cell_type": "code",
   "execution_count": 12,
   "metadata": {},
   "outputs": [
    {
     "name": "stdout",
     "output_type": "stream",
     "text": [
      "Tensor1:\n",
      " tensor([[1, 2],\n",
      "        [3, 4],\n",
      "        [3, 4],\n",
      "        [5, 6]])\n",
      "Tensor2:\n",
      " tensor([[1, 2, 3, 4],\n",
      "        [3, 4, 5, 6]])\n"
     ]
    }
   ],
   "source": [
    "# Concatenate tensors\n",
    "import torch\n",
    "\n",
    "# Create two tensors\n",
    "x = torch.tensor([[1, 2],\n",
    "                  [3, 4]])\n",
    "y = torch.tensor([[3, 4],\n",
    "                  [5, 6]])\n",
    "\n",
    "# Concat tensors along the first dimension\n",
    "tensor1 = torch.cat((x, y), dim=0)\n",
    "print(f'Tensor1:\\n {tensor1}')\n",
    "\n",
    "# Concat tensors along the second dimension\n",
    "tensor2 = torch.cat((x, y), dim=1)\n",
    "print(f'Tensor2:\\n {tensor2}')"
   ]
  },
  {
   "cell_type": "markdown",
   "metadata": {},
   "source": [
    "#### arg max\n",
    "- dim = 0 : theo cột\n",
    "- dim = 1 : theo hàng"
   ]
  },
  {
   "cell_type": "code",
   "execution_count": 13,
   "metadata": {},
   "outputs": [
    {
     "name": "stdout",
     "output_type": "stream",
     "text": [
      "data:\n",
      " tensor([[3, 4],\n",
      "        [4, 2],\n",
      "        [1, 1]])\n",
      "argmax along dim 0:\n",
      " tensor([1, 0])\n",
      "argmax along dim 1:\n",
      " tensor([1, 0, 0])\n"
     ]
    }
   ],
   "source": [
    "# argmax\n",
    "import torch\n",
    "\n",
    "# Creates a 3x2 tensor\n",
    "data = torch.tensor([[3, 4],\n",
    "                     [4, 2],\n",
    "                     [1, 1]])\n",
    "print(f'data:\\n {data}')\n",
    "\n",
    "# Compute argmax across the rows (dimension 0)\n",
    "argmax_dim0 = torch.argmax(data, dim=0)\n",
    "print(f'argmax along dim 0:\\n {argmax_dim0}')\n",
    "\n",
    "# Compute argmax across the columns (dimension 1)\n",
    "argmax_dim1 = torch.argmax(data, dim=1)\n",
    "print(f'argmax along dim 1:\\n {argmax_dim1}')"
   ]
  },
  {
   "cell_type": "markdown",
   "metadata": {},
   "source": [
    "#### auto gradient"
   ]
  },
  {
   "cell_type": "code",
   "execution_count": 16,
   "metadata": {},
   "outputs": [
    {
     "name": "stdout",
     "output_type": "stream",
     "text": [
      "z::14.0\n",
      "Gradient of z w.r.t x : 12.0\n"
     ]
    }
   ],
   "source": [
    "x = torch.tensor(2.0, requires_grad= True)\n",
    "\n",
    "y = x ** 2\n",
    "z = 3*y + 2\n",
    "\n",
    "print(f'z::{z}')\n",
    "\n",
    "z.backward()\n",
    "\n",
    "print(f\"Gradient of z w.r.t x : {x.grad}\")"
   ]
  },
  {
   "cell_type": "markdown",
   "metadata": {},
   "source": [
    "#### Linear regresion"
   ]
  },
  {
   "cell_type": "code",
   "execution_count": 18,
   "metadata": {},
   "outputs": [
    {
     "name": "stdout",
     "output_type": "stream",
     "text": [
      "tensor([6.7000])\n",
      "tensor([-2.2380])\n"
     ]
    }
   ],
   "source": [
    "x = torch.tensor([6.7])\n",
    "print(x)\n",
    "\n",
    "w = -0.34\n",
    "b = 0.04\n",
    "\n",
    "y_hat = x*w + b\n",
    "print(y_hat)"
   ]
  },
  {
   "cell_type": "code",
   "execution_count": 19,
   "metadata": {},
   "outputs": [
    {
     "name": "stdout",
     "output_type": "stream",
     "text": [
      "Parameter containing:\n",
      "tensor([0.0400], requires_grad=True)\n",
      "Parameter containing:\n",
      "tensor([[-0.3400]], requires_grad=True)\n",
      "tensor([-2.2380], grad_fn=<ViewBackward0>)\n"
     ]
    }
   ],
   "source": [
    "import torch.nn as nn\n",
    "linear_model = nn.Linear(1, 1)\n",
    "\n",
    "linear_model.bias.data.fill_(0.04)\n",
    "linear_model.weight.data.fill_(-0.34)\n",
    "\n",
    "print(linear_model.bias)\n",
    "print(linear_model.weight)\n",
    "\n",
    "y_hat = linear_model(x)\n",
    "print(y_hat)"
   ]
  },
  {
   "cell_type": "code",
   "execution_count": 26,
   "metadata": {},
   "outputs": [
    {
     "name": "stdout",
     "output_type": "stream",
     "text": [
      "=================================================================\n",
      "Layer (type:depth-idx)                   Param #\n",
      "=================================================================\n",
      "├─Linear: 1-1                            6\n",
      "=================================================================\n",
      "Total params: 6\n",
      "Trainable params: 6\n",
      "Non-trainable params: 0\n",
      "=================================================================\n"
     ]
    },
    {
     "data": {
      "text/plain": [
       "=================================================================\n",
       "Layer (type:depth-idx)                   Param #\n",
       "=================================================================\n",
       "├─Linear: 1-1                            6\n",
       "=================================================================\n",
       "Total params: 6\n",
       "Trainable params: 6\n",
       "Non-trainable params: 0\n",
       "================================================================="
      ]
     },
     "execution_count": 26,
     "metadata": {},
     "output_type": "execute_result"
    }
   ],
   "source": [
    "from torchsummary import summary \n",
    "\n",
    "model = nn.Sequential(\n",
    "    nn.Linear(in_features=2, out_features=2)\n",
    ")\n",
    "summary(model, input_size = (1,))"
   ]
  },
  {
   "cell_type": "code",
   "execution_count": 29,
   "metadata": {},
   "outputs": [],
   "source": [
    "x = torch.tensor([6.7])"
   ]
  },
  {
   "cell_type": "code",
   "execution_count": 30,
   "metadata": {},
   "outputs": [
    {
     "name": "stdout",
     "output_type": "stream",
     "text": [
      "tensor([6.7000])\n"
     ]
    }
   ],
   "source": [
    "model = nn.Sequential(\n",
    "    nn.Linear(1, 1)\n",
    ")\n",
    "\n",
    "output = model(x)\n",
    "print(x)"
   ]
  },
  {
   "cell_type": "code",
   "execution_count": 33,
   "metadata": {},
   "outputs": [],
   "source": [
    "loss_fn = torch.nn.MSELoss()\n",
    "optimizer = torch.optim.SGD(model.parameters(), lr = 0.01)"
   ]
  },
  {
   "cell_type": "code",
   "execution_count": 34,
   "metadata": {},
   "outputs": [
    {
     "data": {
      "text/plain": [
       "<generator object Module.parameters at 0x000001EC6F088890>"
      ]
     },
     "execution_count": 34,
     "metadata": {},
     "output_type": "execute_result"
    }
   ],
   "source": [
    "model.parameters()"
   ]
  },
  {
   "cell_type": "code",
   "execution_count": 36,
   "metadata": {},
   "outputs": [
    {
     "name": "stdout",
     "output_type": "stream",
     "text": [
      "Loss with BCELoss: 0.3088267743587494\n"
     ]
    }
   ],
   "source": [
    "import torch\n",
    "import torch.nn as nn\n",
    "\n",
    "# Đầu ra từ mô hình (logits)\n",
    "logits = torch.tensor([0.2, -1.5, 2.0])\n",
    "target = torch.tensor([1.0, 0.0, 1.0])\n",
    "\n",
    "# Áp dụng Sigmoid trước khi đưa vào BCELoss\n",
    "sigmoid_output = torch.sigmoid(logits)\n",
    "loss_fn = nn.BCELoss()\n",
    "loss = loss_fn(sigmoid_output, target)\n",
    "print(f\"Loss with BCELoss: {loss.item()}\")"
   ]
  },
  {
   "cell_type": "code",
   "execution_count": 35,
   "metadata": {},
   "outputs": [
    {
     "name": "stdout",
     "output_type": "stream",
     "text": [
      "Loss with BCEWithLogitsLoss: 0.3088267743587494\n"
     ]
    }
   ],
   "source": [
    "import torch\n",
    "import torch.nn as nn\n",
    "\n",
    "# Đầu ra từ mô hình (logits)\n",
    "logits = torch.tensor([0.2, -1.5, 2.0])\n",
    "target = torch.tensor([1.0, 0.0, 1.0])\n",
    "\n",
    "# Sử dụng BCEWithLogitsLoss, không cần áp dụng Sigmoid\n",
    "loss_fn = nn.BCEWithLogitsLoss()\n",
    "loss = loss_fn(logits, target)\n",
    "print(f\"Loss with BCEWithLogitsLoss: {loss.item()}\")"
   ]
  }
 ],
 "metadata": {
  "kernelspec": {
   "display_name": "40daysPython_env",
   "language": "python",
   "name": "python3"
  },
  "language_info": {
   "codemirror_mode": {
    "name": "ipython",
    "version": 3
   },
   "file_extension": ".py",
   "mimetype": "text/x-python",
   "name": "python",
   "nbconvert_exporter": "python",
   "pygments_lexer": "ipython3",
   "version": "3.10.13"
  }
 },
 "nbformat": 4,
 "nbformat_minor": 2
}
