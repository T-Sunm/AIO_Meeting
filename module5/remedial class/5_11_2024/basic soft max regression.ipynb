{
 "cells": [
  {
   "cell_type": "code",
   "execution_count": 184,
   "metadata": {},
   "outputs": [],
   "source": [
    "import numpy as np\n",
    "import matplotlib.pyplot as plt"
   ]
  },
  {
   "cell_type": "code",
   "execution_count": 185,
   "metadata": {},
   "outputs": [],
   "source": [
    "X = np.array([\n",
    "    [0.5],\n",
    "    [1.0],\n",
    "    [1.5],\n",
    "    [2.0],\n",
    "    [2.5],\n",
    "    [3.0],\n",
    "    [3.5],\n",
    "    [4.0],\n",
    "])\n",
    "Y = np.array([0, 0, 1, 0, 0, 1, 1, 1])"
   ]
  },
  {
   "cell_type": "code",
   "execution_count": 186,
   "metadata": {},
   "outputs": [
    {
     "data": {
      "text/plain": [
       "array([[0.1, 0.2],\n",
       "       [0.3, 0.4]])"
      ]
     },
     "execution_count": 186,
     "metadata": {},
     "output_type": "execute_result"
    }
   ],
   "source": [
    "theta = np.array([[0.1, 0.2],[0.3, 0.4]])\n",
    "theta"
   ]
  },
  {
   "cell_type": "code",
   "execution_count": 187,
   "metadata": {},
   "outputs": [
    {
     "data": {
      "text/plain": [
       "array([[1. , 0.5],\n",
       "       [1. , 1. ],\n",
       "       [1. , 1.5],\n",
       "       [1. , 2. ],\n",
       "       [1. , 2.5],\n",
       "       [1. , 3. ],\n",
       "       [1. , 3.5],\n",
       "       [1. , 4. ]])"
      ]
     },
     "execution_count": 187,
     "metadata": {},
     "output_type": "execute_result"
    }
   ],
   "source": [
    "x_b = np.hstack([np.ones((len(X), 1)), X])\n",
    "x_b"
   ]
  },
  {
   "cell_type": "markdown",
   "metadata": {},
   "source": [
    "#### truy cập từng hàng tương ứng từng cột theo mảng - mảng \n",
    "#### ví dụ : [0, 1, 2] - [0, 1, 0] = 1 : hàng 0 cọt 0 có gtri 1, hàng 1 cột 1 có giá trị 1 , hàng 2 cột 0 có giá trị 1"
   ]
  },
  {
   "cell_type": "code",
   "execution_count": 188,
   "metadata": {},
   "outputs": [
    {
     "data": {
      "text/plain": [
       "array([[1., 0.],\n",
       "       [1., 0.],\n",
       "       [0., 1.],\n",
       "       [1., 0.],\n",
       "       [1., 0.],\n",
       "       [0., 1.],\n",
       "       [0., 1.],\n",
       "       [0., 1.]])"
      ]
     },
     "execution_count": 188,
     "metadata": {},
     "output_type": "execute_result"
    }
   ],
   "source": [
    "def one_hot_encoding(y,k):\n",
    "    one_hot = np.zeros((len(y), k))\n",
    "    one_hot[np.arange(len(y)), y] =  1\n",
    "    return one_hot\n",
    "\n",
    "y_onehot =one_hot_encoding(Y,2)\n",
    "y_onehot"
   ]
  },
  {
   "cell_type": "markdown",
   "metadata": {},
   "source": [
    "#### cần keepdims để trở thành (8,1) lúc đó mới broadcasting để chia cho (8,2) được"
   ]
  },
  {
   "cell_type": "code",
   "execution_count": 189,
   "metadata": {},
   "outputs": [],
   "source": [
    "def softmax_function(z):\n",
    "    # print(np.exp(z).shape)\n",
    "    # print(np.sum(np.exp(z), axis=1).shape)\n",
    "    return np.exp(z) / np.sum(np.exp(z), axis=1, keepdims=True)"
   ]
  },
  {
   "cell_type": "markdown",
   "metadata": {},
   "source": [
    "#### với trường hợp batch thì kh cần transpose"
   ]
  },
  {
   "cell_type": "code",
   "execution_count": 190,
   "metadata": {},
   "outputs": [
    {
     "data": {
      "text/plain": [
       "array([[0.46257015, 0.53742985],\n",
       "       [0.450166  , 0.549834  ],\n",
       "       [0.4378235 , 0.5621765 ],\n",
       "       [0.42555748, 0.57444252],\n",
       "       [0.41338242, 0.58661758],\n",
       "       [0.40131234, 0.59868766],\n",
       "       [0.38936077, 0.61063923],\n",
       "       [0.37754067, 0.62245933]])"
      ]
     },
     "execution_count": 190,
     "metadata": {},
     "output_type": "execute_result"
    }
   ],
   "source": [
    "def predict(x, theta):\n",
    "    z = np.dot(x,theta)\n",
    "    z = softmax_function(z)\n",
    "    return z\n",
    "\n",
    "\n",
    "y_hat = predict(x_b, theta)\n",
    "y_hat"
   ]
  },
  {
   "cell_type": "code",
   "execution_count": 191,
   "metadata": {},
   "outputs": [
    {
     "name": "stdout",
     "output_type": "stream",
     "text": [
      "[0.77095705 0.79813887 0.57593942 0.85435524 0.88338216 0.51301525\n",
      " 0.49324895 0.47407698]\n"
     ]
    }
   ],
   "source": [
    "def compute_loss(y_hat, y):\n",
    "    return -np.log(np.sum((y_hat*y), axis=1))\n",
    "\n",
    "loss = compute_loss(y_hat, y_onehot)\n",
    "print(loss)"
   ]
  },
  {
   "cell_type": "code",
   "execution_count": 192,
   "metadata": {},
   "outputs": [
    {
     "data": {
      "text/plain": [
       "array([[-0.64228666,  0.64228666],\n",
       "       [ 1.29961972, -1.29961972]])"
      ]
     },
     "execution_count": 192,
     "metadata": {},
     "output_type": "execute_result"
    }
   ],
   "source": [
    "def compute_gradient(y_hat, y, x):\n",
    "    return np.dot(x.T, (y_hat - y))\n",
    "\n",
    "gradient = compute_gradient(y_hat, y_onehot, x_b)\n",
    "gradient"
   ]
  },
  {
   "cell_type": "code",
   "execution_count": 193,
   "metadata": {},
   "outputs": [
    {
     "data": {
      "text/plain": [
       "array([[0.10642287, 0.19357713],\n",
       "       [0.2870038 , 0.4129962 ]])"
      ]
     },
     "execution_count": 193,
     "metadata": {},
     "output_type": "execute_result"
    }
   ],
   "source": [
    "learning_rate = 0.01\n",
    "def update_parameters(theta, lr, gradient):\n",
    "    new_theta = theta -lr*gradient\n",
    "\n",
    "    return new_theta\n",
    "\n",
    "\n",
    "theta = update_parameters(theta, learning_rate, gradient)\n",
    "theta"
   ]
  },
  {
   "cell_type": "code",
   "execution_count": 194,
   "metadata": {},
   "outputs": [],
   "source": [
    "theta = np.random.rand(2, 2)\n",
    "\n",
    "learning_rate = 0.01\n",
    "n_epochs = 500\n",
    "n_samples = x_b.shape[0]\n",
    "\n",
    "losses = []\n",
    "for epoch in range(n_epochs):\n",
    "    # compute z, y_hat\n",
    "    y_hat = predict(x_b, theta)\n",
    "\n",
    "    # compute loss\n",
    "    loss = compute_loss(y_hat, y_onehot)\n",
    "    losses.append(np.sum(loss))\n",
    "\n",
    "    # compute gradient\n",
    "    gradient = compute_gradient(y_hat, y_onehot, x_b)\n",
    "\n",
    "    # update weight\n",
    "    theta = update_parameters(theta, learning_rate, gradient)"
   ]
  },
  {
   "cell_type": "code",
   "execution_count": 195,
   "metadata": {},
   "outputs": [
    {
     "data": {
      "image/png": "[encoded data removed]",
      "text/plain": [
       "<Figure size 640x480 with 1 Axes>"
      ]
     },
     "metadata": {},
     "output_type": "display_data"
    }
   ],
   "source": [
    "plt.plot(losses)\n",
    "plt.show()"
   ]
  }
 ],
 "metadata": {
  "kernelspec": {
   "display_name": "40daysPython_env",
   "language": "python",
   "name": "python3"
  },
  "language_info": {
   "codemirror_mode": {
    "name": "ipython",
    "version": 3
   },
   "file_extension": ".py",
   "mimetype": "text/x-python",
   "name": "python",
   "nbconvert_exporter": "python",
   "pygments_lexer": "ipython3",
   "version": "3.10.13"
  }
 },
 "nbformat": 4,
 "nbformat_minor": 2
}
