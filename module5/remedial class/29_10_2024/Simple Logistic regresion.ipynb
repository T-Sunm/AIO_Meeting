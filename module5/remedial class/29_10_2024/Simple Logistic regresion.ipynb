{
 "cells": [
  {
   "cell_type": "code",
   "execution_count": 117,
   "metadata": {},
   "outputs": [],
   "source": [
    "import numpy as np"
   ]
  },
  {
   "cell_type": "code",
   "execution_count": 118,
   "metadata": {},
   "outputs": [],
   "source": [
    "eta = 0.1\n",
    "theta = np.array([0.1, 0.1])\n",
    "x = np.array([1.0, 0.5])\n",
    "y = np.array([0])"
   ]
  },
  {
   "cell_type": "code",
   "execution_count": 119,
   "metadata": {},
   "outputs": [],
   "source": [
    "def compute_z(theta, x):\n",
    "    return np.dot(x, theta)\n",
    "def logistic_func(z):\n",
    "    return 1/(1 + np.exp(-z))\n",
    "def predict(theta, x):\n",
    "    z = compute_z(theta, x)\n",
    "    y_hat = logistic_func(z)\n",
    "    return z, y_hat\n",
    "def compute_loss(y_hat, y):\n",
    "    return np.mean(-y * np.log(y_hat) - (1 - y) * np.log(1 - y_hat))\n",
    "def compute_gradient(x, y_hat, y):\n",
    "    return np.dot(x.T, (y_hat - y)) / len(y)\n",
    "\n",
    "def update_weight(theta, lr, gradient):\n",
    "    theta = theta - lr * gradient\n",
    "    return theta"
   ]
  },
  {
   "cell_type": "markdown",
   "metadata": {},
   "source": [
    "### N Sample"
   ]
  },
  {
   "cell_type": "code",
   "execution_count": 120,
   "metadata": {},
   "outputs": [],
   "source": [
    "X = np.array([\n",
    "    [1.0, 0.5],\n",
    "    [2.0, 1.0],\n",
    "    [3.0, 1.5],\n",
    "    [2.0, 2.0],\n",
    "    [1.0, 2.5],\n",
    "    [2.0, 3.0],\n",
    "    [1.0, 3.5],\n",
    "    [2.0, 4.0],\n",
    "])\n",
    "Y = np.array([0, 0, 1, 0, 0, 1, 1, 1])"
   ]
  },
  {
   "cell_type": "markdown",
   "metadata": {},
   "source": [
    "hàm hstack (horizontal stack) được sử dụng để ghép (hay xếp) các mảng (array) theo chiều ngang, tức là ghép các mảng dọc theo trục 1 (trục cột)."
   ]
  },
  {
   "cell_type": "code",
   "execution_count": 121,
   "metadata": {},
   "outputs": [],
   "source": [
    "n_samples = X.shape[0]\n",
    "ones = np.ones((n_samples, 1))"
   ]
  },
  {
   "cell_type": "code",
   "execution_count": 122,
   "metadata": {},
   "outputs": [
    {
     "data": {
      "text/plain": [
       "array([[1. , 1. , 0.5],\n",
       "       [1. , 2. , 1. ],\n",
       "       [1. , 3. , 1.5],\n",
       "       [1. , 2. , 2. ],\n",
       "       [1. , 1. , 2.5],\n",
       "       [1. , 2. , 3. ],\n",
       "       [1. , 1. , 3.5],\n",
       "       [1. , 2. , 4. ]])"
      ]
     },
     "execution_count": 122,
     "metadata": {},
     "output_type": "execute_result"
    }
   ],
   "source": [
    "X = np.hstack([np.ones((n_samples, 1)), X])\n",
    "X"
   ]
  },
  {
   "cell_type": "code",
   "execution_count": 123,
   "metadata": {},
   "outputs": [
    {
     "data": {
      "text/plain": [
       "array([0.70781058, 0.36508866, 0.68685779])"
      ]
     },
     "execution_count": 123,
     "metadata": {},
     "output_type": "execute_result"
    }
   ],
   "source": [
    "n_features = X.shape[-1]\n",
    "theta = np.random.rand(n_features)\n",
    "theta"
   ]
  },
  {
   "cell_type": "code",
   "execution_count": 124,
   "metadata": {},
   "outputs": [
    {
     "data": {
      "text/plain": [
       "[1.2154274015438808,\n",
       " 1.2144065451337591,\n",
       " 1.2133865127722727,\n",
       " 1.2123673059764628,\n",
       " 1.2113489262633388,\n",
       " 1.2103313751498606,\n",
       " 1.2093146541529205,\n",
       " 1.2082987647893224,\n",
       " 1.2072837085757675,\n",
       " 1.2062694870288297]"
      ]
     },
     "execution_count": 124,
     "metadata": {},
     "output_type": "execute_result"
    }
   ],
   "source": [
    "n_epochs = 10\n",
    "lr = 0.001\n",
    "\n",
    "losses = []\n",
    "for epoch in range(n_epochs):\n",
    "    epoch_loss = []\n",
    "    # predict y_hat\n",
    "    z, y_hat = predict(theta, X)\n",
    "\n",
    "    # compute loss\n",
    "    loss = compute_loss(y_hat, Y)\n",
    "    epoch_loss.append(loss)\n",
    "\n",
    "    # compute gradient\n",
    "    gradient = compute_gradient(X, y_hat, Y)\n",
    "\n",
    "    # update weights\n",
    "    theta = update_weight(theta, lr, gradient)\n",
    "    losses.append(sum(epoch_loss) / len(epoch_loss))\n",
    "\n",
    "losses"
   ]
  },
  {
   "cell_type": "markdown",
   "metadata": {},
   "source": [
    "### Classification"
   ]
  },
  {
   "cell_type": "code",
   "execution_count": 125,
   "metadata": {},
   "outputs": [],
   "source": [
    "import pandas as pd"
   ]
  },
  {
   "cell_type": "code",
   "execution_count": 126,
   "metadata": {},
   "outputs": [
    {
     "data": {
      "text/html": [
       "<div>\n",
       "<style scoped>\n",
       "    .dataframe tbody tr th:only-of-type {\n",
       "        vertical-align: middle;\n",
       "    }\n",
       "\n",
       "    .dataframe tbody tr th {\n",
       "        vertical-align: top;\n",
       "    }\n",
       "\n",
       "    .dataframe thead th {\n",
       "        text-align: right;\n",
       "    }\n",
       "</style>\n",
       "<table border=\"1\" class=\"dataframe\">\n",
       "  <thead>\n",
       "    <tr style=\"text-align: right;\">\n",
       "      <th></th>\n",
       "      <th>Width</th>\n",
       "      <th>Length</th>\n",
       "      <th>Result</th>\n",
       "    </tr>\n",
       "  </thead>\n",
       "  <tbody>\n",
       "    <tr>\n",
       "      <th>0</th>\n",
       "      <td>34.623660</td>\n",
       "      <td>78.024693</td>\n",
       "      <td>0</td>\n",
       "    </tr>\n",
       "    <tr>\n",
       "      <th>1</th>\n",
       "      <td>30.286711</td>\n",
       "      <td>43.894998</td>\n",
       "      <td>0</td>\n",
       "    </tr>\n",
       "    <tr>\n",
       "      <th>2</th>\n",
       "      <td>35.847409</td>\n",
       "      <td>72.902198</td>\n",
       "      <td>0</td>\n",
       "    </tr>\n",
       "    <tr>\n",
       "      <th>3</th>\n",
       "      <td>60.182599</td>\n",
       "      <td>86.308552</td>\n",
       "      <td>1</td>\n",
       "    </tr>\n",
       "    <tr>\n",
       "      <th>4</th>\n",
       "      <td>79.032736</td>\n",
       "      <td>75.344376</td>\n",
       "      <td>1</td>\n",
       "    </tr>\n",
       "  </tbody>\n",
       "</table>\n",
       "</div>"
      ],
      "text/plain": [
       "       Width     Length  Result\n",
       "0  34.623660  78.024693       0\n",
       "1  30.286711  43.894998       0\n",
       "2  35.847409  72.902198       0\n",
       "3  60.182599  86.308552       1\n",
       "4  79.032736  75.344376       1"
      ]
     },
     "execution_count": 126,
     "metadata": {},
     "output_type": "execute_result"
    }
   ],
   "source": [
    "data = pd.read_csv(\"./data.csv\")\n",
    "data.head()"
   ]
  },
  {
   "cell_type": "code",
   "execution_count": 127,
   "metadata": {},
   "outputs": [
    {
     "name": "stdout",
     "output_type": "stream",
     "text": [
      "<class 'pandas.core.frame.DataFrame'>\n",
      "RangeIndex: 100 entries, 0 to 99\n",
      "Data columns (total 3 columns):\n",
      " #   Column  Non-Null Count  Dtype  \n",
      "---  ------  --------------  -----  \n",
      " 0   Width   100 non-null    float64\n",
      " 1   Length  100 non-null    float64\n",
      " 2   Result  100 non-null    int64  \n",
      "dtypes: float64(2), int64(1)\n",
      "memory usage: 2.5 KB\n"
     ]
    }
   ],
   "source": [
    "data.info()"
   ]
  },
  {
   "cell_type": "code",
   "execution_count": 128,
   "metadata": {},
   "outputs": [
    {
     "data": {
      "text/plain": [
       "((100, 2), (100,))"
      ]
     },
     "execution_count": 128,
     "metadata": {},
     "output_type": "execute_result"
    }
   ],
   "source": [
    "X = data[['Width', 'Length']]\n",
    "Y = data['Result']\n",
    "X.shape, Y.shape"
   ]
  },
  {
   "cell_type": "code",
   "execution_count": 129,
   "metadata": {},
   "outputs": [
    {
     "data": {
      "text/plain": [
       "array([[ 1.        , 34.62365962, 78.02469282],\n",
       "       [ 1.        , 30.28671077, 43.89499752],\n",
       "       [ 1.        , 35.84740877, 72.90219803],\n",
       "       [ 1.        , 60.18259939, 86.3085521 ],\n",
       "       [ 1.        , 79.03273605, 75.34437644],\n",
       "       [ 1.        , 45.08327748, 56.31637178],\n",
       "       [ 1.        , 61.10666454, 96.51142588],\n",
       "       [ 1.        , 75.02474557, 46.55401354],\n",
       "       [ 1.        , 76.0987867 , 87.42056972],\n",
       "       [ 1.        , 84.43281996, 43.53339331],\n",
       "       [ 1.        , 95.86155507, 38.22527806],\n",
       "       [ 1.        , 75.01365839, 30.60326323],\n",
       "       [ 1.        , 82.30705337, 76.4819633 ],\n",
       "       [ 1.        , 69.36458876, 97.71869196],\n",
       "       [ 1.        , 39.53833914, 76.03681085],\n",
       "       [ 1.        , 53.97105215, 89.20735014],\n",
       "       [ 1.        , 69.07014406, 52.74046973],\n",
       "       [ 1.        , 67.94685548, 46.67857411],\n",
       "       [ 1.        , 70.66150955, 92.92713789],\n",
       "       [ 1.        , 76.97878373, 47.57596365],\n",
       "       [ 1.        , 67.37202755, 42.83843832],\n",
       "       [ 1.        , 89.67677575, 65.79936593],\n",
       "       [ 1.        , 50.53478829, 48.85581153],\n",
       "       [ 1.        , 34.21206098, 44.2095286 ],\n",
       "       [ 1.        , 77.92409145, 68.97235999],\n",
       "       [ 1.        , 62.27101367, 69.95445795],\n",
       "       [ 1.        , 80.19018075, 44.82162893],\n",
       "       [ 1.        , 93.1143888 , 38.80067034],\n",
       "       [ 1.        , 61.83020602, 50.25610789],\n",
       "       [ 1.        , 38.7858038 , 64.99568096],\n",
       "       [ 1.        , 61.37928945, 72.80788731],\n",
       "       [ 1.        , 85.40451939, 57.05198398],\n",
       "       [ 1.        , 52.10797973, 63.12762377],\n",
       "       [ 1.        , 52.04540477, 69.43286012],\n",
       "       [ 1.        , 40.23689374, 71.16774802],\n",
       "       [ 1.        , 54.63510555, 52.21388588],\n",
       "       [ 1.        , 33.91550011, 98.86943574],\n",
       "       [ 1.        , 64.17698887, 80.90806059],\n",
       "       [ 1.        , 74.78925296, 41.57341523],\n",
       "       [ 1.        , 34.18364003, 75.23772034],\n",
       "       [ 1.        , 83.90239366, 56.30804622],\n",
       "       [ 1.        , 51.54772027, 46.85629026],\n",
       "       [ 1.        , 94.44336777, 65.56892161],\n",
       "       [ 1.        , 82.36875376, 40.61825516],\n",
       "       [ 1.        , 51.04775177, 45.82270146],\n",
       "       [ 1.        , 62.22267576, 52.06099195],\n",
       "       [ 1.        , 77.19303493, 70.4582    ],\n",
       "       [ 1.        , 97.77159928, 86.72782233],\n",
       "       [ 1.        , 62.0730638 , 96.76882412],\n",
       "       [ 1.        , 91.5649745 , 88.69629255],\n",
       "       [ 1.        , 79.94481794, 74.16311935],\n",
       "       [ 1.        , 99.27252693, 60.999031  ],\n",
       "       [ 1.        , 90.54671411, 43.39060181],\n",
       "       [ 1.        , 34.52451385, 60.39634246],\n",
       "       [ 1.        , 50.28649612, 49.80453881],\n",
       "       [ 1.        , 49.58667722, 59.80895099],\n",
       "       [ 1.        , 97.64563396, 68.86157272],\n",
       "       [ 1.        , 32.57720017, 95.59854761],\n",
       "       [ 1.        , 74.24869137, 69.82457123],\n",
       "       [ 1.        , 71.79646206, 78.45356225],\n",
       "       [ 1.        , 75.39561147, 85.75993667],\n",
       "       [ 1.        , 35.28611282, 47.02051395],\n",
       "       [ 1.        , 56.2538175 , 39.26147251],\n",
       "       [ 1.        , 30.05882245, 49.59297387],\n",
       "       [ 1.        , 44.66826172, 66.45008615],\n",
       "       [ 1.        , 66.56089447, 41.09209808],\n",
       "       [ 1.        , 40.45755098, 97.53518549],\n",
       "       [ 1.        , 49.07256322, 51.88321182],\n",
       "       [ 1.        , 80.27957401, 92.11606081],\n",
       "       [ 1.        , 66.74671857, 60.99139403],\n",
       "       [ 1.        , 32.72283304, 43.30717306],\n",
       "       [ 1.        , 64.03932042, 78.03168802],\n",
       "       [ 1.        , 72.34649423, 96.22759297],\n",
       "       [ 1.        , 60.45788574, 73.0949981 ],\n",
       "       [ 1.        , 58.84095622, 75.85844831],\n",
       "       [ 1.        , 99.8278578 , 72.36925193],\n",
       "       [ 1.        , 47.26426911, 88.475865  ],\n",
       "       [ 1.        , 50.4581598 , 75.80985953],\n",
       "       [ 1.        , 60.45555629, 42.50840944],\n",
       "       [ 1.        , 82.22666158, 42.71987854],\n",
       "       [ 1.        , 88.91389642, 69.8037889 ],\n",
       "       [ 1.        , 94.83450672, 45.6943068 ],\n",
       "       [ 1.        , 67.31925747, 66.58935318],\n",
       "       [ 1.        , 57.23870632, 59.51428198],\n",
       "       [ 1.        , 80.366756  , 90.9601479 ],\n",
       "       [ 1.        , 68.46852179, 85.5943071 ],\n",
       "       [ 1.        , 42.07545454, 78.844786  ],\n",
       "       [ 1.        , 75.47770201, 90.424539  ],\n",
       "       [ 1.        , 78.63542435, 96.64742717],\n",
       "       [ 1.        , 52.34800399, 60.76950526],\n",
       "       [ 1.        , 94.09433113, 77.15910509],\n",
       "       [ 1.        , 90.44855097, 87.50879176],\n",
       "       [ 1.        , 55.48216114, 35.57070347],\n",
       "       [ 1.        , 74.49269242, 84.84513685],\n",
       "       [ 1.        , 89.84580671, 45.35828361],\n",
       "       [ 1.        , 83.48916274, 48.3802858 ],\n",
       "       [ 1.        , 42.26170081, 87.10385094],\n",
       "       [ 1.        , 99.31500881, 68.77540947],\n",
       "       [ 1.        , 55.34001756, 64.93193801],\n",
       "       [ 1.        , 74.775893  , 89.5298129 ]])"
      ]
     },
     "execution_count": 129,
     "metadata": {},
     "output_type": "execute_result"
    }
   ],
   "source": [
    "X = np.hstack([np.ones((X.shape[0], 1)), X])\n",
    "X"
   ]
  },
  {
   "cell_type": "code",
   "execution_count": 130,
   "metadata": {},
   "outputs": [],
   "source": [
    "n_features = X.shape[-1]\n",
    "theta = np.array([0.66522587, 0.69048314, 0.2134033])"
   ]
  },
  {
   "cell_type": "code",
   "execution_count": 131,
   "metadata": {},
   "outputs": [
    {
     "name": "stderr",
     "output_type": "stream",
     "text": [
      "C:\\Users\\ASUS\\AppData\\Local\\Temp\\ipykernel_3336\\3823026528.py:10: RuntimeWarning: divide by zero encountered in log\n",
      "  return np.mean(-y * np.log(y_hat) - (1 - y) * np.log(1 - y_hat))\n",
      "C:\\Users\\ASUS\\AppData\\Local\\Temp\\ipykernel_3336\\3823026528.py:10: RuntimeWarning: divide by zero encountered in log\n",
      "  return np.mean(-y * np.log(y_hat) - (1 - y) * np.log(1 - y_hat))\n",
      "C:\\Users\\ASUS\\AppData\\Local\\Temp\\ipykernel_3336\\3823026528.py:10: RuntimeWarning: divide by zero encountered in log\n",
      "  return np.mean(-y * np.log(y_hat) - (1 - y) * np.log(1 - y_hat))\n",
      "C:\\Users\\ASUS\\AppData\\Local\\Temp\\ipykernel_3336\\3823026528.py:10: RuntimeWarning: divide by zero encountered in log\n",
      "  return np.mean(-y * np.log(y_hat) - (1 - y) * np.log(1 - y_hat))\n",
      "C:\\Users\\ASUS\\AppData\\Local\\Temp\\ipykernel_3336\\3823026528.py:10: RuntimeWarning: divide by zero encountered in log\n",
      "  return np.mean(-y * np.log(y_hat) - (1 - y) * np.log(1 - y_hat))\n",
      "C:\\Users\\ASUS\\AppData\\Local\\Temp\\ipykernel_3336\\3823026528.py:10: RuntimeWarning: divide by zero encountered in log\n",
      "  return np.mean(-y * np.log(y_hat) - (1 - y) * np.log(1 - y_hat))\n",
      "C:\\Users\\ASUS\\AppData\\Local\\Temp\\ipykernel_3336\\3823026528.py:10: RuntimeWarning: divide by zero encountered in log\n",
      "  return np.mean(-y * np.log(y_hat) - (1 - y) * np.log(1 - y_hat))\n",
      "C:\\Users\\ASUS\\AppData\\Local\\Temp\\ipykernel_3336\\3823026528.py:10: RuntimeWarning: divide by zero encountered in log\n",
      "  return np.mean(-y * np.log(y_hat) - (1 - y) * np.log(1 - y_hat))\n",
      "C:\\Users\\ASUS\\AppData\\Local\\Temp\\ipykernel_3336\\3823026528.py:10: RuntimeWarning: divide by zero encountered in log\n",
      "  return np.mean(-y * np.log(y_hat) - (1 - y) * np.log(1 - y_hat))\n",
      "C:\\Users\\ASUS\\AppData\\Local\\Temp\\ipykernel_3336\\3823026528.py:10: RuntimeWarning: divide by zero encountered in log\n",
      "  return np.mean(-y * np.log(y_hat) - (1 - y) * np.log(1 - y_hat))\n",
      "C:\\Users\\ASUS\\AppData\\Local\\Temp\\ipykernel_3336\\3823026528.py:10: RuntimeWarning: divide by zero encountered in log\n",
      "  return np.mean(-y * np.log(y_hat) - (1 - y) * np.log(1 - y_hat))\n",
      "C:\\Users\\ASUS\\AppData\\Local\\Temp\\ipykernel_3336\\3823026528.py:10: RuntimeWarning: divide by zero encountered in log\n",
      "  return np.mean(-y * np.log(y_hat) - (1 - y) * np.log(1 - y_hat))\n",
      "C:\\Users\\ASUS\\AppData\\Local\\Temp\\ipykernel_3336\\3823026528.py:10: RuntimeWarning: divide by zero encountered in log\n",
      "  return np.mean(-y * np.log(y_hat) - (1 - y) * np.log(1 - y_hat))\n",
      "C:\\Users\\ASUS\\AppData\\Local\\Temp\\ipykernel_3336\\3823026528.py:10: RuntimeWarning: divide by zero encountered in log\n",
      "  return np.mean(-y * np.log(y_hat) - (1 - y) * np.log(1 - y_hat))\n"
     ]
    },
    {
     "data": {
      "text/plain": [
       "(array([ 0.65132501,  0.01145603, -0.00992223]),\n",
       " [inf,\n",
       "  inf,\n",
       "  inf,\n",
       "  inf,\n",
       "  inf,\n",
       "  inf,\n",
       "  inf,\n",
       "  inf,\n",
       "  inf,\n",
       "  inf,\n",
       "  inf,\n",
       "  inf,\n",
       "  inf,\n",
       "  inf,\n",
       "  6.550063657834673,\n",
       "  5.642374924717428,\n",
       "  4.761680002153897,\n",
       "  3.9726129691546914,\n",
       "  3.3221342951672113,\n",
       "  2.844014188380582,\n",
       "  2.531125429492443,\n",
       "  2.3517172528965604,\n",
       "  2.2590804582139397,\n",
       "  2.2078839749615837,\n",
       "  2.1696057471636583,\n",
       "  2.1342230251583305,\n",
       "  2.0994367242815093,\n",
       "  2.064831419351691,\n",
       "  2.0303438759636268,\n",
       "  1.99596901376057,\n",
       "  1.9617109304033122,\n",
       "  1.9275753721550717,\n",
       "  1.8935686592485856,\n",
       "  1.8596975626027423,\n",
       "  1.8259693159284711,\n",
       "  1.7923916481256668,\n",
       "  1.758972820560453,\n",
       "  1.7257216674508442,\n",
       "  1.6926476391781302,\n",
       "  1.65976084868371,\n",
       "  1.627072121007997,\n",
       "  1.594593046056881,\n",
       "  1.562336034610441,\n",
       "  1.5303143775288113,\n",
       "  1.498542308023284,\n",
       "  1.467035066745596,\n",
       "  1.4358089692989122,\n",
       "  1.4048814755848176,\n",
       "  1.3742712601573546,\n",
       "  1.3439982824508387,\n",
       "  1.3140838553744123,\n",
       "  1.2845507103033296,\n",
       "  1.2554230559427932,\n",
       "  1.2267266278772728,\n",
       "  1.1984887248480258,\n",
       "  1.1707382269200273,\n",
       "  1.143505589723344,\n",
       "  1.1168228079113967,\n",
       "  1.0907233399224674,\n",
       "  1.0652419851464716,\n",
       "  1.0404147038079763,\n",
       "  1.0162783694473985,\n",
       "  0.9928704440296948,\n",
       "  0.9702285666912093,\n",
       "  0.9483900492346791,\n",
       "  0.927391274977969,\n",
       "  0.9072670026757521,\n",
       "  0.8880495840589754,\n",
       "  0.8697681119548513,\n",
       "  0.852447525539015,\n",
       "  0.8361077092420811,\n",
       "  0.8207626310139373,\n",
       "  0.8064195725610659,\n",
       "  0.7930785072114833,\n",
       "  0.7807316787978316,\n",
       "  0.7693634264898851,\n",
       "  0.758950285851622,\n",
       "  0.7494613766530432,\n",
       "  0.7408590653301875,\n",
       "  0.7330998674303391,\n",
       "  0.7261355360854005,\n",
       "  0.719914269242705,\n",
       "  0.7143819627156627,\n",
       "  0.7094834383916759,\n",
       "  0.7051635861077054,\n",
       "  0.7013683717432271,\n",
       "  0.6980456805003915,\n",
       "  0.6951459807467351,\n",
       "  0.6926228082931495,\n",
       "  0.6904330823855771,\n",
       "  0.6885372725391836,\n",
       "  0.6868994397627466,\n",
       "  0.6854871772218109,\n",
       "  0.6842714746734886,\n",
       "  0.6832265288020024,\n",
       "  0.6823295185407416,\n",
       "  0.6815603610987884,\n",
       "  0.6809014610857754,\n",
       "  0.6803374620827828,\n",
       "  0.6798550073642187])"
      ]
     },
     "execution_count": 131,
     "metadata": {},
     "output_type": "execute_result"
    }
   ],
   "source": [
    "n_epochs = 100\n",
    "lr = 0.001\n",
    "\n",
    "losses = []\n",
    "for epoch in range(n_epochs):\n",
    "    # predict y_hat\n",
    "    z, y_hat = predict(theta, X)\n",
    "\n",
    "    # compute loss\n",
    "    loss = compute_loss(y_hat, Y)\n",
    "    losses.append(loss)\n",
    "\n",
    "    # compute gradient\n",
    "    gradient = compute_gradient(X, y_hat, Y)\n",
    "\n",
    "    # update weights\n",
    "    theta = update_weight(theta, lr, gradient)\n",
    "\n",
    "theta, losses"
   ]
  },
  {
   "cell_type": "code",
   "execution_count": 132,
   "metadata": {},
   "outputs": [
    {
     "data": {
      "text/plain": [
       "array([ 0.65132501,  0.01145603, -0.00992223])"
      ]
     },
     "execution_count": 132,
     "metadata": {},
     "output_type": "execute_result"
    }
   ],
   "source": [
    "theta"
   ]
  },
  {
   "cell_type": "code",
   "execution_count": 133,
   "metadata": {},
   "outputs": [
    {
     "data": {
      "image/png": "[encoded data removed]",
      "text/plain": [
       "<Figure size 640x480 with 1 Axes>"
      ]
     },
     "metadata": {},
     "output_type": "display_data"
    }
   ],
   "source": [
    "import matplotlib.pyplot as plt\n",
    "plt.plot(losses)\n",
    "plt.xlabel('epoch')\n",
    "plt.ylabel('losses')\n",
    "plt.show()"
   ]
  },
  {
   "cell_type": "code",
   "execution_count": 134,
   "metadata": {},
   "outputs": [],
   "source": [
    "z, Y_preds = predict(theta, X)"
   ]
  },
  {
   "cell_type": "code",
   "execution_count": 135,
   "metadata": {},
   "outputs": [
    {
     "name": "stdout",
     "output_type": "stream",
     "text": [
      "[0.6, 0.6, 0.61, 0.61, 0.58, 0.47, 0.43, 0.4]\n"
     ]
    }
   ],
   "source": [
    "thresholds = [0.45, 0.5, 0.55, 0.6, 0.65, 0.7, 0.75, 0.8]\n",
    "accs = []\n",
    "\n",
    "for thresh in thresholds:\n",
    "    Y_pred_ths = []\n",
    "    for y_hat in Y_preds:\n",
    "        if float(y_hat) < thresh:\n",
    "            Y_pred_ths.append(0)\n",
    "        else:\n",
    "            Y_pred_ths.append(1)\n",
    "    \n",
    "    Y_pred_ths = np.array(Y_pred_ths)\n",
    "    accs.append(sum(Y_pred_ths == Y) / len(Y_pred_ths))\n",
    "\n",
    "print(accs)"
   ]
  }
 ],
 "metadata": {
  "kernelspec": {
   "display_name": "40daysPython_env",
   "language": "python",
   "name": "python3"
  },
  "language_info": {
   "codemirror_mode": {
    "name": "ipython",
    "version": 3
   },
   "file_extension": ".py",
   "mimetype": "text/x-python",
   "name": "python",
   "nbconvert_exporter": "python",
   "pygments_lexer": "ipython3",
   "version": "3.10.13"
  }
 },
 "nbformat": 4,
 "nbformat_minor": 2
}
