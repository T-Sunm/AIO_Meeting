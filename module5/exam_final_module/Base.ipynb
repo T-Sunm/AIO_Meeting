{
 "cells": [
  {
   "cell_type": "markdown",
   "id": "HItsinp0SFqA",
   "metadata": {
    "id": "HItsinp0SFqA"
   },
   "source": [
    "## Load Data"
   ]
  },
  {
   "cell_type": "code",
   "execution_count": 98,
   "id": "bb96f0ec-3525-4e79-9ad1-8e95c15a9cf2",
   "metadata": {
    "executionInfo": {
     "elapsed": 4342,
     "status": "ok",
     "timestamp": 1698238165197,
     "user": {
      "displayName": "Khoa Nguyen Tho Anh",
      "userId": "05392028195404260378"
     },
     "user_tz": -420
    },
    "id": "bb96f0ec-3525-4e79-9ad1-8e95c15a9cf2"
   },
   "outputs": [],
   "source": [
    "import torch\n",
    "from torch import nn\n",
    "import torch.optim as optim\n",
    "from torch.utils.data import Dataset, DataLoader\n",
    "import torchvision\n",
    "from torchvision.datasets import FashionMNIST\n",
    "import torchvision.transforms as transforms\n",
    "import numpy as np\n",
    "import random\n",
    "\n",
    "np.random.seed(0)\n",
    "random.seed(0)\n",
    "torch.manual_seed(0)\n",
    "device = torch.device('cuda:0' if torch.cuda.is_available() else 'cpu')"
   ]
  },
  {
   "cell_type": "code",
   "execution_count": 99,
   "id": "c73f1e96-b8ea-4b8f-b4f3-9b3f27b42acd",
   "metadata": {
    "colab": {
     "base_uri": "https://localhost:8080/"
    },
    "executionInfo": {
     "elapsed": 6185,
     "status": "ok",
     "timestamp": 1698238171377,
     "user": {
      "displayName": "Khoa Nguyen Tho Anh",
      "userId": "05392028195404260378"
     },
     "user_tz": -420
    },
    "id": "c73f1e96-b8ea-4b8f-b4f3-9b3f27b42acd",
    "outputId": "186ef4b9-cb36-4d94-9795-5ef79d712dc4"
   },
   "outputs": [],
   "source": [
    "batch_size = 512\n",
    "num_epochs = 15\n",
    "\n",
    "train_dataset = FashionMNIST('./data', train=True, download=True, transform=transforms.ToTensor())\n",
    "train_loader = DataLoader(train_dataset, batch_size, shuffle=True)"
   ]
  },
  {
   "cell_type": "code",
   "execution_count": 100,
   "id": "420c51e2",
   "metadata": {},
   "outputs": [],
   "source": [
    "import torch\n",
    "import torch.nn as nn\n",
    "\n",
    "class SwiGLU(nn.Module):\n",
    "    def __init__(self):\n",
    "        super(SwiGLU, self).__init__()\n",
    "        self.sigmoid = nn.Sigmoid()  # Khởi tạo hàm Sigmoid\n",
    "\n",
    "    def forward(self, x):\n",
    "        a, b = x.chunk(2, dim=1)  # Chia tensor x thành 2 phần dọc theo chiều dim=1 (một nửa cho mỗi phần)\n",
    "        return a * self.sigmoid(b)  # Kết hợp với hàm sigmoid cho phần b và nhân với a\n"
   ]
  },
  {
   "cell_type": "code",
   "execution_count": null,
   "id": "589bb0df",
   "metadata": {
    "executionInfo": {
     "elapsed": 1107,
     "status": "ok",
     "timestamp": 1698238197296,
     "user": {
      "displayName": "Khoa Nguyen Tho Anh",
      "userId": "05392028195404260378"
     },
     "user_tz": -420
    },
    "id": "589bb0df"
   },
   "outputs": [],
   "source": [
    "class MLP(nn.Module):\n",
    "    def __init__(self, input_dims, hidden_dims, output_dims):\n",
    "        super(MLP, self).__init__()\n",
    "        self.hidden_dims = hidden_dims\n",
    "        self.layer1 = nn.Linear(input_dims, hidden_dims*2)\n",
    "        self.layer2 = nn.Linear(hidden_dims, hidden_dims*2)\n",
    "        self.layer3 = nn.Linear(hidden_dims, hidden_dims*2)\n",
    "        self.output = nn.Linear(hidden_dims, output_dims)\n",
    "\n",
    "        for m in self.modules():\n",
    "            if isinstance(m, nn.Linear):\n",
    "                nn.init.kaiming_normal_(m.weight)\n",
    "                nn.init.constant_(m.bias, 0.0) \n",
    "\n",
    "\n",
    "    def forward(self, x):\n",
    "        x = nn.Flatten()(x)\n",
    "        x = self.layer1(x)\n",
    "        x = nn.BatchNorm1d(self.hidden_dims*2, device=device)(x)\n",
    "        x = SwiGLU()(x)\n",
    "        skip = x\n",
    "\n",
    "        x = self.layer2(x)\n",
    "        x = nn.BatchNorm1d(self.hidden_dims*2, device=device)(x)\n",
    "        x = SwiGLU()(x)\n",
    "        x = self.layer3(x)\n",
    "        x = nn.BatchNorm1d(self.hidden_dims*2, device=device)(x)\n",
    "        x = SwiGLU()(x)\n",
    "\n",
    "        x = skip + x\n",
    "        out = self.output(x)\n",
    "\n",
    "        return out"
   ]
  },
  {
   "cell_type": "code",
   "execution_count": 102,
   "id": "0db5beca-ee90-4d2e-bb2f-62b20da68cf3",
   "metadata": {
    "executionInfo": {
     "elapsed": 6465,
     "status": "ok",
     "timestamp": 1698238206561,
     "user": {
      "displayName": "Khoa Nguyen Tho Anh",
      "userId": "05392028195404260378"
     },
     "user_tz": -420
    },
    "id": "0db5beca-ee90-4d2e-bb2f-62b20da68cf3"
   },
   "outputs": [],
   "source": [
    "model = MLP(input_dims=784, hidden_dims=128, output_dims=10).to(device)\n",
    "criterion = nn.CrossEntropyLoss()\n",
    "optimizer = optim.Adam(model.parameters())"
   ]
  },
  {
   "cell_type": "code",
   "execution_count": 103,
   "id": "21211483-aeed-4beb-aeea-d1e58ae7baf9",
   "metadata": {
    "id": "21211483-aeed-4beb-aeea-d1e58ae7baf9",
    "outputId": "f889acbf-73b2-4500-c60f-79c7f00a69cb"
   },
   "outputs": [
    {
     "name": "stdout",
     "output_type": "stream",
     "text": [
      "Epoch 1/15, Train_Loss: 0.5146, Train_Acc: 0.8195\n",
      "Epoch 2/15, Train_Loss: 0.3418, Train_Acc: 0.8763\n",
      "Epoch 3/15, Train_Loss: 0.2937, Train_Acc: 0.8938\n",
      "Epoch 4/15, Train_Loss: 0.2665, Train_Acc: 0.9028\n",
      "Epoch 5/15, Train_Loss: 0.2472, Train_Acc: 0.9095\n",
      "Epoch 6/15, Train_Loss: 0.2230, Train_Acc: 0.9190\n",
      "Epoch 7/15, Train_Loss: 0.2062, Train_Acc: 0.9250\n",
      "Epoch 8/15, Train_Loss: 0.1938, Train_Acc: 0.9307\n",
      "Epoch 9/15, Train_Loss: 0.1836, Train_Acc: 0.9338\n",
      "Epoch 10/15, Train_Loss: 0.1659, Train_Acc: 0.9403\n",
      "Epoch 11/15, Train_Loss: 0.1570, Train_Acc: 0.9425\n",
      "Epoch 12/15, Train_Loss: 0.1443, Train_Acc: 0.9474\n",
      "Epoch 13/15, Train_Loss: 0.1348, Train_Acc: 0.9520\n",
      "Epoch 14/15, Train_Loss: 0.1247, Train_Acc: 0.9549\n",
      "Epoch 15/15, Train_Loss: 0.1205, Train_Acc: 0.9570\n"
     ]
    }
   ],
   "source": [
    "for epoch in range(num_epochs):    \n",
    "    t_loss = 0\n",
    "    t_acc = 0\n",
    "    cnt = 0\n",
    "    for X, y in train_loader:\n",
    "        X, y = X.to(device), y.to(device)\n",
    "        optimizer.zero_grad()\n",
    "        outputs = model(X)\n",
    "        loss = criterion(outputs, y)\n",
    "        loss.backward()\n",
    "        optimizer.step()\n",
    "        \n",
    "        t_loss += loss.item()\n",
    "        t_acc += (torch.argmax(outputs, 1) == y).sum().item()\n",
    "        cnt += len(y)\n",
    "\n",
    "    t_loss /= len(train_loader)\n",
    "    t_acc /= cnt\n",
    "    print(f\"Epoch {epoch+1}/{num_epochs}, Train_Loss: {t_loss:.4f}, Train_Acc: {t_acc:.4f}\")"
   ]
  },
  {
   "cell_type": "code",
   "execution_count": 104,
   "id": "97d56b8e",
   "metadata": {},
   "outputs": [
    {
     "name": "stdout",
     "output_type": "stream",
     "text": [
      "torch.Size([32, 10])\n"
     ]
    }
   ],
   "source": [
    "import torch\n",
    "import torch.nn as nn\n",
    "\n",
    "class SwiGLU(nn.Module):\n",
    "    def __init__(self):\n",
    "        super(SwiGLU, self).__init__()\n",
    "        self.sigmoid = nn.Sigmoid()\n",
    "\n",
    "    def forward(self, x):\n",
    "        a, b = x.chunk(2, dim=1)  # Chia x thành 2 phần dọc theo chiều dim=1\n",
    "        return a * self.sigmoid(b)  # Nhân phần a với sigmoid của phần b\n",
    "\n",
    "# Định nghĩa lớp MLP\n",
    "class MLP(nn.Module):\n",
    "    def __init__(self, input_dims, hidden_dims, output_dims):\n",
    "        super(MLP, self).__init__()\n",
    "        self.fc1 = nn.Linear(input_dims, hidden_dims*2)\n",
    "        self.fc2 = nn.Linear(hidden_dims, hidden_dims*2)\n",
    "        self.output = nn.Linear(hidden_dims, output_dims)\n",
    "\n",
    "    def forward(self, out):\n",
    "        out = nn.Flatten()(out)  # Làm phẳng đầu vào\n",
    "        out = self.fc1(out)\n",
    "        out = SwiGLU()(out)  # Sử dụng SwiGLU\n",
    "        out = self.fc2(out)\n",
    "        out = SwiGLU()(out)  # Sử dụng SwiGLU\n",
    "        out = self.output(out)\n",
    "        return out\n",
    "\n",
    "# Kiểm tra với một tensor giả\n",
    "input_dims = 64  # Kích thước đầu vào\n",
    "hidden_dims = 128  # Kích thước lớp ẩn\n",
    "output_dims = 10  # Kích thước đầu ra (ví dụ cho phân loại 10 lớp)\n",
    "\n",
    "# Khởi tạo mô hình\n",
    "model = MLP(input_dims, hidden_dims, output_dims)\n",
    "\n",
    "# Tạo một batch giả (ví dụ, 32 mẫu đầu vào, mỗi mẫu có 64 đặc trưng)\n",
    "X = torch.randn(32, input_dims)\n",
    "\n",
    "# Tiến hành kiểm tra mô hình với dữ liệu giả\n",
    "outputs = model(X)\n",
    "\n",
    "# In kết quả đầu ra\n",
    "print(outputs.shape)  # Kết quả đầu ra phải có shape (32, 10) vì output_dims là 10\n"
   ]
  }
 ],
 "metadata": {
  "accelerator": "GPU",
  "colab": {
   "provenance": []
  },
  "kernelspec": {
   "display_name": "ai4life",
   "language": "python",
   "name": "python3"
  },
  "language_info": {
   "codemirror_mode": {
    "name": "ipython",
    "version": 3
   },
   "file_extension": ".py",
   "mimetype": "text/x-python",
   "name": "python",
   "nbconvert_exporter": "python",
   "pygments_lexer": "ipython3",
   "version": "3.11.10"
  },
  "toc": {
   "base_numbering": 1,
   "nav_menu": {},
   "number_sections": true,
   "sideBar": true,
   "skip_h1_title": false,
   "title_cell": "Table of Contents",
   "title_sidebar": "Contents",
   "toc_cell": false,
   "toc_position": {},
   "toc_section_display": true,
   "toc_window_display": true
  }
 },
 "nbformat": 4,
 "nbformat_minor": 5
}
