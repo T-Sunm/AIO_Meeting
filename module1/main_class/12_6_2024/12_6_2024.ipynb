{
 "cells": [
  {
   "cell_type": "code",
   "execution_count": 1,
   "metadata": {},
   "outputs": [
    {
     "name": "stdout",
     "output_type": "stream",
     "text": [
      "eiu.edu.vn\n"
     ]
    }
   ],
   "source": [
    "str ='From aivnresearch@eiu.edu.vn Sat Jan 5 09:14:16 2023'\n",
    "\n",
    "# find(iterable, start)\n",
    "atpos = str.find('@')\n",
    "#  biết vị trí của @ rồi , tìm tiếp vị trí của khoảng trống xuất phát từ index của '@'\n",
    "sppos = str.find(' ',atpos)\n",
    "host = str[atpos + 1 : sppos]\n",
    "print(host)"
   ]
  },
  {
   "cell_type": "code",
   "execution_count": 2,
   "metadata": {},
   "outputs": [
    {
     "name": "stdout",
     "output_type": "stream",
     "text": [
      "[36, 25, 49, 1, 81, 4]\n"
     ]
    }
   ],
   "source": [
    "# list comprehension\n",
    "def square(data):\n",
    "    # sài mỗi if\n",
    "    # TH1     expression - iterable - condition(if)\n",
    "    \n",
    "    # sài if-else\n",
    "    # TH2     expression - condition(if-else) - iterible\n",
    "    result = [value*value for value in data]\n",
    "\n",
    "    return result\n",
    "\n",
    "data = [6, 5, 7, 1, 9, 2]\n",
    "print(square(data=data))"
   ]
  },
  {
   "cell_type": "code",
   "execution_count": 3,
   "metadata": {},
   "outputs": [
    {
     "name": "stdout",
     "output_type": "stream",
     "text": [
      "[1, 5, 0, 3, 0]\n"
     ]
    }
   ],
   "source": [
    "# relu func\n",
    "\n",
    "def relu(x):\n",
    "    result = 0\n",
    "    if x > 0:\n",
    "        result = x\n",
    "    \n",
    "    return result\n",
    "\n",
    "def reluForList(data):\n",
    "    return [relu(item) for item in data]\n",
    "\n",
    "data = [1, 5, -4, 3, -2]\n",
    "print(reluForList(data=data))"
   ]
  },
  {
   "cell_type": "code",
   "execution_count": 5,
   "metadata": {},
   "outputs": [
    {
     "name": "stdout",
     "output_type": "stream",
     "text": [
      "[1, 2, 5, 6, 7, 9]\n"
     ]
    }
   ],
   "source": [
    "data = [6, 5, 7, 1, 9, 2]\n",
    "result = []\n",
    "\n",
    "for _ in range(len(data)):\n",
    "    min_data = min(data)\n",
    "    result.append(min_data)\n",
    "    data.remove(min_data)\n",
    "print(result)"
   ]
  },
  {
   "cell_type": "code",
   "execution_count": null,
   "metadata": {},
   "outputs": [],
   "source": [
    "name_list = [\"Vinh\", \"An\", \"Tuan\"]\n",
    "age_list = [2000, 2001, 2002]\n",
    "address_list = [\"Ha Noi\", \"Ho Chi Minh\", \"Da Nang\"]"
   ]
  },
  {
   "cell_type": "code",
   "execution_count": null,
   "metadata": {},
   "outputs": [],
   "source": []
  }
 ],
 "metadata": {
  "kernelspec": {
   "display_name": "40daysPython_env",
   "language": "python",
   "name": "python3"
  },
  "language_info": {
   "codemirror_mode": {
    "name": "ipython",
    "version": 3
   },
   "file_extension": ".py",
   "mimetype": "text/x-python",
   "name": "python",
   "nbconvert_exporter": "python",
   "pygments_lexer": "ipython3",
   "version": "3.10.13"
  }
 },
 "nbformat": 4,
 "nbformat_minor": 2
}
