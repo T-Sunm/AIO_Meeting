{
 "cells": [
  {
   "cell_type": "code",
   "execution_count": 1,
   "metadata": {},
   "outputs": [
    {
     "name": "stdout",
     "output_type": "stream",
     "text": [
      "['Python', 'is', 'a', 'high-level,', 'interpreted,', 'general-purpose', 'programming', 'language.', 'Its', 'design', 'philosophy', 'emphasizes', 'code', 'readability', 'with', 'the', 'use', 'of', 'significant', 'indentation.', 'Python', 'is', 'dynamically-typed', 'and', 'garbage-', 'collected.', 'It', 'supports', 'multiple', 'programming', 'paradigms,', 'including', 'structured,', 'object-oriented', 'and', 'functional', 'programming.']\n"
     ]
    }
   ],
   "source": [
    "sample1= 'We are learning AI'\n",
    "sample2= 'AI is a CS topic'\n",
    "email = 'Python is a high-level, interpreted, general-purpose programming language. Its design philosophy emphasizes code readability with the use of significant indentation. Python is dynamically-typed and garbage- collected. It supports multiple programming paradigms, including structured, object-oriented and functional programming.'\n",
    "\n"
   ]
  },
  {
   "cell_type": "code",
   "execution_count": 15,
   "metadata": {},
   "outputs": [],
   "source": [
    "def standardlize(data = ''):\n",
    "    data = data.replace(\".\",'')\n",
    "    data = data.replace(\",\", '')\n",
    "    data = data.replace(\"-\", ' ')\n",
    "    data = data.lower()\n",
    "    data = data.split()\n",
    "    return data\n",
    "\n",
    "def vectorization(data):\n",
    "    data = set(data)\n",
    "    dict_vocab = {value:index for index, value in enumerate(data)}\n",
    "    return dict_vocab"
   ]
  },
  {
   "cell_type": "code",
   "execution_count": 16,
   "metadata": {},
   "outputs": [
    {
     "name": "stdout",
     "output_type": "stream",
     "text": [
      "{'structured': 0, 'interpreted': 1, 'collected': 2, 'paradigms': 3, 'a': 4, 'language': 5, 'oriented': 6, 'and': 7, 'its': 8, 'functional': 9, 'purpose': 10, 'with': 11, 'design': 12, 'indentation': 13, 'significant': 14, 'is': 15, 'multiple': 16, 'of': 17, 'python': 18, 'philosophy': 19, 'use': 20, 'high': 21, 'garbage': 22, 'emphasizes': 23, 'general': 24, 'level': 25, 'readability': 26, 'dynamically': 27, 'code': 28, 'the': 29, 'programming': 30, 'supports': 31, 'typed': 32, 'it': 33, 'object': 34, 'including': 35}\n"
     ]
    }
   ],
   "source": [
    "data = standardlize(data=email)\n",
    "dict_vocab = vectorization(data=data)\n",
    "print(dict_vocab)"
   ]
  },
  {
   "cell_type": "code",
   "execution_count": 20,
   "metadata": {},
   "outputs": [
    {
     "name": "stdout",
     "output_type": "stream",
     "text": [
      "None 15 4 None None "
     ]
    }
   ],
   "source": [
    "words = standardlize(sample2)\n",
    "for word in words:\n",
    "    print(dict_vocab.get(word), end=\" \")"
   ]
  }
 ],
 "metadata": {
  "kernelspec": {
   "display_name": "40daysPython_env",
   "language": "python",
   "name": "python3"
  },
  "language_info": {
   "codemirror_mode": {
    "name": "ipython",
    "version": 3
   },
   "file_extension": ".py",
   "mimetype": "text/x-python",
   "name": "python",
   "nbconvert_exporter": "python",
   "pygments_lexer": "ipython3",
   "version": "3.10.13"
  }
 },
 "nbformat": 4,
 "nbformat_minor": 2
}
