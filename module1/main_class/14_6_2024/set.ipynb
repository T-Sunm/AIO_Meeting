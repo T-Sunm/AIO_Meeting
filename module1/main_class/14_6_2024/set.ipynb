{
 "cells": [
  {
   "cell_type": "code",
   "execution_count": 2,
   "metadata": {},
   "outputs": [
    {
     "name": "stdout",
     "output_type": "stream",
     "text": [
      "<class 'set'>\n",
      "tiger\n",
      "cat\n",
      "dog\n",
      "{0, 1, 64, 4, 36, 9, 16, 49, 81, 25}\n"
     ]
    }
   ],
   "source": [
    "# sử dụng ngoặc nhọn để tạo set\n",
    "animals = {'cat', 'dog', 'tiger'}\n",
    "\n",
    "print(type(animals))\n",
    "for animal in animals:\n",
    "    print(animal)\n",
    "\n",
    "# set comprehension\n",
    "a_set = { i * i for i in range(10)}\n",
    "\n",
    "print(a_set)"
   ]
  },
  {
   "cell_type": "code",
   "execution_count": 3,
   "metadata": {},
   "outputs": [
    {
     "name": "stdout",
     "output_type": "stream",
     "text": [
      "Copy: {'tiger', 'cat', 'dog'}\n"
     ]
    }
   ],
   "source": [
    "# copy 1 set\n",
    "a_copy = animals.copy()\n",
    "print(\"Copy:\", a_copy)"
   ]
  },
  {
   "cell_type": "code",
   "execution_count": 14,
   "metadata": {},
   "outputs": [
    {
     "name": "stdout",
     "output_type": "stream",
     "text": [
      "{'Duck', 'cat', 'bear', 'dog', 'tiger', 'chicken'}\n",
      "{'duck', 'tiger', 'cat', 'dog'}\n",
      "{'Duck', 'cat', 'dog', 'tiger', 'chicken'}\n",
      "{'Duck', 'cat', 'dog', 'tiger', 'chicken'}\n"
     ]
    }
   ],
   "source": [
    "# Add an item\n",
    "animals.add(\"bear\")\n",
    "print(animals)\n",
    "\n",
    "# join two set\n",
    "set1 = {\"cat\", \"dog\"}\n",
    "set2 = {\"duck\", \"tiger\"}\n",
    "set3 = set1.union(set2)\n",
    "print(set3)\n",
    "\n",
    "# Insert a set to another set\n",
    "animals = {'cat', 'dog', 'tiger'}\n",
    "animals.update({\"chicken\", \"Duck\"})\n",
    "print(animals)\n",
    "\n",
    "# Not allow duplicate values\n",
    "animals.add(\"cat\")\n",
    "print(animals)\n",
    "animals.update({'cat', 'dog'})"
   ]
  },
  {
   "cell_type": "code",
   "execution_count": 2,
   "metadata": {},
   "outputs": [
    {
     "name": "stdout",
     "output_type": "stream",
     "text": [
      "{'cherry', 'banana'}\n",
      "{'cherry', 'banana'}\n"
     ]
    }
   ],
   "source": [
    "# hàm difference() return 1 set mới chứa các phần tử có ở set1 mà không có ở set2 (set1 \\ set2)\n",
    "# hàm difference_update nó như hàm trên , nhưng nó cập nhật thẳng vào set gốc và không return\n",
    "set1 = {\"apple\", \"banana\", \"cherry\"} \n",
    "set2= {\"pineapple\", \"apple\"}\n",
    "\n",
    "set3 = set1.difference(set2)\n",
    "print(set3)\n",
    "\n",
    "set1.difference_update(set2)\n",
    "print(set1)"
   ]
  },
  {
   "cell_type": "code",
   "execution_count": 4,
   "metadata": {},
   "outputs": [
    {
     "name": "stdout",
     "output_type": "stream",
     "text": [
      "{'pineapple', 'cherry', 'banana'}\n",
      "{'pineapple', 'cherry', 'banana'}\n"
     ]
    }
   ],
   "source": [
    "# lấy phần không chung của 2 phần tử \n",
    "set1 = {\"apple\", \"banana\", \"cherry\"}\n",
    "set2 = {\"pineapple\", \"apple\"}\n",
    "\n",
    "set3 = set1.symmetric_difference(set2)\n",
    "print(set3)\n",
    "\n",
    "set1.symmetric_difference_update(set2)\n",
    "print(set1)"
   ]
  },
  {
   "cell_type": "code",
   "execution_count": 8,
   "metadata": {},
   "outputs": [
    {
     "name": "stdout",
     "output_type": "stream",
     "text": [
      "{3}\n",
      "{1, 2, 3, 4, 5}\n",
      "{1, 2, 4, 5}\n",
      "{1, 2}\n"
     ]
    }
   ],
   "source": [
    "# lấy phần hợp &\n",
    "set1 = {1, 2, 3}\n",
    "set2 = {3, 4, 5}\n",
    "\n",
    "print(set1 & set2)\n",
    "\n",
    "# lấy phần giao\n",
    "print(set1 | set2)\n",
    "\n",
    "# lấy phần không chung của 2 tập hợp X0R (^)\n",
    "print(set1 ^ set2)\n",
    "\n",
    "# phép A\\B\n",
    "print(set1 - set2)"
   ]
  },
  {
   "cell_type": "code",
   "execution_count": 10,
   "metadata": {},
   "outputs": [
    {
     "name": "stdout",
     "output_type": "stream",
     "text": [
      "{'cat', 'tiger'}\n",
      "{'cat', 'tiger'}\n"
     ]
    }
   ],
   "source": [
    "# xóa 1 item\n",
    "# remove khi muốn xóa phần tử có trong tập hợp, nếu xóa phần tử không có thì bị báo lỗi\n",
    "animals = {\"cat\", \"dog\", \"tiger\"}\n",
    "animals.remove(\"dog\")\n",
    "print (animals)\n",
    "\n",
    "# discard xóa phần tử chưa chắc đã có trong set, nếu có thì xóa m, kh có thì kh xóa\n",
    "animals.discard('duck')\n",
    "print(animals)\n"
   ]
  },
  {
   "cell_type": "code",
   "execution_count": 15,
   "metadata": {},
   "outputs": [
    {
     "name": "stdout",
     "output_type": "stream",
     "text": [
      "[1, 2, 3, 4, 5]\n",
      "<class 'list'>\n",
      "(1, 2, 3, 4, 5)\n",
      "<class 'tuple'>\n",
      "{1, 2, 3, 4, 5}\n",
      "<class 'set'>\n",
      "{1, 2, 3, 4, 5}\n",
      "<class 'set'>\n"
     ]
    }
   ],
   "source": [
    "# convert set sang List \n",
    "aSet = {1, 2, 3, 4, 5}\n",
    "aList = list(aSet)\n",
    "print(aList)\n",
    "print(type(aList))\n",
    "\n",
    "# convert set sang tupple\n",
    "aTupple = tuple(aSet)\n",
    "print(aTupple)\n",
    "print(type(aTupple))\n",
    "\n",
    "# convert list sang set\n",
    "aList = [1, 2, 3, 4, 5]\n",
    "aSet = set(aList)\n",
    "print(aSet)\n",
    "print(type(aSet))\n",
    "\n",
    "#convert tupple sang set\n",
    "aTupple = (1, 2, 3, 4, 5)\n",
    "aSet = set(aTupple)\n",
    "print(aSet)\n",
    "print(type(aSet))"
   ]
  },
  {
   "cell_type": "code",
   "execution_count": null,
   "metadata": {},
   "outputs": [],
   "source": []
  }
 ],
 "metadata": {
  "kernelspec": {
   "display_name": "40daysPython_env",
   "language": "python",
   "name": "python3"
  },
  "language_info": {
   "codemirror_mode": {
    "name": "ipython",
    "version": 3
   },
   "file_extension": ".py",
   "mimetype": "text/x-python",
   "name": "python",
   "nbconvert_exporter": "python",
   "pygments_lexer": "ipython3",
   "version": "3.10.13"
  }
 },
 "nbformat": 4,
 "nbformat_minor": 2
}
