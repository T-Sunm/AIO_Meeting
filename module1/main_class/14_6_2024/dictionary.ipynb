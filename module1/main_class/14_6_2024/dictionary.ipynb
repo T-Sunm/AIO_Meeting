{
 "cells": [
  {
   "cell_type": "code",
   "execution_count": 1,
   "metadata": {},
   "outputs": [
    {
     "name": "stdout",
     "output_type": "stream",
     "text": [
      "{'learning_rate': 0.1, 'optimizer': 'Adam', 'metric': 'Accuracy'}\n",
      "<class 'dict'>\n"
     ]
    }
   ],
   "source": [
    "parameters = {'learning_rate': 0.1,\n",
    "              'optimizer': 'Adam',\n",
    "              'metric': 'Accuracy'}\n",
    "print(parameters)\n",
    "print(type(parameters))"
   ]
  },
  {
   "cell_type": "code",
   "execution_count": 2,
   "metadata": {},
   "outputs": [
    {
     "name": "stdout",
     "output_type": "stream",
     "text": [
      "{'age': 21, 'course': 121}\n"
     ]
    }
   ],
   "source": [
    "ddd = dict()\n",
    "ddd['age'] = 21\n",
    "ddd['course'] = 121\n",
    "print(ddd)"
   ]
  },
  {
   "cell_type": "code",
   "execution_count": 4,
   "metadata": {},
   "outputs": [
    {
     "name": "stdout",
     "output_type": "stream",
     "text": [
      "{'0': 0, '1': 1, '2': 2, '3': 3, '4': 4}\n"
     ]
    }
   ],
   "source": [
    "a_dict = {str(i):i for i in range(5)}\n",
    "print(a_dict)"
   ]
  },
  {
   "cell_type": "code",
   "execution_count": 5,
   "metadata": {},
   "outputs": [
    {
     "name": "stdout",
     "output_type": "stream",
     "text": [
      "{1: 4, 2: 5, 3: 6}\n",
      "<class 'dict'>\n"
     ]
    }
   ],
   "source": [
    "#zip in dict\n",
    "tuple1 = (1, 2, 3) # keys\n",
    "tuple2 = (4, 5, 6) # values\n",
    "\n",
    "a_dict = dict(zip(tuple1, tuple2))\n",
    "print(a_dict)\n",
    "print(type(a_dict))"
   ]
  },
  {
   "cell_type": "code",
   "execution_count": 6,
   "metadata": {},
   "outputs": [
    {
     "name": "stdout",
     "output_type": "stream",
     "text": [
      "{'learning_rate': 0.2, 'optimizer': 'Adam', 'metric': 'Accuracy'}\n"
     ]
    }
   ],
   "source": [
    "# update value\n",
    "parameters['learning_rate'] = 0.2\n",
    "print(parameters)"
   ]
  },
  {
   "cell_type": "code",
   "execution_count": 8,
   "metadata": {},
   "outputs": [
    {
     "name": "stdout",
     "output_type": "stream",
     "text": [
      "{'learning_rate': 0.2, 'optimizer': 'Adam', 'metric': 'Accuracy'}\n",
      "{'learning_rate': 0.3, 'optimizer': 'Adam', 'metric': 'Accuracy'}\n"
     ]
    }
   ],
   "source": [
    "# copy a dict\n",
    "a_copy = parameters.copy()\n",
    "a_copy['learning_rate'] = 0.3\n",
    "\n",
    "print(parameters)\n",
    "print(a_copy)\n",
    "\n",
    "# copy chỉ sao chép kiểu shallow\n",
    "# sài deepcopy để copy vào tạo ra vùng address mới"
   ]
  },
  {
   "cell_type": "code",
   "execution_count": 11,
   "metadata": {},
   "outputs": [
    {
     "name": "stdout",
     "output_type": "stream",
     "text": [
      "<class 'dict_keys'>\n",
      "learning_rate\n",
      "optimizer\n",
      "metric\n",
      "\n",
      "learning_rate\n",
      "optimizer\n",
      "metric\n"
     ]
    }
   ],
   "source": [
    "# lấy hết keys trong dict\n",
    "keys = parameters.keys()\n",
    "print(type(keys))\n",
    "for key in keys:\n",
    "    print(key)\n",
    "\n",
    "print(\"\")\n",
    "# khi for trên 1 dict thì nó mặc định sẽ lấy keys\n",
    "for key in parameters:\n",
    "    print(key)"
   ]
  },
  {
   "cell_type": "code",
   "execution_count": 12,
   "metadata": {},
   "outputs": [
    {
     "name": "stdout",
     "output_type": "stream",
     "text": [
      "0.2\n",
      "Adam\n",
      "Accuracy\n"
     ]
    }
   ],
   "source": [
    "# lấy hết values trong dict\n",
    "values = parameters.values()\n",
    "for value in values:\n",
    "    print(value)"
   ]
  },
  {
   "cell_type": "code",
   "execution_count": 13,
   "metadata": {},
   "outputs": [
    {
     "name": "stdout",
     "output_type": "stream",
     "text": [
      "learning_rate 0.2\n",
      "optimizer Adam\n",
      "metric Accuracy\n"
     ]
    }
   ],
   "source": [
    "# muốn truy xuất key và value cùng 1 lúc\n",
    "items = parameters.items()\n",
    "\n",
    "for key,value in items:\n",
    "    print(key, value)"
   ]
  },
  {
   "cell_type": "code",
   "execution_count": 16,
   "metadata": {},
   "outputs": [
    {
     "name": "stdout",
     "output_type": "stream",
     "text": [
      "0.2\n",
      "0.2\n"
     ]
    }
   ],
   "source": [
    "# lấy giá trị dựa vào key\n",
    "\n",
    "#  hàm get tìm bằng key , nếu tìm key kh tồn tại thì return null\n",
    "value = parameters.get('learning_rate')\n",
    "print(value)\n",
    "\n",
    "# còn truy xuất theo bth nếu tìm key kh tồn tại sẽ báo lỗi\n",
    "print(parameters['learning_rate'])"
   ]
  },
  {
   "cell_type": "code",
   "execution_count": 17,
   "metadata": {},
   "outputs": [
    {
     "name": "stdout",
     "output_type": "stream",
     "text": [
      "{'optimizer': 'Adam', 'metric': 'Accuracy'}\n"
     ]
    }
   ],
   "source": [
    "parameters = {'learning_rate': 0.1,\n",
    "              'optimizer': 'Adam',\n",
    "              'metric': 'Accuracy'}\n",
    "\n",
    "# lấy giá trị và xóa \n",
    "value = parameters.pop('learning_rate')\n",
    "print(parameters)\n",
    "\n",
    "# lấy giá trị cuối cùng và xóa : popitem()"
   ]
  },
  {
   "cell_type": "code",
   "execution_count": 19,
   "metadata": {},
   "outputs": [
    {
     "name": "stdout",
     "output_type": "stream",
     "text": [
      "{'banana': 2, 'apple': 0}\n",
      "{'banana': 2, 'apple': 0}\n"
     ]
    }
   ],
   "source": [
    "# hàm setDefault check xem key tồn tại chưa , tồn tại rồi thì khỏi thêm còn chưa thì thêm vào\n",
    "\n",
    "fruits = {'banana': 2}\n",
    "fruits.setdefault('apple', 0)\n",
    "print(fruits)\n",
    "\n",
    "# TH setdefault key đã có trong dict\n",
    "fruits.setdefault('apple', 4)\n",
    "print(fruits)"
   ]
  },
  {
   "cell_type": "code",
   "execution_count": 21,
   "metadata": {},
   "outputs": [
    {
     "name": "stdout",
     "output_type": "stream",
     "text": [
      "{'banana': 2, 'apple': 4, 'rice': 3, 'corn': 7}\n"
     ]
    }
   ],
   "source": [
    "# merge 2 dictionary (**)\n",
    "fruits = {'banana': 2, 'apple': 4}\n",
    "cereal = {'rice': 3, 'corn': 7}\n",
    "result = {**fruits, **cereal}\n",
    "print (result)\n"
   ]
  },
  {
   "cell_type": "code",
   "execution_count": 22,
   "metadata": {},
   "outputs": [
    {
     "name": "stdout",
     "output_type": "stream",
     "text": [
      "True\n"
     ]
    }
   ],
   "source": [
    "# chek if a key exist\n",
    "print('apple' in fruits)\n"
   ]
  },
  {
   "cell_type": "code",
   "execution_count": 25,
   "metadata": {},
   "outputs": [
    {
     "name": "stdout",
     "output_type": "stream",
     "text": [
      "{'banana': 2}\n"
     ]
    }
   ],
   "source": [
    "# remove empty items\n",
    "fruits = {'banana': 2, 'apple': None}\n",
    "dict1 = {key:value for key,value in fruits.items() if value is not None}\n",
    "print(dict1)"
   ]
  }
 ],
 "metadata": {
  "kernelspec": {
   "display_name": "40daysPython_env",
   "language": "python",
   "name": "python3"
  },
  "language_info": {
   "codemirror_mode": {
    "name": "ipython",
    "version": 3
   },
   "file_extension": ".py",
   "mimetype": "text/x-python",
   "name": "python",
   "nbconvert_exporter": "python",
   "pygments_lexer": "ipython3",
   "version": "3.10.13"
  }
 },
 "nbformat": 4,
 "nbformat_minor": 2
}
