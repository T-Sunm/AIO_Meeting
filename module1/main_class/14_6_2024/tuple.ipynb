{
 "cells": [
  {
   "cell_type": "code",
   "execution_count": 3,
   "metadata": {},
   "outputs": [
    {
     "name": "stdout",
     "output_type": "stream",
     "text": [
      "<class 'int'>\n",
      "<class 'tuple'>\n"
     ]
    }
   ],
   "source": [
    "# tuple nếu có 1 phần tử thì phải thêm dấu phẩy , nếu kh thì nó tưởng là số\n",
    "var2 = (1)\n",
    "var3 = (1,)\n",
    "print(type(var2))\n",
    "print(type(var3))"
   ]
  },
  {
   "cell_type": "code",
   "execution_count": 4,
   "metadata": {},
   "outputs": [
    {
     "name": "stdout",
     "output_type": "stream",
     "text": [
      "(2, 1, 0)\n",
      "(1, 1, 1, 1, 1)\n"
     ]
    }
   ],
   "source": [
    "#toán tử trong tuple\n",
    "t1 = (1, 0)\n",
    "\n",
    "# thêm phần tử trong tuple\n",
    "t1 = (2,) + t1\n",
    "print(t1)\n",
    "\n",
    "# toán tử nhân\n",
    "t = (1,) * 5\n",
    "print(t)"
   ]
  },
  {
   "cell_type": "code",
   "execution_count": 8,
   "metadata": {},
   "outputs": [
    {
     "name": "stdout",
     "output_type": "stream",
     "text": [
      "2\n",
      "1\n"
     ]
    }
   ],
   "source": [
    "# đếm số lần xuất hiện của giá trị \n",
    "t = (1, 2, 3, 4, 1)\n",
    "count = t.count(1)\n",
    "print(count)\n",
    "\n",
    "# tìm index của phần tử\n",
    "index = t.index(2)\n",
    "print(index)"
   ]
  },
  {
   "cell_type": "code",
   "execution_count": 11,
   "metadata": {},
   "outputs": [
    {
     "name": "stdout",
     "output_type": "stream",
     "text": [
      "5\n",
      "1\n",
      "4\n",
      "11\n",
      "[1, 1, 2, 3, 4]\n"
     ]
    }
   ],
   "source": [
    "# chiều dài của tuple\n",
    "print(len(t))\n",
    "\n",
    "# min, max, sum của tuple\n",
    "print(min(t))\n",
    "print(max(t))\n",
    "print(sum(t))\n",
    "\n",
    "# sắp xếp trong tuple --> sorted sẽ tự động chuyển tuple về list\n",
    "t_s = sorted(t)\n",
    "print(t_s)"
   ]
  },
  {
   "cell_type": "code",
   "execution_count": 16,
   "metadata": {},
   "outputs": [
    {
     "name": "stdout",
     "output_type": "stream",
     "text": [
      "(1, 2, 3, 4, 5)\n",
      "('a', 'b', 'c', 'd', 'e')\n",
      "1 a\n",
      "2 b\n",
      "3 c\n",
      "4 d\n",
      "5 e\n"
     ]
    }
   ],
   "source": [
    "# zip trong tuple\n",
    "t1 = (1, 2, 3, 4, 5)\n",
    "t2 = ('a', 'b', 'c', 'd', 'e')\n",
    "\n",
    "print(t1)\n",
    "print(t2)\n",
    "t3 = zip(t1, t2)\n",
    "\n",
    "for t1, t2 in t3:\n",
    "    print(t1, t2)"
   ]
  },
  {
   "cell_type": "code",
   "execution_count": 12,
   "metadata": {},
   "outputs": [
    {
     "name": "stdout",
     "output_type": "stream",
     "text": [
      "3 2\n"
     ]
    }
   ],
   "source": [
    "#swap 2 biến\n",
    "def swap(v1, v2):\n",
    "    (v1, v2) = (v2, v1)\n",
    "    return (v1, v2)\n",
    "\n",
    "v1 = 2\n",
    "v2 = 3\n",
    "\n",
    "(v1, v2) = swap(v1, v2)\n",
    "print(v1, v2)"
   ]
  },
  {
   "cell_type": "code",
   "execution_count": 14,
   "metadata": {},
   "outputs": [
    {
     "name": "stdout",
     "output_type": "stream",
     "text": [
      "(3, 4, 5, 6, 7)\n",
      "<class 'tuple'>\n",
      "[3, 4, 5, 6, 7]\n",
      "<class 'list'>\n"
     ]
    }
   ],
   "source": [
    "# convert from list to tuple\n",
    "aList = [3, 4, 5, 6, 7]\n",
    "aTuple = tuple(aList)\n",
    "print(aTuple)\n",
    "print(type(aTuple))\n",
    "\n",
    "# convert from tuple to list\n",
    "aList = list(aTuple)\n",
    "print(aList)\n",
    "print(type(aList))"
   ]
  },
  {
   "cell_type": "code",
   "execution_count": null,
   "metadata": {},
   "outputs": [],
   "source": []
  }
 ],
 "metadata": {
  "kernelspec": {
   "display_name": "40daysPython_env",
   "language": "python",
   "name": "python3"
  },
  "language_info": {
   "codemirror_mode": {
    "name": "ipython",
    "version": 3
   },
   "file_extension": ".py",
   "mimetype": "text/x-python",
   "name": "python",
   "nbconvert_exporter": "python",
   "pygments_lexer": "ipython3",
   "version": "3.10.13"
  }
 },
 "nbformat": 4,
 "nbformat_minor": 2
}
