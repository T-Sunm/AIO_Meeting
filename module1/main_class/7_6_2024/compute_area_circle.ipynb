{
 "cells": [
  {
   "cell_type": "code",
   "execution_count": 8,
   "metadata": {},
   "outputs": [
    {
     "name": "stdout",
     "output_type": "stream",
     "text": [
      "3.1404170317790423\n"
     ]
    }
   ],
   "source": [
    "import math\n",
    "def compute_y(x):\n",
    "    return math.sqrt(1 - x*x)\n",
    "\n",
    "# 1 điểm delta_x là 0.01 , vậy 1 đường thẳng là 2 thì có 2/delta_x điểm\n",
    "delta_x = 0.01\n",
    "n = int(2 / delta_x)\n",
    "acreage = 0.0\n",
    "x = -1.0\n",
    "for _ in range(n):\n",
    "    acreage += (compute_y(x)*delta_x)\n",
    "    x += delta_x\n",
    "\n",
    "# mình chỉ tính nửa vòng tròn trên thôi , rồi x2 lên\n",
    "print(2*acreage)"
   ]
  }
 ],
 "metadata": {
  "kernelspec": {
   "display_name": "40daysPython_env",
   "language": "python",
   "name": "python3"
  },
  "language_info": {
   "codemirror_mode": {
    "name": "ipython",
    "version": 3
   },
   "file_extension": ".py",
   "mimetype": "text/x-python",
   "name": "python",
   "nbconvert_exporter": "python",
   "pygments_lexer": "ipython3",
   "version": "3.10.13"
  }
 },
 "nbformat": 4,
 "nbformat_minor": 2
}
