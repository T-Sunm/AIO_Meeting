{
 "cells": [
  {
   "cell_type": "code",
   "execution_count": 4,
   "metadata": {},
   "outputs": [
    {
     "name": "stdout",
     "output_type": "stream",
     "text": [
      "3.140592653839794\n"
     ]
    }
   ],
   "source": [
    "#Gregory-Leibniz Series\n",
    "n = 1000\n",
    "pi = 0\n",
    "\n",
    "for i in range(1, n+1):\n",
    "    numerator = (-1)**(i+1)\n",
    "    denominator = 2*i - 1\n",
    "    pi += numerator / denominator\n",
    "\n",
    "pi = pi*4\n",
    "print(pi)"
   ]
  },
  {
   "cell_type": "code",
   "execution_count": 6,
   "metadata": {},
   "outputs": [
    {
     "name": "stdout",
     "output_type": "stream",
     "text": [
      "3.1415926533405423\n"
     ]
    }
   ],
   "source": [
    "# Nilakantha Series\n",
    "n = 1000\n",
    "pi = 0\n",
    "\n",
    "for i in range(0, n):\n",
    "    numerator = (-1) ** i\n",
    "    denominator = (2 * i + 2) * (2 * i + 3) *( 2 * i + 4)\n",
    "    pi += numerator / denominator\n",
    "\n",
    "pi = 3 + 4 * pi\n",
    "print(pi)"
   ]
  },
  {
   "cell_type": "code",
   "execution_count": 8,
   "metadata": {},
   "outputs": [
    {
     "name": "stdout",
     "output_type": "stream",
     "text": [
      "2.7182818284590455\n"
     ]
    }
   ],
   "source": [
    "# Euler's number\n",
    "\n",
    "def factorial(n):\n",
    "    if n == 0:\n",
    "        return 1\n",
    "    else:\n",
    "        return n * factorial(n-1)\n",
    "\n",
    "def e_estimate(n):\n",
    "    e_number = 0\n",
    "    for i in range(1000):\n",
    "        e_number += 1 / factorial(i)\n",
    "    \n",
    "    return e_number\n",
    "\n",
    "print(e_estimate(10))\n",
    "\n"
   ]
  },
  {
   "cell_type": "code",
   "execution_count": 11,
   "metadata": {},
   "outputs": [
    {
     "name": "stdout",
     "output_type": "stream",
     "text": [
      "3.0\n",
      "1.414213562373095\n"
     ]
    }
   ],
   "source": [
    "# Quadratic Root\n",
    "\n",
    "def compute_quadratic_root(N, nums_loop):\n",
    "    x_i = N/2\n",
    "    for i in range(nums_loop):\n",
    "        x_i = (x_i + (N / x_i)) / 2\n",
    "    \n",
    "    return x_i\n",
    "\n",
    "print(compute_quadratic_root(9, 10))\n",
    "print(compute_quadratic_root(2, 10))"
   ]
  },
  {
   "cell_type": "code",
   "execution_count": 12,
   "metadata": {},
   "outputs": [
    {
     "name": "stdout",
     "output_type": "stream",
     "text": [
      "4.999999992505471\n"
     ]
    }
   ],
   "source": [
    "import math\n",
    "# Programming as a Tool \n",
    "def compute_x(n,a = 5):\n",
    "    x = math.sqrt(5)\n",
    "    for _ in range(n-1):\n",
    "        x = math.sqrt(a * x)\n",
    "    \n",
    "    return x\n",
    "\n",
    "print(compute_x(n=30, a=5))"
   ]
  }
 ],
 "metadata": {
  "kernelspec": {
   "display_name": "Python 3",
   "language": "python",
   "name": "python3"
  },
  "language_info": {
   "codemirror_mode": {
    "name": "ipython",
    "version": 3
   },
   "file_extension": ".py",
   "mimetype": "text/x-python",
   "name": "python",
   "nbconvert_exporter": "python",
   "pygments_lexer": "ipython3",
   "version": "3.10.13"
  }
 },
 "nbformat": 4,
 "nbformat_minor": 2
}
