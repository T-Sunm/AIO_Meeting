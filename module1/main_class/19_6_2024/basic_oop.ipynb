{
 "cells": [
  {
   "cell_type": "code",
   "execution_count": 1,
   "metadata": {},
   "outputs": [],
   "source": [
    "# Create a class\n",
    "\n",
    "class Rectangle:\n",
    "    def __init__(self, my_width, my_height) -> None:\n",
    "        self.width = my_width\n",
    "        self.height = my_height\n",
    "    def calculate_area(self):\n",
    "        self.area = self.width * self.height\n",
    "        return self.area\n",
    "    def calculate_perimeter(self):\n",
    "        return (self.width + self.height) * 2\n",
    "    "
   ]
  },
  {
   "cell_type": "code",
   "execution_count": 2,
   "metadata": {},
   "outputs": [
    {
     "name": "stdout",
     "output_type": "stream",
     "text": [
      "4\n",
      "7\n",
      "28\n",
      "22\n"
     ]
    }
   ],
   "source": [
    "# Create a object\n",
    "my_rec = Rectangle(4, 7)\n",
    "\n",
    "# Gọi attributes của object\n",
    "print(my_rec.width)\n",
    "print(my_rec.height)\n",
    "\n",
    "# Gọi method của object\n",
    "print(my_rec.calculate_area())\n",
    "print(my_rec.calculate_perimeter())"
   ]
  },
  {
   "cell_type": "code",
   "execution_count": 8,
   "metadata": {},
   "outputs": [
    {
     "name": "stdout",
     "output_type": "stream",
     "text": [
      "10\n",
      "MyClass with value 10\n",
      "4\n",
      "15\n"
     ]
    }
   ],
   "source": [
    "# Các phương thức đặc biệt\n",
    "from typing import Any\n",
    "\n",
    "\n",
    "class MyClass:\n",
    "    # __init__ gọi tự động mỗi khi obj mới của class được tạo\n",
    "    # self là biến đặc biệt làm đối số đầu tiên\n",
    "    def __init__(self, value) -> None:\n",
    "        self.value = value\n",
    "    \n",
    "    # định nghĩa chuỗi đại diện của obj, thường được sử dụng bởi hàm print\n",
    "    def __str__(self) -> str:\n",
    "        return f\"MyClass with value {self.value}\"\n",
    "\n",
    "obj = MyClass(10)\n",
    "print(obj.value)\n",
    "print(obj)\n",
    "\n",
    "class MyCollection:\n",
    "    def __init__(self,items) -> None:\n",
    "        self.items = items\n",
    "    \n",
    "    def __len__(self):\n",
    "        return len(self.items)\n",
    "\n",
    "collection = MyCollection([1, 2, 3, 4])\n",
    "print(len(collection))\n",
    "\n",
    "class Adder:\n",
    "    def __init__(self, value) -> None:\n",
    "        self.value = value\n",
    "    # hàm call cho phép gọi obj như 1 hàm\n",
    "    def __call__(self, x) -> Any:\n",
    "        return self.value + x \n",
    "\n",
    "add_five = Adder(5)\n",
    "print(add_five(10))"
   ]
  },
  {
   "cell_type": "code",
   "execution_count": 10,
   "metadata": {},
   "outputs": [
    {
     "name": "stdout",
     "output_type": "stream",
     "text": [
      "Name: Minhdeptrai - Birth: 26/02/2004\n"
     ]
    }
   ],
   "source": [
    "# Thuộc tính của class có thể là bất kỳ đối tượng nào , bao gồm cả obj của 1 class được khai báo trước đó\n",
    "\n",
    "from typing import Any\n",
    "\n",
    "\n",
    "class Date:\n",
    "    def __init__(self, day, month, year) -> None:\n",
    "        self.day = day\n",
    "        self.month = month\n",
    "        self.year = year\n",
    "    def __call__(self) -> Any:\n",
    "        return f\"{self.day:02d}/{self.month:02d}/{self.year}\"\n",
    "\n",
    "class Person:\n",
    "    def __init__(self, name, birth) -> None:\n",
    "        self.name = name\n",
    "        self.birth = birth\n",
    "    \n",
    "    def info(self):\n",
    "        print(f\"Name: {self.name} - Birth: {self.birth()}\")\n",
    "\n",
    "name = \"Minhdeptrai\"\n",
    "birth = Date(26, 2, 2004)\n",
    "physicist = Person(name, birth)\n",
    "physicist.info()"
   ]
  },
  {
   "cell_type": "code",
   "execution_count": 13,
   "metadata": {},
   "outputs": [
    {
     "name": "stdout",
     "output_type": "stream",
     "text": [
      "Parent Name: Alice\n",
      "Child Age: 20\n"
     ]
    }
   ],
   "source": [
    "class Parent:\n",
    "    def __init__(self, name) -> None:\n",
    "        self.name = name\n",
    "    \n",
    "    def display(self):\n",
    "        print(f\"Parent Name: {self.name}\")\n",
    "\n",
    "class Child(Parent):\n",
    "    def __init__(self, name, age) -> None:\n",
    "        # gọi hàm khởi tạo của parent để thừa hưởng thuộc tính của parent\n",
    "        super().__init__(name)\n",
    "        self.age = age\n",
    "\n",
    "    def display(self):\n",
    "        #  gọi hàm display của lớp cha\n",
    "        super().display()\n",
    "        print(f\"Child Age: {self.age}\")\n",
    "\n",
    "# Tạo obj của lớp child \n",
    "child = Child(\"Alice\", 20)\n",
    "child.display()"
   ]
  },
  {
   "cell_type": "code",
   "execution_count": 21,
   "metadata": {},
   "outputs": [
    {
     "name": "stdout",
     "output_type": "stream",
     "text": [
      "20\n"
     ]
    }
   ],
   "source": [
    "# Access Modifiers\n",
    "# mặc định tất cả atrributes và methods đều là public\n",
    "\n",
    "# protected members chỉ nên được truy cập trong class và các lớp con của nó , sử dụng 1 dấu gạch dưới \"_\" trước tên atrribute or method\n",
    "\n",
    "class MyClass:\n",
    "    def __init__(self, value) -> None:\n",
    "        self._value = value\n",
    "    def _display(self):\n",
    "        print(self._value)\n",
    "\n",
    "class SubClass(MyClass):\n",
    "    def show(self):\n",
    "        self._display()\n",
    "obj = SubClass(20)\n",
    "obj.show()\n",
    "\n"
   ]
  },
  {
   "cell_type": "code",
   "execution_count": 24,
   "metadata": {},
   "outputs": [
    {
     "name": "stdout",
     "output_type": "stream",
     "text": [
      "30\n"
     ]
    }
   ],
   "source": [
    "# private : chỉ có thể được truy cập bên trong class nơi chúng được định nghĩa. ta sử dụng hai dấu gạch dưới \"__\" trước tên của thuộc tính hoặc phương thức.\n",
    "\n",
    "class MyClass:\n",
    "    def __init__(self, value) -> None:\n",
    "        self.__value = value\n",
    "    def __display(self): # private method\n",
    "        print(self.__value)\n",
    "    def public_method(self):\n",
    "        self.__display() # truy cập phương thức riêng tư trong class\n",
    "\n",
    "obj = MyClass(30)\n",
    "obj.public_method()\n",
    "\n",
    "# print (obj.__value ) # Lỗi: AttributeError"
   ]
  },
  {
   "cell_type": "code",
   "execution_count": 25,
   "metadata": {},
   "outputs": [
    {
     "name": "stdout",
     "output_type": "stream",
     "text": [
      "Display from Child\n"
     ]
    }
   ],
   "source": [
    "#2.3 Override : Ghi đè phương thức cho phép bạn thay đổi hoặc mở rộng hành vi của phương thức kế thừa từ lớp cha trong lớp con.\n",
    "# Để ghi đè một phương thức trong lớp con, bạn chỉ cần định nghĩa lại phương thức đó với cùng tên và cùng tham số trong lớp con.\n",
    "\n",
    "class Parent:\n",
    "    def display(self):\n",
    "        print(\"Display from parent\")\n",
    "class Child(Parent):\n",
    "    def display(self):\n",
    "        print(\"Display from Child\")\n",
    "\n",
    "child = Child()\n",
    "child.display()"
   ]
  },
  {
   "cell_type": "code",
   "execution_count": 2,
   "metadata": {},
   "outputs": [
    {
     "name": "stdout",
     "output_type": "stream",
     "text": [
      "Base1 Initialized\n",
      "Base2 Initialized\n",
      "Delivered Initialized\n",
      "Base1 Base2\n"
     ]
    }
   ],
   "source": [
    "# Multiple Inheritance(Kế thừa đa kế) : 1 lớp con kế thừa từ nhiều lớp cha\n",
    "class Base1:\n",
    "    def __init__(self) -> None:\n",
    "        self.str1 = \"Base1\"\n",
    "        print(\"Base1 Initialized\")\n",
    "class Base2:\n",
    "    def __init__(self) -> None:\n",
    "        self.str2 = \"Base2\"\n",
    "        print(\"Base2 Initialized\")\n",
    "class Derived(Base1, Base2):\n",
    "    def __init__(self) -> None:\n",
    "        Base1.__init__(self)\n",
    "        Base2.__init__(self)\n",
    "        print(\"Delivered Initialized\")\n",
    "    \n",
    "    def display(self):\n",
    "        print(self.str1, self.str2)\n",
    "\n",
    "obj = Derived()\n",
    "obj.display()"
   ]
  },
  {
   "cell_type": "code",
   "execution_count": 6,
   "metadata": {},
   "outputs": [
    {
     "name": "stdout",
     "output_type": "stream",
     "text": [
      "GrandParent Name: Tran quang m\n",
      "Parent Name: Tran quang h\n",
      "Child Name: Tran quang g\n"
     ]
    }
   ],
   "source": [
    "# Multilevel Inheritance (Kế thừa đa cấp):là khi một lớp kế thừa từ lớp cha, và lớp cha đó lại kế thừa từ một lớp khác.\n",
    "\n",
    "class GrandParent:\n",
    "    def __init__(self, grandparent_name) -> None:\n",
    "        self.grandparent_name = grandparent_name\n",
    "    \n",
    "    def display_grandparent(self):\n",
    "        print(f\"GrandParent Name: {self.grandparent_name}\")\n",
    "\n",
    "class Parent(GrandParent):\n",
    "    def __init__(self, grandparent_name ,parent_name) -> None:\n",
    "        super().__init__(grandparent_name)\n",
    "        self.parent_name = parent_name\n",
    "    \n",
    "    def display_parent(self):\n",
    "        super().display_grandparent()\n",
    "        print(f\"Parent Name: {self.parent_name}\")\n",
    "\n",
    "class Child(Parent):\n",
    "    def __init__(self, grandparent_name, parent_name, child_name) -> None:\n",
    "        super().__init__(grandparent_name, parent_name)\n",
    "        self.child_name = child_name\n",
    "    \n",
    "    def display_child(self):\n",
    "        super().display_parent()\n",
    "        print(f\"Child Name: {self.child_name}\")\n",
    "\n",
    "\n",
    "child = Child(\"Tran quang m\", \"Tran quang h\", \"Tran quang g\")\n",
    "child.display_child()"
   ]
  },
  {
   "cell_type": "code",
   "execution_count": 8,
   "metadata": {},
   "outputs": [],
   "source": [
    "# Hierarchical Inheritance(kế thừa phân cấp): là khi một lớp cha có nhiều lớp con kế thừa từ nó.\n",
    "\n",
    "class Parent:\n",
    "    def __init__(self, name) -> None:\n",
    "        self.name = name\n",
    "\n",
    "    def display(self):\n",
    "        print(f\" Parent Name : {self.name}\")"
   ]
  },
  {
   "cell_type": "code",
   "execution_count": 8,
   "metadata": {},
   "outputs": [
    {
     "name": "stdout",
     "output_type": "stream",
     "text": [
      "25\n"
     ]
    }
   ],
   "source": [
    "from abc import ABC,abstractmethod\n",
    "\n",
    "# class abstract kh dùng để tạo obj\n",
    "class Shape(ABC):\n",
    "    @abstractmethod\n",
    "    def compute_area(self):\n",
    "        pass\n",
    "\n",
    "class Square(Shape):\n",
    "    def __init__(self,side) -> None:\n",
    "        super().__init__()\n",
    "        self.__side = side\n",
    "\n",
    "    # nếu có có absmethod của parent thì sẽ lỗi:\n",
    "    # Can't instantiate abstract class Square with abstract method compute_area\n",
    "    # khi kế thừa thì phải xử lý chứ kh xài pass ở lớp con\n",
    "    def compute_area(self):\n",
    "        return self.__side ** 2\n",
    "\n",
    "s = Square(5)\n",
    "print(s.compute_area())"
   ]
  },
  {
   "cell_type": "markdown",
   "metadata": {},
   "source": [
    "## Studen Management"
   ]
  },
  {
   "cell_type": "code",
   "execution_count": 2,
   "metadata": {},
   "outputs": [
    {
     "name": "stdout",
     "output_type": "stream",
     "text": [
      "Các sách hiện có :\n",
      "- Mã sách: 1, Tiêu đề: Sách Toán, Tác giả: Minh đẹp traii, Năm xuất bản: 2024, Số Trang: 25, Phụ Thu: 2000\n",
      "- Mã sách: 1, Tiêu đề: Sách Ngữ Văn, Tác giả: Minh đẹp trai, Năm xuất bản: 2024, Số Trang: 25, Phụ Thu: 2000\n",
      "- Mã sách: 1, Tiêu đề: Cây cam ngọt của tôi, Tác giả: Minh đẹp trai, Năm xuất bản: 2024, Số Trang: 50, Thể loại: Trinh thams, Rating: 5\n",
      "Tong gia sach la : 40250.0\n"
     ]
    }
   ],
   "source": [
    "from abc import ABC, abstractmethod\n",
    "\n",
    "class Sach(ABC):\n",
    "    def __init__(self, MaSach, TieuDe, TacGia, NamXuatBan) -> None:\n",
    "        self.__MaSach = MaSach\n",
    "        self.__TieuDe = TieuDe\n",
    "        self.__TacGia = TacGia\n",
    "        self.__NamXuatBan = NamXuatBan\n",
    "\n",
    "    @property\n",
    "    def MaSach(self):\n",
    "        return self.__MaSach\n",
    "    \n",
    "    @MaSach.setter\n",
    "    def MaSach(self, MaSach):\n",
    "        self.__MaSach = MaSach\n",
    "    \n",
    "    @property\n",
    "    def TieuDe(self):\n",
    "        return self.__TieuDe\n",
    "\n",
    "    @TieuDe.setter\n",
    "    def TieuDe(self, TieuDe):\n",
    "        self.__TieuDe = TieuDe\n",
    "    \n",
    "    @property\n",
    "    def TacGia(self):\n",
    "        return self.__TacGia\n",
    "\n",
    "    @TacGia.setter\n",
    "    def TacGia(self, TacGia):\n",
    "        self.__TacGia = TacGia\n",
    "\n",
    "    @property\n",
    "    def NamXuatBan(self):\n",
    "        return self.__NamXuatBan\n",
    "\n",
    "    @NamXuatBan.setter\n",
    "    def NamXuatBan(self, NamXuatBan):\n",
    "        self.__NamXuatBan = NamXuatBan\n",
    "\n",
    "    \n",
    "    @abstractmethod\n",
    "    def thanhTien(self):\n",
    "        pass\n",
    "\n",
    "    @abstractmethod\n",
    "    def __str__(self) -> str:\n",
    "       pass\n",
    "    \n",
    "\n",
    "class SachGiaoKhoa(Sach):\n",
    "    def __init__(self, MaSach, TieuDe, TacGia, NamXuatBan, SoTrang, PhuThu) -> None:\n",
    "        super().__init__(MaSach, TieuDe, TacGia, NamXuatBan)\n",
    "        self.__SoTrang = SoTrang\n",
    "        self.__PhuThu = PhuThu\n",
    "    \n",
    "    @property\n",
    "    def SoTrang(self):\n",
    "        return self.__SoTrang\n",
    "    \n",
    "    @SoTrang.setter\n",
    "    def SoTrang(self, SoTrang):\n",
    "        self.__SoTrang = SoTrang\n",
    "    \n",
    "    @property\n",
    "    def PhuThu(self):\n",
    "        return self.__PhuThu\n",
    "    \n",
    "    @PhuThu.setter\n",
    "    def PhuThu(self, PhuThu):\n",
    "        self.__PhuThu = PhuThu\n",
    "\n",
    "\n",
    "    def thanhTien(self):\n",
    "        return (self.__SoTrang * 200) + self.__PhuThu\n",
    "    \n",
    "    def __str__(self) -> str:\n",
    "        return  f\"Mã sách: {self.MaSach}, Tiêu đề: {self.TieuDe}, Tác giả: {self.TacGia}, Năm xuất bản: {self.NamXuatBan}, Số Trang: {self.SoTrang}, Phụ Thu: {self.PhuThu}\"\n",
    "\n",
    "class SachTieuThuyet(Sach):\n",
    "    def __init__(self, MaSach, TieuDe, TacGia, NamXuatBan, SoTrang, TheLoai, Rating) -> None:\n",
    "        super().__init__(MaSach, TieuDe, TacGia, NamXuatBan)\n",
    "        self.__SoTrang = SoTrang\n",
    "        self.__TheLoai = TheLoai\n",
    "        self.__Rating = Rating\n",
    "\n",
    "    @property\n",
    "    def SoTrang(self):\n",
    "        return self.__SoTrang\n",
    "\n",
    "    @SoTrang.setter\n",
    "    def SoTrang(self, SoTrang):\n",
    "        self.__SoTrang = SoTrang\n",
    "\n",
    "    @property\n",
    "    def TheLoai(self):\n",
    "        return self.__TheLoai\n",
    "\n",
    "    @TheLoai.setter\n",
    "    def PhuThu(self, TheLoai):\n",
    "        self.__TheLoai = TheLoai\n",
    "\n",
    "    @property\n",
    "    def Rating(self):\n",
    "        return self.__Rating\n",
    "\n",
    "    @Rating.setter\n",
    "    def Rating(self, Rating):\n",
    "        self.__Rating = Rating\n",
    "\n",
    "    def thanhTien(self):\n",
    "        return (self.__SoTrang * 500) + 0.01 * self.__Rating * (self.__SoTrang * 500)\n",
    "    \n",
    "    def __str__(self) -> str:\n",
    "        return  f\"Mã sách: {self.MaSach}, Tiêu đề: {self.TieuDe}, Tác giả: {self.TacGia}, Năm xuất bản: {self.NamXuatBan}, Số Trang: {self.SoTrang}, Thể loại: {self.TheLoai}, Rating: {self.Rating}\"\n",
    "    \n",
    "class QuanLyQuanSach():\n",
    "    def __init__(self) -> None:\n",
    "        self.__sachs = []\n",
    "    \n",
    "    @property\n",
    "    def sachs(self):\n",
    "        return self.__sachs\n",
    "\n",
    "    @sachs.setter\n",
    "    def sachs(self, sachs):\n",
    "        self.__sachs = sachs\n",
    "\n",
    "    def themSach(self, sach):\n",
    "        self.__sachs.append(sach)\n",
    "    \n",
    "    def hienThiSach(self):\n",
    "        print(\"Các sách hiện có :\")\n",
    "        for sach in self.__sachs:\n",
    "            print(f\"- {sach}\")\n",
    "    \n",
    "    def tongGiaSach(self):\n",
    "        ans = 0\n",
    "        for sach in self.__sachs:\n",
    "            ans += sach.thanhTien()\n",
    "        \n",
    "        print(\"Tong gia sach la :\" , ans)\n",
    "\n",
    "sachToan = SachGiaoKhoa(1, \"Sách Toán\", \"Minh đẹp traii\", \"2024\", 25, 2000)\n",
    "sachVan = SachGiaoKhoa(1, \"Sách Ngữ Văn\", \"Minh đẹp trai\", \"2024\", 25, 2000)\n",
    "cay_cam_ngot_cua_toi = SachTieuThuyet(1, \"Cây cam ngọt của tôi\", \"Minh đẹp trai\", \"2024\", 50, \"Trinh thams\", 5)\n",
    "\n",
    "\n",
    "bookmanager = QuanLyQuanSach()\n",
    "bookmanager.themSach(sachToan)\n",
    "bookmanager.themSach(sachVan)\n",
    "bookmanager.themSach(cay_cam_ngot_cua_toi)\n",
    "\n",
    "bookmanager.hienThiSach()\n",
    "\n",
    "bookmanager.tongGiaSach()\n"
   ]
  }
 ],
 "metadata": {
  "kernelspec": {
   "display_name": "40daysPython_env",
   "language": "python",
   "name": "python3"
  },
  "language_info": {
   "codemirror_mode": {
    "name": "ipython",
    "version": 3
   },
   "file_extension": ".py",
   "mimetype": "text/x-python",
   "name": "python",
   "nbconvert_exporter": "python",
   "pygments_lexer": "ipython3",
   "version": "3.10.13"
  }
 },
 "nbformat": 4,
 "nbformat_minor": 2
}
