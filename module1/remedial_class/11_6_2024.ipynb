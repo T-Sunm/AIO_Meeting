{
 "cells": [
  {
   "cell_type": "code",
   "execution_count": 1,
   "metadata": {},
   "outputs": [
    {
     "name": "stdout",
     "output_type": "stream",
     "text": [
      "[4, 5, 6]\n",
      "[]\n",
      "[5, 6]\n"
     ]
    }
   ],
   "source": [
    "      # 0  1  2  3  4  5\n",
    "data = [4, 5, 6, 7, 8, 9]\n",
    "      #-6 -5 -4 -3 -2 -1\n",
    "\n",
    "# pp slicing: list[start:end:step]\n",
    "# slice theo forward hay backward đều slice từ trái -> phải\n",
    "# khi slicing thì end có thể vượt quá len()\n",
    "print(data[:-3])\n",
    "print(data[-2:-4])\n",
    "print(data[1:-3])"
   ]
  },
  {
   "cell_type": "code",
   "execution_count": null,
   "metadata": {},
   "outputs": [],
   "source": [
    "# thêm elements to a list\n",
    "\n",
    "# thêm vào cuối list\n",
    "data.append(4)\n",
    "print(data)"
   ]
  },
  {
   "cell_type": "code",
   "execution_count": 2,
   "metadata": {},
   "outputs": [
    {
     "name": "stdout",
     "output_type": "stream",
     "text": [
      "[4, 4, 5, 6, 7, 8, 9]\n"
     ]
    }
   ],
   "source": [
    "# thêm vào vị trí index chỉ định\n",
    "# nếu insert mà index vượt quá len thì nó thêm vào cuối\n",
    "data.insert(0, 4)\n",
    "print(data)"
   ]
  },
  {
   "cell_type": "code",
   "execution_count": 4,
   "metadata": {},
   "outputs": [
    {
     "name": "stdout",
     "output_type": "stream",
     "text": [
      "[4, 5, 6, 7, 8, 9, 9, 2]\n"
     ]
    }
   ],
   "source": [
    "# mở rộng danh sách cũ bằng cách thêm 1 danh sách mới\n",
    "# tham số extend là 1 list \n",
    "data.extend([9,2])\n",
    "print(data)"
   ]
  },
  {
   "cell_type": "code",
   "execution_count": 6,
   "metadata": {},
   "outputs": [
    {
     "name": "stdout",
     "output_type": "stream",
     "text": [
      "[4, 4, 6, 7, 8, 9, 9, 2]\n"
     ]
    }
   ],
   "source": [
    "# update list thông qua chỉ mục\n",
    "data[1] = 4\n",
    "print(data)"
   ]
  },
  {
   "cell_type": "code",
   "execution_count": null,
   "metadata": {},
   "outputs": [],
   "source": [
    "# xóa phần tử tại vị trí index\n",
    "data.pop(2)"
   ]
  },
  {
   "cell_type": "code",
   "execution_count": 8,
   "metadata": {},
   "outputs": [
    {
     "name": "stdout",
     "output_type": "stream",
     "text": [
      "[4, 6, 7, 8, 9]\n"
     ]
    }
   ],
   "source": [
    "# xóa phần tử đầu tiên có giá trị khớp\n",
    "data.remove(5)\n",
    "print(data)"
   ]
  },
  {
   "cell_type": "code",
   "execution_count": 10,
   "metadata": {},
   "outputs": [
    {
     "name": "stdout",
     "output_type": "stream",
     "text": [
      "[4, 7, 8, 9]\n"
     ]
    }
   ],
   "source": [
    "# xóa nhiều phần tử \n",
    "\n",
    "# xóa phần tử 1 và 2\n",
    "del data[1:3]\n",
    "print(data)"
   ]
  },
  {
   "cell_type": "code",
   "execution_count": 11,
   "metadata": {},
   "outputs": [
    {
     "name": "stdout",
     "output_type": "stream",
     "text": [
      "[]\n"
     ]
    }
   ],
   "source": [
    "# xóa hết list\n",
    "data.clear()\n",
    "print(data)"
   ]
  },
  {
   "cell_type": "code",
   "execution_count": 14,
   "metadata": {},
   "outputs": [
    {
     "data": {
      "text/plain": [
       "5"
      ]
     },
     "execution_count": 14,
     "metadata": {},
     "output_type": "execute_result"
    }
   ],
   "source": [
    "# lấy index có giá trị khớp đầu tiên\n",
    "data.index(9)\n"
   ]
  },
  {
   "cell_type": "code",
   "execution_count": 18,
   "metadata": {},
   "outputs": [
    {
     "name": "stdout",
     "output_type": "stream",
     "text": [
      "[9, 8, 7, 6, 5, 4]\n"
     ]
    }
   ],
   "source": [
    "# đảo ngược list\n",
    "data.reverse()\n",
    "print(data)"
   ]
  },
  {
   "cell_type": "code",
   "execution_count": 20,
   "metadata": {},
   "outputs": [
    {
     "data": {
      "text/plain": [
       "1"
      ]
     },
     "execution_count": 20,
     "metadata": {},
     "output_type": "execute_result"
    }
   ],
   "source": [
    "# số lần giá trị xuất hiện trong list\n",
    "data.count(7)"
   ]
  },
  {
   "cell_type": "code",
   "execution_count": 21,
   "metadata": {},
   "outputs": [
    {
     "name": "stdout",
     "output_type": "stream",
     "text": [
      "[9, 8, 7, 6, 5, 4]\n"
     ]
    }
   ],
   "source": [
    "# sao chép giá trị trong list qua list mới\n",
    "data_copy = data.copy()\n",
    "print(data_copy)"
   ]
  },
  {
   "cell_type": "code",
   "execution_count": 22,
   "metadata": {},
   "outputs": [
    {
     "name": "stdout",
     "output_type": "stream",
     "text": [
      "[4, 5, 6, 7, 8, 9]\n",
      "[9, 8, 7, 6, 5, 4]\n"
     ]
    }
   ],
   "source": [
    "# sắp xếp list\n",
    "# 1. tăng dần\n",
    "data.sort()\n",
    "print(data)\n",
    "# 2. giảm dần\n",
    "data.sort(reverse=True)\n",
    "print(data)"
   ]
  },
  {
   "cell_type": "code",
   "execution_count": 27,
   "metadata": {},
   "outputs": [
    {
     "name": "stdout",
     "output_type": "stream",
     "text": [
      "[6, 5, 7, 1, 9, 2]\n"
     ]
    }
   ],
   "source": [
    "# nối 2 danh sách\n",
    "data1 = [6,5,7]\n",
    "data2 = [1,9,2]\n",
    "\n",
    "data = data1 + data2\n",
    "print(data)"
   ]
  },
  {
   "cell_type": "code",
   "execution_count": 25,
   "metadata": {},
   "outputs": [
    {
     "name": "stdout",
     "output_type": "stream",
     "text": [
      "[6, 5, 7, 1, 9, 2, 6, 5, 7, 1, 9, 2]\n"
     ]
    }
   ],
   "source": [
    "# nhân list với 1 số nguyên\n",
    "data = data * 2\n",
    "print(data)"
   ]
  },
  {
   "cell_type": "code",
   "execution_count": 26,
   "metadata": {},
   "outputs": [
    {
     "name": "stdout",
     "output_type": "stream",
     "text": [
      "12\n",
      "1\n",
      "9\n"
     ]
    }
   ],
   "source": [
    "# trả về số phần tử\n",
    "print(len(data))\n",
    "\n",
    "# trả về phần tử nhỏ nhất\n",
    "print(min(data))\n",
    "\n",
    "# trả về phần tử lớn nhất\n",
    "print(max(data))"
   ]
  },
  {
   "cell_type": "code",
   "execution_count": 28,
   "metadata": {},
   "outputs": [
    {
     "name": "stdout",
     "output_type": "stream",
     "text": [
      "37\n"
     ]
    }
   ],
   "source": [
    "# tổng các giá trị trong list\n",
    "# sum(iterable, start)\n",
    "# start chính là giá trị + thêm khi cộng hết phần tử trong list\n",
    "print(sum(data,7))"
   ]
  },
  {
   "cell_type": "code",
   "execution_count": 29,
   "metadata": {},
   "outputs": [
    {
     "name": "stdout",
     "output_type": "stream",
     "text": [
      "2 5\n",
      "3 6\n",
      "4 7\n"
     ]
    }
   ],
   "source": [
    "# hàm zip()\n",
    "data1 = [2, 3, 4]\n",
    "data2 = [5, 6, 7]\n",
    "\n",
    "for v1, v2 in zip(data1, data2):\n",
    "    print(v1, v2)"
   ]
  },
  {
   "cell_type": "code",
   "execution_count": 31,
   "metadata": {},
   "outputs": [
    {
     "name": "stdout",
     "output_type": "stream",
     "text": [
      "0 6\n",
      "1 1\n",
      "2 7\n"
     ]
    }
   ],
   "source": [
    "# hàm enumerate\n",
    "\n",
    "data = [6, 1, 7]\n",
    "for index, value in enumerate(data):\n",
    "    print(index,value)"
   ]
  }
 ],
 "metadata": {
  "kernelspec": {
   "display_name": "40daysPython_env",
   "language": "python",
   "name": "python3"
  },
  "language_info": {
   "codemirror_mode": {
    "name": "ipython",
    "version": 3
   },
   "file_extension": ".py",
   "mimetype": "text/x-python",
   "name": "python",
   "nbconvert_exporter": "python",
   "pygments_lexer": "ipython3",
   "version": "3.10.13"
  }
 },
 "nbformat": 4,
 "nbformat_minor": 2
}
