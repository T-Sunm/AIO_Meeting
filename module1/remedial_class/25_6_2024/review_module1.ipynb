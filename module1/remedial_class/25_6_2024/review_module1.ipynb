{
 "cells": [
  {
   "cell_type": "code",
   "execution_count": 4,
   "metadata": {},
   "outputs": [
    {
     "name": "stdout",
     "output_type": "stream",
     "text": [
      "Time taken by Lists to perform multiplication 0.001003265380859375 seconds\n"
     ]
    }
   ],
   "source": [
    "\n",
    "\n",
    "import numpy \n",
    "import time\n",
    "def multiplize_array(size=1000):\n",
    "    array1 = numpy.arange(size)\n",
    "    array2 = numpy.arange(size)\n",
    "\n",
    "    # thời gian ban đầu\n",
    "    initialtime = time.time()\n",
    "\n",
    "    resultant_list = array1 * array2\n",
    "\n",
    "    # thời gian thực thi = thời gian hiện tại - thời gian ban đầu\n",
    "    print(\"Time taken by Lists to perform multiplication\", (time.time() - initialtime),\"seconds\")\n",
    "\n",
    "multiplize_array(100000)"
   ]
  },
  {
   "cell_type": "code",
   "execution_count": 27,
   "metadata": {},
   "outputs": [
    {
     "name": "stdout",
     "output_type": "stream",
     "text": [
      "[140, 146, 320, 335]\n"
     ]
    }
   ],
   "source": [
    "def maxtrix_multiply(a, b):\n",
    "    len_rows_a, len_cols_a = len(a), len(a[0])\n",
    "    len_rows_b, len_cols_b = len(b), len(b[0])\n",
    "\n",
    "    ans = []\n",
    "    for row in range(len_rows_a):     \n",
    "        for col in range(len_cols_b):\n",
    "            point = 0\n",
    "            for k in range(len_cols_a):\n",
    "               point += a[row][k] * b[k][col]\n",
    "            ans.append(point)\n",
    "\n",
    "    return ans\n",
    "\n",
    "list1 = [[1, 2, 3],\n",
    "         [4, 5, 6]]\n",
    "\n",
    "list2 = [[10, 11],\n",
    "         [20, 21],\n",
    "         [30, 31]]\n",
    "\n",
    "print(maxtrix_multiply(list1, list2))"
   ]
  },
  {
   "cell_type": "code",
   "execution_count": 2,
   "metadata": {},
   "outputs": [
    {
     "data": {
      "text/plain": [
       "0.20502092050209206"
      ]
     },
     "execution_count": 2,
     "metadata": {},
     "output_type": "execute_result"
    }
   ],
   "source": [
    "def iou_calculation(box_a, box_b):\n",
    "    x_a_min, y_a_min, x_a_max, y_a_max = box_a[0], box_a[1], box_a[2], box_a[3]\n",
    "    x_b_min, y_b_min, x_b_max, y_b_max = box_b[0], box_b[1], box_b[2], box_b[3]\n",
    "\n",
    "    x_inter_min = max(x_a_min, x_b_min)\n",
    "    y_inter_min = max(y_a_min, y_b_min)\n",
    "    x_inter_max = min(x_a_max, x_b_max)\n",
    "    y_inter_max = min(y_a_max, y_b_max)\n",
    "\n",
    "#  sẽ có trường hợp 2 box_a , box_b trùng nhau , lúc đó trừ nhau sẽ bằng 0\n",
    "# -> nếu mà trùng nhau là nó predict đúng nhưng tính theo ct thì = 0 nên dự đoán sẽ sai\n",
    "# -> cần phải công thêm 1 \n",
    "    inter_width = max(0, x_inter_max - x_inter_min + 1)\n",
    "    inter_height = max(0, y_inter_max - y_inter_min + 1)\n",
    "    inter_area = inter_width * inter_height\n",
    "\n",
    "    #  mỗi điểm thì tương ứng với 1 đơn vị ấy, nên là trừ rồi phải cộng thêm 1\n",
    "    area_box_a = (x_a_max - x_a_min + 1) * (y_a_max - y_a_min + 1)\n",
    "    area_box_b = (x_b_max - x_b_min + 1) * (y_b_max - y_b_min + 1)\n",
    "\n",
    "    iou = inter_area / float(area_box_a + area_box_b - inter_area)\n",
    "    return iou\n",
    "box_a = (0,0,5,5)\n",
    "box_b = (2.5,2.5, 7.5,7.5)\n",
    "iou_calculation(box_a, box_b)"
   ]
  },
  {
   "cell_type": "code",
   "execution_count": 10,
   "metadata": {},
   "outputs": [
    {
     "name": "stdout",
     "output_type": "stream",
     "text": [
      "[0.8, 0.4, 0.5, 0.6, 0.7, 0.3]\n",
      "[0]\n",
      "[[12.0, 84.0, 140.0, 212.0, 0.8]]\n"
     ]
    }
   ],
   "source": [
    "import cv2\n",
    "import numpy as np\n",
    "\n",
    "boundingBoxes = np.array([\n",
    "(12, 84, 140, 212, 0.8),\n",
    "(24, 84, 152, 212, 0.4), \n",
    "(36, 84, 164, 212, 0.5), \n",
    "(12, 96, 140, 224, 0.6),\n",
    "(24, 96, 152, 224, 0.7), \n",
    "(24, 108, 152, 236, 0.3)])\n",
    "\n",
    "def non_maxima_suppression(bounding_boxes):\n",
    "\n",
    "    scores = list(bounding_boxes[:, -1])\n",
    "    print(scores)\n",
    "    # Sort the boxes by scores in descending order\n",
    "    sorted_indices = sorted(range(len(scores)), key=lambda i: scores[i], reverse=True)\n",
    "\n",
    "    keep_indices = []\n",
    "    iou_threshhold = 0.3\n",
    "\n",
    "    while len(sorted_indices) > 0:\n",
    "        index_max = sorted_indices.pop(0)\n",
    "        keep_indices.append(index_max)\n",
    "\n",
    "        filtered_boxes = []\n",
    "        for index in keep_indices:\n",
    "            iou = iou_calculation(bounding_boxes[index_max], bounding_boxes[index])\n",
    "\n",
    "            # nếu iou lớn thì 2 frame gần sát và trùng nhau , nên loại bỏ 1 frame trùng đi để tránh bị nhiễu\n",
    "            if iou < iou_threshhold:\n",
    "                filtered_boxes.append(index)\n",
    "\n",
    "        sorted_indices = filtered_boxes\n",
    "    return keep_indices\n",
    "\n",
    "\n",
    "kept_indices = non_maxima_suppression(boundingBoxes)\n",
    "kept_boxes = [list(boundingBoxes[index]) for index in kept_indices]\n",
    "print(kept_indices)\n",
    "print(kept_boxes)"
   ]
  },
  {
   "cell_type": "code",
   "execution_count": 22,
   "metadata": {},
   "outputs": [
    {
     "name": "stdout",
     "output_type": "stream",
     "text": [
      "{'Da Nang', 'Ho Chi Minh', 'Can Tho'}\n",
      "[[0, 1, 0], [1, 0, 0], [0, 1, 0], [1, 0, 0], [0, 0, 1]]\n"
     ]
    }
   ],
   "source": [
    "# One-Hot Encoding Using Set and Dictionary\n",
    "import numpy as np\n",
    "\n",
    "dataset = np.array(['Ho Chi Minh', 'Da Nang',\n",
    "                 'Ho Chi Minh', 'Da Nang', 'Can Tho'])\n",
    "\n",
    "unique_categories = set(dataset)\n",
    "\n",
    "# Create a mapping from category to index\n",
    "vocab = { country: index for index, country in enumerate(unique_categories)}\n",
    "\n",
    "one_hot_encoded_features = []\n",
    "\n",
    "for data in dataset:\n",
    "    one_hot_vector = [0] * len(unique_categories)\n",
    "    one_hot_vector[vocab[data]] = 1\n",
    "    one_hot_encoded_features.append(one_hot_vector)\n",
    "\n",
    "print(unique_categories)\n",
    "print(one_hot_encoded_features)"
   ]
  }
 ],
 "metadata": {
  "kernelspec": {
   "display_name": "40daysPython_env",
   "language": "python",
   "name": "python3"
  },
  "language_info": {
   "codemirror_mode": {
    "name": "ipython",
    "version": 3
   },
   "file_extension": ".py",
   "mimetype": "text/x-python",
   "name": "python",
   "nbconvert_exporter": "python",
   "pygments_lexer": "ipython3",
   "version": "3.10.13"
  }
 },
 "nbformat": 4,
 "nbformat_minor": 2
}
