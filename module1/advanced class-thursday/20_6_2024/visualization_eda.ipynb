{
 "cells": [
  {
   "cell_type": "code",
   "execution_count": 1,
   "metadata": {},
   "outputs": [
    {
     "name": "stdout",
     "output_type": "stream",
     "text": [
      "Requirement already satisfied: pygwalker in d:\\asus\\ungdung\\anacoda\\anacoda\\envs\\40dayspython_env\\lib\\site-packages (0.4.8)\n",
      "Requirement already satisfied: appdirs in d:\\asus\\ungdung\\anacoda\\anacoda\\envs\\40dayspython_env\\lib\\site-packages (from pygwalker) (1.4.4)\n",
      "Requirement already satisfied: arrow in d:\\asus\\ungdung\\anacoda\\anacoda\\envs\\40dayspython_env\\lib\\site-packages (from pygwalker) (1.3.0)\n",
      "Requirement already satisfied: astor in d:\\asus\\ungdung\\anacoda\\anacoda\\envs\\40dayspython_env\\lib\\site-packages (from pygwalker) (0.8.1)\n",
      "Requirement already satisfied: cachetools in d:\\asus\\ungdung\\anacoda\\anacoda\\envs\\40dayspython_env\\lib\\site-packages (from pygwalker) (5.3.3)\n",
      "Requirement already satisfied: duckdb==0.10.1 in d:\\asus\\ungdung\\anacoda\\anacoda\\envs\\40dayspython_env\\lib\\site-packages (from pygwalker) (0.10.1)\n",
      "Requirement already satisfied: gw-dsl-parser==0.1.47 in d:\\asus\\ungdung\\anacoda\\anacoda\\envs\\40dayspython_env\\lib\\site-packages (from pygwalker) (0.1.47)\n",
      "Requirement already satisfied: ipython in d:\\asus\\ungdung\\anacoda\\anacoda\\envs\\40dayspython_env\\lib\\site-packages (from pygwalker) (8.22.2)\n",
      "Requirement already satisfied: ipywidgets in d:\\asus\\ungdung\\anacoda\\anacoda\\envs\\40dayspython_env\\lib\\site-packages (from pygwalker) (8.1.2)\n",
      "Requirement already satisfied: jinja2 in d:\\asus\\ungdung\\anacoda\\anacoda\\envs\\40dayspython_env\\lib\\site-packages (from pygwalker) (3.1.3)\n",
      "Requirement already satisfied: kanaries-track==0.0.4 in d:\\asus\\ungdung\\anacoda\\anacoda\\envs\\40dayspython_env\\lib\\site-packages (from pygwalker) (0.0.4)\n",
      "Requirement already satisfied: packaging in d:\\asus\\ungdung\\anacoda\\anacoda\\envs\\40dayspython_env\\lib\\site-packages (from pygwalker) (24.0)\n",
      "Requirement already satisfied: pandas in d:\\asus\\ungdung\\anacoda\\anacoda\\envs\\40dayspython_env\\lib\\site-packages (from pygwalker) (2.2.2)\n",
      "Requirement already satisfied: psutil in d:\\asus\\ungdung\\anacoda\\anacoda\\envs\\40dayspython_env\\lib\\site-packages (from pygwalker) (5.9.8)\n",
      "Requirement already satisfied: pyarrow in d:\\asus\\ungdung\\anacoda\\anacoda\\envs\\40dayspython_env\\lib\\site-packages (from pygwalker) (15.0.2)\n",
      "Requirement already satisfied: pydantic in d:\\asus\\ungdung\\anacoda\\anacoda\\envs\\40dayspython_env\\lib\\site-packages (from pygwalker) (2.7.0)\n",
      "Requirement already satisfied: pytz in d:\\asus\\ungdung\\anacoda\\anacoda\\envs\\40dayspython_env\\lib\\site-packages (from pygwalker) (2024.1)\n",
      "Requirement already satisfied: requests in d:\\asus\\ungdung\\anacoda\\anacoda\\envs\\40dayspython_env\\lib\\site-packages (from pygwalker) (2.31.0)\n",
      "Requirement already satisfied: segment-analytics-python==2.2.3 in d:\\asus\\ungdung\\anacoda\\anacoda\\envs\\40dayspython_env\\lib\\site-packages (from pygwalker) (2.2.3)\n",
      "Requirement already satisfied: sqlalchemy in d:\\asus\\ungdung\\anacoda\\anacoda\\envs\\40dayspython_env\\lib\\site-packages (from pygwalker) (2.0.29)\n",
      "Requirement already satisfied: sqlglot>=19.0.0 in d:\\asus\\ungdung\\anacoda\\anacoda\\envs\\40dayspython_env\\lib\\site-packages (from pygwalker) (23.10.0)\n",
      "Requirement already satisfied: typing-extensions in d:\\asus\\ungdung\\anacoda\\anacoda\\envs\\40dayspython_env\\lib\\site-packages (from pygwalker) (4.11.0)\n",
      "Requirement already satisfied: wasmtime==12.0.0 in d:\\asus\\ungdung\\anacoda\\anacoda\\envs\\40dayspython_env\\lib\\site-packages (from gw-dsl-parser==0.1.47->pygwalker) (12.0.0)\n",
      "Requirement already satisfied: backoff>=2.2.1 in d:\\asus\\ungdung\\anacoda\\anacoda\\envs\\40dayspython_env\\lib\\site-packages (from kanaries-track==0.0.4->pygwalker) (2.2.1)\n",
      "Requirement already satisfied: dateutils>=0.6.12 in d:\\asus\\ungdung\\anacoda\\anacoda\\envs\\40dayspython_env\\lib\\site-packages (from kanaries-track==0.0.4->pygwalker) (0.6.12)\n",
      "Requirement already satisfied: monotonic~=1.5 in d:\\asus\\ungdung\\anacoda\\anacoda\\envs\\40dayspython_env\\lib\\site-packages (from segment-analytics-python==2.2.3->pygwalker) (1.6)\n",
      "Requirement already satisfied: python-dateutil~=2.2 in d:\\asus\\ungdung\\anacoda\\anacoda\\envs\\40dayspython_env\\lib\\site-packages (from segment-analytics-python==2.2.3->pygwalker) (2.9.0.post0)\n",
      "Requirement already satisfied: charset-normalizer<4,>=2 in d:\\asus\\ungdung\\anacoda\\anacoda\\envs\\40dayspython_env\\lib\\site-packages (from requests->pygwalker) (3.3.2)\n",
      "Requirement already satisfied: idna<4,>=2.5 in d:\\asus\\ungdung\\anacoda\\anacoda\\envs\\40dayspython_env\\lib\\site-packages (from requests->pygwalker) (3.7)\n",
      "Requirement already satisfied: urllib3<3,>=1.21.1 in d:\\asus\\ungdung\\anacoda\\anacoda\\envs\\40dayspython_env\\lib\\site-packages (from requests->pygwalker) (2.2.1)\n",
      "Requirement already satisfied: certifi>=2017.4.17 in d:\\asus\\ungdung\\anacoda\\anacoda\\envs\\40dayspython_env\\lib\\site-packages (from requests->pygwalker) (2024.2.2)\n",
      "Requirement already satisfied: types-python-dateutil>=2.8.10 in d:\\asus\\ungdung\\anacoda\\anacoda\\envs\\40dayspython_env\\lib\\site-packages (from arrow->pygwalker) (2.9.0.20240316)\n",
      "Requirement already satisfied: decorator in d:\\asus\\ungdung\\anacoda\\anacoda\\envs\\40dayspython_env\\lib\\site-packages (from ipython->pygwalker) (5.1.1)\n",
      "Requirement already satisfied: jedi>=0.16 in d:\\asus\\ungdung\\anacoda\\anacoda\\envs\\40dayspython_env\\lib\\site-packages (from ipython->pygwalker) (0.19.1)\n",
      "Requirement already satisfied: matplotlib-inline in d:\\asus\\ungdung\\anacoda\\anacoda\\envs\\40dayspython_env\\lib\\site-packages (from ipython->pygwalker) (0.1.6)\n",
      "Requirement already satisfied: prompt-toolkit<3.1.0,>=3.0.41 in d:\\asus\\ungdung\\anacoda\\anacoda\\envs\\40dayspython_env\\lib\\site-packages (from ipython->pygwalker) (3.0.42)\n",
      "Requirement already satisfied: pygments>=2.4.0 in d:\\asus\\ungdung\\anacoda\\anacoda\\envs\\40dayspython_env\\lib\\site-packages (from ipython->pygwalker) (2.17.2)\n",
      "Requirement already satisfied: stack-data in d:\\asus\\ungdung\\anacoda\\anacoda\\envs\\40dayspython_env\\lib\\site-packages (from ipython->pygwalker) (0.6.2)\n",
      "Requirement already satisfied: traitlets>=5.13.0 in d:\\asus\\ungdung\\anacoda\\anacoda\\envs\\40dayspython_env\\lib\\site-packages (from ipython->pygwalker) (5.14.1)\n",
      "Requirement already satisfied: exceptiongroup in d:\\asus\\ungdung\\anacoda\\anacoda\\envs\\40dayspython_env\\lib\\site-packages (from ipython->pygwalker) (1.2.0)\n",
      "Requirement already satisfied: colorama in d:\\asus\\ungdung\\anacoda\\anacoda\\envs\\40dayspython_env\\lib\\site-packages (from ipython->pygwalker) (0.4.6)\n",
      "Requirement already satisfied: comm>=0.1.3 in d:\\asus\\ungdung\\anacoda\\anacoda\\envs\\40dayspython_env\\lib\\site-packages (from ipywidgets->pygwalker) (0.2.1)\n",
      "Requirement already satisfied: widgetsnbextension~=4.0.10 in d:\\asus\\ungdung\\anacoda\\anacoda\\envs\\40dayspython_env\\lib\\site-packages (from ipywidgets->pygwalker) (4.0.10)\n",
      "Requirement already satisfied: jupyterlab-widgets~=3.0.10 in d:\\asus\\ungdung\\anacoda\\anacoda\\envs\\40dayspython_env\\lib\\site-packages (from ipywidgets->pygwalker) (3.0.10)\n",
      "Requirement already satisfied: MarkupSafe>=2.0 in d:\\asus\\ungdung\\anacoda\\anacoda\\envs\\40dayspython_env\\lib\\site-packages (from jinja2->pygwalker) (2.1.5)\n",
      "Requirement already satisfied: numpy>=1.22.4 in d:\\asus\\ungdung\\anacoda\\anacoda\\envs\\40dayspython_env\\lib\\site-packages (from pandas->pygwalker) (1.26.4)\n",
      "Requirement already satisfied: tzdata>=2022.7 in d:\\asus\\ungdung\\anacoda\\anacoda\\envs\\40dayspython_env\\lib\\site-packages (from pandas->pygwalker) (2024.1)\n",
      "Requirement already satisfied: annotated-types>=0.4.0 in d:\\asus\\ungdung\\anacoda\\anacoda\\envs\\40dayspython_env\\lib\\site-packages (from pydantic->pygwalker) (0.6.0)\n",
      "Requirement already satisfied: pydantic-core==2.18.1 in d:\\asus\\ungdung\\anacoda\\anacoda\\envs\\40dayspython_env\\lib\\site-packages (from pydantic->pygwalker) (2.18.1)\n",
      "Requirement already satisfied: greenlet!=0.4.17 in d:\\asus\\ungdung\\anacoda\\anacoda\\envs\\40dayspython_env\\lib\\site-packages (from sqlalchemy->pygwalker) (3.0.3)\n",
      "Requirement already satisfied: parso<0.9.0,>=0.8.3 in d:\\asus\\ungdung\\anacoda\\anacoda\\envs\\40dayspython_env\\lib\\site-packages (from jedi>=0.16->ipython->pygwalker) (0.8.3)\n",
      "Requirement already satisfied: wcwidth in d:\\asus\\ungdung\\anacoda\\anacoda\\envs\\40dayspython_env\\lib\\site-packages (from prompt-toolkit<3.1.0,>=3.0.41->ipython->pygwalker) (0.2.13)\n",
      "Requirement already satisfied: six>=1.5 in d:\\asus\\ungdung\\anacoda\\anacoda\\envs\\40dayspython_env\\lib\\site-packages (from python-dateutil~=2.2->segment-analytics-python==2.2.3->pygwalker) (1.16.0)\n",
      "Requirement already satisfied: executing>=1.2.0 in d:\\asus\\ungdung\\anacoda\\anacoda\\envs\\40dayspython_env\\lib\\site-packages (from stack-data->ipython->pygwalker) (2.0.1)\n",
      "Requirement already satisfied: asttokens>=2.1.0 in d:\\asus\\ungdung\\anacoda\\anacoda\\envs\\40dayspython_env\\lib\\site-packages (from stack-data->ipython->pygwalker) (2.4.1)\n",
      "Requirement already satisfied: pure-eval in d:\\asus\\ungdung\\anacoda\\anacoda\\envs\\40dayspython_env\\lib\\site-packages (from stack-data->ipython->pygwalker) (0.2.2)\n",
      "Requirement already satisfied: seaborn in d:\\asus\\ungdung\\anacoda\\anacoda\\envs\\40dayspython_env\\lib\\site-packages (0.13.2)\n",
      "Requirement already satisfied: numpy!=1.24.0,>=1.20 in d:\\asus\\ungdung\\anacoda\\anacoda\\envs\\40dayspython_env\\lib\\site-packages (from seaborn) (1.26.4)\n",
      "Requirement already satisfied: pandas>=1.2 in d:\\asus\\ungdung\\anacoda\\anacoda\\envs\\40dayspython_env\\lib\\site-packages (from seaborn) (2.2.2)\n",
      "Requirement already satisfied: matplotlib!=3.6.1,>=3.4 in d:\\asus\\ungdung\\anacoda\\anacoda\\envs\\40dayspython_env\\lib\\site-packages (from seaborn) (3.8.3)\n",
      "Requirement already satisfied: contourpy>=1.0.1 in d:\\asus\\ungdung\\anacoda\\anacoda\\envs\\40dayspython_env\\lib\\site-packages (from matplotlib!=3.6.1,>=3.4->seaborn) (1.2.0)\n",
      "Requirement already satisfied: cycler>=0.10 in d:\\asus\\ungdung\\anacoda\\anacoda\\envs\\40dayspython_env\\lib\\site-packages (from matplotlib!=3.6.1,>=3.4->seaborn) (0.12.1)\n",
      "Requirement already satisfied: fonttools>=4.22.0 in d:\\asus\\ungdung\\anacoda\\anacoda\\envs\\40dayspython_env\\lib\\site-packages (from matplotlib!=3.6.1,>=3.4->seaborn) (4.50.0)\n",
      "Requirement already satisfied: kiwisolver>=1.3.1 in d:\\asus\\ungdung\\anacoda\\anacoda\\envs\\40dayspython_env\\lib\\site-packages (from matplotlib!=3.6.1,>=3.4->seaborn) (1.4.5)\n",
      "Requirement already satisfied: packaging>=20.0 in d:\\asus\\ungdung\\anacoda\\anacoda\\envs\\40dayspython_env\\lib\\site-packages (from matplotlib!=3.6.1,>=3.4->seaborn) (24.0)\n",
      "Requirement already satisfied: pillow>=8 in d:\\asus\\ungdung\\anacoda\\anacoda\\envs\\40dayspython_env\\lib\\site-packages (from matplotlib!=3.6.1,>=3.4->seaborn) (10.3.0)\n",
      "Requirement already satisfied: pyparsing>=2.3.1 in d:\\asus\\ungdung\\anacoda\\anacoda\\envs\\40dayspython_env\\lib\\site-packages (from matplotlib!=3.6.1,>=3.4->seaborn) (3.1.2)\n",
      "Requirement already satisfied: python-dateutil>=2.7 in d:\\asus\\ungdung\\anacoda\\anacoda\\envs\\40dayspython_env\\lib\\site-packages (from matplotlib!=3.6.1,>=3.4->seaborn) (2.9.0.post0)\n",
      "Requirement already satisfied: pytz>=2020.1 in d:\\asus\\ungdung\\anacoda\\anacoda\\envs\\40dayspython_env\\lib\\site-packages (from pandas>=1.2->seaborn) (2024.1)\n",
      "Requirement already satisfied: tzdata>=2022.7 in d:\\asus\\ungdung\\anacoda\\anacoda\\envs\\40dayspython_env\\lib\\site-packages (from pandas>=1.2->seaborn) (2024.1)\n",
      "Requirement already satisfied: six>=1.5 in d:\\asus\\ungdung\\anacoda\\anacoda\\envs\\40dayspython_env\\lib\\site-packages (from python-dateutil>=2.7->matplotlib!=3.6.1,>=3.4->seaborn) (1.16.0)\n"
     ]
    }
   ],
   "source": [
    "! pip install pygwalker\n",
    "! pip install seaborn"
   ]
  },
  {
   "cell_type": "code",
   "execution_count": 2,
   "metadata": {},
   "outputs": [],
   "source": [
    "import pandas as pd\n",
    "import sklearn\n",
    "import seaborn as sns\n",
    "\n",
    "import matplotlib.pyplot as plt\n",
    "%matplotlib inline\n",
    "\n",
    "plt.style.use('bmh')\n"
   ]
  },
  {
   "cell_type": "code",
   "execution_count": 3,
   "metadata": {},
   "outputs": [],
   "source": [
    "data = pd.read_csv('../20_6_2024/file/data.csv')"
   ]
  },
  {
   "cell_type": "code",
   "execution_count": 4,
   "metadata": {},
   "outputs": [
    {
     "data": {
      "text/html": [
       "<div>\n",
       "<style scoped>\n",
       "    .dataframe tbody tr th:only-of-type {\n",
       "        vertical-align: middle;\n",
       "    }\n",
       "\n",
       "    .dataframe tbody tr th {\n",
       "        vertical-align: top;\n",
       "    }\n",
       "\n",
       "    .dataframe thead th {\n",
       "        text-align: right;\n",
       "    }\n",
       "</style>\n",
       "<table border=\"1\" class=\"dataframe\">\n",
       "  <thead>\n",
       "    <tr style=\"text-align: right;\">\n",
       "      <th></th>\n",
       "      <th>customer_id</th>\n",
       "      <th>credit_score</th>\n",
       "      <th>country</th>\n",
       "      <th>gender</th>\n",
       "      <th>age</th>\n",
       "      <th>tenure</th>\n",
       "      <th>balance</th>\n",
       "      <th>products_number</th>\n",
       "      <th>credit_card</th>\n",
       "      <th>active_member</th>\n",
       "      <th>estimated_salary</th>\n",
       "      <th>churn</th>\n",
       "    </tr>\n",
       "  </thead>\n",
       "  <tbody>\n",
       "    <tr>\n",
       "      <th>0</th>\n",
       "      <td>15634602</td>\n",
       "      <td>619</td>\n",
       "      <td>France</td>\n",
       "      <td>Female</td>\n",
       "      <td>42</td>\n",
       "      <td>2</td>\n",
       "      <td>0.00</td>\n",
       "      <td>1</td>\n",
       "      <td>1</td>\n",
       "      <td>1</td>\n",
       "      <td>101348.88</td>\n",
       "      <td>1</td>\n",
       "    </tr>\n",
       "    <tr>\n",
       "      <th>1</th>\n",
       "      <td>15647311</td>\n",
       "      <td>608</td>\n",
       "      <td>Spain</td>\n",
       "      <td>Female</td>\n",
       "      <td>41</td>\n",
       "      <td>1</td>\n",
       "      <td>83807.86</td>\n",
       "      <td>1</td>\n",
       "      <td>0</td>\n",
       "      <td>1</td>\n",
       "      <td>112542.58</td>\n",
       "      <td>0</td>\n",
       "    </tr>\n",
       "    <tr>\n",
       "      <th>2</th>\n",
       "      <td>15619304</td>\n",
       "      <td>502</td>\n",
       "      <td>France</td>\n",
       "      <td>Female</td>\n",
       "      <td>42</td>\n",
       "      <td>8</td>\n",
       "      <td>159660.80</td>\n",
       "      <td>3</td>\n",
       "      <td>1</td>\n",
       "      <td>0</td>\n",
       "      <td>113931.57</td>\n",
       "      <td>1</td>\n",
       "    </tr>\n",
       "    <tr>\n",
       "      <th>3</th>\n",
       "      <td>15701354</td>\n",
       "      <td>699</td>\n",
       "      <td>France</td>\n",
       "      <td>Female</td>\n",
       "      <td>39</td>\n",
       "      <td>1</td>\n",
       "      <td>0.00</td>\n",
       "      <td>2</td>\n",
       "      <td>0</td>\n",
       "      <td>0</td>\n",
       "      <td>93826.63</td>\n",
       "      <td>0</td>\n",
       "    </tr>\n",
       "    <tr>\n",
       "      <th>4</th>\n",
       "      <td>15737888</td>\n",
       "      <td>850</td>\n",
       "      <td>Spain</td>\n",
       "      <td>Female</td>\n",
       "      <td>43</td>\n",
       "      <td>2</td>\n",
       "      <td>125510.82</td>\n",
       "      <td>1</td>\n",
       "      <td>1</td>\n",
       "      <td>1</td>\n",
       "      <td>79084.10</td>\n",
       "      <td>0</td>\n",
       "    </tr>\n",
       "  </tbody>\n",
       "</table>\n",
       "</div>"
      ],
      "text/plain": [
       "   customer_id  credit_score country  gender  age  tenure    balance  \\\n",
       "0     15634602           619  France  Female   42       2       0.00   \n",
       "1     15647311           608   Spain  Female   41       1   83807.86   \n",
       "2     15619304           502  France  Female   42       8  159660.80   \n",
       "3     15701354           699  France  Female   39       1       0.00   \n",
       "4     15737888           850   Spain  Female   43       2  125510.82   \n",
       "\n",
       "   products_number  credit_card  active_member  estimated_salary  churn  \n",
       "0                1            1              1         101348.88      1  \n",
       "1                1            0              1         112542.58      0  \n",
       "2                3            1              0         113931.57      1  \n",
       "3                2            0              0          93826.63      0  \n",
       "4                1            1              1          79084.10      0  "
      ]
     },
     "execution_count": 4,
     "metadata": {},
     "output_type": "execute_result"
    }
   ],
   "source": [
    "data.head(5)"
   ]
  },
  {
   "cell_type": "code",
   "execution_count": 5,
   "metadata": {},
   "outputs": [
    {
     "name": "stdout",
     "output_type": "stream",
     "text": [
      "<class 'pandas.core.frame.DataFrame'>\n",
      "RangeIndex: 10000 entries, 0 to 9999\n",
      "Data columns (total 12 columns):\n",
      " #   Column            Non-Null Count  Dtype  \n",
      "---  ------            --------------  -----  \n",
      " 0   customer_id       10000 non-null  int64  \n",
      " 1   credit_score      10000 non-null  int64  \n",
      " 2   country           10000 non-null  object \n",
      " 3   gender            10000 non-null  object \n",
      " 4   age               10000 non-null  int64  \n",
      " 5   tenure            10000 non-null  int64  \n",
      " 6   balance           10000 non-null  float64\n",
      " 7   products_number   10000 non-null  int64  \n",
      " 8   credit_card       10000 non-null  int64  \n",
      " 9   active_member     10000 non-null  int64  \n",
      " 10  estimated_salary  10000 non-null  float64\n",
      " 11  churn             10000 non-null  int64  \n",
      "dtypes: float64(2), int64(8), object(2)\n",
      "memory usage: 937.6+ KB\n"
     ]
    }
   ],
   "source": [
    "data.info()"
   ]
  },
  {
   "cell_type": "code",
   "execution_count": 6,
   "metadata": {},
   "outputs": [
    {
     "data": {
      "text/plain": [
       "0"
      ]
     },
     "execution_count": 6,
     "metadata": {},
     "output_type": "execute_result"
    }
   ],
   "source": [
    "# kiểm tra xem hàng nào trùng thông tin nhau kh\n",
    "data.duplicated().sum()"
   ]
  },
  {
   "cell_type": "code",
   "execution_count": 7,
   "metadata": {},
   "outputs": [
    {
     "data": {
      "text/plain": [
       "customer_id         10000\n",
       "credit_score          460\n",
       "country                 3\n",
       "gender                  2\n",
       "age                    70\n",
       "tenure                 11\n",
       "balance              6382\n",
       "products_number         4\n",
       "credit_card             2\n",
       "active_member           2\n",
       "estimated_salary     9999\n",
       "churn                   2\n",
       "dtype: int64"
      ]
     },
     "execution_count": 7,
     "metadata": {},
     "output_type": "execute_result"
    }
   ],
   "source": [
    "# đếm số lượng giá trị duy nhất trong mỗi cột\n",
    "# vd: gender là 0/1 => 2 , customer_id mỗi người là khác nhau nên => 10000 (10000 khách hàng)\n",
    "data.nunique()"
   ]
  },
  {
   "cell_type": "code",
   "execution_count": 8,
   "metadata": {},
   "outputs": [],
   "source": [
    "# xóa côt: truyền cột muốn xóa , axis = 1\n",
    "# xóa hàng : truyền index hàng muốn xóa (index bắt đầu = 0)\n",
    "data = data.drop(['customer_id'], axis=1)"
   ]
  },
  {
   "cell_type": "code",
   "execution_count": 9,
   "metadata": {},
   "outputs": [
    {
     "data": {
      "text/html": [
       "<div>\n",
       "<style scoped>\n",
       "    .dataframe tbody tr th:only-of-type {\n",
       "        vertical-align: middle;\n",
       "    }\n",
       "\n",
       "    .dataframe tbody tr th {\n",
       "        vertical-align: top;\n",
       "    }\n",
       "\n",
       "    .dataframe thead th {\n",
       "        text-align: right;\n",
       "    }\n",
       "</style>\n",
       "<table border=\"1\" class=\"dataframe\">\n",
       "  <thead>\n",
       "    <tr style=\"text-align: right;\">\n",
       "      <th></th>\n",
       "      <th>credit_score</th>\n",
       "      <th>country</th>\n",
       "      <th>gender</th>\n",
       "      <th>age</th>\n",
       "      <th>tenure</th>\n",
       "      <th>balance</th>\n",
       "      <th>products_number</th>\n",
       "      <th>credit_card</th>\n",
       "      <th>active_member</th>\n",
       "      <th>estimated_salary</th>\n",
       "      <th>churn</th>\n",
       "    </tr>\n",
       "  </thead>\n",
       "  <tbody>\n",
       "    <tr>\n",
       "      <th>0</th>\n",
       "      <td>619</td>\n",
       "      <td>France</td>\n",
       "      <td>Female</td>\n",
       "      <td>42</td>\n",
       "      <td>2</td>\n",
       "      <td>0.00</td>\n",
       "      <td>1</td>\n",
       "      <td>1</td>\n",
       "      <td>1</td>\n",
       "      <td>101348.88</td>\n",
       "      <td>1</td>\n",
       "    </tr>\n",
       "    <tr>\n",
       "      <th>1</th>\n",
       "      <td>608</td>\n",
       "      <td>Spain</td>\n",
       "      <td>Female</td>\n",
       "      <td>41</td>\n",
       "      <td>1</td>\n",
       "      <td>83807.86</td>\n",
       "      <td>1</td>\n",
       "      <td>0</td>\n",
       "      <td>1</td>\n",
       "      <td>112542.58</td>\n",
       "      <td>0</td>\n",
       "    </tr>\n",
       "    <tr>\n",
       "      <th>2</th>\n",
       "      <td>502</td>\n",
       "      <td>France</td>\n",
       "      <td>Female</td>\n",
       "      <td>42</td>\n",
       "      <td>8</td>\n",
       "      <td>159660.80</td>\n",
       "      <td>3</td>\n",
       "      <td>1</td>\n",
       "      <td>0</td>\n",
       "      <td>113931.57</td>\n",
       "      <td>1</td>\n",
       "    </tr>\n",
       "    <tr>\n",
       "      <th>3</th>\n",
       "      <td>699</td>\n",
       "      <td>France</td>\n",
       "      <td>Female</td>\n",
       "      <td>39</td>\n",
       "      <td>1</td>\n",
       "      <td>0.00</td>\n",
       "      <td>2</td>\n",
       "      <td>0</td>\n",
       "      <td>0</td>\n",
       "      <td>93826.63</td>\n",
       "      <td>0</td>\n",
       "    </tr>\n",
       "    <tr>\n",
       "      <th>4</th>\n",
       "      <td>850</td>\n",
       "      <td>Spain</td>\n",
       "      <td>Female</td>\n",
       "      <td>43</td>\n",
       "      <td>2</td>\n",
       "      <td>125510.82</td>\n",
       "      <td>1</td>\n",
       "      <td>1</td>\n",
       "      <td>1</td>\n",
       "      <td>79084.10</td>\n",
       "      <td>0</td>\n",
       "    </tr>\n",
       "  </tbody>\n",
       "</table>\n",
       "</div>"
      ],
      "text/plain": [
       "   credit_score country  gender  age  tenure    balance  products_number  \\\n",
       "0           619  France  Female   42       2       0.00                1   \n",
       "1           608   Spain  Female   41       1   83807.86                1   \n",
       "2           502  France  Female   42       8  159660.80                3   \n",
       "3           699  France  Female   39       1       0.00                2   \n",
       "4           850   Spain  Female   43       2  125510.82                1   \n",
       "\n",
       "   credit_card  active_member  estimated_salary  churn  \n",
       "0            1              1         101348.88      1  \n",
       "1            0              1         112542.58      0  \n",
       "2            1              0         113931.57      1  \n",
       "3            0              0          93826.63      0  \n",
       "4            1              1          79084.10      0  "
      ]
     },
     "execution_count": 9,
     "metadata": {},
     "output_type": "execute_result"
    }
   ],
   "source": [
    "data.head(5)"
   ]
  },
  {
   "cell_type": "code",
   "execution_count": 10,
   "metadata": {},
   "outputs": [
    {
     "name": "stdout",
     "output_type": "stream",
     "text": [
      "7963\n",
      "2037\n"
     ]
    }
   ],
   "source": [
    "# Get percentage of each class in target column (churn column)\n",
    "# lọc ra những hàng có churn == 0\n",
    "data[data['churn'] == 0]\n",
    "\n",
    "# lấy mỗi cột churn\n",
    "data.churn[data['churn'] == 0]\n",
    "\n",
    "# tính count\n",
    "churn_0 = data.churn[data['churn'] == 0].count()\n",
    "churn_1 = data.churn[data['churn'] == 1].count()\n",
    "print(churn_0)\n",
    "print(churn_1)"
   ]
  },
  {
   "cell_type": "code",
   "execution_count": 11,
   "metadata": {},
   "outputs": [
    {
     "data": {
      "image/png": "[encoded data removed]",
      "text/plain": [
       "<Figure size 640x480 with 1 Axes>"
      ]
     },
     "metadata": {},
     "output_type": "display_data"
    }
   ],
   "source": [
    "sizes = [churn_0, churn_1]\n",
    "labels = ['Not churned', 'Churned']\n",
    "\n",
    "fig, ax = plt.subplots()\n",
    "\n",
    "# %% giúp hiển thị dấu %, %.2f : chuyển thành float và lấy số thập phân thứ 2\n",
    "\n",
    "ax.pie(sizes,labels=labels ,autopct='%.2f%%')\n",
    "plt.legend(loc = 'upper left')\n",
    "plt.title(\"Churned VS Not Churned\", size=10)\n",
    "plt.show()"
   ]
  },
  {
   "cell_type": "code",
   "execution_count": 17,
   "metadata": {},
   "outputs": [
    {
     "data": {
      "text/plain": [
       "<Axes: title={'center': 'credit_score'}, ylabel='Frequency'>"
      ]
     },
     "execution_count": 17,
     "metadata": {},
     "output_type": "execute_result"
    },
    {
     "data": {
      "image/png": "[encoded data removed]",
      "text/plain": [
       "<Figure size 640x480 with 1 Axes>"
      ]
     },
     "metadata": {},
     "output_type": "display_data"
    }
   ],
   "source": [
    "# xài plot của pandas để vẽ\n",
    "# bins : mỗi cột chia thành khoảng 20 giá trị\n",
    "data['credit_score'].plot(kind='hist', bins=20, title='credit_score')"
   ]
  },
  {
   "cell_type": "code",
   "execution_count": 19,
   "metadata": {},
   "outputs": [
    {
     "name": "stdout",
     "output_type": "stream",
     "text": [
      "['France' 'Spain' 'Germany']\n"
     ]
    }
   ],
   "source": [
    "# Get unique value of this column\n",
    "countries = data['country'].unique()\n",
    "print(countries)"
   ]
  },
  {
   "cell_type": "code",
   "execution_count": 22,
   "metadata": {},
   "outputs": [
    {
     "name": "stdout",
     "output_type": "stream",
     "text": [
      "country\n",
      "France     5014\n",
      "Germany    2509\n",
      "Spain      2477\n",
      "Name: count, dtype: int64\n"
     ]
    }
   ],
   "source": [
    "# value_counts: đếm tần suất xuất hiện của các gtri duy nhất của 1 cột\n",
    "print(data['country'].value_counts())"
   ]
  },
  {
   "cell_type": "code",
   "execution_count": 26,
   "metadata": {},
   "outputs": [
    {
     "data": {
      "text/plain": [
       "<Axes: xlabel='country', ylabel='count'>"
      ]
     },
     "execution_count": 26,
     "metadata": {},
     "output_type": "execute_result"
    },
    {
     "data": {
      "image/png": "[encoded data removed]",
      "text/plain": [
       "<Figure size 640x480 with 1 Axes>"
      ]
     },
     "metadata": {},
     "output_type": "display_data"
    }
   ],
   "source": [
    "# hiển thị số lượng churn_0 và churn_1 mỗi quốc gia\n",
    "# hue để thêm 1 chiều phân loại vào cùng 1 biểu đồ\n",
    "sns.countplot(x='country', hue='churn', data=data)"
   ]
  }
 ],
 "metadata": {
  "kernelspec": {
   "display_name": "40daysPython_env",
   "language": "python",
   "name": "python3"
  },
  "language_info": {
   "codemirror_mode": {
    "name": "ipython",
    "version": 3
   },
   "file_extension": ".py",
   "mimetype": "text/x-python",
   "name": "python",
   "nbconvert_exporter": "python",
   "pygments_lexer": "ipython3",
   "version": "3.10.13"
  }
 },
 "nbformat": 4,
 "nbformat_minor": 2
}
