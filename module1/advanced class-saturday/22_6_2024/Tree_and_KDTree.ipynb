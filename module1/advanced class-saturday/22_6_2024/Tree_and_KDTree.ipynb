{
 "cells": [
  {
   "cell_type": "code",
   "execution_count": 28,
   "metadata": {},
   "outputs": [
    {
     "name": "stdout",
     "output_type": "stream",
     "text": [
      "Collecting graphviz\n",
      "  Downloading graphviz-0.20.3-py3-none-any.whl.metadata (12 kB)\n",
      "Downloading graphviz-0.20.3-py3-none-any.whl (47 kB)\n",
      "   ---------------------------------------- 0.0/47.1 kB ? eta -:--:--\n",
      "   ----------------- ---------------------- 20.5/47.1 kB 682.7 kB/s eta 0:00:01\n",
      "   ---------------------------------------- 47.1/47.1 kB 594.9 kB/s eta 0:00:00\n",
      "Installing collected packages: graphviz\n",
      "Successfully installed graphviz-0.20.3\n"
     ]
    }
   ],
   "source": [
    "! pip install graphviz"
   ]
  },
  {
   "cell_type": "code",
   "execution_count": 26,
   "metadata": {},
   "outputs": [],
   "source": [
    "class TreeNode:\n",
    "    def __init__(self,name) -> None:\n",
    "        self.__name = name\n",
    "        self.__sub_node = []\n",
    "        self.__parent = None\n",
    "        \n",
    "    def get_sub_node(self):\n",
    "        return self.__sub_node\n",
    "    \n",
    "    def add_child(self,node):\n",
    "        # thay đổi parent của node con = bản thân \n",
    "        node.set_parent_node(self) \n",
    "        self.__sub_node.append(node)\n",
    "\n",
    "    def get_name(self):\n",
    "        return self.__name\n",
    "    \n",
    "    def get_parent_node(self):\n",
    "        return self.__parent\n",
    "    \n",
    "    def set_parent_node(self, parent_node):\n",
    "        self.__parent = parent_node\n",
    "    \n",
    "    def get_level(self):\n",
    "        level = 0\n",
    "        p = self.__parent\n",
    "        while p != None:\n",
    "            level += 1\n",
    "            p = p.__parent\n",
    "        return level\n",
    "    def print_tree(self):\n",
    "        space = \" \" * self.get_level() * 3\n",
    "        prefix = space + \"|_\" if self.__parent else ''\n",
    "        print(prefix + self.__name)\n",
    "        for node in self.__sub_node:\n",
    "            node.print_tree()\n",
    "\n",
    "\n",
    "            "
   ]
  },
  {
   "cell_type": "code",
   "execution_count": 27,
   "metadata": {},
   "outputs": [
    {
     "name": "stdout",
     "output_type": "stream",
     "text": [
      "A\n",
      "   |_B\n",
      "      |_D\n",
      "      |_E\n",
      "   |_C\n",
      "      |_F\n",
      "      |_G\n"
     ]
    }
   ],
   "source": [
    "def create_tree():\n",
    "    a_node = TreeNode(\"A\")\n",
    "    b_node = TreeNode(\"B\")\n",
    "    c_node = TreeNode(\"C\")\n",
    "    d_node = TreeNode(\"D\")  \n",
    "    e_node = TreeNode(\"E\")\n",
    "    f_node = TreeNode(\"F\")\n",
    "    g_node = TreeNode(\"G\")\n",
    "    a_node.add_child(b_node)\n",
    "    a_node.add_child(c_node)\n",
    "    b_node.add_child(d_node)\n",
    "    b_node.add_child(e_node)\n",
    "    c_node.add_child(f_node)\n",
    "    c_node.add_child(g_node)\n",
    "    return a_node\n",
    "tree = create_tree()\n",
    "tree.print_tree()"
   ]
  },
  {
   "cell_type": "code",
   "execution_count": 33,
   "metadata": {},
   "outputs": [],
   "source": [
    "#Binary tree\n",
    "from graphviz import Graph\n",
    "class TreeNode:\n",
    "    def __init__(self, value) -> None:\n",
    "        self.left = None\n",
    "        self.right = None\n",
    "        self.value = value\n",
    "\n",
    "def draw_edges(dot, node):\n",
    "    if node == None:\n",
    "        return\n",
    "    \n",
    "    if node.left:\n",
    "        # value 1 là node cha ,value 2 là node con \n",
    "        # truyền 2 value để báo dot là value2 được nối từ value 1\n",
    "        dot.edge(str(node.value), str(node.left.value))\n",
    "        draw_edges(dot,node.left)\n",
    "    if node.right:\n",
    "        dot.edge(str(node.value), str(node.right.value))\n",
    "        draw_edges(dot, node.right)\n",
    "    \n",
    "\n",
    "def draw_tree(root):\n",
    "    dot = Graph()\n",
    "    dot.node(str(root.value))\n",
    "    draw_edges(dot, root)\n",
    "    return dot"
   ]
  },
  {
   "cell_type": "code",
   "execution_count": 44,
   "metadata": {},
   "outputs": [],
   "source": [
    "#Create binary tree\n",
    "\n",
    "root = TreeNode(1)\n",
    "root.left = TreeNode(2)\n",
    "root.right = TreeNode(3)\n",
    "root.left.left = TreeNode(4)\n",
    "root.left.right = TreeNode(5)\n",
    "root.right.left = TreeNode(6)\n",
    "root.right.right = TreeNode(7)\n",
    "# draw_tree(root)"
   ]
  },
  {
   "cell_type": "code",
   "execution_count": 46,
   "metadata": {},
   "outputs": [
    {
     "name": "stdout",
     "output_type": "stream",
     "text": [
      "BFS traversal result: [1, 2, 3, 4, 5, 6, 7]\n",
      "DFS traversal result: [1, 2, 4, 5, 3, 6, 7]\n"
     ]
    }
   ],
   "source": [
    "from collections import deque\n",
    "\n",
    "# Traversal of Binary Tree\n",
    "def bfs(root):\n",
    "    # hàng đợi ban đầu chứa nút root\n",
    "    queue = deque([root])\n",
    "    ans = []\n",
    "    # cứ 1 lần duyệt là sẽ thêm hết nút con vào queue\n",
    "    while queue:\n",
    "        node = queue.popleft()\n",
    "        ans.append(node.value)\n",
    "        if node.left:\n",
    "            queue.append(node.left)\n",
    "        if node.right:\n",
    "            queue.append(node.right)\n",
    "    return ans\n",
    "\n",
    "def dfs(root):\n",
    "    if root == None:\n",
    "        return []\n",
    "    \n",
    "    result = []\n",
    "    result.append(root.value)\n",
    "    if root.left:\n",
    "        result.extend(dfs(root.left))\n",
    "    if root.right:\n",
    "        result.extend(dfs(root.right))\n",
    "    \n",
    "    return result\n",
    "\n",
    "bfs_result = bfs(root=root)\n",
    "dfs_result = dfs(root)\n",
    "print(\"BFS traversal result:\", bfs_result)\n",
    "print(\"DFS traversal result:\", dfs_result)"
   ]
  },
  {
   "cell_type": "code",
   "execution_count": 54,
   "metadata": {},
   "outputs": [],
   "source": [
    "# Binary search tree\n",
    "class BST:\n",
    "    def __init__(self) -> None:\n",
    "        self.root = None\n",
    "\n",
    "    def insert(self, value):\n",
    "        if self.root == None:\n",
    "            self.root = TreeNode(value=value)\n",
    "        else:\n",
    "            self._insert(self.root, value)\n",
    "\n",
    "    def _insert(self, node, value):\n",
    "        if value < node.value:\n",
    "            if node.left == None:\n",
    "                node.left = TreeNode(value=value)\n",
    "            else:\n",
    "                self._insert(node.left, value)\n",
    "        else:\n",
    "            if node.right == None:\n",
    "                node.right = TreeNode(value=value)\n",
    "            else:\n",
    "                self._insert(node.right, value)\n",
    "                \n",
    "    def search(self, value):\n",
    "        return self._search(self.root, value) \n",
    "    \n",
    "    def _search(self,node,value):\\\n",
    "    # nếu node là none nghĩa là nó chạy tới cuối , return lại none cho bên ngoài nó check\n",
    "        if node == None or node.value == value:\n",
    "            return node\n",
    "        \n",
    "        if node.value > value:\n",
    "            return self._search(node.left, value)\n",
    "        \n",
    "        return self._search(node.right, value)\n",
    "\n",
    "bst = BST()\n",
    "elements = [50, 30, 20, 40, 70, 60, 80]\n",
    "for element in elements:\n",
    "    bst.insert(element)"
   ]
  },
  {
   "cell_type": "code",
   "execution_count": 59,
   "metadata": {},
   "outputs": [
    {
     "name": "stdout",
     "output_type": "stream",
     "text": [
      "element 100 not found in bst\n"
     ]
    }
   ],
   "source": [
    "# Search algorithm tree\n",
    "# def lookup(root, value):\n",
    "\n",
    "#     if root.value == value:\n",
    "#         return True\n",
    "#     if value < root.value:\n",
    "#         return lookup(root.left ,value)\n",
    "#     if value > root.value:\n",
    "#         return lookup(root.right , value)\n",
    "    \n",
    "#     if root == None:\n",
    "#         return False\n",
    "\n",
    "key = 100\n",
    "result = bst.search(key)\n",
    "if result:\n",
    "    print(f\"element {key} found in bst\")\n",
    "else:\n",
    "    print(f\"element {key} not found in bst\")"
   ]
  }
 ],
 "metadata": {
  "kernelspec": {
   "display_name": "40daysPython_env",
   "language": "python",
   "name": "python3"
  },
  "language_info": {
   "codemirror_mode": {
    "name": "ipython",
    "version": 3
   },
   "file_extension": ".py",
   "mimetype": "text/x-python",
   "name": "python",
   "nbconvert_exporter": "python",
   "pygments_lexer": "ipython3",
   "version": "3.10.13"
  }
 },
 "nbformat": 4,
 "nbformat_minor": 2
}
