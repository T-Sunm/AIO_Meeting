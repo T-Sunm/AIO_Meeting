{
 "cells": [
  {
   "cell_type": "code",
   "execution_count": 15,
   "metadata": {},
   "outputs": [
    {
     "name": "stdout",
     "output_type": "stream",
     "text": [
      "8\n"
     ]
    }
   ],
   "source": [
    "list = [1, 2, 3, 4, 5, 6, 7, 8, 9, 10, 11]\n",
    "length = len(list) - 1\n",
    "search_value = 9\n",
    "start = 0\n",
    "end = length\n",
    "index_search = -1\n",
    "while start <= end:\n",
    "    middle_index = (end + start) // 2\n",
    "    middle_value = list[middle_index]\n",
    "    if search_value == middle_value:\n",
    "        index_search = middle_index\n",
    "        break\n",
    "    elif search_value <= middle_value:\n",
    "        end = middle_index - 1\n",
    "    else:\n",
    "        start = middle_index + 1\n",
    "\n",
    "print(index_search)"
   ]
  },
  {
   "cell_type": "code",
   "execution_count": null,
   "metadata": {},
   "outputs": [],
   "source": []
  }
 ],
 "metadata": {
  "kernelspec": {
   "display_name": "40daysPython_env",
   "language": "python",
   "name": "python3"
  },
  "language_info": {
   "codemirror_mode": {
    "name": "ipython",
    "version": 3
   },
   "file_extension": ".py",
   "mimetype": "text/x-python",
   "name": "python",
   "nbconvert_exporter": "python",
   "pygments_lexer": "ipython3",
   "version": "3.10.13"
  }
 },
 "nbformat": 4,
 "nbformat_minor": 2
}
