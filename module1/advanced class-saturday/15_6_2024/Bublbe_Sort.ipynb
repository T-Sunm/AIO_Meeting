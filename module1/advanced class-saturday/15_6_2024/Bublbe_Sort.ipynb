{
 "cells": [
  {
   "cell_type": "code",
   "execution_count": 4,
   "metadata": {},
   "outputs": [
    {
     "name": "stdout",
     "output_type": "stream",
     "text": [
      "[4, 6, 7, 9]\n"
     ]
    }
   ],
   "source": [
    "list = [9, 4, 7, 6]\n",
    "length = len(list)\n",
    "for i in range(length):\n",
    "    swap = False\n",
    "    for j in range(length - i - 1):\n",
    "        swap = True\n",
    "        if list[j] > list[j + 1]:\n",
    "            (list[j + 1], list[j]) = (list[j], list[j + 1])\n",
    "    if swap == False:\n",
    "        break\n",
    "\n",
    "print(list)"
   ]
  },
  {
   "cell_type": "code",
   "execution_count": null,
   "metadata": {},
   "outputs": [],
   "source": []
  }
 ],
 "metadata": {
  "kernelspec": {
   "display_name": "40daysPython_env",
   "language": "python",
   "name": "python3"
  },
  "language_info": {
   "codemirror_mode": {
    "name": "ipython",
    "version": 3
   },
   "file_extension": ".py",
   "mimetype": "text/x-python",
   "name": "python",
   "nbconvert_exporter": "python",
   "pygments_lexer": "ipython3",
   "version": "3.10.13"
  }
 },
 "nbformat": 4,
 "nbformat_minor": 2
}
