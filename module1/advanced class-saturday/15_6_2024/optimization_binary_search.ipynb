{
 "cells": [
  {
   "cell_type": "code",
   "execution_count": 5,
   "metadata": {},
   "outputs": [],
   "source": [
    "def binary_search_min(f, a, b, tol = 1e-7):\n",
    "    left = a\n",
    "    right = b\n",
    "    while right - left > tol:\n",
    "        mid = (left + right) / 2\n",
    "        right_mid = mid + tol\n",
    "        left_mid = mid - tol\n",
    "        f_left_mid = f(left_mid)\n",
    "        f_right_mid = f(right_mid)\n",
    "        if f_right_mid > f_left_mid:\n",
    "            right = mid\n",
    "        else:\n",
    "            left = mid\n",
    "    return (left + right) / 2"
   ]
  },
  {
   "cell_type": "code",
   "execution_count": 7,
   "metadata": {},
   "outputs": [
    {
     "name": "stdout",
     "output_type": "stream",
     "text": [
      "Minimum x: 2.60770320892334e-08\n",
      "Minimum value: -0.9999999999999993\n"
     ]
    }
   ],
   "source": [
    "def f(x):\n",
    "    return x**2 - 1\n",
    "\n",
    "a = -8 # start point of interval\n",
    "b = 10 # end point of interval\n",
    "minimum_x = binary_search_min(f, a, b)\n",
    "minimum_f = f(minimum_x)\n",
    "print(f\"Minimum x: {minimum_x}\")\n",
    "print(f\"Minimum value: {minimum_f}\")"
   ]
  }
 ],
 "metadata": {
  "kernelspec": {
   "display_name": "40daysPython_env",
   "language": "python",
   "name": "python3"
  },
  "language_info": {
   "codemirror_mode": {
    "name": "ipython",
    "version": 3
   },
   "file_extension": ".py",
   "mimetype": "text/x-python",
   "name": "python",
   "nbconvert_exporter": "python",
   "pygments_lexer": "ipython3",
   "version": "3.10.13"
  }
 },
 "nbformat": 4,
 "nbformat_minor": 2
}
