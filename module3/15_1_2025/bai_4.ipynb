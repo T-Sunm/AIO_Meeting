{
 "cells": [
  {
   "cell_type": "code",
   "execution_count": 1,
   "metadata": {},
   "outputs": [
    {
     "name": "stdout",
     "output_type": "stream",
     "text": [
      "Fitting 5 folds for each of 50 candidates, totalling 250 fits\n",
      "Best parameters found: {'svr__C': 21.333911067827618, 'svr__gamma': 1, 'svr__kernel': 'linear'}\n",
      "Mean Squared Error on Test Set: 0.011195893897019714\n"
     ]
    }
   ],
   "source": [
    "import numpy as np\n",
    "from sklearn.datasets import make_regression\n",
    "from sklearn.model_selection import train_test_split, RandomizedSearchCV\n",
    "from sklearn.svm import SVR\n",
    "from sklearn.metrics import mean_squared_error\n",
    "from sklearn.feature_selection import SelectKBest, f_regression\n",
    "from sklearn.pipeline import Pipeline\n",
    "from scipy.stats import uniform\n",
    "from sklearn.preprocessing import StandardScaler\n",
    "\n",
    "X, y = make_regression(n_samples=1000, n_features=5,\n",
    "                       noise=0.1, random_state=42)\n",
    "\n",
    "X_train, X_test, y_train, y_test = train_test_split(\n",
    "    X, y, test_size=0.2, random_state=42)\n",
    "\n",
    "param_distributions = {\n",
    "    'svr__kernel': ['linear', 'rbf'],\n",
    "    'svr__C': uniform(0.1, 100),\n",
    "    'svr__gamma': ['scale', 'auto', 0.1, 1, 10]\n",
    "}\n",
    "\n",
    "pipeline = Pipeline([\n",
    "    ('scaling', StandardScaler()),  # Chuẩn hóa dữ liệu\n",
    "    ('feature_selection', SelectKBest(score_func=f_regression, k='all')),\n",
    "    ('svr', SVR())\n",
    "])\n",
    "\n",
    "random_search = RandomizedSearchCV(pipeline, param_distributions, n_iter=50,\n",
    "                                   cv=5, scoring='neg_mean_squared_error', verbose=1, random_state=42)\n",
    "random_search.fit(X_train, y_train)\n",
    "\n",
    "print(\"Best parameters found:\", random_search.best_params_)\n",
    "best_model = random_search.best_estimator_\n",
    "\n",
    "y_pred = best_model.predict(X_test)\n",
    "\n",
    "mse = mean_squared_error(y_test, y_pred)\n",
    "print(\"Mean Squared Error on Test Set:\", mse)"
   ]
  }
 ],
 "metadata": {
  "kernelspec": {
   "display_name": "AIOEx",
   "language": "python",
   "name": "python3"
  },
  "language_info": {
   "codemirror_mode": {
    "name": "ipython",
    "version": 3
   },
   "file_extension": ".py",
   "mimetype": "text/x-python",
   "name": "python",
   "nbconvert_exporter": "python",
   "pygments_lexer": "ipython3",
   "version": "3.10.15"
  }
 },
 "nbformat": 4,
 "nbformat_minor": 2
}
