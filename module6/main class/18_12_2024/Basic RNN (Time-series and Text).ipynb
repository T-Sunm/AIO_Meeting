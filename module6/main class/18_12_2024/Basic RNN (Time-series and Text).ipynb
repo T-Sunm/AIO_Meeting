{
 "cells": [
  {
   "cell_type": "markdown",
   "metadata": {},
   "source": [
    "### Khởi tạo embedding"
   ]
  },
  {
   "cell_type": "code",
   "execution_count": 54,
   "metadata": {},
   "outputs": [
    {
     "name": "stdout",
     "output_type": "stream",
     "text": [
      "Parameter containing:\n",
      "tensor([[-0.0589, -0.0076,  0.9485,  0.4967, -0.1190],\n",
      "        [ 1.3687,  0.2505, -1.3363, -2.1836, -0.0737],\n",
      "        [ 1.1634, -0.1850,  0.3644,  2.2584, -0.0577]], requires_grad=True)\n"
     ]
    }
   ],
   "source": [
    "import torch.nn as nn\n",
    "import torch\n",
    "\n",
    "vocab_size = 3\n",
    "embed_dim = 5\n",
    "hidden_dim = 3\n",
    "embedding = nn.Embedding(vocab_size, embed_dim)\n",
    "print(embedding.weight)"
   ]
  },
  {
   "cell_type": "markdown",
   "metadata": {},
   "source": [
    "### torch.randint(low, high, size, *, generator=None, out=None, dtype=torch.int64, layout=torch.strided, device=None, requires_grad=False)\n",
    "- low: Giá trị tối thiểu (bao gồm cả giá trị này) của các số nguyên được tạo.\n",
    "- high: Giá trị tối đa (không bao gồm giá trị này) của các số nguyên được tạo.\n",
    "- size: Kích thước của tensor đầu ra (dạng tuple, ví dụ (2, 3))"
   ]
  },
  {
   "cell_type": "code",
   "execution_count": 55,
   "metadata": {},
   "outputs": [
    {
     "data": {
      "text/plain": [
       "tensor([[2, 0, 0]])"
      ]
     },
     "execution_count": 55,
     "metadata": {},
     "output_type": "execute_result"
    }
   ],
   "source": [
    "data = torch.randint(0, vocab_size, (1, 3), dtype=torch.long)\n",
    "data"
   ]
  },
  {
   "cell_type": "code",
   "execution_count": 56,
   "metadata": {},
   "outputs": [
    {
     "data": {
      "text/plain": [
       "tensor([[[ 1.1634, -0.1850,  0.3644,  2.2584, -0.0577],\n",
       "         [-0.0589, -0.0076,  0.9485,  0.4967, -0.1190],\n",
       "         [-0.0589, -0.0076,  0.9485,  0.4967, -0.1190]]],\n",
       "       grad_fn=<EmbeddingBackward0>)"
      ]
     },
     "execution_count": 56,
     "metadata": {},
     "output_type": "execute_result"
    }
   ],
   "source": [
    "output = embedding(data)\n",
    "output"
   ]
  },
  {
   "cell_type": "markdown",
   "metadata": {},
   "source": [
    "### Create RNNs"
   ]
  },
  {
   "cell_type": "code",
   "execution_count": 57,
   "metadata": {},
   "outputs": [
    {
     "name": "stdout",
     "output_type": "stream",
     "text": [
      "Number of parameters in RNN: 30\n"
     ]
    }
   ],
   "source": [
    "import torch.nn as nn\n",
    "\n",
    "rnn = nn.RNN(embed_dim, hidden_dim, batch_first=True)\n",
    "num_params = sum(p.numel() for p in rnn.parameters())\n",
    "print(f\"Number of parameters in RNN: {num_params}\")"
   ]
  },
  {
   "cell_type": "code",
   "execution_count": 62,
   "metadata": {},
   "outputs": [
    {
     "name": "stdout",
     "output_type": "stream",
     "text": [
      "torch.Size([1, 3, 3])\n",
      "torch.Size([1, 1, 3])\n"
     ]
    }
   ],
   "source": [
    "import torch.nn as nn\n",
    "\n",
    "rnn = nn.RNN(embed_dim, hidden_dim, batch_first=True)\n",
    "rnn_output, rnn_hidden = rnn(output)\n",
    "print(rnn_output.shape)\n",
    "print(rnn_hidden.shape)"
   ]
  },
  {
   "cell_type": "code",
   "execution_count": 63,
   "metadata": {},
   "outputs": [
    {
     "name": "stdout",
     "output_type": "stream",
     "text": [
      "Lấy toàn bộ kết quả RNNs tensor([[[-0.3662,  0.4203,  0.2592],\n",
      "         [-0.3691,  0.2774, -0.0576],\n",
      "         [-0.4579,  0.2936, -0.1061]]], grad_fn=<TransposeBackward1>)\n"
     ]
    }
   ],
   "source": [
    "print(\"Lấy toàn bộ kết quả RNNs\", rnn_output)"
   ]
  },
  {
   "cell_type": "code",
   "execution_count": 64,
   "metadata": {},
   "outputs": [
    {
     "name": "stdout",
     "output_type": "stream",
     "text": [
      "Lấy kết quả cuối của RNNs tensor([[[-0.4579,  0.2936, -0.1061]]], grad_fn=<StackBackward0>)\n",
      "Lấy kết quả cuối của RNNs tensor([[-0.4579,  0.2936, -0.1061]], grad_fn=<SliceBackward0>)\n"
     ]
    }
   ],
   "source": [
    "print(\"Lấy kết quả cuối của RNNs\", rnn_hidden) \n",
    "print(\"Lấy kết quả cuối của RNNs\", rnn_hidden[-1,: ,: ])"
   ]
  }
 ],
 "metadata": {
  "kernelspec": {
   "display_name": "AIOEx",
   "language": "python",
   "name": "python3"
  },
  "language_info": {
   "codemirror_mode": {
    "name": "ipython",
    "version": 3
   },
   "file_extension": ".py",
   "mimetype": "text/x-python",
   "name": "python",
   "nbconvert_exporter": "python",
   "pygments_lexer": "ipython3",
   "version": "3.10.15"
  }
 },
 "nbformat": 4,
 "nbformat_minor": 2
}
