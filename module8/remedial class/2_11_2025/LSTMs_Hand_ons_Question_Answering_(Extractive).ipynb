{
  "cells": [
    {
      "cell_type": "code",
      "execution_count": 1,
      "metadata": {
        "colab": {
          "base_uri": "https://localhost:8080/"
        },
        "collapsed": true,
        "id": "78IoPbnBLRLw",
        "outputId": "ea49b22a-7ba6-473d-d6e6-1c5b0bd5ab15"
      },
      "outputs": [
        {
          "name": "stdout",
          "output_type": "stream",
          "text": [
            "Collecting torchtext==0.17.0\n",
            "  Downloading torchtext-0.17.0-cp311-cp311-manylinux1_x86_64.whl.metadata (7.6 kB)\n",
            "Requirement already satisfied: tqdm in /usr/local/lib/python3.11/dist-packages (from torchtext==0.17.0) (4.67.1)\n",
            "Requirement already satisfied: requests in /usr/local/lib/python3.11/dist-packages (from torchtext==0.17.0) (2.32.3)\n",
            "Collecting torch==2.2.0 (from torchtext==0.17.0)\n",
            "  Downloading torch-2.2.0-cp311-cp311-manylinux1_x86_64.whl.metadata (25 kB)\n",
            "Requirement already satisfied: numpy in /usr/local/lib/python3.11/dist-packages (from torchtext==0.17.0) (1.26.4)\n",
            "Collecting torchdata==0.7.1 (from torchtext==0.17.0)\n",
            "  Downloading torchdata-0.7.1-cp311-cp311-manylinux_2_17_x86_64.manylinux2014_x86_64.whl.metadata (13 kB)\n",
            "Requirement already satisfied: filelock in /usr/local/lib/python3.11/dist-packages (from torch==2.2.0->torchtext==0.17.0) (3.17.0)\n",
            "Requirement already satisfied: typing-extensions>=4.8.0 in /usr/local/lib/python3.11/dist-packages (from torch==2.2.0->torchtext==0.17.0) (4.12.2)\n",
            "Requirement already satisfied: sympy in /usr/local/lib/python3.11/dist-packages (from torch==2.2.0->torchtext==0.17.0) (1.13.1)\n",
            "Requirement already satisfied: networkx in /usr/local/lib/python3.11/dist-packages (from torch==2.2.0->torchtext==0.17.0) (3.4.2)\n",
            "Requirement already satisfied: jinja2 in /usr/local/lib/python3.11/dist-packages (from torch==2.2.0->torchtext==0.17.0) (3.1.5)\n",
            "Requirement already satisfied: fsspec in /usr/local/lib/python3.11/dist-packages (from torch==2.2.0->torchtext==0.17.0) (2024.10.0)\n",
            "Collecting nvidia-cuda-nvrtc-cu12==12.1.105 (from torch==2.2.0->torchtext==0.17.0)\n",
            "  Downloading nvidia_cuda_nvrtc_cu12-12.1.105-py3-none-manylinux1_x86_64.whl.metadata (1.5 kB)\n",
            "Collecting nvidia-cuda-runtime-cu12==12.1.105 (from torch==2.2.0->torchtext==0.17.0)\n",
            "  Downloading nvidia_cuda_runtime_cu12-12.1.105-py3-none-manylinux1_x86_64.whl.metadata (1.5 kB)\n",
            "Collecting nvidia-cuda-cupti-cu12==12.1.105 (from torch==2.2.0->torchtext==0.17.0)\n",
            "  Downloading nvidia_cuda_cupti_cu12-12.1.105-py3-none-manylinux1_x86_64.whl.metadata (1.6 kB)\n",
            "Collecting nvidia-cudnn-cu12==8.9.2.26 (from torch==2.2.0->torchtext==0.17.0)\n",
            "  Downloading nvidia_cudnn_cu12-8.9.2.26-py3-none-manylinux1_x86_64.whl.metadata (1.6 kB)\n",
            "Collecting nvidia-cublas-cu12==12.1.3.1 (from torch==2.2.0->torchtext==0.17.0)\n",
            "  Downloading nvidia_cublas_cu12-12.1.3.1-py3-none-manylinux1_x86_64.whl.metadata (1.5 kB)\n",
            "Collecting nvidia-cufft-cu12==11.0.2.54 (from torch==2.2.0->torchtext==0.17.0)\n",
            "  Downloading nvidia_cufft_cu12-11.0.2.54-py3-none-manylinux1_x86_64.whl.metadata (1.5 kB)\n",
            "Collecting nvidia-curand-cu12==10.3.2.106 (from torch==2.2.0->torchtext==0.17.0)\n",
            "  Downloading nvidia_curand_cu12-10.3.2.106-py3-none-manylinux1_x86_64.whl.metadata (1.5 kB)\n",
            "Collecting nvidia-cusolver-cu12==11.4.5.107 (from torch==2.2.0->torchtext==0.17.0)\n",
            "  Downloading nvidia_cusolver_cu12-11.4.5.107-py3-none-manylinux1_x86_64.whl.metadata (1.6 kB)\n",
            "Collecting nvidia-cusparse-cu12==12.1.0.106 (from torch==2.2.0->torchtext==0.17.0)\n",
            "  Downloading nvidia_cusparse_cu12-12.1.0.106-py3-none-manylinux1_x86_64.whl.metadata (1.6 kB)\n",
            "Collecting nvidia-nccl-cu12==2.19.3 (from torch==2.2.0->torchtext==0.17.0)\n",
            "  Downloading nvidia_nccl_cu12-2.19.3-py3-none-manylinux1_x86_64.whl.metadata (1.8 kB)\n",
            "Collecting nvidia-nvtx-cu12==12.1.105 (from torch==2.2.0->torchtext==0.17.0)\n",
            "  Downloading nvidia_nvtx_cu12-12.1.105-py3-none-manylinux1_x86_64.whl.metadata (1.7 kB)\n",
            "Collecting triton==2.2.0 (from torch==2.2.0->torchtext==0.17.0)\n",
            "  Downloading triton-2.2.0-cp311-cp311-manylinux_2_17_x86_64.manylinux2014_x86_64.whl.metadata (1.4 kB)\n",
            "Requirement already satisfied: urllib3>=1.25 in /usr/local/lib/python3.11/dist-packages (from torchdata==0.7.1->torchtext==0.17.0) (2.3.0)\n",
            "Requirement already satisfied: nvidia-nvjitlink-cu12 in /usr/local/lib/python3.11/dist-packages (from nvidia-cusolver-cu12==11.4.5.107->torch==2.2.0->torchtext==0.17.0) (12.5.82)\n",
            "Requirement already satisfied: charset-normalizer<4,>=2 in /usr/local/lib/python3.11/dist-packages (from requests->torchtext==0.17.0) (3.4.1)\n",
            "Requirement already satisfied: idna<4,>=2.5 in /usr/local/lib/python3.11/dist-packages (from requests->torchtext==0.17.0) (3.10)\n",
            "Requirement already satisfied: certifi>=2017.4.17 in /usr/local/lib/python3.11/dist-packages (from requests->torchtext==0.17.0) (2025.1.31)\n",
            "Requirement already satisfied: MarkupSafe>=2.0 in /usr/local/lib/python3.11/dist-packages (from jinja2->torch==2.2.0->torchtext==0.17.0) (3.0.2)\n",
            "Requirement already satisfied: mpmath<1.4,>=1.1.0 in /usr/local/lib/python3.11/dist-packages (from sympy->torch==2.2.0->torchtext==0.17.0) (1.3.0)\n",
            "Downloading torchtext-0.17.0-cp311-cp311-manylinux1_x86_64.whl (2.0 MB)\n",
            "\u001b[2K   \u001b[90m━━━━━━━━━━━━━━━━━━━━━━━━━━━━━━━━━━━━━━━━\u001b[0m \u001b[32m2.0/2.0 MB\u001b[0m \u001b[31m35.8 MB/s\u001b[0m eta \u001b[36m0:00:00\u001b[0m\n",
            "\u001b[?25hDownloading torch-2.2.0-cp311-cp311-manylinux1_x86_64.whl (755.5 MB)\n",
            "\u001b[2K   \u001b[90m━━━━━━━━━━━━━━━━━━━━━━━━━━━━━━━━━━━━━━━━\u001b[0m \u001b[32m755.5/755.5 MB\u001b[0m \u001b[31m1.5 MB/s\u001b[0m eta \u001b[36m0:00:00\u001b[0m\n",
            "\u001b[?25hDownloading torchdata-0.7.1-cp311-cp311-manylinux_2_17_x86_64.manylinux2014_x86_64.whl (4.7 MB)\n",
            "\u001b[2K   \u001b[90m━━━━━━━━━━━━━━━━━━━━━━━━━━━━━━━━━━━━━━━━\u001b[0m \u001b[32m4.7/4.7 MB\u001b[0m \u001b[31m80.8 MB/s\u001b[0m eta \u001b[36m0:00:00\u001b[0m\n",
            "\u001b[?25hDownloading nvidia_cublas_cu12-12.1.3.1-py3-none-manylinux1_x86_64.whl (410.6 MB)\n",
            "\u001b[2K   \u001b[90m━━━━━━━━━━━━━━━━━━━━━━━━━━━━━━━━━━━━━━━━\u001b[0m \u001b[32m410.6/410.6 MB\u001b[0m \u001b[31m4.2 MB/s\u001b[0m eta \u001b[36m0:00:00\u001b[0m\n",
            "\u001b[?25hDownloading nvidia_cuda_cupti_cu12-12.1.105-py3-none-manylinux1_x86_64.whl (14.1 MB)\n",
            "\u001b[2K   \u001b[90m━━━━━━━━━━━━━━━━━━━━━━━━━━━━━━━━━━━━━━━━\u001b[0m \u001b[32m14.1/14.1 MB\u001b[0m \u001b[31m71.1 MB/s\u001b[0m eta \u001b[36m0:00:00\u001b[0m\n",
            "\u001b[?25hDownloading nvidia_cuda_nvrtc_cu12-12.1.105-py3-none-manylinux1_x86_64.whl (23.7 MB)\n",
            "\u001b[2K   \u001b[90m━━━━━━━━━━━━━━━━━━━━━━━━━━━━━━━━━━━━━━━━\u001b[0m \u001b[32m23.7/23.7 MB\u001b[0m \u001b[31m70.4 MB/s\u001b[0m eta \u001b[36m0:00:00\u001b[0m\n",
            "\u001b[?25hDownloading nvidia_cuda_runtime_cu12-12.1.105-py3-none-manylinux1_x86_64.whl (823 kB)\n",
            "\u001b[2K   \u001b[90m━━━━━━━━━━━━━━━━━━━━━━━━━━━━━━━━━━━━━━━━\u001b[0m \u001b[32m823.6/823.6 kB\u001b[0m \u001b[31m45.8 MB/s\u001b[0m eta \u001b[36m0:00:00\u001b[0m\n",
            "\u001b[?25hDownloading nvidia_cudnn_cu12-8.9.2.26-py3-none-manylinux1_x86_64.whl (731.7 MB)\n",
            "\u001b[2K   \u001b[90m━━━━━━━━━━━━━━━━━━━━━━━━━━━━━━━━━━━━━━━━\u001b[0m \u001b[32m731.7/731.7 MB\u001b[0m \u001b[31m1.9 MB/s\u001b[0m eta \u001b[36m0:00:00\u001b[0m\n",
            "\u001b[?25hDownloading nvidia_cufft_cu12-11.0.2.54-py3-none-manylinux1_x86_64.whl (121.6 MB)\n",
            "\u001b[2K   \u001b[90m━━━━━━━━━━━━━━━━━━━━━━━━━━━━━━━━━━━━━━━━\u001b[0m \u001b[32m121.6/121.6 MB\u001b[0m \u001b[31m7.1 MB/s\u001b[0m eta \u001b[36m0:00:00\u001b[0m\n",
            "\u001b[?25hDownloading nvidia_curand_cu12-10.3.2.106-py3-none-manylinux1_x86_64.whl (56.5 MB)\n",
            "\u001b[2K   \u001b[90m━━━━━━━━━━━━━━━━━━━━━━━━━━━━━━━━━━━━━━━━\u001b[0m \u001b[32m56.5/56.5 MB\u001b[0m \u001b[31m11.6 MB/s\u001b[0m eta \u001b[36m0:00:00\u001b[0m\n",
            "\u001b[?25hDownloading nvidia_cusolver_cu12-11.4.5.107-py3-none-manylinux1_x86_64.whl (124.2 MB)\n",
            "\u001b[2K   \u001b[90m━━━━━━━━━━━━━━━━━━━━━━━━━━━━━━━━━━━━━━━━\u001b[0m \u001b[32m124.2/124.2 MB\u001b[0m \u001b[31m7.1 MB/s\u001b[0m eta \u001b[36m0:00:00\u001b[0m\n",
            "\u001b[?25hDownloading nvidia_cusparse_cu12-12.1.0.106-py3-none-manylinux1_x86_64.whl (196.0 MB)\n",
            "\u001b[2K   \u001b[90m━━━━━━━━━━━━━━━━━━━━━━━━━━━━━━━━━━━━━━━━\u001b[0m \u001b[32m196.0/196.0 MB\u001b[0m \u001b[31m6.2 MB/s\u001b[0m eta \u001b[36m0:00:00\u001b[0m\n",
            "\u001b[?25hDownloading nvidia_nccl_cu12-2.19.3-py3-none-manylinux1_x86_64.whl (166.0 MB)\n",
            "\u001b[2K   \u001b[90m━━━━━━━━━━━━━━━━━━━━━━━━━━━━━━━━━━━━━━━━\u001b[0m \u001b[32m166.0/166.0 MB\u001b[0m \u001b[31m7.2 MB/s\u001b[0m eta \u001b[36m0:00:00\u001b[0m\n",
            "\u001b[?25hDownloading nvidia_nvtx_cu12-12.1.105-py3-none-manylinux1_x86_64.whl (99 kB)\n",
            "\u001b[2K   \u001b[90m━━━━━━━━━━━━━━━━━━━━━━━━━━━━━━━━━━━━━━━━\u001b[0m \u001b[32m99.1/99.1 kB\u001b[0m \u001b[31m8.2 MB/s\u001b[0m eta \u001b[36m0:00:00\u001b[0m\n",
            "\u001b[?25hDownloading triton-2.2.0-cp311-cp311-manylinux_2_17_x86_64.manylinux2014_x86_64.whl (167.9 MB)\n",
            "\u001b[2K   \u001b[90m━━━━━━━━━━━━━━━━━━━━━━━━━━━━━━━━━━━━━━━━\u001b[0m \u001b[32m167.9/167.9 MB\u001b[0m \u001b[31m5.9 MB/s\u001b[0m eta \u001b[36m0:00:00\u001b[0m\n",
            "\u001b[?25hInstalling collected packages: triton, nvidia-nvtx-cu12, nvidia-nccl-cu12, nvidia-cusparse-cu12, nvidia-curand-cu12, nvidia-cufft-cu12, nvidia-cuda-runtime-cu12, nvidia-cuda-nvrtc-cu12, nvidia-cuda-cupti-cu12, nvidia-cublas-cu12, nvidia-cusolver-cu12, nvidia-cudnn-cu12, torch, torchdata, torchtext\n",
            "  Attempting uninstall: triton\n",
            "    Found existing installation: triton 3.1.0\n",
            "    Uninstalling triton-3.1.0:\n",
            "      Successfully uninstalled triton-3.1.0\n",
            "  Attempting uninstall: nvidia-nvtx-cu12\n",
            "    Found existing installation: nvidia-nvtx-cu12 12.4.127\n",
            "    Uninstalling nvidia-nvtx-cu12-12.4.127:\n",
            "      Successfully uninstalled nvidia-nvtx-cu12-12.4.127\n",
            "  Attempting uninstall: nvidia-nccl-cu12\n",
            "    Found existing installation: nvidia-nccl-cu12 2.21.5\n",
            "    Uninstalling nvidia-nccl-cu12-2.21.5:\n",
            "      Successfully uninstalled nvidia-nccl-cu12-2.21.5\n",
            "  Attempting uninstall: nvidia-cusparse-cu12\n",
            "    Found existing installation: nvidia-cusparse-cu12 12.5.1.3\n",
            "    Uninstalling nvidia-cusparse-cu12-12.5.1.3:\n",
            "      Successfully uninstalled nvidia-cusparse-cu12-12.5.1.3\n",
            "  Attempting uninstall: nvidia-curand-cu12\n",
            "    Found existing installation: nvidia-curand-cu12 10.3.6.82\n",
            "    Uninstalling nvidia-curand-cu12-10.3.6.82:\n",
            "      Successfully uninstalled nvidia-curand-cu12-10.3.6.82\n",
            "  Attempting uninstall: nvidia-cufft-cu12\n",
            "    Found existing installation: nvidia-cufft-cu12 11.2.3.61\n",
            "    Uninstalling nvidia-cufft-cu12-11.2.3.61:\n",
            "      Successfully uninstalled nvidia-cufft-cu12-11.2.3.61\n",
            "  Attempting uninstall: nvidia-cuda-runtime-cu12\n",
            "    Found existing installation: nvidia-cuda-runtime-cu12 12.5.82\n",
            "    Uninstalling nvidia-cuda-runtime-cu12-12.5.82:\n",
            "      Successfully uninstalled nvidia-cuda-runtime-cu12-12.5.82\n",
            "  Attempting uninstall: nvidia-cuda-nvrtc-cu12\n",
            "    Found existing installation: nvidia-cuda-nvrtc-cu12 12.5.82\n",
            "    Uninstalling nvidia-cuda-nvrtc-cu12-12.5.82:\n",
            "      Successfully uninstalled nvidia-cuda-nvrtc-cu12-12.5.82\n",
            "  Attempting uninstall: nvidia-cuda-cupti-cu12\n",
            "    Found existing installation: nvidia-cuda-cupti-cu12 12.5.82\n",
            "    Uninstalling nvidia-cuda-cupti-cu12-12.5.82:\n",
            "      Successfully uninstalled nvidia-cuda-cupti-cu12-12.5.82\n",
            "  Attempting uninstall: nvidia-cublas-cu12\n",
            "    Found existing installation: nvidia-cublas-cu12 12.5.3.2\n",
            "    Uninstalling nvidia-cublas-cu12-12.5.3.2:\n",
            "      Successfully uninstalled nvidia-cublas-cu12-12.5.3.2\n",
            "  Attempting uninstall: nvidia-cusolver-cu12\n",
            "    Found existing installation: nvidia-cusolver-cu12 11.6.3.83\n",
            "    Uninstalling nvidia-cusolver-cu12-11.6.3.83:\n",
            "      Successfully uninstalled nvidia-cusolver-cu12-11.6.3.83\n",
            "  Attempting uninstall: nvidia-cudnn-cu12\n",
            "    Found existing installation: nvidia-cudnn-cu12 9.3.0.75\n",
            "    Uninstalling nvidia-cudnn-cu12-9.3.0.75:\n",
            "      Successfully uninstalled nvidia-cudnn-cu12-9.3.0.75\n",
            "  Attempting uninstall: torch\n",
            "    Found existing installation: torch 2.5.1+cu124\n",
            "    Uninstalling torch-2.5.1+cu124:\n",
            "      Successfully uninstalled torch-2.5.1+cu124\n",
            "\u001b[31mERROR: pip's dependency resolver does not currently take into account all the packages that are installed. This behaviour is the source of the following dependency conflicts.\n",
            "torchvision 0.20.1+cu124 requires torch==2.5.1, but you have torch 2.2.0 which is incompatible.\n",
            "torchaudio 2.5.1+cu124 requires torch==2.5.1, but you have torch 2.2.0 which is incompatible.\u001b[0m\u001b[31m\n",
            "\u001b[0mSuccessfully installed nvidia-cublas-cu12-12.1.3.1 nvidia-cuda-cupti-cu12-12.1.105 nvidia-cuda-nvrtc-cu12-12.1.105 nvidia-cuda-runtime-cu12-12.1.105 nvidia-cudnn-cu12-8.9.2.26 nvidia-cufft-cu12-11.0.2.54 nvidia-curand-cu12-10.3.2.106 nvidia-cusolver-cu12-11.4.5.107 nvidia-cusparse-cu12-12.1.0.106 nvidia-nccl-cu12-2.19.3 nvidia-nvtx-cu12-12.1.105 torch-2.2.0 torchdata-0.7.1 torchtext-0.17.0 triton-2.2.0\n"
          ]
        }
      ],
      "source": [
        "!pip install -U torchtext==0.17.0"
      ]
    },
    {
      "cell_type": "code",
      "execution_count": 2,
      "metadata": {
        "id": "oQ7JCYWOKubQ"
      },
      "outputs": [],
      "source": [
        "import torch\n",
        "import torch.nn as nn\n",
        "import torch.optim as optim\n",
        "from torch.utils.data import DataLoader, Dataset\n",
        "from collections import defaultdict\n",
        "import numpy as np\n",
        "import matplotlib.pyplot as plt\n",
        "from torchtext.data.utils import get_tokenizer\n",
        "from torchtext.vocab import build_vocab_from_iterator"
      ]
    },
    {
      "cell_type": "markdown",
      "metadata": {
        "id": "CrjBpUE3KLxO"
      },
      "source": [
        "# Dataset"
      ]
    },
    {
      "cell_type": "code",
      "execution_count": 3,
      "metadata": {
        "id": "J7d4yWeUKNET"
      },
      "outputs": [],
      "source": [
        "qa_dataset = [\n",
        "    {\n",
        "        \"context\": \"Albert Einstein is very smart\",\n",
        "        \"question\": \"Who is very smart\",\n",
        "        \"answer\": \"Albert Einstein\",\n",
        "        \"start_token\": 0,\n",
        "        \"end_token\": 1\n",
        "    },\n",
        "    {\n",
        "        \"context\": \"The forest cover over three thousand hectares\",\n",
        "        \"question\": \"How much forest cover\",\n",
        "        \"answer\": \"over three thousand hectares\",\n",
        "        \"start_token\": 3,\n",
        "        \"end_token\": 6\n",
        "    }\n",
        "]"
      ]
    },
    {
      "cell_type": "code",
      "execution_count": 4,
      "metadata": {
        "colab": {
          "base_uri": "https://localhost:8080/"
        },
        "id": "juYnYm2dKN3R",
        "outputId": "0e069193-720f-468f-e9a3-57629c1904b7"
      },
      "outputs": [
        {
          "name": "stdout",
          "output_type": "stream",
          "text": [
            "Context: Albert Einstein is very smart\n",
            "Question: Who is very smart\n",
            "Answer: Albert Einstein (Start: 0, End: 1)\n",
            "--------------------------------------------------\n",
            "Context: The forest cover over three thousand hectares\n",
            "Question: How much forest cover\n",
            "Answer: over three thousand hectares (Start: 3, End: 6)\n",
            "--------------------------------------------------\n"
          ]
        }
      ],
      "source": [
        "for sample in qa_dataset:\n",
        "    print(f\"Context: {sample['context']}\")\n",
        "    print(f\"Question: {sample['question']}\")\n",
        "    print(f\"Answer: {sample['answer']} (Start: {sample['start_token']}, End: {sample['end_token']})\")\n",
        "    print(\"-\" * 50)"
      ]
    },
    {
      "cell_type": "markdown",
      "metadata": {
        "id": "O3UgiHDvLKSn"
      },
      "source": [
        "# Preprocesing"
      ]
    },
    {
      "cell_type": "code",
      "execution_count": 13,
      "metadata": {
        "colab": {
          "base_uri": "https://localhost:8080/"
        },
        "id": "O_zgcnrlNzhX",
        "outputId": "b0d2fc10-2e94-4b63-f420-79838390bf8f"
      },
      "outputs": [
        {
          "name": "stdout",
          "output_type": "stream",
          "text": [
            "----------------------------------------------------------------------------------------------------\n",
            "Context Tokens: ['albert', 'einstein', 'is', 'very', 'smart']\n",
            "Question Tokens: ['who', 'is', 'very', 'smart']\n",
            "----------------------------------------------------------------------------------------------------\n",
            "Context Tokens: ['the', 'forest', 'cover', 'over', 'three', 'thousand', 'hectares']\n",
            "Question Tokens: ['how', 'much', 'forest', 'cover']\n",
            "----------------------------------------------------------------------------------------------------\n"
          ]
        }
      ],
      "source": [
        "from torchtext.data.utils import get_tokenizer\n",
        "# Step 1: Tokenization\n",
        "tokenizer = get_tokenizer(\"basic_english\")\n",
        "\n",
        "for sample in qa_dataset:\n",
        "    sample[\"context_tokens\"] = tokenizer(sample[\"context\"])\n",
        "    sample[\"question_tokens\"] = tokenizer(sample[\"question\"])\n",
        "\n",
        "print(\"-\" * 100)\n",
        "for sample in qa_dataset:\n",
        "    print(f\"Context Tokens: {sample['context_tokens']}\")\n",
        "    print(f\"Question Tokens: {sample['question_tokens']}\")\n",
        "    print(\"-\" * 100)"
      ]
    },
    {
      "cell_type": "code",
      "execution_count": 14,
      "metadata": {
        "colab": {
          "base_uri": "https://localhost:8080/"
        },
        "id": "M8QLKU_ILyxS",
        "outputId": "e6aacb46-86a1-4cae-a2b6-99f0a607636b"
      },
      "outputs": [
        {
          "name": "stdout",
          "output_type": "stream",
          "text": [
            "Vocabulary Mapping:\n",
            "{'albert': 9, 'hectares': 11, 'very': 8, 'is': 6, 'forest': 5, 'cover': 4, '<cls>': 3, 'smart': 7, '<sep>': 2, 'einstein': 10, '<pad>': 1, '<unk>': 0}\n"
          ]
        }
      ],
      "source": [
        "# Step 2: Build Vocabulary\n",
        "from torchtext.vocab import build_vocab_from_iterator\n",
        "def yield_tokens(dataset):\n",
        "    for sample in dataset:\n",
        "\n",
        "        yield sample[\"context_tokens\"]\n",
        "        yield sample[\"question_tokens\"]\n",
        "\n",
        "# Define vocab size\n",
        "vocab_size = 12\n",
        "\n",
        "# Build vocabulary\n",
        "vocab = build_vocab_from_iterator(yield_tokens(qa_dataset),\n",
        "                                  max_tokens=vocab_size,\n",
        "                                  specials=[\"<unk>\", \"<pad>\", \"<sep>\", \"<cls>\"])\n",
        "vocab.set_default_index(vocab[\"<unk>\"])  # Set unknown token index\n",
        "\n",
        "# Print vocabulary mappings\n",
        "print(\"Vocabulary Mapping:\")\n",
        "print(vocab.get_stoi())"
      ]
    },
    {
      "cell_type": "code",
      "execution_count": 15,
      "metadata": {
        "colab": {
          "base_uri": "https://localhost:8080/"
        },
        "id": "siXWH63gMCPX",
        "outputId": "132b3904-a7bd-4faf-84eb-c5cf4cfe8742"
      },
      "outputs": [
        {
          "name": "stdout",
          "output_type": "stream",
          "text": [
            "--------------------------------------------------\n",
            "Context Vector: tensor([ 9, 10,  6,  8,  7])\n",
            "Question Vector: tensor([0, 6, 8, 7, 1])\n",
            "--------------------------------------------------\n",
            "Context Vector: tensor([0, 5, 4, 0, 0])\n",
            "Question Vector: tensor([0, 0, 5, 4, 1])\n",
            "--------------------------------------------------\n"
          ]
        }
      ],
      "source": [
        "# Step 3: Vectorization\n",
        "def vectorize(tokens, vocab, sequence_length):\n",
        "    token_ids = [vocab[token] for token in tokens][:sequence_length]\n",
        "    token_ids += [vocab[\"<pad>\"]] * (sequence_length - len(token_ids))  # Pad sequence\n",
        "    return torch.tensor(token_ids, dtype=torch.long)\n",
        "\n",
        "context_length = 5\n",
        "question_length = 5\n",
        "\n",
        "for sample in qa_dataset:\n",
        "    sample[\"context_vector\"] = vectorize(sample[\"context_tokens\"], vocab, context_length)\n",
        "    sample[\"question_vector\"] = vectorize(sample[\"question_tokens\"], vocab, question_length)\n",
        "print(\"-\" * 50)\n",
        "for sample in qa_dataset:\n",
        "    print(f\"Context Vector: {sample['context_vector']}\")\n",
        "    print(f\"Question Vector: {sample['question_vector']}\")\n",
        "    print(\"-\" * 50)"
      ]
    },
    {
      "cell_type": "markdown",
      "metadata": {
        "id": "VOZQqIYZQ3u-"
      },
      "source": [
        "# NLP model"
      ]
    },
    {
      "cell_type": "code",
      "execution_count": null,
      "metadata": {
        "id": "kvnA4oAL1hqs"
      },
      "outputs": [],
      "source": [
        "class SimpleMLP(nn.Module):\n",
        "    def __init__(self, vocab_size, embedding_dim, hidden_dim, context_length, question_length):\n",
        "        super(SimpleMLP, self).__init__()\n",
        "        self.embedding = nn.Embedding(vocab_size, embedding_dim)\n",
        "        self.hidden_dim = hidden_dim\n",
        "        self.lstm = nn.LSTM(embedding_dim, hidden_dim, bidirectional=True, batch_first=True)\n",
        "\n",
        "\n",
        "        self.fc_start = nn.Linear(hidden_dim * 2, 1)  # Start token scores\n",
        "        self.fc_end = nn.Linear(hidden_dim * 2, 1)    # End token scores\n",
        "\n",
        "    def forward(self, input):\n",
        "        input_emb = self.embedding(input)  # (batch, inputs_len, emb_dim)\n",
        "        print(input_emb.shape)\n",
        "        x, _ = self.lstm(input_emb)\n",
        "        print(x.shape) # 1, 12, 256 : 12 tại vì : (context_length + context_length) + 1 token <cls> + 1 token <sep>. 256 tại vì bidirection nên 128 * 2\n",
        "        start_scores = self.fc_start(x)  # Predict start positions\n",
        "        end_scores = self.fc_end(x)      # Predict end positions\n",
        "        return start_scores, end_scores"
      ]
    },
    {
      "cell_type": "code",
      "execution_count": 35,
      "metadata": {
        "id": "4QpacoxgMCWB"
      },
      "outputs": [],
      "source": [
        "embedding_dim = 2\n",
        "hidden_dim = 128\n",
        "model = SimpleMLP(vocab_size, embedding_dim, hidden_dim, context_length, question_length)\n",
        "loss_fn = nn.CrossEntropyLoss()\n",
        "optimizer = optim.Adam(model.parameters(), lr=0.01)"
      ]
    },
    {
      "cell_type": "code",
      "execution_count": 36,
      "metadata": {
        "id": "KBbwrHkoTbwO"
      },
      "outputs": [],
      "source": [
        "# Convert labels (start & end) to tensor\n",
        "def get_labels(sample):\n",
        "    return torch.tensor([sample[\"start_token\"], sample[\"end_token\"]], dtype=torch.float32)"
      ]
    },
    {
      "cell_type": "code",
      "execution_count": 37,
      "metadata": {
        "id": "Z9U18lhD_mj6"
      },
      "outputs": [],
      "source": [
        "for param in model.embedding.parameters():\n",
        "    param.requires_grad = False"
      ]
    },
    {
      "cell_type": "code",
      "execution_count": 60,
      "metadata": {
        "colab": {
          "base_uri": "https://localhost:8080/"
        },
        "id": "9DoOTgXDK_DG",
        "outputId": "caef0b68-09d9-47c3-f9a5-854f353e27a2"
      },
      "outputs": [
        {
          "name": "stdout",
          "output_type": "stream",
          "text": [
            "🔵 Start Label: 0.0\n",
            "🟣 End Label: 1.0\n",
            "torch.Size([1, 12, 2])\n",
            "torch.Size([1, 12, 256])\n",
            "🔵 Start Label: 3.0\n",
            "🟣 End Label: 6.0\n",
            "torch.Size([1, 12, 2])\n",
            "torch.Size([1, 12, 256])\n",
            "📈 Epoch 0, Loss: 9.9187\n"
          ]
        }
      ],
      "source": [
        "num_epochs = 1\n",
        "for epoch in range(num_epochs):\n",
        "    total_loss = 0\n",
        "    for sample in qa_dataset:\n",
        "        inputs = torch.cat([\n",
        "            torch.tensor([vocab['<cls>']], dtype=torch.long),\n",
        "            sample[\"context_vector\"],\n",
        "            torch.tensor([vocab['<sep>']], dtype=torch.long),\n",
        "            sample[\"question_vector\"]\n",
        "        ], dim=0).unsqueeze(0)\n",
        "        start_label, end_label = get_labels(sample)\n",
        "        print(f\"🔵 Start Label: {start_label}\")\n",
        "        print(f\"🟣 End Label: {end_label}\")\n",
        "\n",
        "        optimizer.zero_grad()\n",
        "        start_scores, end_scores = model(inputs)\n",
        "\n",
        "        loss_start = loss_fn(start_scores.squeeze(-1).float(), start_label.unsqueeze(0).long())  # (N, C) , (N, 1)\n",
        "        loss_end = loss_fn(end_scores.squeeze(-1).float(), end_label.unsqueeze(0).long())\n",
        "\n",
        "        loss = loss_start + loss_end  # Combine both losses\n",
        "\n",
        "        # loss.backward()\n",
        "        # optimizer.step()\n",
        "\n",
        "        total_loss += loss.item()\n",
        "\n",
        "    if epoch == 0:\n",
        "        print(f\"📈 Epoch {epoch}, Loss: {total_loss:.4f}\")"
      ]
    },
    {
      "cell_type": "code",
      "execution_count": null,
      "metadata": {
        "colab": {
          "base_uri": "https://localhost:8080/"
        },
        "id": "l3y4T7F8hmU5",
        "outputId": "576986b6-bd54-401a-ccb7-efac9d954780"
      },
      "outputs": [
        {
          "name": "stdout",
          "output_type": "stream",
          "text": [
            "a: [1.5833, 0.5472, 0.3307, 0.5667, 1.0719]\n",
            "4.0998\n",
            "b: [0.8863, 1.0034, 2.8058, 0.2352, 2.5638]\n",
            "7.4945\n",
            "a: [0.3862, 0.1335, 0.0807, 0.1382, 0.2615]\n",
            "b: [0.1183, 0.1339, 0.3744, 0.0314, 0.3421]\n"
          ]
        }
      ],
      "source": [
        "import math\n",
        "a = [ 0.4595, -0.6030, -1.1066, -0.5680,  0.0694]\n",
        "\n",
        "b = [-0.1207,  0.0034,  1.0317, -1.4472,  0.9415]\n",
        "\n",
        "rsa = []\n",
        "rsb = []\n",
        "for x in a:\n",
        "    rsa.append(round(math.e**x, 4))\n",
        "for x in b:\n",
        "    rsb.append(round(math.e**x, 4))\n",
        "\n",
        "print(\"a: \" + str(rsa))\n",
        "print(sum(rsa))\n",
        "print(\"b: \" + str(rsb))\n",
        "print(sum(rsb))\n",
        "\n",
        "softmaxa = []\n",
        "softmaxb = []\n",
        "for x in rsa:\n",
        "    softmaxa.append(round(x/sum(rsa), 4))\n",
        "for x in rsb:\n",
        "    softmaxb.append(round(x/sum(rsb), 4))\n",
        "\n",
        "print(\"a: \" + str(softmaxa))\n",
        "print(\"b: \" + str(softmaxb))"
      ]
    },
    {
      "cell_type": "code",
      "execution_count": null,
      "metadata": {
        "id": "17RRgfuGhmp-"
      },
      "outputs": [],
      "source": []
    },
    {
      "cell_type": "markdown",
      "metadata": {
        "id": "SzoO3LeMT-Mh"
      },
      "source": [
        "# Illustrate"
      ]
    },
    {
      "cell_type": "code",
      "execution_count": 63,
      "metadata": {
        "id": "DxvEgehhSn7d"
      },
      "outputs": [],
      "source": [
        "def visualize_scores(context, question, model, vocab, context_length):\n",
        "    \"\"\"Visualize start and end token scores.\"\"\"\n",
        "    context_tokens = tokenizer(context)\n",
        "    question_tokens = tokenizer(question)\n",
        "\n",
        "    inputs = torch.cat([\n",
        "            torch.tensor([vocab['<cls>']], dtype=torch.long),\n",
        "            sample[\"context_vector\"],\n",
        "            torch.tensor([vocab['<sep>']], dtype=torch.long),\n",
        "            sample[\"question_vector\"]\n",
        "        ], dim=0).unsqueeze(0)\n",
        "\n",
        "    with torch.no_grad():\n",
        "        start_scores, end_scores = model(inputs)\n",
        "        start_scores = start_scores.squeeze().numpy()\n",
        "        end_scores = end_scores.squeeze().numpy()\n",
        "\n",
        "    token_labels = [f\"{i}\" for i in range(len(start_scores))]\n",
        "\n",
        "    plt.figure(figsize=(12, 6))\n",
        "\n",
        "    plt.subplot(2, 1, 1)\n",
        "    plt.bar(range(len(start_scores)), start_scores, color=\"blue\", alpha=0.7)\n",
        "    plt.xticks(range(len(start_scores)), token_labels, rotation=45, ha=\"right\")\n",
        "    plt.title(\"Start Token Scores\")\n",
        "\n",
        "    plt.subplot(2, 1, 2)\n",
        "    plt.bar(range(len(end_scores)), end_scores, color=\"red\", alpha=0.7)\n",
        "    plt.xticks(range(len(end_scores)), token_labels, rotation=45, ha=\"right\")\n",
        "    plt.title(\"End Token Scores\")\n",
        "\n",
        "    plt.tight_layout()\n",
        "    plt.show()"
      ]
    },
    {
      "cell_type": "code",
      "execution_count": 65,
      "metadata": {
        "colab": {
          "base_uri": "https://localhost:8080/",
          "height": 580
        },
        "id": "V-9teqbvVFfr",
        "outputId": "0714968f-9455-430e-c442-ec674d15f4ae"
      },
      "outputs": [
        {
          "name": "stdout",
          "output_type": "stream",
          "text": [
            "torch.Size([1, 12, 2])\n",
            "torch.Size([1, 12, 256])\n"
          ]
        },
        {
          "data": {
            "image/png": "[encoded data removed]",
            "text/plain": [
              "<Figure size 1200x600 with 2 Axes>"
            ]
          },
          "metadata": {},
          "output_type": "display_data"
        }
      ],
      "source": [
        "context = qa_dataset[0][\"context\"]\n",
        "question = qa_dataset[0][\"question\"]\n",
        "visualize_scores(context, question, model, vocab, context_length)"
      ]
    },
    {
      "cell_type": "code",
      "execution_count": null,
      "metadata": {
        "colab": {
          "base_uri": "https://localhost:8080/",
          "height": 566
        },
        "id": "XzwdqDq0Z5Kh",
        "outputId": "10cf666d-12f7-4f0c-def4-2f9bb23531ae"
      },
      "outputs": [
        {
          "data": {
            "image/png": "[encoded data removed]",
            "text/plain": [
              "<Figure size 1200x600 with 2 Axes>"
            ]
          },
          "metadata": {},
          "output_type": "display_data"
        }
      ],
      "source": [
        "context = qa_dataset[1][\"context\"]\n",
        "question = qa_dataset[1][\"question\"]\n",
        "visualize_scores(context, question, model, vocab, context_length)"
      ]
    },
    {
      "cell_type": "markdown",
      "metadata": {
        "id": "g2u2FH8_dkby"
      },
      "source": [
        "**The problem is how can we deal with the end_token < the start_token during training**"
      ]
    }
  ],
  "metadata": {
    "colab": {
      "provenance": []
    },
    "kernelspec": {
      "display_name": "Python 3",
      "name": "python3"
    },
    "language_info": {
      "name": "python"
    }
  },
  "nbformat": 4,
  "nbformat_minor": 0
}
