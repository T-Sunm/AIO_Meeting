{
  "nbformat": 4,
  "nbformat_minor": 0,
  "metadata": {
    "colab": {
      "provenance": []
    },
    "kernelspec": {
      "name": "python3",
      "display_name": "Python 3"
    },
    "language_info": {
      "name": "python"
    }
  },
  "cells": [
    {
      "cell_type": "code",
      "source": [
        "!pip install -U torchtext==0.17.0"
      ],
      "metadata": {
        "colab": {
          "base_uri": "https://localhost:8080/"
        },
        "collapsed": true,
        "id": "78IoPbnBLRLw",
        "outputId": "48792337-a239-4968-a235-271847bf43fc"
      },
      "execution_count": null,
      "outputs": [
        {
          "output_type": "stream",
          "name": "stdout",
          "text": [
            "Collecting torchtext==0.17.0\n",
            "  Downloading torchtext-0.17.0-cp311-cp311-manylinux1_x86_64.whl.metadata (7.6 kB)\n",
            "Requirement already satisfied: tqdm in /usr/local/lib/python3.11/dist-packages (from torchtext==0.17.0) (4.67.1)\n",
            "Requirement already satisfied: requests in /usr/local/lib/python3.11/dist-packages (from torchtext==0.17.0) (2.32.3)\n",
            "Collecting torch==2.2.0 (from torchtext==0.17.0)\n",
            "  Downloading torch-2.2.0-cp311-cp311-manylinux1_x86_64.whl.metadata (25 kB)\n",
            "Requirement already satisfied: numpy in /usr/local/lib/python3.11/dist-packages (from torchtext==0.17.0) (1.26.4)\n",
            "Collecting torchdata==0.7.1 (from torchtext==0.17.0)\n",
            "  Downloading torchdata-0.7.1-cp311-cp311-manylinux_2_17_x86_64.manylinux2014_x86_64.whl.metadata (13 kB)\n",
            "Requirement already satisfied: filelock in /usr/local/lib/python3.11/dist-packages (from torch==2.2.0->torchtext==0.17.0) (3.17.0)\n",
            "Requirement already satisfied: typing-extensions>=4.8.0 in /usr/local/lib/python3.11/dist-packages (from torch==2.2.0->torchtext==0.17.0) (4.12.2)\n",
            "Requirement already satisfied: sympy in /usr/local/lib/python3.11/dist-packages (from torch==2.2.0->torchtext==0.17.0) (1.13.1)\n",
            "Requirement already satisfied: networkx in /usr/local/lib/python3.11/dist-packages (from torch==2.2.0->torchtext==0.17.0) (3.4.2)\n",
            "Requirement already satisfied: jinja2 in /usr/local/lib/python3.11/dist-packages (from torch==2.2.0->torchtext==0.17.0) (3.1.5)\n",
            "Requirement already satisfied: fsspec in /usr/local/lib/python3.11/dist-packages (from torch==2.2.0->torchtext==0.17.0) (2024.10.0)\n",
            "Collecting nvidia-cuda-nvrtc-cu12==12.1.105 (from torch==2.2.0->torchtext==0.17.0)\n",
            "  Downloading nvidia_cuda_nvrtc_cu12-12.1.105-py3-none-manylinux1_x86_64.whl.metadata (1.5 kB)\n",
            "Collecting nvidia-cuda-runtime-cu12==12.1.105 (from torch==2.2.0->torchtext==0.17.0)\n",
            "  Downloading nvidia_cuda_runtime_cu12-12.1.105-py3-none-manylinux1_x86_64.whl.metadata (1.5 kB)\n",
            "Collecting nvidia-cuda-cupti-cu12==12.1.105 (from torch==2.2.0->torchtext==0.17.0)\n",
            "  Downloading nvidia_cuda_cupti_cu12-12.1.105-py3-none-manylinux1_x86_64.whl.metadata (1.6 kB)\n",
            "Collecting nvidia-cudnn-cu12==8.9.2.26 (from torch==2.2.0->torchtext==0.17.0)\n",
            "  Downloading nvidia_cudnn_cu12-8.9.2.26-py3-none-manylinux1_x86_64.whl.metadata (1.6 kB)\n",
            "Collecting nvidia-cublas-cu12==12.1.3.1 (from torch==2.2.0->torchtext==0.17.0)\n",
            "  Downloading nvidia_cublas_cu12-12.1.3.1-py3-none-manylinux1_x86_64.whl.metadata (1.5 kB)\n",
            "Collecting nvidia-cufft-cu12==11.0.2.54 (from torch==2.2.0->torchtext==0.17.0)\n",
            "  Downloading nvidia_cufft_cu12-11.0.2.54-py3-none-manylinux1_x86_64.whl.metadata (1.5 kB)\n",
            "Collecting nvidia-curand-cu12==10.3.2.106 (from torch==2.2.0->torchtext==0.17.0)\n",
            "  Downloading nvidia_curand_cu12-10.3.2.106-py3-none-manylinux1_x86_64.whl.metadata (1.5 kB)\n",
            "Collecting nvidia-cusolver-cu12==11.4.5.107 (from torch==2.2.0->torchtext==0.17.0)\n",
            "  Downloading nvidia_cusolver_cu12-11.4.5.107-py3-none-manylinux1_x86_64.whl.metadata (1.6 kB)\n",
            "Collecting nvidia-cusparse-cu12==12.1.0.106 (from torch==2.2.0->torchtext==0.17.0)\n",
            "  Downloading nvidia_cusparse_cu12-12.1.0.106-py3-none-manylinux1_x86_64.whl.metadata (1.6 kB)\n",
            "Collecting nvidia-nccl-cu12==2.19.3 (from torch==2.2.0->torchtext==0.17.0)\n",
            "  Downloading nvidia_nccl_cu12-2.19.3-py3-none-manylinux1_x86_64.whl.metadata (1.8 kB)\n",
            "Collecting nvidia-nvtx-cu12==12.1.105 (from torch==2.2.0->torchtext==0.17.0)\n",
            "  Downloading nvidia_nvtx_cu12-12.1.105-py3-none-manylinux1_x86_64.whl.metadata (1.7 kB)\n",
            "Collecting triton==2.2.0 (from torch==2.2.0->torchtext==0.17.0)\n",
            "  Downloading triton-2.2.0-cp311-cp311-manylinux_2_17_x86_64.manylinux2014_x86_64.whl.metadata (1.4 kB)\n",
            "Requirement already satisfied: urllib3>=1.25 in /usr/local/lib/python3.11/dist-packages (from torchdata==0.7.1->torchtext==0.17.0) (2.3.0)\n",
            "Requirement already satisfied: nvidia-nvjitlink-cu12 in /usr/local/lib/python3.11/dist-packages (from nvidia-cusolver-cu12==11.4.5.107->torch==2.2.0->torchtext==0.17.0) (12.5.82)\n",
            "Requirement already satisfied: charset-normalizer<4,>=2 in /usr/local/lib/python3.11/dist-packages (from requests->torchtext==0.17.0) (3.4.1)\n",
            "Requirement already satisfied: idna<4,>=2.5 in /usr/local/lib/python3.11/dist-packages (from requests->torchtext==0.17.0) (3.10)\n",
            "Requirement already satisfied: certifi>=2017.4.17 in /usr/local/lib/python3.11/dist-packages (from requests->torchtext==0.17.0) (2025.1.31)\n",
            "Requirement already satisfied: MarkupSafe>=2.0 in /usr/local/lib/python3.11/dist-packages (from jinja2->torch==2.2.0->torchtext==0.17.0) (3.0.2)\n",
            "Requirement already satisfied: mpmath<1.4,>=1.1.0 in /usr/local/lib/python3.11/dist-packages (from sympy->torch==2.2.0->torchtext==0.17.0) (1.3.0)\n",
            "Downloading torchtext-0.17.0-cp311-cp311-manylinux1_x86_64.whl (2.0 MB)\n",
            "\u001b[2K   \u001b[90m━━━━━━━━━━━━━━━━━━━━━━━━━━━━━━━━━━━━━━━━\u001b[0m \u001b[32m2.0/2.0 MB\u001b[0m \u001b[31m30.9 MB/s\u001b[0m eta \u001b[36m0:00:00\u001b[0m\n",
            "\u001b[?25hDownloading torch-2.2.0-cp311-cp311-manylinux1_x86_64.whl (755.5 MB)\n",
            "\u001b[2K   \u001b[90m━━━━━━━━━━━━━━━━━━━━━━━━━━━━━━━━━━━━━━━━\u001b[0m \u001b[32m755.5/755.5 MB\u001b[0m \u001b[31m2.3 MB/s\u001b[0m eta \u001b[36m0:00:00\u001b[0m\n",
            "\u001b[?25hDownloading torchdata-0.7.1-cp311-cp311-manylinux_2_17_x86_64.manylinux2014_x86_64.whl (4.7 MB)\n",
            "\u001b[2K   \u001b[90m━━━━━━━━━━━━━━━━━━━━━━━━━━━━━━━━━━━━━━━━\u001b[0m \u001b[32m4.7/4.7 MB\u001b[0m \u001b[31m35.8 MB/s\u001b[0m eta \u001b[36m0:00:00\u001b[0m\n",
            "\u001b[?25hDownloading nvidia_cublas_cu12-12.1.3.1-py3-none-manylinux1_x86_64.whl (410.6 MB)\n",
            "\u001b[2K   \u001b[90m━━━━━━━━━━━━━━━━━━━━━━━━━━━━━━━━━━━━━━━━\u001b[0m \u001b[32m410.6/410.6 MB\u001b[0m \u001b[31m3.8 MB/s\u001b[0m eta \u001b[36m0:00:00\u001b[0m\n",
            "\u001b[?25hDownloading nvidia_cuda_cupti_cu12-12.1.105-py3-none-manylinux1_x86_64.whl (14.1 MB)\n",
            "\u001b[2K   \u001b[90m━━━━━━━━━━━━━━━━━━━━━━━━━━━━━━━━━━━━━━━━\u001b[0m \u001b[32m14.1/14.1 MB\u001b[0m \u001b[31m97.0 MB/s\u001b[0m eta \u001b[36m0:00:00\u001b[0m\n",
            "\u001b[?25hDownloading nvidia_cuda_nvrtc_cu12-12.1.105-py3-none-manylinux1_x86_64.whl (23.7 MB)\n",
            "\u001b[2K   \u001b[90m━━━━━━━━━━━━━━━━━━━━━━━━━━━━━━━━━━━━━━━━\u001b[0m \u001b[32m23.7/23.7 MB\u001b[0m \u001b[31m79.8 MB/s\u001b[0m eta \u001b[36m0:00:00\u001b[0m\n",
            "\u001b[?25hDownloading nvidia_cuda_runtime_cu12-12.1.105-py3-none-manylinux1_x86_64.whl (823 kB)\n",
            "\u001b[2K   \u001b[90m━━━━━━━━━━━━━━━━━━━━━━━━━━━━━━━━━━━━━━━━\u001b[0m \u001b[32m823.6/823.6 kB\u001b[0m \u001b[31m56.9 MB/s\u001b[0m eta \u001b[36m0:00:00\u001b[0m\n",
            "\u001b[?25hDownloading nvidia_cudnn_cu12-8.9.2.26-py3-none-manylinux1_x86_64.whl (731.7 MB)\n",
            "\u001b[2K   \u001b[90m━━━━━━━━━━━━━━━━━━━━━━━━━━━━━━━━━━━━━━━━\u001b[0m \u001b[32m731.7/731.7 MB\u001b[0m \u001b[31m1.8 MB/s\u001b[0m eta \u001b[36m0:00:00\u001b[0m\n",
            "\u001b[?25hDownloading nvidia_cufft_cu12-11.0.2.54-py3-none-manylinux1_x86_64.whl (121.6 MB)\n",
            "\u001b[2K   \u001b[90m━━━━━━━━━━━━━━━━━━━━━━━━━━━━━━━━━━━━━━━━\u001b[0m \u001b[32m121.6/121.6 MB\u001b[0m \u001b[31m7.7 MB/s\u001b[0m eta \u001b[36m0:00:00\u001b[0m\n",
            "\u001b[?25hDownloading nvidia_curand_cu12-10.3.2.106-py3-none-manylinux1_x86_64.whl (56.5 MB)\n",
            "\u001b[2K   \u001b[90m━━━━━━━━━━━━━━━━━━━━━━━━━━━━━━━━━━━━━━━━\u001b[0m \u001b[32m56.5/56.5 MB\u001b[0m \u001b[31m12.3 MB/s\u001b[0m eta \u001b[36m0:00:00\u001b[0m\n",
            "\u001b[?25hDownloading nvidia_cusolver_cu12-11.4.5.107-py3-none-manylinux1_x86_64.whl (124.2 MB)\n",
            "\u001b[2K   \u001b[90m━━━━━━━━━━━━━━━━━━━━━━━━━━━━━━━━━━━━━━━━\u001b[0m \u001b[32m124.2/124.2 MB\u001b[0m \u001b[31m7.5 MB/s\u001b[0m eta \u001b[36m0:00:00\u001b[0m\n",
            "\u001b[?25hDownloading nvidia_cusparse_cu12-12.1.0.106-py3-none-manylinux1_x86_64.whl (196.0 MB)\n",
            "\u001b[2K   \u001b[90m━━━━━━━━━━━━━━━━━━━━━━━━━━━━━━━━━━━━━━━━\u001b[0m \u001b[32m196.0/196.0 MB\u001b[0m \u001b[31m6.2 MB/s\u001b[0m eta \u001b[36m0:00:00\u001b[0m\n",
            "\u001b[?25hDownloading nvidia_nccl_cu12-2.19.3-py3-none-manylinux1_x86_64.whl (166.0 MB)\n",
            "\u001b[2K   \u001b[90m━━━━━━━━━━━━━━━━━━━━━━━━━━━━━━━━━━━━━━━━\u001b[0m \u001b[32m166.0/166.0 MB\u001b[0m \u001b[31m6.7 MB/s\u001b[0m eta \u001b[36m0:00:00\u001b[0m\n",
            "\u001b[?25hDownloading nvidia_nvtx_cu12-12.1.105-py3-none-manylinux1_x86_64.whl (99 kB)\n",
            "\u001b[2K   \u001b[90m━━━━━━━━━━━━━━━━━━━━━━━━━━━━━━━━━━━━━━━━\u001b[0m \u001b[32m99.1/99.1 kB\u001b[0m \u001b[31m10.2 MB/s\u001b[0m eta \u001b[36m0:00:00\u001b[0m\n",
            "\u001b[?25hDownloading triton-2.2.0-cp311-cp311-manylinux_2_17_x86_64.manylinux2014_x86_64.whl (167.9 MB)\n",
            "\u001b[2K   \u001b[90m━━━━━━━━━━━━━━━━━━━━━━━━━━━━━━━━━━━━━━━━\u001b[0m \u001b[32m167.9/167.9 MB\u001b[0m \u001b[31m6.6 MB/s\u001b[0m eta \u001b[36m0:00:00\u001b[0m\n",
            "\u001b[?25hInstalling collected packages: triton, nvidia-nvtx-cu12, nvidia-nccl-cu12, nvidia-cusparse-cu12, nvidia-curand-cu12, nvidia-cufft-cu12, nvidia-cuda-runtime-cu12, nvidia-cuda-nvrtc-cu12, nvidia-cuda-cupti-cu12, nvidia-cublas-cu12, nvidia-cusolver-cu12, nvidia-cudnn-cu12, torch, torchdata, torchtext\n",
            "  Attempting uninstall: triton\n",
            "    Found existing installation: triton 3.1.0\n",
            "    Uninstalling triton-3.1.0:\n",
            "      Successfully uninstalled triton-3.1.0\n",
            "  Attempting uninstall: nvidia-nvtx-cu12\n",
            "    Found existing installation: nvidia-nvtx-cu12 12.4.127\n",
            "    Uninstalling nvidia-nvtx-cu12-12.4.127:\n",
            "      Successfully uninstalled nvidia-nvtx-cu12-12.4.127\n",
            "  Attempting uninstall: nvidia-nccl-cu12\n",
            "    Found existing installation: nvidia-nccl-cu12 2.21.5\n",
            "    Uninstalling nvidia-nccl-cu12-2.21.5:\n",
            "      Successfully uninstalled nvidia-nccl-cu12-2.21.5\n",
            "  Attempting uninstall: nvidia-cusparse-cu12\n",
            "    Found existing installation: nvidia-cusparse-cu12 12.5.1.3\n",
            "    Uninstalling nvidia-cusparse-cu12-12.5.1.3:\n",
            "      Successfully uninstalled nvidia-cusparse-cu12-12.5.1.3\n",
            "  Attempting uninstall: nvidia-curand-cu12\n",
            "    Found existing installation: nvidia-curand-cu12 10.3.6.82\n",
            "    Uninstalling nvidia-curand-cu12-10.3.6.82:\n",
            "      Successfully uninstalled nvidia-curand-cu12-10.3.6.82\n",
            "  Attempting uninstall: nvidia-cufft-cu12\n",
            "    Found existing installation: nvidia-cufft-cu12 11.2.3.61\n",
            "    Uninstalling nvidia-cufft-cu12-11.2.3.61:\n",
            "      Successfully uninstalled nvidia-cufft-cu12-11.2.3.61\n",
            "  Attempting uninstall: nvidia-cuda-runtime-cu12\n",
            "    Found existing installation: nvidia-cuda-runtime-cu12 12.5.82\n",
            "    Uninstalling nvidia-cuda-runtime-cu12-12.5.82:\n",
            "      Successfully uninstalled nvidia-cuda-runtime-cu12-12.5.82\n",
            "  Attempting uninstall: nvidia-cuda-nvrtc-cu12\n",
            "    Found existing installation: nvidia-cuda-nvrtc-cu12 12.5.82\n",
            "    Uninstalling nvidia-cuda-nvrtc-cu12-12.5.82:\n",
            "      Successfully uninstalled nvidia-cuda-nvrtc-cu12-12.5.82\n",
            "  Attempting uninstall: nvidia-cuda-cupti-cu12\n",
            "    Found existing installation: nvidia-cuda-cupti-cu12 12.5.82\n",
            "    Uninstalling nvidia-cuda-cupti-cu12-12.5.82:\n",
            "      Successfully uninstalled nvidia-cuda-cupti-cu12-12.5.82\n",
            "  Attempting uninstall: nvidia-cublas-cu12\n",
            "    Found existing installation: nvidia-cublas-cu12 12.5.3.2\n",
            "    Uninstalling nvidia-cublas-cu12-12.5.3.2:\n",
            "      Successfully uninstalled nvidia-cublas-cu12-12.5.3.2\n",
            "  Attempting uninstall: nvidia-cusolver-cu12\n",
            "    Found existing installation: nvidia-cusolver-cu12 11.6.3.83\n",
            "    Uninstalling nvidia-cusolver-cu12-11.6.3.83:\n",
            "      Successfully uninstalled nvidia-cusolver-cu12-11.6.3.83\n",
            "  Attempting uninstall: nvidia-cudnn-cu12\n",
            "    Found existing installation: nvidia-cudnn-cu12 9.3.0.75\n",
            "    Uninstalling nvidia-cudnn-cu12-9.3.0.75:\n",
            "      Successfully uninstalled nvidia-cudnn-cu12-9.3.0.75\n",
            "  Attempting uninstall: torch\n",
            "    Found existing installation: torch 2.5.1+cu124\n",
            "    Uninstalling torch-2.5.1+cu124:\n",
            "      Successfully uninstalled torch-2.5.1+cu124\n",
            "\u001b[31mERROR: pip's dependency resolver does not currently take into account all the packages that are installed. This behaviour is the source of the following dependency conflicts.\n",
            "torchvision 0.20.1+cu124 requires torch==2.5.1, but you have torch 2.2.0 which is incompatible.\n",
            "torchaudio 2.5.1+cu124 requires torch==2.5.1, but you have torch 2.2.0 which is incompatible.\u001b[0m\u001b[31m\n",
            "\u001b[0mSuccessfully installed nvidia-cublas-cu12-12.1.3.1 nvidia-cuda-cupti-cu12-12.1.105 nvidia-cuda-nvrtc-cu12-12.1.105 nvidia-cuda-runtime-cu12-12.1.105 nvidia-cudnn-cu12-8.9.2.26 nvidia-cufft-cu12-11.0.2.54 nvidia-curand-cu12-10.3.2.106 nvidia-cusolver-cu12-11.4.5.107 nvidia-cusparse-cu12-12.1.0.106 nvidia-nccl-cu12-2.19.3 nvidia-nvtx-cu12-12.1.105 torch-2.2.0 torchdata-0.7.1 torchtext-0.17.0 triton-2.2.0\n"
          ]
        }
      ]
    },
    {
      "cell_type": "code",
      "source": [
        "import torch\n",
        "import torch.nn as nn\n",
        "import torch.optim as optim\n",
        "from torch.utils.data import DataLoader, Dataset\n",
        "from collections import defaultdict\n",
        "import numpy as np\n",
        "import matplotlib.pyplot as plt\n",
        "from torchtext.data.utils import get_tokenizer\n",
        "from torchtext.vocab import build_vocab_from_iterator"
      ],
      "metadata": {
        "id": "oQ7JCYWOKubQ"
      },
      "execution_count": null,
      "outputs": []
    },
    {
      "cell_type": "markdown",
      "source": [
        "# Dataset"
      ],
      "metadata": {
        "id": "CrjBpUE3KLxO"
      }
    },
    {
      "cell_type": "code",
      "source": [
        "qa_dataset = [\n",
        "    {\n",
        "        \"context\": \"Albert Einstein is very smart\",\n",
        "        \"question\": \"Who is very smart\",\n",
        "        \"answer\": \"Albert Einstein\",\n",
        "        \"start_token\": 0,\n",
        "        \"end_token\": 1\n",
        "    },\n",
        "    {\n",
        "        \"context\": \"The forest cover over three thousand hectares\",\n",
        "        \"question\": \"How much forest cover\",\n",
        "        \"answer\": \"over three thousand hectares\",\n",
        "        \"start_token\": 3,\n",
        "        \"end_token\": 6\n",
        "    }\n",
        "]"
      ],
      "metadata": {
        "id": "J7d4yWeUKNET"
      },
      "execution_count": null,
      "outputs": []
    },
    {
      "cell_type": "code",
      "source": [
        "for sample in qa_dataset:\n",
        "    print(f\"Context: {sample['context']}\")\n",
        "    print(f\"Question: {sample['question']}\")\n",
        "    print(f\"Answer: {sample['answer']} (Start: {sample['start_token']}, End: {sample['end_token']})\")\n",
        "    print(\"-\" * 50)"
      ],
      "metadata": {
        "colab": {
          "base_uri": "https://localhost:8080/"
        },
        "id": "juYnYm2dKN3R",
        "outputId": "7f6ba404-d440-4ec7-ccce-7ab390d0417b"
      },
      "execution_count": null,
      "outputs": [
        {
          "output_type": "stream",
          "name": "stdout",
          "text": [
            "Context: Albert Einstein is very smart\n",
            "Question: Who is very smart\n",
            "Answer: Albert Einstein (Start: 0, End: 1)\n",
            "--------------------------------------------------\n",
            "Context: The forest cover over three thousand hectares\n",
            "Question: How much forest cover\n",
            "Answer: over three thousand hectares (Start: 3, End: 6)\n",
            "--------------------------------------------------\n"
          ]
        }
      ]
    },
    {
      "cell_type": "markdown",
      "source": [
        "# Preprocesing"
      ],
      "metadata": {
        "id": "O3UgiHDvLKSn"
      }
    },
    {
      "cell_type": "code",
      "source": [
        "from torchtext.data.utils import get_tokenizer\n",
        "# Step 1: Tokenization\n",
        "tokenizer = get_tokenizer(\"basic_english\")\n",
        "\n",
        "for sample in qa_dataset:\n",
        "    sample[\"context_tokens\"] = tokenizer(sample[\"context\"])\n",
        "    sample[\"question_tokens\"] = tokenizer(sample[\"question\"])\n",
        "\n",
        "print(\"-\" * 100)\n",
        "for sample in qa_dataset:\n",
        "    print(f\"Context Tokens: {sample['context_tokens']}\")\n",
        "    print(f\"Question Tokens: {sample['question_tokens']}\")\n",
        "    print(\"-\" * 100)"
      ],
      "metadata": {
        "colab": {
          "base_uri": "https://localhost:8080/"
        },
        "id": "O_zgcnrlNzhX",
        "outputId": "b19b10a6-9632-410b-c2e8-d484a4704a8e"
      },
      "execution_count": null,
      "outputs": [
        {
          "output_type": "stream",
          "name": "stdout",
          "text": [
            "----------------------------------------------------------------------------------------------------\n",
            "Context Tokens: ['albert', 'einstein', 'is', 'very', 'smart']\n",
            "Question Tokens: ['who', 'is', 'very', 'smart']\n",
            "----------------------------------------------------------------------------------------------------\n",
            "Context Tokens: ['the', 'forest', 'cover', 'over', 'three', 'thousand', 'hectares']\n",
            "Question Tokens: ['how', 'much', 'forest', 'cover']\n",
            "----------------------------------------------------------------------------------------------------\n"
          ]
        }
      ]
    },
    {
      "cell_type": "code",
      "source": [
        "# Step 2: Build Vocabulary\n",
        "from torchtext.vocab import build_vocab_from_iterator\n",
        "def yield_tokens(dataset):\n",
        "    for sample in dataset:\n",
        "        yield sample[\"context_tokens\"]\n",
        "        yield sample[\"question_tokens\"]\n",
        "\n",
        "# Define vocab size\n",
        "vocab_size = 12\n",
        "\n",
        "# Build vocabulary\n",
        "vocab = build_vocab_from_iterator(yield_tokens(qa_dataset),\n",
        "                                  max_tokens=vocab_size,\n",
        "                                  specials=[\"<unk>\", \"<pad>\"])\n",
        "vocab.set_default_index(vocab[\"<unk>\"])  # Set unknown token index\n",
        "\n",
        "# Print vocabulary mappings\n",
        "print(\"Vocabulary Mapping:\")\n",
        "print(vocab.get_stoi())"
      ],
      "metadata": {
        "colab": {
          "base_uri": "https://localhost:8080/"
        },
        "id": "M8QLKU_ILyxS",
        "outputId": "5421a74e-1200-4b92-b116-df10d65bf85e"
      },
      "execution_count": null,
      "outputs": [
        {
          "output_type": "stream",
          "name": "stdout",
          "text": [
            "Vocabulary Mapping:\n",
            "{'much': 11, 'how': 10, 'albert': 7, 'hectares': 9, 'very': 6, 'smart': 5, 'is': 4, 'forest': 3, 'cover': 2, 'einstein': 8, '<pad>': 1, '<unk>': 0}\n"
          ]
        }
      ]
    },
    {
      "cell_type": "code",
      "source": [
        "# Step 3: Vectorization\n",
        "def vectorize(tokens, vocab, sequence_length):\n",
        "    token_ids = [vocab[token] for token in tokens][:sequence_length]\n",
        "    token_ids += [vocab[\"<pad>\"]] * (sequence_length - len(token_ids))  # Pad sequence\n",
        "    return torch.tensor(token_ids, dtype=torch.long)\n",
        "\n",
        "context_length = 5\n",
        "question_length = 5\n",
        "\n",
        "for sample in qa_dataset:\n",
        "    sample[\"context_vector\"] = vectorize(sample[\"context_tokens\"], vocab, context_length)\n",
        "    sample[\"question_vector\"] = vectorize(sample[\"question_tokens\"], vocab, question_length)\n",
        "print(\"-\" * 50)\n",
        "for sample in qa_dataset:\n",
        "    print(f\"Context Vector: {sample['context_vector']}\")\n",
        "    print(f\"Question Vector: {sample['question_vector']}\")\n",
        "    print(\"-\" * 50)"
      ],
      "metadata": {
        "colab": {
          "base_uri": "https://localhost:8080/"
        },
        "id": "siXWH63gMCPX",
        "outputId": "b082d060-a33f-4982-e403-fef9bfb88d5a"
      },
      "execution_count": null,
      "outputs": [
        {
          "output_type": "stream",
          "name": "stdout",
          "text": [
            "--------------------------------------------------\n",
            "Context Vector: tensor([7, 8, 4, 6, 5])\n",
            "Question Vector: tensor([0, 4, 6, 5, 1])\n",
            "--------------------------------------------------\n",
            "Context Vector: tensor([0, 3, 2, 0, 0])\n",
            "Question Vector: tensor([10, 11,  3,  2,  1])\n",
            "--------------------------------------------------\n"
          ]
        }
      ]
    },
    {
      "cell_type": "markdown",
      "source": [
        "# NLP model"
      ],
      "metadata": {
        "id": "VOZQqIYZQ3u-"
      }
    },
    {
      "cell_type": "code",
      "source": [
        "class SimpleMLP(nn.Module):\n",
        "    def __init__(self, vocab_size, embedding_dim, context_length, question_length):\n",
        "        super(SimpleMLP, self).__init__()\n",
        "        self.embedding = nn.Embedding(vocab_size, embedding_dim)\n",
        "        self.flatten = nn.Flatten()\n",
        "\n",
        "        input_dim = embedding_dim * (context_length + question_length)  # Combined input size\n",
        "        self.fc_start = nn.Linear(input_dim, context_length)  # Start token scores\n",
        "        self.fc_end = nn.Linear(input_dim, context_length)    # End token scores\n",
        "\n",
        "    def forward(self, context, question):\n",
        "        context_emb = self.embedding(context)  # (batch, context_len, emb_dim)\n",
        "        question_emb = self.embedding(question)  # (batch, question_len, emb_dim)\n",
        "\n",
        "        x = torch.cat([context_emb, question_emb], dim=1)  # Concatenate along token axis\n",
        "        x = self.flatten(x)  # Flatten embeddings\n",
        "\n",
        "        start_scores = self.fc_start(x)  # Predict start positions\n",
        "        end_scores = self.fc_end(x)      # Predict end positions\n",
        "        return start_scores, end_scores"
      ],
      "metadata": {
        "id": "kvnA4oAL1hqs"
      },
      "execution_count": null,
      "outputs": []
    },
    {
      "cell_type": "code",
      "source": [
        "torch.manual_seed(42)\n",
        "class SimpleMLP(nn.Module):\n",
        "    def __init__(self, vocab_size, embedding_dim, context_length, question_length):\n",
        "        super(SimpleMLP, self).__init__()\n",
        "        self.embedding = nn.Embedding(vocab_size, embedding_dim)\n",
        "        print(\"🟢 Embedding:\")\n",
        "        print(self.embedding.weight)\n",
        "        self.flatten = nn.Flatten()\n",
        "\n",
        "        input_dim = embedding_dim * (context_length + question_length)  # Combined input size\n",
        "        self.fc_start = nn.Linear(input_dim, context_length)  # Start token scores\n",
        "        self.fc_end = nn.Linear(input_dim, context_length)    # End token scores\n",
        "        print(\"🟢 FC Start:\")\n",
        "        print(self.fc_start.weight)\n",
        "        print(\"🟢 FC Start Bias:\")\n",
        "        print(self.fc_start.bias)\n",
        "        print(\"🟢 FC End:\")\n",
        "        print(self.fc_end.weight)\n",
        "        print(\"🟢 FC End Bias:\")\n",
        "        print(self.fc_end.bias)\n",
        "\n",
        "    def forward(self, context, question):\n",
        "        print(\"🟢 Context:\")\n",
        "        print(context)\n",
        "        print(\"🟠 Question:\")\n",
        "        print(question)\n",
        "\n",
        "        context_emb = self.embedding(context)  # (batch, context_len, emb_dim)\n",
        "        question_emb = self.embedding(question)  # (batch, question_len, emb_dim)\n",
        "\n",
        "        print(\"🟢 Context Embedding:\")\n",
        "        print(context_emb)\n",
        "        print(\"🟠 Question Embedding:\")\n",
        "        print(question_emb)\n",
        "\n",
        "        x = torch.cat([question_emb, context_emb], dim=1)  # Concatenate along token axis\n",
        "        print(\"🔵 Concatenated Embedding:\")\n",
        "        print(x)\n",
        "\n",
        "        x = self.flatten(x)  # Flatten embeddings\n",
        "        print(\"🟣 Flattened Input:\")\n",
        "        print(x)\n",
        "\n",
        "        start_scores = self.fc_start(x)  # Predict start positions\n",
        "        end_scores = self.fc_end(x)      # Predict end positions\n",
        "\n",
        "\n",
        "        print(\"🔴 Start Scores:\")\n",
        "        print(start_scores)\n",
        "        print(\"🔵 End Scores:\")\n",
        "        print(end_scores)\n",
        "\n",
        "\n",
        "        return start_scores, end_scores"
      ],
      "metadata": {
        "id": "bEh_doo9Q0fo"
      },
      "execution_count": null,
      "outputs": []
    },
    {
      "cell_type": "code",
      "source": [
        "embedding_dim = 2\n",
        "model = SimpleMLP(vocab_size, embedding_dim, context_length, question_length)\n",
        "loss_fn = nn.CrossEntropyLoss()\n",
        "optimizer = optim.Adam(model.parameters(), lr=0.01)"
      ],
      "metadata": {
        "id": "4QpacoxgMCWB",
        "colab": {
          "base_uri": "https://localhost:8080/"
        },
        "outputId": "fa0d1a7d-cf7a-44bd-a1a5-b96e1383765d"
      },
      "execution_count": null,
      "outputs": [
        {
          "output_type": "stream",
          "name": "stdout",
          "text": [
            "🟢 Embedding:\n",
            "Parameter containing:\n",
            "tensor([[ 1.9269,  1.4873],\n",
            "        [ 0.9007, -2.1055],\n",
            "        [ 0.6784, -1.2345],\n",
            "        [-0.0431, -1.6047],\n",
            "        [ 0.3559, -0.6866],\n",
            "        [-0.4934,  0.2415],\n",
            "        [-1.1109,  0.0915],\n",
            "        [-2.3169, -0.2168],\n",
            "        [-0.3097, -0.3957],\n",
            "        [ 0.8034, -0.6216],\n",
            "        [-0.5920, -0.0631],\n",
            "        [-0.8286,  0.3309]], requires_grad=True)\n",
            "🟢 FC Start:\n",
            "Parameter containing:\n",
            "tensor([[ 0.0601, -0.0606,  0.0941,  0.1996,  0.1293, -0.0978,  0.1291,  0.0400,\n",
            "          0.1136, -0.1363, -0.2214, -0.0864, -0.1715,  0.1835,  0.0644,  0.0926,\n",
            "          0.0707, -0.0039,  0.1750, -0.1589],\n",
            "        [ 0.0141, -0.1526,  0.0689, -0.0770,  0.0685, -0.0466,  0.1855, -0.1325,\n",
            "         -0.1334, -0.1334,  0.2011,  0.0745,  0.2152, -0.1845, -0.2218, -0.1749,\n",
            "         -0.1504,  0.0906,  0.0801,  0.1858],\n",
            "        [-0.1155, -0.1524,  0.1186, -0.0904,  0.1357, -0.0531,  0.1279, -0.1737,\n",
            "         -0.1128,  0.0682,  0.0473, -0.0570,  0.1333,  0.1520, -0.1622, -0.1194,\n",
            "          0.2047, -0.0755, -0.0793, -0.2164],\n",
            "        [-0.1281,  0.0559, -0.0295, -0.1623,  0.0052, -0.1527, -0.1897, -0.1231,\n",
            "         -0.1957, -0.1424,  0.2235,  0.0422,  0.0689, -0.2086, -0.1469, -0.0744,\n",
            "          0.0350, -0.1968, -0.0963, -0.1339],\n",
            "        [ 0.0006, -0.0832, -0.0155, -0.1515, -0.1535, -0.1305, -0.0765, -0.1765,\n",
            "          0.1875, -0.0444,  0.1924,  0.0697, -0.1893,  0.1547, -0.0615, -0.0857,\n",
            "         -0.1856, -0.2223,  0.0640, -0.0488]], requires_grad=True)\n",
            "🟢 FC Start Bias:\n",
            "Parameter containing:\n",
            "tensor([ 0.0871, -0.1835,  0.1660, -0.1641, -0.0386], requires_grad=True)\n",
            "🟢 FC End:\n",
            "Parameter containing:\n",
            "tensor([[ 0.0467,  0.1154,  0.1805,  0.2037, -0.1773,  0.0563, -0.0962, -0.0245,\n",
            "         -0.1674,  0.2037, -0.1641,  0.1195,  0.0786,  0.0727, -0.1209,  0.2032,\n",
            "          0.0491,  0.0288, -0.1971,  0.0939],\n",
            "        [-0.0335, -0.1024,  0.1921,  0.0499, -0.1237, -0.1132, -0.0107,  0.1249,\n",
            "         -0.0571, -0.1276, -0.0766, -0.1671,  0.0797,  0.1731, -0.2105,  0.0519,\n",
            "          0.1155,  0.0405, -0.0796,  0.1167],\n",
            "        [ 0.1175,  0.0836, -0.0393, -0.0592,  0.0239, -0.0395, -0.0666,  0.1429,\n",
            "          0.1922, -0.0221, -0.0501,  0.0033, -0.0134,  0.0538,  0.0627, -0.2031,\n",
            "         -0.0825,  0.1883,  0.0871, -0.0111],\n",
            "        [-0.1348, -0.1368, -0.2003, -0.0729,  0.0755,  0.1426,  0.1032, -0.1977,\n",
            "         -0.1345, -0.0353,  0.2163,  0.0323, -0.0579,  0.0925, -0.0852, -0.1447,\n",
            "          0.1632, -0.1017, -0.0448, -0.2224],\n",
            "        [ 0.1497,  0.1694,  0.0815, -0.1559, -0.2207, -0.1816,  0.1667,  0.1074,\n",
            "          0.1882,  0.1171,  0.0566, -0.0022, -0.1701, -0.1916, -0.2092,  0.0915,\n",
            "         -0.1098, -0.0450, -0.1287, -0.0407]], requires_grad=True)\n",
            "🟢 FC End Bias:\n",
            "Parameter containing:\n",
            "tensor([-0.1574, -0.1461,  0.0742, -0.0665,  0.1380], requires_grad=True)\n"
          ]
        }
      ]
    },
    {
      "cell_type": "code",
      "source": [
        "# Convert labels (start & end) to tensor\n",
        "def get_labels(sample):\n",
        "    return torch.tensor([sample[\"start_token\"], sample[\"end_token\"]], dtype=torch.float32)"
      ],
      "metadata": {
        "id": "KBbwrHkoTbwO"
      },
      "execution_count": null,
      "outputs": []
    },
    {
      "cell_type": "code",
      "source": [
        "for param in model.embedding.parameters():\n",
        "    param.requires_grad = False"
      ],
      "metadata": {
        "id": "Z9U18lhD_mj6"
      },
      "execution_count": null,
      "outputs": []
    },
    {
      "cell_type": "code",
      "source": [
        "num_epochs = 1\n",
        "for epoch in range(num_epochs):\n",
        "    total_loss = 0\n",
        "    for sample in qa_dataset:\n",
        "        context_vector = sample[\"context_vector\"].unsqueeze(0)  # Add batch dim\n",
        "        question_vector = sample[\"question_vector\"].unsqueeze(0)  # Add batch dim\n",
        "        start_label, end_label = get_labels(sample)\n",
        "        print(f\"🔵 Start Label: {start_label}\")\n",
        "        print(f\"🟣 End Label: {end_label}\")\n",
        "\n",
        "        optimizer.zero_grad()\n",
        "        start_scores, end_scores = model(context_vector, question_vector)\n",
        "\n",
        "        loss_start = loss_fn(start_scores.float(), start_label.unsqueeze(0).long())\n",
        "        loss_end = loss_fn(end_scores.float(), end_label.unsqueeze(0).long())\n",
        "\n",
        "        loss = loss_start + loss_end  # Combine both losses\n",
        "\n",
        "        # loss.backward()\n",
        "        # optimizer.step()\n",
        "\n",
        "        total_loss += loss.item()\n",
        "\n",
        "    if epoch == 0:\n",
        "        print(f\"📈 Epoch {epoch}, Loss: {total_loss:.4f}\")"
      ],
      "metadata": {
        "colab": {
          "base_uri": "https://localhost:8080/",
          "height": 1000
        },
        "id": "9DoOTgXDK_DG",
        "outputId": "d1c7b600-5d7e-42fd-e889-ad8b6af56580"
      },
      "execution_count": null,
      "outputs": [
        {
          "output_type": "stream",
          "name": "stdout",
          "text": [
            "🔵 Start Label: 0.0\n",
            "🟣 End Label: 1.0\n",
            "🟢 Context:\n",
            "tensor([[7, 8, 4, 6, 5]])\n",
            "🟠 Question:\n",
            "tensor([[0, 4, 6, 5, 1]])\n",
            "🟢 Context Embedding:\n",
            "tensor([[[-2.3169, -0.2168],\n",
            "         [-0.3097, -0.3957],\n",
            "         [ 0.3559, -0.6866],\n",
            "         [-1.1109,  0.0915],\n",
            "         [-0.4934,  0.2415]]])\n",
            "🟠 Question Embedding:\n",
            "tensor([[[ 1.9269,  1.4873],\n",
            "         [ 0.3559, -0.6866],\n",
            "         [-1.1109,  0.0915],\n",
            "         [-0.4934,  0.2415],\n",
            "         [ 0.9007, -2.1055]]])\n",
            "🔵 Concatenated Embedding:\n",
            "tensor([[[ 1.9269,  1.4873],\n",
            "         [ 0.3559, -0.6866],\n",
            "         [-1.1109,  0.0915],\n",
            "         [-0.4934,  0.2415],\n",
            "         [ 0.9007, -2.1055],\n",
            "         [-2.3169, -0.2168],\n",
            "         [-0.3097, -0.3957],\n",
            "         [ 0.3559, -0.6866],\n",
            "         [-1.1109,  0.0915],\n",
            "         [-0.4934,  0.2415]]])\n",
            "🟣 Flattened Input:\n",
            "tensor([[ 1.9269,  1.4873,  0.3559, -0.6866, -1.1109,  0.0915, -0.4934,  0.2415,\n",
            "          0.9007, -2.1055, -2.3169, -0.2168, -0.3097, -0.3957,  0.3559, -0.6866,\n",
            "         -1.1109,  0.0915, -0.4934,  0.2415]])\n",
            "🔴 Start Scores:\n",
            "tensor([[ 0.4595, -0.6030, -1.1066, -0.5680,  0.0694]],\n",
            "       grad_fn=<AddmmBackward0>)\n",
            "🔵 End Scores:\n",
            "tensor([[-0.1207,  0.0034,  1.0317, -1.4472,  0.9415]],\n",
            "       grad_fn=<AddmmBackward0>)\n",
            "🔵 Start Label: 3.0\n",
            "🟣 End Label: 6.0\n",
            "🟢 Context:\n",
            "tensor([[0, 3, 2, 0, 0]])\n",
            "🟠 Question:\n",
            "tensor([[10, 11,  3,  2,  1]])\n",
            "🟢 Context Embedding:\n",
            "tensor([[[ 1.9269,  1.4873],\n",
            "         [-0.0431, -1.6047],\n",
            "         [ 0.6784, -1.2345],\n",
            "         [ 1.9269,  1.4873],\n",
            "         [ 1.9269,  1.4873]]])\n",
            "🟠 Question Embedding:\n",
            "tensor([[[-0.5920, -0.0631],\n",
            "         [-0.8286,  0.3309],\n",
            "         [-0.0431, -1.6047],\n",
            "         [ 0.6784, -1.2345],\n",
            "         [ 0.9007, -2.1055]]])\n",
            "🔵 Concatenated Embedding:\n",
            "tensor([[[-0.5920, -0.0631],\n",
            "         [-0.8286,  0.3309],\n",
            "         [-0.0431, -1.6047],\n",
            "         [ 0.6784, -1.2345],\n",
            "         [ 0.9007, -2.1055],\n",
            "         [ 1.9269,  1.4873],\n",
            "         [-0.0431, -1.6047],\n",
            "         [ 0.6784, -1.2345],\n",
            "         [ 1.9269,  1.4873],\n",
            "         [ 1.9269,  1.4873]]])\n",
            "🟣 Flattened Input:\n",
            "tensor([[-0.5920, -0.0631, -0.8286,  0.3309, -0.0431, -1.6047,  0.6784, -1.2345,\n",
            "          0.9007, -2.1055,  1.9269,  1.4873, -0.0431, -1.6047,  0.6784, -1.2345,\n",
            "          1.9269,  1.4873,  1.9269,  1.4873]])\n",
            "🔴 Start Scores:\n",
            "tensor([[-0.0592,  1.3833, -0.1471,  0.4780,  0.2338]],\n",
            "       grad_fn=<AddmmBackward0>)\n",
            "🔵 End Scores:\n",
            "tensor([[-1.6658, -0.6008,  0.4610,  0.3849, -0.2974]],\n",
            "       grad_fn=<AddmmBackward0>)\n"
          ]
        },
        {
          "output_type": "error",
          "ename": "IndexError",
          "evalue": "Target 6 is out of bounds.",
          "traceback": [
            "\u001b[0;31m---------------------------------------------------------------------------\u001b[0m",
            "\u001b[0;31mIndexError\u001b[0m                                Traceback (most recent call last)",
            "\u001b[0;32m<ipython-input-29-2e5e693fa305>\u001b[0m in \u001b[0;36m<cell line: 0>\u001b[0;34m()\u001b[0m\n\u001b[1;32m     13\u001b[0m \u001b[0;34m\u001b[0m\u001b[0m\n\u001b[1;32m     14\u001b[0m         \u001b[0mloss_start\u001b[0m \u001b[0;34m=\u001b[0m \u001b[0mloss_fn\u001b[0m\u001b[0;34m(\u001b[0m\u001b[0mstart_scores\u001b[0m\u001b[0;34m.\u001b[0m\u001b[0mfloat\u001b[0m\u001b[0;34m(\u001b[0m\u001b[0;34m)\u001b[0m\u001b[0;34m,\u001b[0m \u001b[0mstart_label\u001b[0m\u001b[0;34m.\u001b[0m\u001b[0munsqueeze\u001b[0m\u001b[0;34m(\u001b[0m\u001b[0;36m0\u001b[0m\u001b[0;34m)\u001b[0m\u001b[0;34m.\u001b[0m\u001b[0mlong\u001b[0m\u001b[0;34m(\u001b[0m\u001b[0;34m)\u001b[0m\u001b[0;34m)\u001b[0m\u001b[0;34m\u001b[0m\u001b[0;34m\u001b[0m\u001b[0m\n\u001b[0;32m---> 15\u001b[0;31m         \u001b[0mloss_end\u001b[0m \u001b[0;34m=\u001b[0m \u001b[0mloss_fn\u001b[0m\u001b[0;34m(\u001b[0m\u001b[0mend_scores\u001b[0m\u001b[0;34m.\u001b[0m\u001b[0mfloat\u001b[0m\u001b[0;34m(\u001b[0m\u001b[0;34m)\u001b[0m\u001b[0;34m,\u001b[0m \u001b[0mend_label\u001b[0m\u001b[0;34m.\u001b[0m\u001b[0munsqueeze\u001b[0m\u001b[0;34m(\u001b[0m\u001b[0;36m0\u001b[0m\u001b[0;34m)\u001b[0m\u001b[0;34m.\u001b[0m\u001b[0mlong\u001b[0m\u001b[0;34m(\u001b[0m\u001b[0;34m)\u001b[0m\u001b[0;34m)\u001b[0m\u001b[0;34m\u001b[0m\u001b[0;34m\u001b[0m\u001b[0m\n\u001b[0m\u001b[1;32m     16\u001b[0m \u001b[0;34m\u001b[0m\u001b[0m\n\u001b[1;32m     17\u001b[0m         \u001b[0mloss\u001b[0m \u001b[0;34m=\u001b[0m \u001b[0mloss_start\u001b[0m \u001b[0;34m+\u001b[0m \u001b[0mloss_end\u001b[0m  \u001b[0;31m# Combine both losses\u001b[0m\u001b[0;34m\u001b[0m\u001b[0;34m\u001b[0m\u001b[0m\n",
            "\u001b[0;32m/usr/local/lib/python3.11/dist-packages/torch/nn/modules/module.py\u001b[0m in \u001b[0;36m_wrapped_call_impl\u001b[0;34m(self, *args, **kwargs)\u001b[0m\n\u001b[1;32m   1509\u001b[0m             \u001b[0;32mreturn\u001b[0m \u001b[0mself\u001b[0m\u001b[0;34m.\u001b[0m\u001b[0m_compiled_call_impl\u001b[0m\u001b[0;34m(\u001b[0m\u001b[0;34m*\u001b[0m\u001b[0margs\u001b[0m\u001b[0;34m,\u001b[0m \u001b[0;34m**\u001b[0m\u001b[0mkwargs\u001b[0m\u001b[0;34m)\u001b[0m  \u001b[0;31m# type: ignore[misc]\u001b[0m\u001b[0;34m\u001b[0m\u001b[0;34m\u001b[0m\u001b[0m\n\u001b[1;32m   1510\u001b[0m         \u001b[0;32melse\u001b[0m\u001b[0;34m:\u001b[0m\u001b[0;34m\u001b[0m\u001b[0;34m\u001b[0m\u001b[0m\n\u001b[0;32m-> 1511\u001b[0;31m             \u001b[0;32mreturn\u001b[0m \u001b[0mself\u001b[0m\u001b[0;34m.\u001b[0m\u001b[0m_call_impl\u001b[0m\u001b[0;34m(\u001b[0m\u001b[0;34m*\u001b[0m\u001b[0margs\u001b[0m\u001b[0;34m,\u001b[0m \u001b[0;34m**\u001b[0m\u001b[0mkwargs\u001b[0m\u001b[0;34m)\u001b[0m\u001b[0;34m\u001b[0m\u001b[0;34m\u001b[0m\u001b[0m\n\u001b[0m\u001b[1;32m   1512\u001b[0m \u001b[0;34m\u001b[0m\u001b[0m\n\u001b[1;32m   1513\u001b[0m     \u001b[0;32mdef\u001b[0m \u001b[0m_call_impl\u001b[0m\u001b[0;34m(\u001b[0m\u001b[0mself\u001b[0m\u001b[0;34m,\u001b[0m \u001b[0;34m*\u001b[0m\u001b[0margs\u001b[0m\u001b[0;34m,\u001b[0m \u001b[0;34m**\u001b[0m\u001b[0mkwargs\u001b[0m\u001b[0;34m)\u001b[0m\u001b[0;34m:\u001b[0m\u001b[0;34m\u001b[0m\u001b[0;34m\u001b[0m\u001b[0m\n",
            "\u001b[0;32m/usr/local/lib/python3.11/dist-packages/torch/nn/modules/module.py\u001b[0m in \u001b[0;36m_call_impl\u001b[0;34m(self, *args, **kwargs)\u001b[0m\n\u001b[1;32m   1518\u001b[0m                 \u001b[0;32mor\u001b[0m \u001b[0m_global_backward_pre_hooks\u001b[0m \u001b[0;32mor\u001b[0m \u001b[0m_global_backward_hooks\u001b[0m\u001b[0;34m\u001b[0m\u001b[0;34m\u001b[0m\u001b[0m\n\u001b[1;32m   1519\u001b[0m                 or _global_forward_hooks or _global_forward_pre_hooks):\n\u001b[0;32m-> 1520\u001b[0;31m             \u001b[0;32mreturn\u001b[0m \u001b[0mforward_call\u001b[0m\u001b[0;34m(\u001b[0m\u001b[0;34m*\u001b[0m\u001b[0margs\u001b[0m\u001b[0;34m,\u001b[0m \u001b[0;34m**\u001b[0m\u001b[0mkwargs\u001b[0m\u001b[0;34m)\u001b[0m\u001b[0;34m\u001b[0m\u001b[0;34m\u001b[0m\u001b[0m\n\u001b[0m\u001b[1;32m   1521\u001b[0m \u001b[0;34m\u001b[0m\u001b[0m\n\u001b[1;32m   1522\u001b[0m         \u001b[0;32mtry\u001b[0m\u001b[0;34m:\u001b[0m\u001b[0;34m\u001b[0m\u001b[0;34m\u001b[0m\u001b[0m\n",
            "\u001b[0;32m/usr/local/lib/python3.11/dist-packages/torch/nn/modules/loss.py\u001b[0m in \u001b[0;36mforward\u001b[0;34m(self, input, target)\u001b[0m\n\u001b[1;32m   1177\u001b[0m \u001b[0;34m\u001b[0m\u001b[0m\n\u001b[1;32m   1178\u001b[0m     \u001b[0;32mdef\u001b[0m \u001b[0mforward\u001b[0m\u001b[0;34m(\u001b[0m\u001b[0mself\u001b[0m\u001b[0;34m,\u001b[0m \u001b[0minput\u001b[0m\u001b[0;34m:\u001b[0m \u001b[0mTensor\u001b[0m\u001b[0;34m,\u001b[0m \u001b[0mtarget\u001b[0m\u001b[0;34m:\u001b[0m \u001b[0mTensor\u001b[0m\u001b[0;34m)\u001b[0m \u001b[0;34m->\u001b[0m \u001b[0mTensor\u001b[0m\u001b[0;34m:\u001b[0m\u001b[0;34m\u001b[0m\u001b[0;34m\u001b[0m\u001b[0m\n\u001b[0;32m-> 1179\u001b[0;31m         return F.cross_entropy(input, target, weight=self.weight,\n\u001b[0m\u001b[1;32m   1180\u001b[0m                                \u001b[0mignore_index\u001b[0m\u001b[0;34m=\u001b[0m\u001b[0mself\u001b[0m\u001b[0;34m.\u001b[0m\u001b[0mignore_index\u001b[0m\u001b[0;34m,\u001b[0m \u001b[0mreduction\u001b[0m\u001b[0;34m=\u001b[0m\u001b[0mself\u001b[0m\u001b[0;34m.\u001b[0m\u001b[0mreduction\u001b[0m\u001b[0;34m,\u001b[0m\u001b[0;34m\u001b[0m\u001b[0;34m\u001b[0m\u001b[0m\n\u001b[1;32m   1181\u001b[0m                                label_smoothing=self.label_smoothing)\n",
            "\u001b[0;32m/usr/local/lib/python3.11/dist-packages/torch/nn/functional.py\u001b[0m in \u001b[0;36mcross_entropy\u001b[0;34m(input, target, weight, size_average, ignore_index, reduce, reduction, label_smoothing)\u001b[0m\n\u001b[1;32m   3057\u001b[0m     \u001b[0;32mif\u001b[0m \u001b[0msize_average\u001b[0m \u001b[0;32mis\u001b[0m \u001b[0;32mnot\u001b[0m \u001b[0;32mNone\u001b[0m \u001b[0;32mor\u001b[0m \u001b[0mreduce\u001b[0m \u001b[0;32mis\u001b[0m \u001b[0;32mnot\u001b[0m \u001b[0;32mNone\u001b[0m\u001b[0;34m:\u001b[0m\u001b[0;34m\u001b[0m\u001b[0;34m\u001b[0m\u001b[0m\n\u001b[1;32m   3058\u001b[0m         \u001b[0mreduction\u001b[0m \u001b[0;34m=\u001b[0m \u001b[0m_Reduction\u001b[0m\u001b[0;34m.\u001b[0m\u001b[0mlegacy_get_string\u001b[0m\u001b[0;34m(\u001b[0m\u001b[0msize_average\u001b[0m\u001b[0;34m,\u001b[0m \u001b[0mreduce\u001b[0m\u001b[0;34m)\u001b[0m\u001b[0;34m\u001b[0m\u001b[0;34m\u001b[0m\u001b[0m\n\u001b[0;32m-> 3059\u001b[0;31m     \u001b[0;32mreturn\u001b[0m \u001b[0mtorch\u001b[0m\u001b[0;34m.\u001b[0m\u001b[0m_C\u001b[0m\u001b[0;34m.\u001b[0m\u001b[0m_nn\u001b[0m\u001b[0;34m.\u001b[0m\u001b[0mcross_entropy_loss\u001b[0m\u001b[0;34m(\u001b[0m\u001b[0minput\u001b[0m\u001b[0;34m,\u001b[0m \u001b[0mtarget\u001b[0m\u001b[0;34m,\u001b[0m \u001b[0mweight\u001b[0m\u001b[0;34m,\u001b[0m \u001b[0m_Reduction\u001b[0m\u001b[0;34m.\u001b[0m\u001b[0mget_enum\u001b[0m\u001b[0;34m(\u001b[0m\u001b[0mreduction\u001b[0m\u001b[0;34m)\u001b[0m\u001b[0;34m,\u001b[0m \u001b[0mignore_index\u001b[0m\u001b[0;34m,\u001b[0m \u001b[0mlabel_smoothing\u001b[0m\u001b[0;34m)\u001b[0m\u001b[0;34m\u001b[0m\u001b[0;34m\u001b[0m\u001b[0m\n\u001b[0m\u001b[1;32m   3060\u001b[0m \u001b[0;34m\u001b[0m\u001b[0m\n\u001b[1;32m   3061\u001b[0m \u001b[0;34m\u001b[0m\u001b[0m\n",
            "\u001b[0;31mIndexError\u001b[0m: Target 6 is out of bounds."
          ]
        }
      ]
    },
    {
      "cell_type": "code",
      "source": [
        "import math\n",
        "a = [ 0.4595, -0.6030, -1.1066, -0.5680,  0.0694]\n",
        "b = [-0.1207,  0.0034,  1.0317, -1.4472,  0.9415]\n",
        "\n",
        "rsa = []\n",
        "rsb = []\n",
        "for x in a:\n",
        "    rsa.append(round(math.e**x, 4))\n",
        "for x in b:\n",
        "    rsb.append(round(math.e**x, 4))\n",
        "\n",
        "print(\"a: \" + str(rsa))\n",
        "print(sum(rsa))\n",
        "print(\"b: \" + str(rsb))\n",
        "print(sum(rsb))\n",
        "\n",
        "softmaxa = []\n",
        "softmaxb = []\n",
        "for x in rsa:\n",
        "    softmaxa.append(round(x/sum(rsa), 4))\n",
        "for x in rsb:\n",
        "    softmaxb.append(round(x/sum(rsb), 4))\n",
        "\n",
        "print(\"a: \" + str(softmaxa))\n",
        "print(\"b: \" + str(softmaxb))"
      ],
      "metadata": {
        "colab": {
          "base_uri": "https://localhost:8080/"
        },
        "id": "l3y4T7F8hmU5",
        "outputId": "576986b6-bd54-401a-ccb7-efac9d954780"
      },
      "execution_count": null,
      "outputs": [
        {
          "output_type": "stream",
          "name": "stdout",
          "text": [
            "a: [1.5833, 0.5472, 0.3307, 0.5667, 1.0719]\n",
            "4.0998\n",
            "b: [0.8863, 1.0034, 2.8058, 0.2352, 2.5638]\n",
            "7.4945\n",
            "a: [0.3862, 0.1335, 0.0807, 0.1382, 0.2615]\n",
            "b: [0.1183, 0.1339, 0.3744, 0.0314, 0.3421]\n"
          ]
        }
      ]
    },
    {
      "cell_type": "code",
      "source": [],
      "metadata": {
        "id": "17RRgfuGhmp-"
      },
      "execution_count": null,
      "outputs": []
    },
    {
      "cell_type": "markdown",
      "source": [
        "# Illustrate"
      ],
      "metadata": {
        "id": "SzoO3LeMT-Mh"
      }
    },
    {
      "cell_type": "code",
      "source": [
        "def visualize_scores(context, question, model, vocab, context_length):\n",
        "    \"\"\"Visualize start and end token scores.\"\"\"\n",
        "    context_tokens = tokenizer(context)\n",
        "    question_tokens = tokenizer(question)\n",
        "\n",
        "    context_vector = vectorize(context_tokens, vocab, context_length).unsqueeze(0)\n",
        "    question_vector = vectorize(question_tokens, vocab, question_length).unsqueeze(0)\n",
        "\n",
        "    with torch.no_grad():\n",
        "        start_scores, end_scores = model(context_vector, question_vector)\n",
        "        start_scores = start_scores.squeeze().numpy()\n",
        "        end_scores = end_scores.squeeze().numpy()\n",
        "\n",
        "    token_labels = [f\"{i}\" for i in range(len(start_scores))]\n",
        "\n",
        "    plt.figure(figsize=(12, 6))\n",
        "\n",
        "    plt.subplot(2, 1, 1)\n",
        "    plt.bar(range(len(start_scores)), start_scores, color=\"blue\", alpha=0.7)\n",
        "    plt.xticks(range(len(start_scores)), token_labels, rotation=45, ha=\"right\")\n",
        "    plt.title(\"Start Token Scores\")\n",
        "\n",
        "    plt.subplot(2, 1, 2)\n",
        "    plt.bar(range(len(end_scores)), end_scores, color=\"red\", alpha=0.7)\n",
        "    plt.xticks(range(len(end_scores)), token_labels, rotation=45, ha=\"right\")\n",
        "    plt.title(\"End Token Scores\")\n",
        "\n",
        "    plt.tight_layout()\n",
        "    plt.show()"
      ],
      "metadata": {
        "id": "DxvEgehhSn7d"
      },
      "execution_count": null,
      "outputs": []
    },
    {
      "cell_type": "code",
      "source": [
        "context = qa_dataset[0][\"context\"]\n",
        "question = qa_dataset[0][\"question\"]\n",
        "visualize_scores(context, question, model, vocab, context_length)"
      ],
      "metadata": {
        "colab": {
          "base_uri": "https://localhost:8080/",
          "height": 566
        },
        "id": "V-9teqbvVFfr",
        "outputId": "fadb3f6c-7c3f-402e-b860-e52fcfff0352"
      },
      "execution_count": null,
      "outputs": [
        {
          "output_type": "display_data",
          "data": {
            "text/plain": [
              "<Figure size 1200x600 with 2 Axes>"
            ],
            "image/png": "[encoded data removed]"
          },
          "metadata": {}
        }
      ]
    },
    {
      "cell_type": "code",
      "source": [
        "context = qa_dataset[1][\"context\"]\n",
        "question = qa_dataset[1][\"question\"]\n",
        "visualize_scores(context, question, model, vocab, context_length)"
      ],
      "metadata": {
        "id": "XzwdqDq0Z5Kh",
        "outputId": "10cf666d-12f7-4f0c-def4-2f9bb23531ae",
        "colab": {
          "base_uri": "https://localhost:8080/",
          "height": 566
        }
      },
      "execution_count": null,
      "outputs": [
        {
          "output_type": "display_data",
          "data": {
            "text/plain": [
              "<Figure size 1200x600 with 2 Axes>"
            ],
            "image/png": "[encoded data removed]"
          },
          "metadata": {}
        }
      ]
    },
    {
      "cell_type": "code",
      "source": [
        "sample = qa_dataset[0]\n",
        "context_vector = sample[\"context_vector\"].unsqueeze(0)  # Add batch dimension\n",
        "question_vector = sample[\"question_vector\"].unsqueeze(0)  # Add batch dimension"
      ],
      "metadata": {
        "id": "x35ZlkcMcdWO"
      },
      "execution_count": null,
      "outputs": []
    },
    {
      "cell_type": "code",
      "source": [
        "with torch.no_grad():\n",
        "    print(f\"\\n Running Inference for Question: {sample['question']}\\n\")\n",
        "    start_scores, end_scores = model(context_vector, question_vector)"
      ],
      "metadata": {
        "colab": {
          "base_uri": "https://localhost:8080/"
        },
        "id": "4OEIqhmLciJm",
        "outputId": "9d89606d-161f-40c8-d9de-9f8b9fbb5e48"
      },
      "execution_count": null,
      "outputs": [
        {
          "output_type": "stream",
          "name": "stdout",
          "text": [
            "\n",
            " Running Inference for Question: Who is very smart?\n",
            "\n",
            "🟢 Context Embedding:\n",
            "tensor([[[ 0.8466, -1.4241],\n",
            "         [-1.1002,  1.2863],\n",
            "         [-1.4863,  0.3034],\n",
            "         [-0.3233,  1.8174],\n",
            "         [-0.7436, -1.1663],\n",
            "         [-0.2292, -0.8918],\n",
            "         [ 0.8830,  0.6806]]])\n",
            "🟠 Question Embedding:\n",
            "tensor([[[-0.0535, -1.5092],\n",
            "         [-1.4863,  0.3034],\n",
            "         [-0.3233,  1.8174],\n",
            "         [-0.7436, -1.1663],\n",
            "         [ 0.3303, -1.5258]]])\n",
            "🔵 Concatenated Embedding:\n",
            "tensor([[[ 0.8466, -1.4241],\n",
            "         [-1.1002,  1.2863],\n",
            "         [-1.4863,  0.3034],\n",
            "         [-0.3233,  1.8174],\n",
            "         [-0.7436, -1.1663],\n",
            "         [-0.2292, -0.8918],\n",
            "         [ 0.8830,  0.6806],\n",
            "         [-0.0535, -1.5092],\n",
            "         [-1.4863,  0.3034],\n",
            "         [-0.3233,  1.8174],\n",
            "         [-0.7436, -1.1663],\n",
            "         [ 0.3303, -1.5258]]])\n",
            "🟣 Flattened Input:\n",
            "tensor([[ 0.8466, -1.4241, -1.1002,  1.2863, -1.4863,  0.3034, -0.3233,  1.8174,\n",
            "         -0.7436, -1.1663, -0.2292, -0.8918,  0.8830,  0.6806, -0.0535, -1.5092,\n",
            "         -1.4863,  0.3034, -0.3233,  1.8174, -0.7436, -1.1663,  0.3303, -1.5258]])\n",
            "🔴 Start Scores:\n",
            "tensor([[-0.3615, -0.7290, -0.5528,  0.1551, -0.3587,  0.4424,  0.6114]])\n",
            "🔵 End Scores:\n",
            "tensor([[-0.3896, -0.1513, -0.2591, -0.8606,  0.9907,  0.2735,  0.8404]])\n"
          ]
        }
      ]
    },
    {
      "cell_type": "code",
      "source": [
        "predicted_start = torch.argmax(start_scores, dim=1).item()\n",
        "predicted_end = torch.argmax(end_scores, dim=1).item()\n",
        "print(f\"Predicted Start Token Index: {predicted_start}\")\n",
        "print(f\"Predicted End Token Index: {predicted_end}\")"
      ],
      "metadata": {
        "colab": {
          "base_uri": "https://localhost:8080/"
        },
        "id": "sfAr5WAzcj-l",
        "outputId": "e8f32dfc-a75b-44f0-bb33-33247ecd2b03"
      },
      "execution_count": null,
      "outputs": [
        {
          "output_type": "stream",
          "name": "stdout",
          "text": [
            "Predicted Start Token Index: 6\n",
            "Predicted End Token Index: 4\n"
          ]
        }
      ]
    },
    {
      "cell_type": "code",
      "source": [
        "sample[\"context_tokens\"]"
      ],
      "metadata": {
        "colab": {
          "base_uri": "https://localhost:8080/"
        },
        "id": "IBrVkUbsc3r-",
        "outputId": "71554ff5-8de1-478d-f2cd-5b960ee8d6dd"
      },
      "execution_count": null,
      "outputs": [
        {
          "output_type": "execute_result",
          "data": {
            "text/plain": [
              "['albert', 'einstein', 'is', 'very', 'smart', '.']"
            ]
          },
          "metadata": {},
          "execution_count": 153
        }
      ]
    },
    {
      "cell_type": "code",
      "source": [
        "predicted_answer_tokens = sample[\"context_tokens\"][predicted_start : predicted_end + 1]\n",
        "predicted_answer_tokens"
      ],
      "metadata": {
        "colab": {
          "base_uri": "https://localhost:8080/"
        },
        "id": "2OEWd615c5qG",
        "outputId": "dd1ee790-109b-4182-e920-83a56f5b743e"
      },
      "execution_count": null,
      "outputs": [
        {
          "output_type": "execute_result",
          "data": {
            "text/plain": [
              "[]"
            ]
          },
          "metadata": {},
          "execution_count": 154
        }
      ]
    },
    {
      "cell_type": "code",
      "source": [
        "predicted_answer = \" \".join(predicted_answer_tokens)\n",
        "predicted_answer"
      ],
      "metadata": {
        "colab": {
          "base_uri": "https://localhost:8080/",
          "height": 35
        },
        "id": "6kbmediYc91W",
        "outputId": "9d9bf3e0-739d-4665-dde7-f72fff1542db"
      },
      "execution_count": null,
      "outputs": [
        {
          "output_type": "execute_result",
          "data": {
            "text/plain": [
              "''"
            ],
            "application/vnd.google.colaboratory.intrinsic+json": {
              "type": "string"
            }
          },
          "metadata": {},
          "execution_count": 156
        }
      ]
    },
    {
      "cell_type": "markdown",
      "source": [
        "**The problem is how can we deal with the end_token < the start_token during training**"
      ],
      "metadata": {
        "id": "g2u2FH8_dkby"
      }
    }
  ]
}