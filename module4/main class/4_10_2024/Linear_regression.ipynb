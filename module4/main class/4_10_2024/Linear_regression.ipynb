{
 "cells": [
  {
   "cell_type": "markdown",
   "metadata": {},
   "source": [
    "## Gradient Descent"
   ]
  },
  {
   "cell_type": "code",
   "execution_count": 6,
   "metadata": {},
   "outputs": [],
   "source": [
    "def fx(x):\n",
    "    return 2*x -1\n",
    "\n",
    "def gf(f):\n",
    "    return (f - 3)**2\n",
    "\n",
    "def compute_dg_dx(x):\n",
    "    return 8*x - 16"
   ]
  },
  {
   "cell_type": "code",
   "execution_count": 7,
   "metadata": {},
   "outputs": [
    {
     "name": "stdout",
     "output_type": "stream",
     "text": [
      "g(f(x)) = 64.0\n"
     ]
    }
   ],
   "source": [
    "x = 6.0\n",
    "lr = 0.01\n",
    "print('g(f(x)) =', gf(fx(x)))"
   ]
  },
  {
   "cell_type": "code",
   "execution_count": 9,
   "metadata": {},
   "outputs": [
    {
     "name": "stdout",
     "output_type": "stream",
     "text": [
      "[2.5599999999999987, 0.10240000000000019, 0.004096000000000008, 0.00016384000000000938, 6.553599999999466e-06, 2.6214399999961486e-07, 1.0485760000057353e-08, 4.194303999950182e-10, 1.6777215996890345e-11, 6.710886404576903e-13, 2.6843545676515275e-14, 1.0737418154190788e-15, 4.2949677273376134e-17, 1.717988022257793e-18, 6.871952089031172e-20, 2.748818088653639e-21, 1.0995272354614557e-22, 4.397363910052496e-24, 1.757455879087579e-25, 6.97037495853286e-27]\n"
     ]
    }
   ],
   "source": [
    "losses = []\n",
    "\n",
    "for _ in range(20):\n",
    "    dg_dx = compute_dg_dx(x)\n",
    "\n",
    "    signal = gf(fx(x))\n",
    "    losses.append(signal)\n",
    "    x = x - lr * dg_dx\n",
    "\n",
    "print(losses)\n"
   ]
  },
  {
   "cell_type": "code",
   "execution_count": null,
   "metadata": {},
   "outputs": [],
   "source": [
    "def f_function(a, x):\n",
    "    return a*x\n",
    "\n",
    "def loss(y, f):\n",
    "    return (f - y)**2\n",
    "\n",
    "def compute_dg_da(x, f, y):\n",
    "    return 2*(f - y)* x"
   ]
  },
  {
   "cell_type": "code",
   "execution_count": null,
   "metadata": {},
   "outputs": [],
   "source": [
    "x = 4\n",
    "y = 6\n",
    "lr = 0.01\n"
   ]
  },
  {
   "cell_type": "markdown",
   "metadata": {},
   "source": [
    "## Linear Regression"
   ]
  },
  {
   "cell_type": "code",
   "execution_count": null,
   "metadata": {},
   "outputs": [],
   "source": [
    "areas = [6.7, 4.6, 3.5, 5.5]\n",
    "prices = [9.1, 5.9, 4.6, 6.7]\n",
    "\n",
    "N = len(prices)\n",
    "num_epochs = 1\n",
    "w = -0.34\n",
    "b = 0.04\n",
    "\n",
    "def predict(x, w, b):\n",
    "    return x*w + b\n",
    "\n",
    "def compute_loss(y_hat, y):\n",
    "    return (y_hat - y)**2\n",
    "\n",
    "def compute_gradient(x, y_hat, y):\n",
    "    return\n",
    "\n",
    "def update(w, b, dl_dw, dl_db, lr):\n",
    "    return\n",
    "\n",
    "def compute_loss(y_hat, y):\n",
    "    for _ in range(num_epochs):\n",
    "        for i in range(N):\n",
    "            x = areas[i]\n",
    "            y = prices[i]\n",
    "            print(x, y)\n",
    "\n",
    "            y_hat = predict(x, w, b)\n",
    "            print('y_hat', y_hat)\n",
    "\n",
    "            loss = compute_loss(y_hat, y)\n",
    "            print('loss', loss)\n",
    "\n"
   ]
  },
  {
   "cell_type": "code",
   "execution_count": 4,
   "metadata": {},
   "outputs": [
    {
     "name": "stdout",
     "output_type": "stream",
     "text": [
      "6.7 9.1\n",
      "4.6 5.9\n",
      "\n",
      "3.5 4.6\n",
      "5.5 6.7\n",
      "\n"
     ]
    }
   ],
   "source": [
    "areas = [6.7, 4.6, 3.5, 5.5]\n",
    "prices = [9.1, 5.9, 4.6, 6.7]\n",
    "\n",
    "epoch = 1\n",
    "m = 2\n",
    "N = 4\n",
    "for _ in range(epoch):\n",
    "\n",
    "    for i in range(0, N, m):\n",
    "        acc_loss = 0\n",
    "        acc_dl_dw = 0\n",
    "        acc_dl_db = 0\n",
    "        # compute mini-batch\n",
    "        for j in range(m):\n",
    "            x = areas[i+j]\n",
    "            y = prices[i + j]\n",
    "    \n",
    "            y_hat = predict(x, w, b)\n",
    "\n",
    "            loss = compute_loss(y_hat, y)\n",
    "            acc_loss = acc_loss + loss\n",
    "\n",
    "            dl_dw, dl_db = compute_gradient(x, y_hat, y)\n",
    "            acc_dl_dw = acc_dl_dw + dl_dw\n",
    "            acc_dl_db = acc_dl_db + dl_db\n",
    "\n",
    "        avg_loss = acc_loss / m\n",
    "        avg_dl_dw = acc_dl_dw / m\n",
    "        avg_dl_db = acc_dl_db / m\n",
    "\n",
    "        w, b = update(w, b, avg_dl_dw, avg_dl_db, lr)"
   ]
  }
 ],
 "metadata": {
  "kernelspec": {
   "display_name": "40daysPython_env",
   "language": "python",
   "name": "python3"
  },
  "language_info": {
   "codemirror_mode": {
    "name": "ipython",
    "version": 3
   },
   "file_extension": ".py",
   "mimetype": "text/x-python",
   "name": "python",
   "nbconvert_exporter": "python",
   "pygments_lexer": "ipython3",
   "version": "3.10.13"
  }
 },
 "nbformat": 4,
 "nbformat_minor": 2
}
