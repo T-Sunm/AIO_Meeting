{
 "cells": [
  {
   "cell_type": "code",
   "execution_count": 42,
   "metadata": {},
   "outputs": [],
   "source": [
    "import random\n",
    "import matplotlib.pyplot as plt\n",
    "import numpy as np"
   ]
  },
  {
   "cell_type": "code",
   "execution_count": 43,
   "metadata": {},
   "outputs": [],
   "source": [
    "def generate_random_value():\n",
    "    return random.randint(0,1)"
   ]
  },
  {
   "cell_type": "code",
   "execution_count": 44,
   "metadata": {},
   "outputs": [],
   "source": [
    "def evaluation(individual):\n",
    "    return sum(individual)"
   ]
  },
  {
   "cell_type": "code",
   "execution_count": 45,
   "metadata": {},
   "outputs": [],
   "source": [
    "def cross_over(individual_1, individual_2, rate = 0.9):\n",
    "    list_1 = individual_1.copy()\n",
    "    list_2 = individual_2.copy()\n",
    "\n",
    "    for i in range(len(list_1)):\n",
    "        if random.random() < rate:\n",
    "            list_1[i],list_2[i] = list_2[i], list_1[i]\n",
    "\n",
    "    return (list_1, list_2)"
   ]
  },
  {
   "cell_type": "code",
   "execution_count": 46,
   "metadata": {},
   "outputs": [],
   "source": [
    "def mutate(individual_1, rate=0.05):\n",
    "    return [1 - val if random.random() < rate else val for val in individual_1]"
   ]
  },
  {
   "cell_type": "code",
   "execution_count": 47,
   "metadata": {},
   "outputs": [],
   "source": [
    "m = 100\n",
    "n = 100\n",
    "population = [[generate_random_value() for _ in range(n)] for _ in range(m)]\n",
    "population = np.array(population).shape"
   ]
  },
  {
   "cell_type": "code",
   "execution_count": 48,
   "metadata": {},
   "outputs": [
    {
     "name": "stdout",
     "output_type": "stream",
     "text": [
      "Generation 0 - Best number of 1s: 60\n",
      "Generation 10 - Best number of 1s: 69\n",
      "Generation 20 - Best number of 1s: 73\n",
      "Generation 30 - Best number of 1s: 73\n",
      "Generation 40 - Best number of 1s: 73\n",
      "Generation 50 - Best number of 1s: 75\n",
      "Generation 60 - Best number of 1s: 76\n",
      "Generation 70 - Best number of 1s: 76\n",
      "Generation 80 - Best number of 1s: 76\n",
      "Generation 90 - Best number of 1s: 76\n"
     ]
    }
   ],
   "source": [
    "m = 100\n",
    "n = 100\n",
    "generation = 100\n",
    "elitism = 2\n",
    "\n",
    "population = [[generate_random_value() for _ in range(n)] for _ in range(m)]\n",
    "hist_fitness = []\n",
    "\n",
    "for gen in range(generation):\n",
    "    new_population = []\n",
    "    # sort theo cách 1\n",
    "    # fitness = np.sort(np.sum(population, axis=1))\n",
    "\n",
    "    # sort theo cách 2\n",
    "    population = sorted(population, key=evaluation, reverse=True)\n",
    "\n",
    "    # keep elitism\n",
    "    new_population.extend(population[:elitism])\n",
    "\n",
    "    if gen % 10 == 0:\n",
    "        best_population = evaluation(population[0])\n",
    "        hist_fitness.append(best_population)\n",
    "        print(f\"Generation {gen} - Best number of 1s: {best_population}\")\n",
    "\n",
    "    while len(new_population) < m:\n",
    "        # selection\n",
    "        parent_1 = population[random.randint(0, m - 1)]\n",
    "        parent_2 = population[random.randint(0, m - 1)]\n",
    "\n",
    "        # crossover\n",
    "        child_1, child_2 = cross_over(parent_1, parent_2)\n",
    "\n",
    "        # mutation\n",
    "        new_population.append(mutate(child_1))\n",
    "        new_population.append(mutate(child_2))\n",
    "\n",
    "    # nếu mà m là số lẻ thì new_population sẽ thừa 1 số\n",
    "    population = new_population[: m]\n",
    "    "
   ]
  },
  {
   "cell_type": "code",
   "execution_count": 49,
   "metadata": {},
   "outputs": [
    {
     "data": {
      "text/plain": [
       "[<matplotlib.lines.Line2D at 0x1bdc81fa770>]"
      ]
     },
     "execution_count": 49,
     "metadata": {},
     "output_type": "execute_result"
    },
    {
     "data": {
      "image/png": "[encoded data removed]",
      "text/plain": [
       "<Figure size 640x480 with 1 Axes>"
      ]
     },
     "metadata": {},
     "output_type": "display_data"
    }
   ],
   "source": [
    "y = hist_fitness\n",
    "x = [i for i in range(generation) if i % 10 == 0]\n",
    "fig, ax = plt.subplots()\n",
    "\n",
    "ax.plot(hist_fitness)"
   ]
  }
 ],
 "metadata": {
  "kernelspec": {
   "display_name": "40daysPython_env",
   "language": "python",
   "name": "python3"
  },
  "language_info": {
   "codemirror_mode": {
    "name": "ipython",
    "version": 3
   },
   "file_extension": ".py",
   "mimetype": "text/x-python",
   "name": "python",
   "nbconvert_exporter": "python",
   "pygments_lexer": "ipython3",
   "version": "3.10.13"
  }
 },
 "nbformat": 4,
 "nbformat_minor": 2
}
