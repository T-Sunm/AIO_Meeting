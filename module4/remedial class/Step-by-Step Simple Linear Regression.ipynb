{
 "cells": [
  {
   "cell_type": "code",
   "execution_count": 10,
   "metadata": {},
   "outputs": [],
   "source": [
    "import pandas as pd\n",
    "import numpy as np"
   ]
  },
  {
   "cell_type": "code",
   "execution_count": 11,
   "metadata": {},
   "outputs": [
    {
     "data": {
      "text/html": [
       "<div>\n",
       "<style scoped>\n",
       "    .dataframe tbody tr th:only-of-type {\n",
       "        vertical-align: middle;\n",
       "    }\n",
       "\n",
       "    .dataframe tbody tr th {\n",
       "        vertical-align: top;\n",
       "    }\n",
       "\n",
       "    .dataframe thead th {\n",
       "        text-align: right;\n",
       "    }\n",
       "</style>\n",
       "<table border=\"1\" class=\"dataframe\">\n",
       "  <thead>\n",
       "    <tr style=\"text-align: right;\">\n",
       "      <th></th>\n",
       "      <th>Index</th>\n",
       "      <th>Experience</th>\n",
       "      <th>Salary (million VND)</th>\n",
       "    </tr>\n",
       "  </thead>\n",
       "  <tbody>\n",
       "    <tr>\n",
       "      <th>0</th>\n",
       "      <td>0</td>\n",
       "      <td>3</td>\n",
       "      <td>60</td>\n",
       "    </tr>\n",
       "    <tr>\n",
       "      <th>1</th>\n",
       "      <td>1</td>\n",
       "      <td>4</td>\n",
       "      <td>55</td>\n",
       "    </tr>\n",
       "    <tr>\n",
       "      <th>2</th>\n",
       "      <td>2</td>\n",
       "      <td>5</td>\n",
       "      <td>66</td>\n",
       "    </tr>\n",
       "    <tr>\n",
       "      <th>3</th>\n",
       "      <td>3</td>\n",
       "      <td>6</td>\n",
       "      <td>93</td>\n",
       "    </tr>\n",
       "  </tbody>\n",
       "</table>\n",
       "</div>"
      ],
      "text/plain": [
       "   Index  Experience  Salary (million VND)\n",
       "0      0           3                    60\n",
       "1      1           4                    55\n",
       "2      2           5                    66\n",
       "3      3           6                    93"
      ]
     },
     "execution_count": 11,
     "metadata": {},
     "output_type": "execute_result"
    }
   ],
   "source": [
    "data = {\n",
    "    'Index': [0, 1, 2, 3],\n",
    "    'Experience': [3, 4, 5, 6],\n",
    "    'Salary (million VND)': [60, 55, 66, 93]\n",
    "}\n",
    "\n",
    "df = pd.DataFrame(data)\n",
    "\n",
    "df.head()"
   ]
  },
  {
   "cell_type": "code",
   "execution_count": 12,
   "metadata": {},
   "outputs": [
    {
     "name": "stdout",
     "output_type": "stream",
     "text": [
      "Row 0: Experience=3, Salary=60\n",
      "Row 1: Experience=4, Salary=55\n",
      "Row 2: Experience=5, Salary=66\n",
      "Row 3: Experience=6, Salary=93\n"
     ]
    }
   ],
   "source": [
    "for index, row in df.iterrows():\n",
    "    print(f\"Row {index}: Experience={row['Experience']}, Salary={row['Salary (million VND)']}\")"
   ]
  },
  {
   "cell_type": "code",
   "execution_count": 16,
   "metadata": {},
   "outputs": [
    {
     "name": "stdout",
     "output_type": "stream",
     "text": [
      "11.5\n",
      "11.78\n",
      "11.933\n",
      "13.829168\n",
      "w : 13.829168\n",
      "b : 5.916628\n"
     ]
    }
   ],
   "source": [
    "w = 10\n",
    "b = 5\n",
    "lr = 0.01\n",
    "losses = []\n",
    "for index, row in df.iterrows():\n",
    "    y = row['Salary (million VND)']\n",
    "    x = row['Experience']\n",
    "    y_hat = w * x + b\n",
    "\n",
    "    loss = (y_hat - y)**2\n",
    "    losses.append(loss)\n",
    "\n",
    "    w_deterative = -2 * x * (y_hat - y)\n",
    "    b_deterative = -2 * (y_hat - y)  \n",
    "\n",
    "    w = w + lr*w_deterative\n",
    "    b = b + lr*b_deterative\n",
    "\n",
    "print(\"w :\", w)\n",
    "print(\"b :\", b)"
   ]
  },
  {
   "cell_type": "code",
   "execution_count": null,
   "metadata": {},
   "outputs": [],
   "source": []
  }
 ],
 "metadata": {
  "kernelspec": {
   "display_name": "40daysPython_env",
   "language": "python",
   "name": "python3"
  },
  "language_info": {
   "codemirror_mode": {
    "name": "ipython",
    "version": 3
   },
   "file_extension": ".py",
   "mimetype": "text/x-python",
   "name": "python",
   "nbconvert_exporter": "python",
   "pygments_lexer": "ipython3",
   "version": "3.10.13"
  }
 },
 "nbformat": 4,
 "nbformat_minor": 2
}
