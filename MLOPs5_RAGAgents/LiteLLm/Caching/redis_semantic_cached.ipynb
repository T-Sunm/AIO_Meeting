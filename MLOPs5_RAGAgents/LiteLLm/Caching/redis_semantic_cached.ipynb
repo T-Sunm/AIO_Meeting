{
 "cells": [
  {
   "cell_type": "code",
   "execution_count": 34,
   "id": "08f20a2c",
   "metadata": {},
   "outputs": [],
   "source": [
    "from langchain_openai import OpenAIEmbeddings\n",
    "from langchain.chat_models import init_chat_model\n",
    "from langchain_community.cache import RedisSemanticCache\n",
    "import json\n",
    "from langchain_core.outputs import Generation\n",
    "REDIS_URI: str = \"localhost:6378\"\n",
    "\n",
    "embeddings = OpenAIEmbeddings(model=\"text-embedding-nomic-embed-text-v1.5\", openai_api_base=\"http://localhost:4000\", openai_api_key=\"sk-llmops\")\n",
    "llm_chat = init_chat_model(\n",
    "            \"qwen-instruct\",\n",
    "            api_key=\"sk-llmops\",\n",
    "            temperature=0.7,\n",
    "            model_provider=\"openai\",\n",
    "            base_url=\"http://localhost:4000\",\n",
    "    )"
   ]
  },
  {
   "cell_type": "code",
   "execution_count": 35,
   "id": "b3e6a495",
   "metadata": {},
   "outputs": [
    {
     "name": "stdout",
     "output_type": "stream",
     "text": [
      "VERTEX AI EMBEDDINGS\n",
      "[0.018747683614492416, 0.03083343431353569, -0.15383435785770416, -0.03006676211953163, 0.012376675382256508]\n"
     ]
    }
   ],
   "source": [
    "text = \"This is a test document.\"\n",
    "query_result = embeddings.embed_query(text)\n",
    "print(f\"VERTEX AI EMBEDDINGS\")\n",
    "print(query_result[:5])"
   ]
  },
  {
   "cell_type": "code",
   "execution_count": 36,
   "id": "2d259f8e",
   "metadata": {},
   "outputs": [],
   "source": [
    "semantic_cache = RedisSemanticCache(\n",
    "            redis_url=\"redis://localhost:6378\",\n",
    "            embedding=embeddings\n",
    "        )"
   ]
  },
  {
   "cell_type": "code",
   "execution_count": 40,
   "id": "e1b93960",
   "metadata": {},
   "outputs": [
    {
     "name": "stdout",
     "output_type": "stream",
     "text": [
      "I'm Qwen, an AI assistant created by Alibaba Cloud. How can I help you today?\n"
     ]
    }
   ],
   "source": [
    "question = \"Hello, what your name?\"\n",
    "\n",
    "# Check if the question is already cached\n",
    "cached_response = semantic_cache.lookup(question, 'pre-cache')\n",
    "if cached_response:\n",
    "    print(cached_response[0].text)\n",
    "else:\n",
    "    response = llm_chat.invoke(question)\n",
    "    response_dict = response.model_dump()\n",
    "    print(json.dumps(response_dict, indent=2, ensure_ascii=False))\n",
    "\n",
    "    semantic_cache.update(question, 'pre-cache', [\n",
    "    Generation(text=str(response.content))])\n"
   ]
  }
 ],
 "metadata": {
  "kernelspec": {
   "display_name": "LearnLLMsOps",
   "language": "python",
   "name": "python3"
  },
  "language_info": {
   "codemirror_mode": {
    "name": "ipython",
    "version": 3
   },
   "file_extension": ".py",
   "mimetype": "text/x-python",
   "name": "python",
   "nbconvert_exporter": "python",
   "pygments_lexer": "ipython3",
   "version": "3.10.18"
  }
 },
 "nbformat": 4,
 "nbformat_minor": 5
}
