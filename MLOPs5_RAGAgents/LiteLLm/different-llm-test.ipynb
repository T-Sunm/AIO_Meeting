{
 "cells": [
  {
   "cell_type": "code",
   "execution_count": 5,
   "id": "16367b33",
   "metadata": {},
   "outputs": [
    {
     "name": "stdout",
     "output_type": "stream",
     "text": [
      "Hello! How can I help you today? Is there anything on your mind that you would like to talk about or ask me for advice about? I'm here to assist you with any questions or concerns you may have.\n"
     ]
    }
   ],
   "source": [
    "from litellm import completion\n",
    "\n",
    "# Dùng model name từ LM Studio\n",
    "response = completion(\n",
    "    model=\"lm_studio/qwen2.5-1.5b-instruct\",  # Model name chính xác\n",
    "    messages=[{\"content\": \"Hello\", \"role\": \"user\"}],\n",
    "    api_base=\"http://127.0.0.1:1234/v1\",\n",
    "    api_key=\"lm-studio\",\n",
    ")\n",
    "\n",
    "print(response.choices[0].message.content)"
   ]
  },
  {
   "cell_type": "code",
   "execution_count": 6,
   "id": "e72bf790",
   "metadata": {},
   "outputs": [
    {
     "name": "stdout",
     "output_type": "stream",
     "text": [
      "{\n",
      "  \"id\": \"chatcmpl-fwc22il2hulfbbc72f34f\",\n",
      "  \"created\": 1753699036,\n",
      "  \"model\": \"lm_studio/qwen2.5-1.5b-instruct\",\n",
      "  \"object\": \"chat.completion\",\n",
      "  \"system_fingerprint\": \"qwen2.5-1.5b-instruct\",\n",
      "  \"choices\": [\n",
      "    {\n",
      "      \"finish_reason\": \"stop\",\n",
      "      \"index\": 0,\n",
      "      \"message\": {\n",
      "        \"content\": \"Hello! How can I help you today? Is there anything on your mind that you would like to talk about or ask me for advice about? I'm here to assist you with any questions or concerns you may have.\",\n",
      "        \"role\": \"assistant\",\n",
      "        \"tool_calls\": null,\n",
      "        \"function_call\": null\n",
      "      },\n",
      "      \"provider_specific_fields\": {}\n",
      "    }\n",
      "  ],\n",
      "  \"usage\": {\n",
      "    \"completion_tokens\": 44,\n",
      "    \"prompt_tokens\": 30,\n",
      "    \"total_tokens\": 74,\n",
      "    \"completion_tokens_details\": null,\n",
      "    \"prompt_tokens_details\": null\n",
      "  },\n",
      "  \"service_tier\": null,\n",
      "  \"stats\": {}\n",
      "}\n"
     ]
    }
   ],
   "source": [
    "import json\n",
    "\n",
    "# Convert response to dictionary and print with formatting\n",
    "response_dict = response.model_dump()\n",
    "print(json.dumps(response_dict, indent=2, ensure_ascii=False))"
   ]
  },
  {
   "cell_type": "markdown",
   "id": "d9cc6737",
   "metadata": {},
   "source": [
    "### Litellm Proxy via python code"
   ]
  },
  {
   "cell_type": "code",
   "execution_count": 19,
   "id": "a3ad2f9e",
   "metadata": {},
   "outputs": [
    {
     "name": "stdout",
     "output_type": "stream",
     "text": [
      "sk-ZOv4G3Oqn3QG0DPgLemPnQ\n",
      "{\n",
      "  \"id\": \"chatcmpl-evr3ixn8mvmd6q9fosf4g\",\n",
      "  \"created\": 1753786361,\n",
      "  \"model\": \"qwen2.5-1.5b-instruct\",\n",
      "  \"object\": \"chat.completion\",\n",
      "  \"system_fingerprint\": \"qwen2.5-1.5b-instruct\",\n",
      "  \"choices\": [\n",
      "    {\n",
      "      \"finish_reason\": \"stop\",\n",
      "      \"index\": 0,\n",
      "      \"message\": {\n",
      "        \"content\": \"The capital city of Nepal is Kathmandu.\",\n",
      "        \"role\": \"assistant\",\n",
      "        \"tool_calls\": null,\n",
      "        \"function_call\": null\n",
      "      },\n",
      "      \"provider_specific_fields\": {}\n",
      "    }\n",
      "  ],\n",
      "  \"usage\": {\n",
      "    \"completion_tokens\": 10,\n",
      "    \"prompt_tokens\": 36,\n",
      "    \"total_tokens\": 46,\n",
      "    \"completion_tokens_details\": null,\n",
      "    \"prompt_tokens_details\": null\n",
      "  },\n",
      "  \"service_tier\": null,\n",
      "  \"stats\": {}\n",
      "}\n"
     ]
    }
   ],
   "source": [
    "import requests\n",
    "import json\n",
    "from dotenv import load_dotenv\n",
    "import os\n",
    "\n",
    "load_dotenv()  # Load environment variables from .env file\n",
    "print(os.getenv(\"LITELLM_PROXY_API_KEY\"))\n",
    "url = 'http://localhost:4000/chat/completions'\n",
    "headers = {\n",
    "    'Content-Type': 'application/json',\n",
    "    'Authorization': f'Bearer {os.getenv(\"LITELLM_PROXY_API_KEY\")}'\n",
    "}\n",
    "data = {\n",
    "    \"model\": \"openai/qwen2.5-1.5b-instruct\",\n",
    "    \"messages\": [\n",
    "        {\n",
    "            \"role\": \"user\",\n",
    "            \"content\": \"What is the capital of Nepal ?\"\n",
    "        }\n",
    "    ]\n",
    "}\n",
    "\n",
    "response = requests.post(url, headers=headers, json=data)\n",
    "print(json.dumps(response.json(), indent=2))"
   ]
  },
  {
   "cell_type": "markdown",
   "id": "ad0c8367",
   "metadata": {},
   "source": [
    "### Proxy via Litellm sdk"
   ]
  },
  {
   "cell_type": "code",
   "execution_count": 14,
   "id": "db4aab17",
   "metadata": {},
   "outputs": [
    {
     "name": "stdout",
     "output_type": "stream",
     "text": [
      "The capital of Nepal is Kathmandu.\n"
     ]
    }
   ],
   "source": [
    "from litellm import completion\n",
    "from dotenv import load_dotenv\n",
    "import os\n",
    "load_dotenv()  # Load environment variables from .env file\n",
    "\n",
    "LITELLM_PROXY_API_KEY = os.getenv('LITELLM_PROXY_API_KEY')\n",
    "\n",
    "response = completion(\n",
    "    model=\"openai/openai/qwen2.5-1.5b-instruct\",\n",
    "    messages=[{\"role\": \"user\", \"content\": \"What is the capital of Nepal ?\"}],\n",
    "    api_base=\"http://localhost:4000\",  # Base URL of the LiteLLM Proxy Server\n",
    "    api_key=LITELLM_PROXY_API_KEY  # API key for the LiteLLM Proxy Server\n",
    ")\n",
    "\n",
    "print(response['choices'][0]['message']['content'])"
   ]
  }
 ],
 "metadata": {
  "kernelspec": {
   "display_name": "LearnLLMsOps",
   "language": "python",
   "name": "python3"
  },
  "language_info": {
   "codemirror_mode": {
    "name": "ipython",
    "version": 3
   },
   "file_extension": ".py",
   "mimetype": "text/x-python",
   "name": "python",
   "nbconvert_exporter": "python",
   "pygments_lexer": "ipython3",
   "version": "3.10.18"
  }
 },
 "nbformat": 4,
 "nbformat_minor": 5
}
