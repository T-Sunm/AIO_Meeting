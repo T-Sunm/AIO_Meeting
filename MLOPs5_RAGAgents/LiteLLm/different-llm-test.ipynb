{
 "cells": [
  {
   "cell_type": "code",
   "execution_count": 5,
   "id": "16367b33",
   "metadata": {},
   "outputs": [
    {
     "name": "stdout",
     "output_type": "stream",
     "text": [
      "Hello! How can I help you today? Is there anything on your mind that you would like to talk about or ask me for advice about? I'm here to assist you with any questions or concerns you may have.\n"
     ]
    }
   ],
   "source": [
    "from litellm import completion\n",
    "\n",
    "# Dùng model name từ LM Studio\n",
    "response = completion(\n",
    "    model=\"lm_studio/qwen2.5-1.5b-instruct\",  # Model name chính xác\n",
    "    messages=[{\"content\": \"Hello\", \"role\": \"user\"}],\n",
    "    api_base=\"http://127.0.0.1:1234/v1\",\n",
    "    api_key=\"lm-studio\",\n",
    ")\n",
    "\n",
    "print(response.choices[0].message.content)"
   ]
  },
  {
   "cell_type": "code",
   "execution_count": 6,
   "id": "e72bf790",
   "metadata": {},
   "outputs": [
    {
     "name": "stdout",
     "output_type": "stream",
     "text": [
      "{\n",
      "  \"id\": \"chatcmpl-fwc22il2hulfbbc72f34f\",\n",
      "  \"created\": 1753699036,\n",
      "  \"model\": \"lm_studio/qwen2.5-1.5b-instruct\",\n",
      "  \"object\": \"chat.completion\",\n",
      "  \"system_fingerprint\": \"qwen2.5-1.5b-instruct\",\n",
      "  \"choices\": [\n",
      "    {\n",
      "      \"finish_reason\": \"stop\",\n",
      "      \"index\": 0,\n",
      "      \"message\": {\n",
      "        \"content\": \"Hello! How can I help you today? Is there anything on your mind that you would like to talk about or ask me for advice about? I'm here to assist you with any questions or concerns you may have.\",\n",
      "        \"role\": \"assistant\",\n",
      "        \"tool_calls\": null,\n",
      "        \"function_call\": null\n",
      "      },\n",
      "      \"provider_specific_fields\": {}\n",
      "    }\n",
      "  ],\n",
      "  \"usage\": {\n",
      "    \"completion_tokens\": 44,\n",
      "    \"prompt_tokens\": 30,\n",
      "    \"total_tokens\": 74,\n",
      "    \"completion_tokens_details\": null,\n",
      "    \"prompt_tokens_details\": null\n",
      "  },\n",
      "  \"service_tier\": null,\n",
      "  \"stats\": {}\n",
      "}\n"
     ]
    }
   ],
   "source": [
    "import json\n",
    "\n",
    "# Convert response to dictionary and print with formatting\n",
    "response_dict = response.model_dump()\n",
    "print(json.dumps(response_dict, indent=2, ensure_ascii=False))"
   ]
  }
 ],
 "metadata": {
  "kernelspec": {
   "display_name": "LearnLLMsOps",
   "language": "python",
   "name": "python3"
  },
  "language_info": {
   "codemirror_mode": {
    "name": "ipython",
    "version": 3
   },
   "file_extension": ".py",
   "mimetype": "text/x-python",
   "name": "python",
   "nbconvert_exporter": "python",
   "pygments_lexer": "ipython3",
   "version": "3.10.18"
  }
 },
 "nbformat": 4,
 "nbformat_minor": 5
}
