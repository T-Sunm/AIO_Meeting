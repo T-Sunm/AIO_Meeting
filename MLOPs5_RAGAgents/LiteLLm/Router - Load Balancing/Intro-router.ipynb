{
 "cells": [
  {
   "cell_type": "code",
   "execution_count": 55,
   "id": "8668ef0d",
   "metadata": {},
   "outputs": [
    {
     "name": "stdout",
     "output_type": "stream",
     "text": [
      "{\n",
      "  \"content\": \"I am Qwen, a large language model created by Alibaba Cloud. I can answer questions in multiple languages and provide information on various topics including science, technology, culture, history, etc. If you have any specific questions or areas of interest that you'd like to explore, feel free to ask!\",\n",
      "  \"additional_kwargs\": {\n",
      "    \"refusal\": null\n",
      "  },\n",
      "  \"response_metadata\": {\n",
      "    \"token_usage\": {\n",
      "      \"completion_tokens\": 60,\n",
      "      \"prompt_tokens\": 35,\n",
      "      \"total_tokens\": 95,\n",
      "      \"completion_tokens_details\": null,\n",
      "      \"prompt_tokens_details\": null\n",
      "    },\n",
      "    \"model_name\": \"lm_studio/qwen2.5-0.5b-instruct\",\n",
      "    \"system_fingerprint\": \"qwen2.5-0.5b-instruct\",\n",
      "    \"id\": \"chatcmpl-my9vcps0vedocibd7r0v3\",\n",
      "    \"service_tier\": null,\n",
      "    \"finish_reason\": \"stop\",\n",
      "    \"logprobs\": null\n",
      "  },\n",
      "  \"type\": \"ai\",\n",
      "  \"name\": null,\n",
      "  \"id\": \"run--e9c5b391-9af6-4b6e-9cec-bb8cc98a8b04-0\",\n",
      "  \"example\": false,\n",
      "  \"tool_calls\": [],\n",
      "  \"invalid_tool_calls\": [],\n",
      "  \"usage_metadata\": {\n",
      "    \"input_tokens\": 35,\n",
      "    \"output_tokens\": 60,\n",
      "    \"total_tokens\": 95,\n",
      "    \"input_token_details\": {},\n",
      "    \"output_token_details\": {}\n",
      "  }\n",
      "}\n"
     ]
    }
   ],
   "source": [
    "from langchain.chat_models import init_chat_model\n",
    "import json\n",
    "\n",
    "\n",
    "llm_chat = init_chat_model(\n",
    "            \"qwen-instruct\",\n",
    "            api_key=\"sk-llmops\",\n",
    "            temperature=0.7,\n",
    "            model_provider=\"openai\",\n",
    "            base_url=\"http://localhost:4000\",\n",
    "    )\n",
    "response = llm_chat.invoke(\"Hello, who are you?\")\n",
    "response_dict = response.model_dump()\n",
    "print(json.dumps(response_dict, indent=2, ensure_ascii=False))"
   ]
  }
 ],
 "metadata": {
  "kernelspec": {
   "display_name": "LearnLLMsOps",
   "language": "python",
   "name": "python3"
  },
  "language_info": {
   "codemirror_mode": {
    "name": "ipython",
    "version": 3
   },
   "file_extension": ".py",
   "mimetype": "text/x-python",
   "name": "python",
   "nbconvert_exporter": "python",
   "pygments_lexer": "ipython3",
   "version": "3.10.18"
  }
 },
 "nbformat": 4,
 "nbformat_minor": 5
}
