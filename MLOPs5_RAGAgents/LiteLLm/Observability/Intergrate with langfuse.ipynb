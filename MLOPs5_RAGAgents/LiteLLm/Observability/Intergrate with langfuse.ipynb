{
 "cells": [
  {
   "cell_type": "code",
   "execution_count": 14,
   "id": "0ad46b7c",
   "metadata": {},
   "outputs": [
    {
     "data": {
      "text/plain": [
       "True"
      ]
     },
     "execution_count": 14,
     "metadata": {},
     "output_type": "execute_result"
    }
   ],
   "source": [
    "from pathlib import Path\n",
    "from dotenv import load_dotenv\n",
    "import os, sys\n",
    "\n",
    "try:\n",
    "    PROJECT_ROOT = Path(__file__).resolve().parent.parent\n",
    "except NameError:\n",
    "    # Không có __file__ → đang ở notebook / REPL\n",
    "    PROJECT_ROOT = Path.cwd().parent  # điều chỉnh số .parent nếu cần\n",
    "\n",
    "ENV_PATH = PROJECT_ROOT / \".env\"\n",
    "load_dotenv(ENV_PATH)\n"
   ]
  },
  {
   "cell_type": "code",
   "execution_count": 37,
   "id": "f63f861d",
   "metadata": {},
   "outputs": [
    {
     "name": "stdout",
     "output_type": "stream",
     "text": [
      "{\n",
      "  \"content\": \"I am Qwen, an AI language model developed by Alibaba Cloud. How may I assist you today?\",\n",
      "  \"additional_kwargs\": {\n",
      "    \"refusal\": null\n",
      "  },\n",
      "  \"response_metadata\": {\n",
      "    \"token_usage\": {\n",
      "      \"completion_tokens\": 21,\n",
      "      \"prompt_tokens\": 35,\n",
      "      \"total_tokens\": 56,\n",
      "      \"completion_tokens_details\": null,\n",
      "      \"prompt_tokens_details\": null\n",
      "    },\n",
      "    \"model_name\": \"lm_studio/qwen2.5-1.5b-instruct\",\n",
      "    \"system_fingerprint\": \"qwen2.5-1.5b-instruct\",\n",
      "    \"id\": \"chatcmpl-rru61vgq69qa6yoobxht5c\",\n",
      "    \"service_tier\": null,\n",
      "    \"finish_reason\": \"stop\",\n",
      "    \"logprobs\": null\n",
      "  },\n",
      "  \"type\": \"ai\",\n",
      "  \"name\": null,\n",
      "  \"id\": \"run--37f8c6bb-0819-4c4f-8c14-816da4350366-0\",\n",
      "  \"example\": false,\n",
      "  \"tool_calls\": [],\n",
      "  \"invalid_tool_calls\": [],\n",
      "  \"usage_metadata\": {\n",
      "    \"input_tokens\": 35,\n",
      "    \"output_tokens\": 21,\n",
      "    \"total_tokens\": 56,\n",
      "    \"input_token_details\": {},\n",
      "    \"output_token_details\": {}\n",
      "  }\n",
      "}\n"
     ]
    }
   ],
   "source": [
    "from langchain_openai import OpenAIEmbeddings\n",
    "from langchain.chat_models import init_chat_model\n",
    "from langchain_community.cache import RedisSemanticCache\n",
    "import json\n",
    "from langchain_core.outputs import Generation\n",
    "from langfuse import observe, get_client\n",
    "langfuse = get_client()\n",
    "from langchain_openai import ChatOpenAI\n",
    "from langfuse.langchain import CallbackHandler\n",
    "\n",
    "langfuse_handler = CallbackHandler()\n",
    "\n",
    "REDIS_URI: str = \"localhost:6378\"\n",
    "embeddings = OpenAIEmbeddings(model=\"text-embedding-nomic-embed-text-v1.5\", openai_api_base=\"http://localhost:4000\", openai_api_key=\"sk-llmops\")\n",
    "llm_chat = ChatOpenAI(\n",
    "    model=\"qwen-instruct\",\n",
    "    api_key=\"sk-llmops\",\n",
    "    temperature=0.7,\n",
    "    base_url=\"http://localhost:4000\"\n",
    "  )\n",
    "def fn(question, llm_chat):\n",
    "  response = llm_chat.invoke(question,{\n",
    "        \"callbacks\": [langfuse_handler],\n",
    "        \"metadata\": {                       # trace attributes\n",
    "            \"langfuse_session_id\": \"session-1\",\n",
    "            \"langfuse_user_id\": \"user-1\",\n",
    "        },\n",
    "    },)\n",
    "  return response\n",
    "\n",
    "question = \"Hello, what your name?\"\n",
    "\n",
    "response = fn(question, llm_chat)\n",
    "response_dict = response.model_dump()\n",
    "print(json.dumps(response_dict, indent=2, ensure_ascii=False))  "
   ]
  },
  {
   "cell_type": "code",
   "execution_count": null,
   "id": "9fd2b225",
   "metadata": {},
   "outputs": [],
   "source": [
    "semantic_cache = RedisSemanticCache(\n",
    "            redis_url=\"redis://localhost:6378\",\n",
    "            embedding=embeddings\n",
    ")   "
   ]
  },
  {
   "cell_type": "code",
   "execution_count": 17,
   "id": "7e1f7842",
   "metadata": {},
   "outputs": [
    {
     "name": "stdout",
     "output_type": "stream",
     "text": [
      "I am Qwen, a large language model developed by Alibaba Cloud. My name is Qwen, and I was created to assist you with various tasks like answering questions, providing information, and even generating creative content. How can I help you today?\n"
     ]
    }
   ],
   "source": [
    "question = \"Hello, what your name?\"\n",
    "\n",
    "# Check if the question is already cached\n",
    "cached_response = semantic_cache.lookup(question, 'pre-cache')\n",
    "if cached_response:\n",
    "    print(cached_response[0].text)\n",
    "else:\n",
    "    response = fn(question, llm_chat)\n",
    "    response_dict = response.model_dump()\n",
    "    print(json.dumps(response_dict, indent=2, ensure_ascii=False))\n",
    "\n",
    "    semantic_cache.update(question, 'pre-cache', [\n",
    "    Generation(text=str(response.content))])\n"
   ]
  }
 ],
 "metadata": {
  "kernelspec": {
   "display_name": "LearnLLMsOps",
   "language": "python",
   "name": "python3"
  },
  "language_info": {
   "codemirror_mode": {
    "name": "ipython",
    "version": 3
   },
   "file_extension": ".py",
   "mimetype": "text/x-python",
   "name": "python",
   "nbconvert_exporter": "python",
   "pygments_lexer": "ipython3",
   "version": "3.10.18"
  }
 },
 "nbformat": 4,
 "nbformat_minor": 5
}
