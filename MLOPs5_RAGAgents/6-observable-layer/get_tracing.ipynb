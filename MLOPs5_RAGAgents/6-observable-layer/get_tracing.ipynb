{
 "cells": [
  {
   "cell_type": "code",
   "execution_count": 18,
   "id": "3f66cbb6",
   "metadata": {},
   "outputs": [],
   "source": [
    "from langfuse import Langfuse\n",
    "import json\n",
    "\n",
    "# Khởi tạo client\n",
    "langfuse = Langfuse(\n",
    "    public_key=\"pk-lf-750d9727-b47b-4110-925d-9c00872618fe\",\n",
    "    secret_key=\"sk-lf-2c87067a-54eb-428d-b1e1-76db66870884\",\n",
    "    host=\"http://localhost:3000\",\n",
    ")\n",
    "\n",
    "your_session_id = \"1\"\n",
    "\n",
    "# Truy vấn traces và sắp xếp\n",
    "traces_in_session = langfuse.api.trace.list(session_id=your_session_id, limit=100)\n",
    "sorted_traces = sorted(traces_in_session.data, key=lambda x: x.timestamp)\n",
    "\n",
    "chat_history = []\n",
    "\n",
    "# Lặp qua từng trace để trích xuất\n",
    "for trace in sorted_traces:\n",
    "        ai_answer = \"\"\n",
    "        user_question = \"\"\n",
    "\n",
    "        # 1. Lấy câu trả lời của AI (logic này đã ổn)\n",
    "        if isinstance(trace.output, str):\n",
    "                ai_answer = trace.output\n",
    "        elif isinstance(trace.output, dict):\n",
    "                ai_answer = trace.output.get(\"content\", \"\") or trace.output.get(\"response\", \"\")\n",
    "\n",
    "        # 2. Lấy câu hỏi của người dùng trực tiếp từ input dictionary\n",
    "        # <--- THAY ĐỔI QUAN TRỌNG BẮT ĐẦU TỪ ĐÂY --->\n",
    "        if isinstance(trace.input, dict):\n",
    "            user_question = trace.input.get('question', '') # Truy cập trực tiếp vào key 'question'\n",
    "        # <--- KẾT THÚC THAY ĐỔI QUAN TRỌNG --->\n",
    "\n",
    "        # Thêm cặp hỏi-đáp vào lịch sử nếu có đủ thông tin\n",
    "        if user_question and ai_answer:\n",
    "                chat_history.extend([\n",
    "                    {\"role\": \"user\", \"content\": user_question},\n",
    "                    {\"role\": \"assistant\", \"content\": ai_answer},\n",
    "                ])\n",
    "\n",
    "        # Giới hạn số lượng cặp hỏi-đáp (ví dụ 6 cặp gần nhất)\n",
    "        max_pairs = 6\n",
    "        chat_history[-(max_pairs * 2):]\n",
    "\n"
   ]
  },
  {
   "cell_type": "code",
   "execution_count": 19,
   "id": "36304654",
   "metadata": {},
   "outputs": [
    {
     "name": "stdout",
     "output_type": "stream",
     "text": [
      "Hiện tại trong dữ liệu tôi đang có không liệt kê được các địa điểm thu gom pin cụ thể ở Đà Nẵng. Để biết thông tin chi tiết, bạn có thể:\n",
      "\n",
      "- Liên hệ **Sở Bảo vệ môi trường – Đà Nẵng** hoặc **Công ty quản lý rác thải thành phố** để hỏi về các điểm thu gom pin đã được cấp phép.  \n",
      "- Kiểm tra tại các **cửa hàng điện máy lớn** (ví dụ: Nguyễn Kim, Điện máy Xanh, MediaMart) – nhiều cửa hàng này có chương trình “đổi pin cũ lấy pin mới”.  \n",
      "- Tra cứu trên website của **Bộ Tài nguyên và Môi trường** hoặc các **ứng dụng thu gom rác thải** (như VnPost, MyRecycle) để xem bản đồ các điểm thu gom gần bạn.  \n",
      "\n",
      "**Mẹo an toàn khi xử lý pin (đặc biệt là pin lithium‑ion):**  \n",
      "- Không để pin tiếp xúc trực tiếp với lửa hoặc nhiệt độ cao; nếu pin có dấu hiệu phồng, rò rỉ hoặc cháy, hãy đặt nó vào thùng kim loại kín và thông báo cho cơ quan thu gom.  \n",
      "- Trước khi mang pin tới điểm thu gom, **bọc đầu cực bằng băng keo** để tránh ngắn mạch và nguy cơ phát nổ.  \n",
      "\n",
      "Nếu bạn có thêm thông tin (ví dụ: tên dự án, tổ chức thu gom cụ thể) mình có thể hỗ trợ tìm kiếm chi tiết hơn.\n"
     ]
    }
   ],
   "source": [
    "print(trace.output)"
   ]
  },
  {
   "cell_type": "code",
   "execution_count": 20,
   "id": "bc307483",
   "metadata": {},
   "outputs": [
    {
     "name": "stdout",
     "output_type": "stream",
     "text": [
      "{'question': 'Các địa điểm thu gom pin ở danang?', 'session_id': '1', 'user_id': '1'}\n"
     ]
    }
   ],
   "source": [
    "print(trace.input)"
   ]
  },
  {
   "cell_type": "code",
   "execution_count": 21,
   "id": "cf938419",
   "metadata": {},
   "outputs": [
    {
     "name": "stdout",
     "output_type": "stream",
     "text": [
      "[TraceWithDetails(id='36bc874f46e3f9ce4d2c60eb7457e5f1', timestamp=datetime.datetime(2025, 10, 4, 17, 23, 33, 423000, tzinfo=datetime.timezone.utc), name='get_restapi_response', input={'question': 'What is llms', 'session_id': '1', 'user_id': '1'}, output='**LLMs (Large Language Models)**  \\nLarge Language Models are advanced AI systems that learn patterns in text from massive datasets. They use neural network architectures (e.g., transformers) to predict the next word in a sentence, enabling tasks such as answering questions, writing essays, translating languages, and generating code. The “large” part refers to the huge number of parameters (often billions) and the extensive training data, which give these models a broad understanding of language and knowledge across many domains.', session_id='1', release=None, version=None, user_id='1', metadata={'resourceAttributes': {'telemetry.sdk.language': 'python', 'telemetry.sdk.name': 'opentelemetry', 'telemetry.sdk.version': '1.34.1', 'service.name': 'unknown_service'}, 'scope': {'name': 'langfuse-sdk', 'version': '3.1.2', 'attributes': {'public_key': 'pk-lf-750d9727-b47b-4110-925d-9c00872618fe'}}}, tags=[], public=False, environment='default', html_path='/project/cmgcfea420006n3071lce88pn/traces/36bc874f46e3f9ce4d2c60eb7457e5f1', latency=8.324, total_cost=0.0, observations=['3b42e401546912dc', '0fd601d30e14bdb8', '1da6373c6527f91b', '0cac88b128c3b28e', '5491daebeb3ba391'], scores=[], createdAt='2025-10-04T17:23:43.781Z', updatedAt='2025-10-04T17:23:43.807Z', bookmarked=False, externalId=None, projectId='cmgcfea420006n3071lce88pn'), TraceWithDetails(id='06347389d6142f4c7ce14189312061dd', timestamp=datetime.datetime(2025, 10, 4, 17, 24, 43, 457000, tzinfo=datetime.timezone.utc), name='get_restapi_response', input={'question': 'Bạn là ai', 'session_id': '1', 'user_id': '1'}, output='**Bạn là ai?**  \\nTôi là một trợ lý AI được lập trình chuyên sâu về khoa học môi trường, với trọng tâm vào các loại pin (điện lít, sạc lại, một lần sử dụng), quy trình thu gom, an toàn cháy nổ, công nghệ tái chế và trách nhiệm của nhà sản xuất (EPR). Tôi có thể cung cấp thông tin, tư vấn và phân tích liên quan đến các vấn đề môi trường và công nghệ pin.', session_id='1', release=None, version=None, user_id='1', metadata={'resourceAttributes': {'telemetry.sdk.language': 'python', 'telemetry.sdk.name': 'opentelemetry', 'telemetry.sdk.version': '1.34.1', 'service.name': 'unknown_service'}, 'scope': {'name': 'langfuse-sdk', 'version': '3.1.2', 'attributes': {'public_key': 'pk-lf-750d9727-b47b-4110-925d-9c00872618fe'}}}, tags=[], public=False, environment='default', html_path='/project/cmgcfea420006n3071lce88pn/traces/06347389d6142f4c7ce14189312061dd', latency=2.002, total_cost=0.0, observations=['9eaab6324edee7f9', '2a0826505af635f5', '4cf3527198745f84', '7b9fa8e0850ddaf4', 'f2adfa6f2e49d6b8'], scores=[], createdAt='2025-10-04T17:24:43.973Z', updatedAt='2025-10-04T17:24:48.897Z', bookmarked=False, externalId=None, projectId='cmgcfea420006n3071lce88pn'), TraceWithDetails(id='1f90900037eeac6e7120c940db1e13ab', timestamp=datetime.datetime(2025, 10, 4, 17, 25, 23, 130000, tzinfo=datetime.timezone.utc), name='get_restapi_response', input={'question': 'Bạn biết gì về ngôn ngữ lớn', 'session_id': '1', 'user_id': '1'}, output='## Ngôn ngữ lớn (Large Language Models – LLM)\\n\\n### 1. Định nghĩa  \\n- **Ngôn ngữ lớn** là những mô hình máy học được huấn luyện trên hàng tỷ từ ngữ, có khả năng **đọc, hiểu và sinh văn bản** giống con người.  \\n- Ví dụ nổi tiếng: GPT‑4, Claude, LLaMA, Gemini…  \\n\\n### 2. Cách hoạt động  \\n- **Huấn luyện**: Mô hình được “đào tạo” bằng cách dự đoán từ tiếp theo trong một chuỗi văn bản.  \\n- **Kiến trúc**: Thường dùng mạng Transformer, gồm nhiều lớp attention (tập trung) giúp mô hình “nắm bắt” ngữ cảnh.  \\n- **Bộ nhớ ngắn hạn**: Khi sinh câu, mô hình giữ các từ vừa rồi trong “bộ nhớ” để liên kết logic.  \\n\\n> **So sánh**: Tưởng như bạn đang đọc một cuốn sách khổng lồ; mô hình cố gắng đoán chữ tiếp theo dựa trên những chữ đã đọc.  \\n\\n### 3. Ứng dụng thực tiễn  \\n- **Tạo nội dung**: viết bài, bản dịch, tóm tắt.  \\n- **Hỗ trợ khách hàng**: chatbot, trả lời câu hỏi.  \\n- **Phân tích dữ liệu**: trích xuất thông tin, phân loại văn bản.  \\n- **Nghiên cứu**: hỗ trợ viết luận văn, đề xuất ý tưởng.  \\n\\n### 4. Rủi ro và hạn chế  \\n- **Thông tin sai lệch**: Mô hình có thể “đọc” dữ liệu sai hoặc giả.  \\n- **Bảo mật**: Đôi khi nhớ lại dữ liệu nhạy cảm nếu chưa được kiểm soát.  \\n- **Tính đạo đức**: Sử dụng để tạo nội dung gây hiểu lầm hoặc lừa đảo.  \\n\\n### 5. Tương lai  \\n- **Tăng cường tính minh bạch**: công cụ “explainable AI” giúp người dùng hiểu quyết định của mô hình.  \\n- **Đào tạo hiệu quả hơn**: giảm nhu cầu tài nguyên, giảm khí thải carbon.  \\n- **Tích hợp sâu hơn**: vào các hệ thống IoT, y tế, giáo dục.  \\n\\n> **Tóm tắt**: Ngôn ngữ lớn là công nghệ AI mạnh mẽ, nhưng cần được sử dụng có trách nhiệm và có biện pháp kiểm soát.', session_id='1', release=None, version=None, user_id='1', metadata={'resourceAttributes': {'telemetry.sdk.language': 'python', 'telemetry.sdk.name': 'opentelemetry', 'telemetry.sdk.version': '1.34.1', 'service.name': 'unknown_service'}, 'scope': {'name': 'langfuse-sdk', 'version': '3.1.2', 'attributes': {'public_key': 'pk-lf-750d9727-b47b-4110-925d-9c00872618fe'}}}, tags=[], public=False, environment='default', html_path='/project/cmgcfea420006n3071lce88pn/traces/1f90900037eeac6e7120c940db1e13ab', latency=2.513, total_cost=0.0, observations=['e5561e3bb5f56984', 'fd61875e2b4bdf8f', 'c751b17cfcd6b6c8', '12167ed311723f20', '834a980216028b13'], scores=[], createdAt='2025-10-04T17:25:29.783Z', updatedAt='2025-10-04T17:25:29.815Z', bookmarked=False, externalId=None, projectId='cmgcfea420006n3071lce88pn'), TraceWithDetails(id='0592b07ccac08c2310f661d9051cd62f', timestamp=datetime.datetime(2025, 10, 4, 17, 28, 36, 56000, tzinfo=datetime.timezone.utc), name='get_sse_response', input={'question': 'What do beetles eat?', 'session_id': '1', 'user_id': '1'}, output='### What Do Beetles Eat?\\n\\nBeetles are incredibly diverse, and so are their diets. Their feeding habits can be grouped into a few broad categories:\\n\\n| Diet Type | Typical Food Sources | Example Species |\\n|-----------|----------------------|-----------------|\\n| **Herbivorous** | Leaves, stems, flowers, bark, roots, seeds | **Colorado potato beetle** (potatoes), **Japanese beetle** (garden plants) |\\n| **Carnivorous / Predatory** | Other insects, eggs, larvae, worms, snails | **Cicada killer beetle** (cicadas), **ground beetles** (earthworms, other beetles) |\\n| **Scavengers / Detritivores** | Decaying plant matter, fungi, carrion | **Dung beetles** (animal feces), **silvery beetles** (rotting wood) |\\n| **Omnivorous** | Combination of plant and animal matter | **Carpenter beetles** (wood + larvae of other insects) |\\n\\n#### Key Points\\n\\n- **Specialization**: Some beetles are specialists (e.g., the **monarch butterfly’s** caterpillar stage eats only milkweed), while others are generalists that can switch foods.\\n- **Life Stage Matters**: Larvae often have different diets than adults. For instance, many **caterpillar beetles** (e.g., the **mealworm**) feed on decaying organic matter as larvae but become predatory as adults.\\n- **Environmental Role**: Beetles help decompose plant material, control pest populations, and recycle nutrients in ecosystems.\\n\\nSo, depending on the species and life stage, beetles can eat plants, other insects, decaying matter, or a mix of these.', session_id='1', release=None, version=None, user_id='1', metadata={'resourceAttributes': {'telemetry.sdk.language': 'python', 'telemetry.sdk.name': 'opentelemetry', 'telemetry.sdk.version': '1.34.1', 'service.name': 'unknown_service'}, 'scope': {'name': 'langfuse-sdk', 'version': '3.1.2', 'attributes': {'public_key': 'pk-lf-750d9727-b47b-4110-925d-9c00872618fe'}}}, tags=[], public=False, environment='default', html_path='/project/cmgcfea420006n3071lce88pn/traces/0592b07ccac08c2310f661d9051cd62f', latency=4.331, total_cost=0.0, observations=['172e1bd6ff2faa7e', 'a0ce42eb78d60836', '19741e0395f671a1', '56f09933c04f6f4f'], scores=[], createdAt='2025-10-04T17:28:36.768Z', updatedAt='2025-10-04T17:28:41.677Z', bookmarked=False, externalId=None, projectId='cmgcfea420006n3071lce88pn'), TraceWithDetails(id='8ce58c9fb5412fa712363857f18638b9', timestamp=datetime.datetime(2025, 10, 4, 17, 34, 28, 255000, tzinfo=datetime.timezone.utc), name='get_sse_response', input={'question': 'What do beetles eat?', 'session_id': '1', 'user_id': '1'}, output='Beetles have a wide variety of diets, depending on the species and its life stage. Here are the main categories:\\n\\n| Diet type | Typical beetle examples | What they eat |\\n|-----------|------------------------|---------------|\\n| **Herbivorous** | *Cabbage beetles*, *June bugs*, *leaf beetles* | Leaves, stems, flowers, roots, and sometimes seeds or fruits. |\\n| **Detritivorous / Saprophytic** | *Dung beetles*, *silken fungus beetles* | Decaying plant material, animal dung, fungi, and other organic detritus. |\\n| **Predatory** | *Carabid ground beetles*, *ladybugs* (ladybird beetles) | Other insects and arthropods, including pests like aphids and caterpillars. |\\n| **Parasitic** | *Cuckoo beetles* | Larvae develop inside or on other insects, feeding on host tissues. |\\n| **Omnivorous** | *Firebugs*, *wireworms* | Both plant matter and small invertebrates, depending on availability. |\\n| **Specialized feeders** | *Termite beetles*, *coconut beetles* | Specific hosts such as termites or coconut nuts. |\\n\\n**Key points**\\n\\n- **Life stage matters**: many beetle larvae have different diets than adults. For example, scarab beetle larvae (white grubs) feed on roots, while adult scarabs feed on flowers or leaves.\\n- **Habitat influences diet**: beetles that live in forests often feed on fungi or decaying wood, while those in gardens may target garden plants or pests.\\n- **Economic impact**: herbivorous beetles can be pests to crops, whereas predatory beetles are often beneficial for natural pest control.\\n\\nSo, beetles can eat plants, fungi, dead organic matter, other insects, or a mix of these, depending on their species and developmental stage.', session_id='1', release=None, version=None, user_id='1', metadata={'resourceAttributes': {'telemetry.sdk.language': 'python', 'telemetry.sdk.name': 'opentelemetry', 'telemetry.sdk.version': '1.34.1', 'service.name': 'unknown_service'}, 'scope': {'name': 'langfuse-sdk', 'version': '3.1.2', 'attributes': {'public_key': 'pk-lf-750d9727-b47b-4110-925d-9c00872618fe'}}}, tags=[], public=False, environment='default', html_path='/project/cmgcfea420006n3071lce88pn/traces/8ce58c9fb5412fa712363857f18638b9', latency=3.696, total_cost=0.0, observations=['5836f5cb6e69b2f1', 'f80ca40239e68207', '556d7ec3df0635b1', '7292cb86202cc5e4'], scores=[], createdAt='2025-10-04T17:34:31.928Z', updatedAt='2025-10-04T17:34:31.955Z', bookmarked=False, externalId=None, projectId='cmgcfea420006n3071lce88pn'), TraceWithDetails(id='f552158304a955ff634e04fa87a6ba01', timestamp=datetime.datetime(2025, 10, 4, 17, 44, 51, 781000, tzinfo=datetime.timezone.utc), name='get_restapi_response', input={'question': 'Các địa điểm thu gom pin', 'session_id': '1', 'user_id': '1'}, output='**Các địa điểm thu gom pin (tổng hợp từ dữ liệu hiện có)**  \\n\\n| Thành phố / tỉnh | Địa điểm thu gom | Ghi chú |  \\n|------------------|------------------|---------|  \\n| **Hà Nội** | - **Cửa hàng Hanel Trading** (Quận Đống Đa, Quận 3) | Thông thường thu gom pin cũ và hỗ trợ đổi mới. |  \\n| | - **Cửa hàng Biti’s** (Đống Đa, Cầu Giấy, Hoàng\\u202fMai, Hai\\u202fBà\\u202fTrưng, Đông\\u202fAnh) | Cũng là điểm thu gom pin cũ. |  \\n| | - **Trung tâm bảo hành Samsung, Thế\\u202fGiới\\u202fDi\\u202fĐộng, Điện\\u202fMáy\\u202fXanh** | Một trong 100 điểm thu gom trên toàn quốc. |  \\n| | - **UBND phường Quán\\u202fThánh (Quận\\u202fBa\\u202fĐình)** | Cơ quan hành chính thu gom. |  \\n| | - **UBND phường Tràng\\u202fTiền (Quận\\u202fHoàn\\u202fKiếm)** | Cơ quan hành chính thu gom. |  \\n| | - **Bảo\\u202ftàng\\u202fChiến\\u202fThắng\\u202fB.52 (Quận\\u202fBa\\u202fĐình)** | Địa điểm thu gom tự phát. |  \\n| | - **Siêu thị Go (trước đây là BigC)** | Thu gom pin cũ. |  \\n| **Đà Nẵng** | - **Cửa hàng Hasaki Lê\\u202fDuẩn (Quận\\u202fThanh\\u202fKhê)** | Điểm thu gom trong chiến dịch Cocoon. |  \\n| | - **Quán cà phê BYM (45 Hoàng\\u202fTích\\u202fTrí, Quận\\u202fHải\\u202fChâu)** | Điểm thu gom tự phát cộng đồng. |  \\n| **Hải\\u202fPhòng** | - **Phòng khám The\\u202fMedcare Hải\\u202fPhòng (Tầng\\u202f3)** | Đặt pin cũ để vận chuyển định kỳ. |  \\n| **Miền\\u202fNam (ngoài TP. Hồ\\u202fChí\\u202fMinh)** | - Các cửa hàng bán lẻ trong mạng lưới của doanh nghiệp | Thu gom chủ yếu qua mạng lưới bán lẻ. |  \\n\\n> **Lưu ý an toàn khi xử lý pin Li‑ion:**\\n> - **Không bỏ pin vào lửa** – pin Li‑ion có thể cháy nổ khi tiếp xúc với nhiệt độ cao.\\n> - **Đánh dấu và bọc đầu cực** – dùng băng dính hoặc bọc nhựa để ngăn ngừa ngắn mạch khi lưu trữ.\\n\\nNếu cần thêm thông tin về địa điểm cụ thể hoặc cách tiếp cận, vui lòng cho biết!', session_id='1', release=None, version=None, user_id='1', metadata={'resourceAttributes': {'telemetry.sdk.language': 'python', 'telemetry.sdk.name': 'opentelemetry', 'telemetry.sdk.version': '1.34.1', 'service.name': 'unknown_service'}, 'scope': {'name': 'langfuse-sdk', 'version': '3.1.2', 'attributes': {'public_key': 'pk-lf-750d9727-b47b-4110-925d-9c00872618fe'}}}, tags=[], public=False, environment='default', html_path='/project/cmgcfea420006n3071lce88pn/traces/f552158304a955ff634e04fa87a6ba01', latency=5.679, total_cost=0.0, observations=['c5798bd942e6a556', '25df141f044a34bf', '452da831babb5c1e', '98b0d7a87b9e5579', 'b3cea9925dfb2caa', '0aa492a8685c2138', '56461ac03b3cc83e', '48c37e109603d654'], scores=[], createdAt='2025-10-04T17:44:52.957Z', updatedAt='2025-10-04T17:44:57.886Z', bookmarked=False, externalId=None, projectId='cmgcfea420006n3071lce88pn'), TraceWithDetails(id='2ab987f5f62ce0156f37d950ab201710', timestamp=datetime.datetime(2025, 10, 4, 17, 46, 47, 281000, tzinfo=datetime.timezone.utc), name='get_restapi_response', input={'question': 'Các địa điểm thu gom pin ở vietnam', 'session_id': '1', 'user_id': '1'}, output=\"**Các địa điểm thu gom pin ở Việt Nam (tính đến dữ liệu trong tài liệu)**  \\n\\n| Thành phố / tỉnh | Loại địa điểm | Ví dụ cụ thể | Ghi chú |\\n|-----------------|---------------|--------------|---------|\\n| **Hà Nội** | Cơ quan hành chính, công cộng | UBND phường Quán Thánh (Ba Đình), UBND phường Tràng Tiền (Hoàn Kiếm), Bảo tàng Chiến thắng B.52 (Ba Đình) | Địa điểm chính thức, thường có bảng thông báo thu gom. |\\n| | Siêu thị | Hệ thống siêu thị Go (trước đây là BigC) | Dùng cho chiến dịch thu gom “cùng nhau bảo vệ môi trường”. |\\n| | Cửa hàng bán lẻ | Pin Phú Quý (cửa hàng bán lẻ) | Cung cấp dịch vụ đổi pin cũ lấy pin mới. |\\n| | Trung tâm giáo dục | FEC East (thu gom pin cũ) | Địa điểm thu gom tại các trường/đơn vị giáo dục. |\\n| | Cửa hàng bán lẻ | Biti's, Hanel Trading (đoàn phố Đống Đa, Quận 3) | Có chỗ thu gom tại cửa hàng. |\\n| | Trung tâm bảo hành | Samsung, Thế Giới Di Động, Điện máy Xanh | Một trong 100 điểm thu gom trên toàn quốc. |\\n| **Hồ Chí Minh** | Cơ quan hành chính, công cộng | UBND phường tại quận 3, 4, Phú Nhuận, Bình Thạnh | Địa điểm thu gom tại các UBND phường. |\\n| | Cửa hàng bán lẻ | Biti's (các quận lớn) | Có chỗ thu gom tại cửa hàng. |\\n| **Đà Nẵng** | Cửa hàng bán lẻ | Hasaki Lê Duẩn (quận Thanh Khê) | Điểm thu gom trong chiến dịch của Cocoon. |\\n| | Quán cà phê | BYM tại 45 Hoàng Tích Trí (quận Hải Châu) | Điểm thu gom tự phát của cộng đồng. |\\n| **Các tỉnh miền Trung** | Cửa hàng bán lẻ, quán cà phê | Các cửa hàng và quán cà phê được liệt kê trong danh mục | Thường là điểm thu gom “tự phát” của cộng đồng. |\\n| **Các tỉnh miền Nam (không bao gồm TP. Hồ Chí Minh)** | Cửa hàng bán lẻ | Doanh nghiệp bán lẻ (ví dụ: chuỗi siêu thị, cửa hàng điện tử) | Thường được xây dựng qua mạng lưới bán lẻ. |\\n| **Đơn vị tái chế** | Công ty tái chế | Công ty Cổ phần Môi trường Thuận Thành | Địa điểm cơ sở trực tiếp tái chế: Khu phố Ngọc Khám, phường Gia Đông, thị xã Thuận Thành, Bắc Ninh. |\\n\\n> **Lưu ý an toàn khi xử lý pin Li‑ion:**\\n> - **Đừng ném pin vào lò đốt hoặc lửa** – pin có thể cháy mạnh.  \\n> - **Đóng kín đầu mút pin** (đặt băng dán hoặc bọc giấy) để tránh ngắn mạch khi lưu trữ.  \\n\\nNếu cần thông tin chi tiết hơn về một địa điểm cụ thể hoặc cách tham gia chương trình thu gom, vui lòng cho biết thêm chi tiết.\", session_id='1', release=None, version=None, user_id='1', metadata={'resourceAttributes': {'telemetry.sdk.language': 'python', 'telemetry.sdk.name': 'opentelemetry', 'telemetry.sdk.version': '1.34.1', 'service.name': 'unknown_service'}, 'scope': {'name': 'langfuse-sdk', 'version': '3.1.2', 'attributes': {'public_key': 'pk-lf-750d9727-b47b-4110-925d-9c00872618fe'}}}, tags=[], public=False, environment='default', html_path='/project/cmgcfea420006n3071lce88pn/traces/2ab987f5f62ce0156f37d950ab201710', latency=3.687, total_cost=0.0, observations=['a871a73b18dc48f5', '2983af70ec684976', '67bafd12aee5132f', 'bdc3e148a68750b3', '5db511c7b3423369', '0ac8971522517b10', 'd4bb23bf5615ecb5', '0bab2199f1b50c3e'], scores=[], createdAt='2025-10-04T17:46:53.443Z', updatedAt='2025-10-04T17:46:53.468Z', bookmarked=False, externalId=None, projectId='cmgcfea420006n3071lce88pn'), TraceWithDetails(id='3fbee0cb2277d14bca3c8a296384b5b5', timestamp=datetime.datetime(2025, 10, 4, 17, 47, 18, 248000, tzinfo=datetime.timezone.utc), name='get_sse_response', input={'question': 'Các địa điểm thu gom pin ở danang?', 'session_id': '1', 'user_id': '1'}, output='Hiện tại trong dữ liệu tôi đang có không liệt kê được các địa điểm thu\\u202fgom pin cụ thể ở Đà Nẵng. Để biết thông tin chi tiết, bạn có thể:\\n\\n- Liên hệ **Sở Bảo vệ môi trường – Đà Nẵng** hoặc **Công ty quản lý rác thải thành phố** để hỏi về các điểm thu gom pin đã được cấp phép.  \\n- Kiểm tra tại các **cửa hàng điện máy lớn** (ví dụ: Nguyễn Kim, Điện máy Xanh, MediaMart) – nhiều cửa hàng này có chương trình “đổi pin cũ lấy pin mới”.  \\n- Tra cứu trên website của **Bộ Tài nguyên và Môi trường** hoặc các **ứng dụng thu gom rác thải** (như VnPost, MyRecycle) để xem bản đồ các điểm thu gom gần bạn.  \\n\\n**Mẹo an toàn khi xử lý pin (đặc biệt là pin lithium‑ion):**  \\n- Không để pin tiếp xúc trực tiếp với lửa hoặc nhiệt độ cao; nếu pin có dấu hiệu phồng, rò rỉ hoặc cháy, hãy đặt nó vào thùng kim loại kín và thông báo cho cơ quan thu gom.  \\n- Trước khi mang pin tới điểm thu gom, **bọc đầu cực bằng băng keo** để tránh ngắn mạch và nguy cơ phát nổ.  \\n\\nNếu bạn có thêm thông tin (ví dụ: tên dự án, tổ chức thu gom cụ thể) mình có thể hỗ trợ tìm kiếm chi tiết hơn.', session_id='1', release=None, version=None, user_id='1', metadata={'resourceAttributes': {'telemetry.sdk.language': 'python', 'telemetry.sdk.name': 'opentelemetry', 'telemetry.sdk.version': '1.34.1', 'service.name': 'unknown_service'}, 'scope': {'name': 'langfuse-sdk', 'version': '3.1.2', 'attributes': {'public_key': 'pk-lf-750d9727-b47b-4110-925d-9c00872618fe'}}}, tags=[], public=False, environment='default', html_path='/project/cmgcfea420006n3071lce88pn/traces/3fbee0cb2277d14bca3c8a296384b5b5', latency=4.429, total_cost=0.0, observations=['16ad0a13eed3d5a1', 'beac04336290e326', '3f4e93268ae252b7', 'd0f3ad495e95c241', 'c836f76d862ba52c', '92126d831b75a872', 'eaca0515f0a02835'], scores=[], createdAt='2025-10-04T17:47:18.728Z', updatedAt='2025-10-04T17:47:23.681Z', bookmarked=False, externalId=None, projectId='cmgcfea420006n3071lce88pn')]\n"
     ]
    }
   ],
   "source": [
    "print(sorted_traces)"
   ]
  },
  {
   "cell_type": "code",
   "execution_count": 22,
   "id": "000c38a6",
   "metadata": {},
   "outputs": [
    {
     "data": {
      "text/plain": [
       "[{'role': 'user', 'content': 'What is llms'},\n",
       " {'role': 'assistant',\n",
       "  'content': '**LLMs (Large Language Models)**  \\nLarge Language Models are advanced AI systems that learn patterns in text from massive datasets. They use neural network architectures (e.g., transformers) to predict the next word in a sentence, enabling tasks such as answering questions, writing essays, translating languages, and generating code. The “large” part refers to the huge number of parameters (often billions) and the extensive training data, which give these models a broad understanding of language and knowledge across many domains.'},\n",
       " {'role': 'user', 'content': 'Bạn là ai'},\n",
       " {'role': 'assistant',\n",
       "  'content': '**Bạn là ai?**  \\nTôi là một trợ lý AI được lập trình chuyên sâu về khoa học môi trường, với trọng tâm vào các loại pin (điện lít, sạc lại, một lần sử dụng), quy trình thu gom, an toàn cháy nổ, công nghệ tái chế và trách nhiệm của nhà sản xuất (EPR). Tôi có thể cung cấp thông tin, tư vấn và phân tích liên quan đến các vấn đề môi trường và công nghệ pin.'},\n",
       " {'role': 'user', 'content': 'Bạn biết gì về ngôn ngữ lớn'},\n",
       " {'role': 'assistant',\n",
       "  'content': '## Ngôn ngữ lớn (Large Language Models – LLM)\\n\\n### 1. Định nghĩa  \\n- **Ngôn ngữ lớn** là những mô hình máy học được huấn luyện trên hàng tỷ từ ngữ, có khả năng **đọc, hiểu và sinh văn bản** giống con người.  \\n- Ví dụ nổi tiếng: GPT‑4, Claude, LLaMA, Gemini…  \\n\\n### 2. Cách hoạt động  \\n- **Huấn luyện**: Mô hình được “đào tạo” bằng cách dự đoán từ tiếp theo trong một chuỗi văn bản.  \\n- **Kiến trúc**: Thường dùng mạng Transformer, gồm nhiều lớp attention (tập trung) giúp mô hình “nắm bắt” ngữ cảnh.  \\n- **Bộ nhớ ngắn hạn**: Khi sinh câu, mô hình giữ các từ vừa rồi trong “bộ nhớ” để liên kết logic.  \\n\\n> **So sánh**: Tưởng như bạn đang đọc một cuốn sách khổng lồ; mô hình cố gắng đoán chữ tiếp theo dựa trên những chữ đã đọc.  \\n\\n### 3. Ứng dụng thực tiễn  \\n- **Tạo nội dung**: viết bài, bản dịch, tóm tắt.  \\n- **Hỗ trợ khách hàng**: chatbot, trả lời câu hỏi.  \\n- **Phân tích dữ liệu**: trích xuất thông tin, phân loại văn bản.  \\n- **Nghiên cứu**: hỗ trợ viết luận văn, đề xuất ý tưởng.  \\n\\n### 4. Rủi ro và hạn chế  \\n- **Thông tin sai lệch**: Mô hình có thể “đọc” dữ liệu sai hoặc giả.  \\n- **Bảo mật**: Đôi khi nhớ lại dữ liệu nhạy cảm nếu chưa được kiểm soát.  \\n- **Tính đạo đức**: Sử dụng để tạo nội dung gây hiểu lầm hoặc lừa đảo.  \\n\\n### 5. Tương lai  \\n- **Tăng cường tính minh bạch**: công cụ “explainable AI” giúp người dùng hiểu quyết định của mô hình.  \\n- **Đào tạo hiệu quả hơn**: giảm nhu cầu tài nguyên, giảm khí thải carbon.  \\n- **Tích hợp sâu hơn**: vào các hệ thống IoT, y tế, giáo dục.  \\n\\n> **Tóm tắt**: Ngôn ngữ lớn là công nghệ AI mạnh mẽ, nhưng cần được sử dụng có trách nhiệm và có biện pháp kiểm soát.'},\n",
       " {'role': 'user', 'content': 'What do beetles eat?'},\n",
       " {'role': 'assistant',\n",
       "  'content': '### What Do Beetles Eat?\\n\\nBeetles are incredibly diverse, and so are their diets. Their feeding habits can be grouped into a few broad categories:\\n\\n| Diet Type | Typical Food Sources | Example Species |\\n|-----------|----------------------|-----------------|\\n| **Herbivorous** | Leaves, stems, flowers, bark, roots, seeds | **Colorado potato beetle** (potatoes), **Japanese beetle** (garden plants) |\\n| **Carnivorous / Predatory** | Other insects, eggs, larvae, worms, snails | **Cicada killer beetle** (cicadas), **ground beetles** (earthworms, other beetles) |\\n| **Scavengers / Detritivores** | Decaying plant matter, fungi, carrion | **Dung beetles** (animal feces), **silvery beetles** (rotting wood) |\\n| **Omnivorous** | Combination of plant and animal matter | **Carpenter beetles** (wood + larvae of other insects) |\\n\\n#### Key Points\\n\\n- **Specialization**: Some beetles are specialists (e.g., the **monarch butterfly’s** caterpillar stage eats only milkweed), while others are generalists that can switch foods.\\n- **Life Stage Matters**: Larvae often have different diets than adults. For instance, many **caterpillar beetles** (e.g., the **mealworm**) feed on decaying organic matter as larvae but become predatory as adults.\\n- **Environmental Role**: Beetles help decompose plant material, control pest populations, and recycle nutrients in ecosystems.\\n\\nSo, depending on the species and life stage, beetles can eat plants, other insects, decaying matter, or a mix of these.'},\n",
       " {'role': 'user', 'content': 'What do beetles eat?'},\n",
       " {'role': 'assistant',\n",
       "  'content': 'Beetles have a wide variety of diets, depending on the species and its life stage. Here are the main categories:\\n\\n| Diet type | Typical beetle examples | What they eat |\\n|-----------|------------------------|---------------|\\n| **Herbivorous** | *Cabbage beetles*, *June bugs*, *leaf beetles* | Leaves, stems, flowers, roots, and sometimes seeds or fruits. |\\n| **Detritivorous / Saprophytic** | *Dung beetles*, *silken fungus beetles* | Decaying plant material, animal dung, fungi, and other organic detritus. |\\n| **Predatory** | *Carabid ground beetles*, *ladybugs* (ladybird beetles) | Other insects and arthropods, including pests like aphids and caterpillars. |\\n| **Parasitic** | *Cuckoo beetles* | Larvae develop inside or on other insects, feeding on host tissues. |\\n| **Omnivorous** | *Firebugs*, *wireworms* | Both plant matter and small invertebrates, depending on availability. |\\n| **Specialized feeders** | *Termite beetles*, *coconut beetles* | Specific hosts such as termites or coconut nuts. |\\n\\n**Key points**\\n\\n- **Life stage matters**: many beetle larvae have different diets than adults. For example, scarab beetle larvae (white grubs) feed on roots, while adult scarabs feed on flowers or leaves.\\n- **Habitat influences diet**: beetles that live in forests often feed on fungi or decaying wood, while those in gardens may target garden plants or pests.\\n- **Economic impact**: herbivorous beetles can be pests to crops, whereas predatory beetles are often beneficial for natural pest control.\\n\\nSo, beetles can eat plants, fungi, dead organic matter, other insects, or a mix of these, depending on their species and developmental stage.'},\n",
       " {'role': 'user', 'content': 'Các địa điểm thu gom pin'},\n",
       " {'role': 'assistant',\n",
       "  'content': '**Các địa điểm thu gom pin (tổng hợp từ dữ liệu hiện có)**  \\n\\n| Thành phố / tỉnh | Địa điểm thu gom | Ghi chú |  \\n|------------------|------------------|---------|  \\n| **Hà Nội** | - **Cửa hàng Hanel Trading** (Quận Đống Đa, Quận 3) | Thông thường thu gom pin cũ và hỗ trợ đổi mới. |  \\n| | - **Cửa hàng Biti’s** (Đống Đa, Cầu Giấy, Hoàng\\u202fMai, Hai\\u202fBà\\u202fTrưng, Đông\\u202fAnh) | Cũng là điểm thu gom pin cũ. |  \\n| | - **Trung tâm bảo hành Samsung, Thế\\u202fGiới\\u202fDi\\u202fĐộng, Điện\\u202fMáy\\u202fXanh** | Một trong 100 điểm thu gom trên toàn quốc. |  \\n| | - **UBND phường Quán\\u202fThánh (Quận\\u202fBa\\u202fĐình)** | Cơ quan hành chính thu gom. |  \\n| | - **UBND phường Tràng\\u202fTiền (Quận\\u202fHoàn\\u202fKiếm)** | Cơ quan hành chính thu gom. |  \\n| | - **Bảo\\u202ftàng\\u202fChiến\\u202fThắng\\u202fB.52 (Quận\\u202fBa\\u202fĐình)** | Địa điểm thu gom tự phát. |  \\n| | - **Siêu thị Go (trước đây là BigC)** | Thu gom pin cũ. |  \\n| **Đà Nẵng** | - **Cửa hàng Hasaki Lê\\u202fDuẩn (Quận\\u202fThanh\\u202fKhê)** | Điểm thu gom trong chiến dịch Cocoon. |  \\n| | - **Quán cà phê BYM (45 Hoàng\\u202fTích\\u202fTrí, Quận\\u202fHải\\u202fChâu)** | Điểm thu gom tự phát cộng đồng. |  \\n| **Hải\\u202fPhòng** | - **Phòng khám The\\u202fMedcare Hải\\u202fPhòng (Tầng\\u202f3)** | Đặt pin cũ để vận chuyển định kỳ. |  \\n| **Miền\\u202fNam (ngoài TP. Hồ\\u202fChí\\u202fMinh)** | - Các cửa hàng bán lẻ trong mạng lưới của doanh nghiệp | Thu gom chủ yếu qua mạng lưới bán lẻ. |  \\n\\n> **Lưu ý an toàn khi xử lý pin Li‑ion:**\\n> - **Không bỏ pin vào lửa** – pin Li‑ion có thể cháy nổ khi tiếp xúc với nhiệt độ cao.\\n> - **Đánh dấu và bọc đầu cực** – dùng băng dính hoặc bọc nhựa để ngăn ngừa ngắn mạch khi lưu trữ.\\n\\nNếu cần thêm thông tin về địa điểm cụ thể hoặc cách tiếp cận, vui lòng cho biết!'},\n",
       " {'role': 'user', 'content': 'Các địa điểm thu gom pin ở vietnam'},\n",
       " {'role': 'assistant',\n",
       "  'content': \"**Các địa điểm thu gom pin ở Việt Nam (tính đến dữ liệu trong tài liệu)**  \\n\\n| Thành phố / tỉnh | Loại địa điểm | Ví dụ cụ thể | Ghi chú |\\n|-----------------|---------------|--------------|---------|\\n| **Hà Nội** | Cơ quan hành chính, công cộng | UBND phường Quán Thánh (Ba Đình), UBND phường Tràng Tiền (Hoàn Kiếm), Bảo tàng Chiến thắng B.52 (Ba Đình) | Địa điểm chính thức, thường có bảng thông báo thu gom. |\\n| | Siêu thị | Hệ thống siêu thị Go (trước đây là BigC) | Dùng cho chiến dịch thu gom “cùng nhau bảo vệ môi trường”. |\\n| | Cửa hàng bán lẻ | Pin Phú Quý (cửa hàng bán lẻ) | Cung cấp dịch vụ đổi pin cũ lấy pin mới. |\\n| | Trung tâm giáo dục | FEC East (thu gom pin cũ) | Địa điểm thu gom tại các trường/đơn vị giáo dục. |\\n| | Cửa hàng bán lẻ | Biti's, Hanel Trading (đoàn phố Đống Đa, Quận 3) | Có chỗ thu gom tại cửa hàng. |\\n| | Trung tâm bảo hành | Samsung, Thế Giới Di Động, Điện máy Xanh | Một trong 100 điểm thu gom trên toàn quốc. |\\n| **Hồ Chí Minh** | Cơ quan hành chính, công cộng | UBND phường tại quận 3, 4, Phú Nhuận, Bình Thạnh | Địa điểm thu gom tại các UBND phường. |\\n| | Cửa hàng bán lẻ | Biti's (các quận lớn) | Có chỗ thu gom tại cửa hàng. |\\n| **Đà Nẵng** | Cửa hàng bán lẻ | Hasaki Lê Duẩn (quận Thanh Khê) | Điểm thu gom trong chiến dịch của Cocoon. |\\n| | Quán cà phê | BYM tại 45 Hoàng Tích Trí (quận Hải Châu) | Điểm thu gom tự phát của cộng đồng. |\\n| **Các tỉnh miền Trung** | Cửa hàng bán lẻ, quán cà phê | Các cửa hàng và quán cà phê được liệt kê trong danh mục | Thường là điểm thu gom “tự phát” của cộng đồng. |\\n| **Các tỉnh miền Nam (không bao gồm TP. Hồ Chí Minh)** | Cửa hàng bán lẻ | Doanh nghiệp bán lẻ (ví dụ: chuỗi siêu thị, cửa hàng điện tử) | Thường được xây dựng qua mạng lưới bán lẻ. |\\n| **Đơn vị tái chế** | Công ty tái chế | Công ty Cổ phần Môi trường Thuận Thành | Địa điểm cơ sở trực tiếp tái chế: Khu phố Ngọc Khám, phường Gia Đông, thị xã Thuận Thành, Bắc Ninh. |\\n\\n> **Lưu ý an toàn khi xử lý pin Li‑ion:**\\n> - **Đừng ném pin vào lò đốt hoặc lửa** – pin có thể cháy mạnh.  \\n> - **Đóng kín đầu mút pin** (đặt băng dán hoặc bọc giấy) để tránh ngắn mạch khi lưu trữ.  \\n\\nNếu cần thông tin chi tiết hơn về một địa điểm cụ thể hoặc cách tham gia chương trình thu gom, vui lòng cho biết thêm chi tiết.\"},\n",
       " {'role': 'user', 'content': 'Các địa điểm thu gom pin ở danang?'},\n",
       " {'role': 'assistant',\n",
       "  'content': 'Hiện tại trong dữ liệu tôi đang có không liệt kê được các địa điểm thu\\u202fgom pin cụ thể ở Đà Nẵng. Để biết thông tin chi tiết, bạn có thể:\\n\\n- Liên hệ **Sở Bảo vệ môi trường – Đà Nẵng** hoặc **Công ty quản lý rác thải thành phố** để hỏi về các điểm thu gom pin đã được cấp phép.  \\n- Kiểm tra tại các **cửa hàng điện máy lớn** (ví dụ: Nguyễn Kim, Điện máy Xanh, MediaMart) – nhiều cửa hàng này có chương trình “đổi pin cũ lấy pin mới”.  \\n- Tra cứu trên website của **Bộ Tài nguyên và Môi trường** hoặc các **ứng dụng thu gom rác thải** (như VnPost, MyRecycle) để xem bản đồ các điểm thu gom gần bạn.  \\n\\n**Mẹo an toàn khi xử lý pin (đặc biệt là pin lithium‑ion):**  \\n- Không để pin tiếp xúc trực tiếp với lửa hoặc nhiệt độ cao; nếu pin có dấu hiệu phồng, rò rỉ hoặc cháy, hãy đặt nó vào thùng kim loại kín và thông báo cho cơ quan thu gom.  \\n- Trước khi mang pin tới điểm thu gom, **bọc đầu cực bằng băng keo** để tránh ngắn mạch và nguy cơ phát nổ.  \\n\\nNếu bạn có thêm thông tin (ví dụ: tên dự án, tổ chức thu gom cụ thể) mình có thể hỗ trợ tìm kiếm chi tiết hơn.'}]"
      ]
     },
     "execution_count": 22,
     "metadata": {},
     "output_type": "execute_result"
    }
   ],
   "source": [
    "chat_history"
   ]
  }
 ],
 "metadata": {
  "kernelspec": {
   "display_name": "LearnLLMsOps",
   "language": "python",
   "name": "python3"
  },
  "language_info": {
   "codemirror_mode": {
    "name": "ipython",
    "version": 3
   },
   "file_extension": ".py",
   "mimetype": "text/x-python",
   "name": "python",
   "nbconvert_exporter": "python",
   "pygments_lexer": "ipython3",
   "version": "3.10.18"
  }
 },
 "nbformat": 4,
 "nbformat_minor": 5
}
