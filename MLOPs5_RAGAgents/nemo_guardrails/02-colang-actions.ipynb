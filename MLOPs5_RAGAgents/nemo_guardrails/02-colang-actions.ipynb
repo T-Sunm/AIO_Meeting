{
 "cells": [
  {
   "cell_type": "code",
   "execution_count": 1,
   "id": "735f7aa9",
   "metadata": {},
   "outputs": [],
   "source": [
    "yaml_content = \"\"\"\n",
    "models:\n",
    "  - type: main\n",
    "    engine: openai\n",
    "    model: qwen2-1.5b-instruct\n",
    "    parameters:\n",
    "      base_url:  \"http://127.0.0.1:1234/v1\"\n",
    "      api_key:   \"lm-studio\"\n",
    "      temperature: 0.7\n",
    "      max_tokens: 1000\n",
    "      timeout:    60\n",
    "\"\"\"\n",
    "\n",
    "colang_content = \"\"\"\n",
    "# define limits\n",
    "define user ask politics\n",
    "    \"what are your political beliefs?\"\n",
    "    \"thoughts on the president?\"\n",
    "    \"left wing\"\n",
    "    \"right wing\"\n",
    "\n",
    "define bot answer politics\n",
    "    \"I'm a shopping assistant, I don't like to talk of politics.\"\n",
    "\n",
    "define flow politics\n",
    "    user ask politics\n",
    "    bot answer politics\n",
    "    bot offer help\n",
    "\n",
    "# here we use the chatbot for anything else\n",
    "define flow\n",
    "    user ...\n",
    "    $answer = execute response(inputs=$last_user_message)\n",
    "    bot $answer\n",
    "\"\"\""
   ]
  },
  {
   "cell_type": "code",
   "execution_count": 2,
   "id": "c4989741",
   "metadata": {},
   "outputs": [
    {
     "name": "stderr",
     "output_type": "stream",
     "text": [
      "d:\\Asus\\App\\miniconda\\workspace\\envs\\LearnLLMsOps\\lib\\site-packages\\tqdm\\auto.py:21: TqdmWarning: IProgress not found. Please update jupyter and ipywidgets. See https://ipywidgets.readthedocs.io/en/stable/user_install.html\n",
      "  from .autonotebook import tqdm as notebook_tqdm\n"
     ]
    }
   ],
   "source": [
    "from nemoguardrails import LLMRails, RailsConfig\n",
    "\n",
    "# initialize rails config\n",
    "config = RailsConfig.from_content(\n",
    "    colang_content=colang_content,\n",
    "    yaml_content=yaml_content\n",
    ")\n",
    "# create rails\n",
    "rails = LLMRails(config)"
   ]
  },
  {
   "cell_type": "code",
   "execution_count": 3,
   "id": "a120976f",
   "metadata": {},
   "outputs": [],
   "source": [
    "async def func(inputs: str):\n",
    "    return \"hello you are an orange\""
   ]
  },
  {
   "cell_type": "code",
   "execution_count": 4,
   "id": "4fa6850f",
   "metadata": {},
   "outputs": [
    {
     "data": {
      "text/plain": [
       "\"Action 'response' not found.\""
      ]
     },
     "execution_count": 4,
     "metadata": {},
     "output_type": "execute_result"
    }
   ],
   "source": [
    "await rails.generate_async(prompt=\"hello\")"
   ]
  },
  {
   "cell_type": "code",
   "execution_count": 5,
   "id": "76a9c2b2",
   "metadata": {},
   "outputs": [],
   "source": [
    "rails.register_action(action=func, name=\"response\")"
   ]
  },
  {
   "cell_type": "code",
   "execution_count": 6,
   "id": "29bd894c",
   "metadata": {},
   "outputs": [
    {
     "data": {
      "text/plain": [
       "'hello you are an orange'"
      ]
     },
     "execution_count": 6,
     "metadata": {},
     "output_type": "execute_result"
    }
   ],
   "source": [
    "await rails.generate_async(prompt=\"hello\")"
   ]
  }
 ],
 "metadata": {
  "kernelspec": {
   "display_name": "LearnLLMsOps",
   "language": "python",
   "name": "python3"
  },
  "language_info": {
   "codemirror_mode": {
    "name": "ipython",
    "version": 3
   },
   "file_extension": ".py",
   "mimetype": "text/x-python",
   "name": "python",
   "nbconvert_exporter": "python",
   "pygments_lexer": "ipython3",
   "version": "3.10.18"
  }
 },
 "nbformat": 4,
 "nbformat_minor": 5
}
