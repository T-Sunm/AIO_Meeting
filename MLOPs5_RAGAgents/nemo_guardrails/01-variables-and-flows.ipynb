{
 "cells": [
  {
   "cell_type": "markdown",
   "id": "1953ec95",
   "metadata": {},
   "source": [
    "### Hard extract information"
   ]
  },
  {
   "cell_type": "code",
   "execution_count": 5,
   "id": "5ff6e27a",
   "metadata": {},
   "outputs": [],
   "source": [
    "yaml_content = \"\"\"\n",
    "models:\n",
    "  - type: main\n",
    "    engine: openai\n",
    "    model: qwen2-1.5b-instruct\n",
    "    parameters:\n",
    "      base_url:  \"http://127.0.0.1:1234/v1\"\n",
    "      api_key:   \"lm-studio\"\n",
    "      temperature: 0.7\n",
    "      max_tokens: 1000\n",
    "      timeout:    60\n",
    "\"\"\"\n",
    "\n",
    "colang_content = \"\"\"\n",
    "define user greeting\n",
    "    \"Hey there!\"\n",
    "    \"How are you?\"\n",
    "    \"What's up?\"\n",
    "\n",
    "define bot name greeting\n",
    "    \"Hey $name!\"\n",
    "\n",
    "define flow\n",
    "    user greeting\n",
    "    if $name\n",
    "        bot name greeting\n",
    "    else\n",
    "        bot greeting\n",
    "\"\"\""
   ]
  },
  {
   "cell_type": "code",
   "execution_count": 6,
   "id": "063b6159",
   "metadata": {},
   "outputs": [],
   "source": [
    "from nemoguardrails import LLMRails, RailsConfig\n",
    "\n",
    "# initialize rails config\n",
    "config = RailsConfig.from_content(\n",
    "  \tyaml_content=yaml_content,\n",
    "    colang_content=colang_content\n",
    ")\n",
    "# create rails\n",
    "rails = LLMRails(config)"
   ]
  },
  {
   "cell_type": "code",
   "execution_count": 7,
   "id": "e08041ed",
   "metadata": {},
   "outputs": [],
   "source": [
    "messages = [\n",
    "    {\"role\": \"context\", \"content\": {\"name\": \"James\"}},\n",
    "    {\"role\": \"user\", \"content\": \"Hey there!\"}\n",
    "]"
   ]
  },
  {
   "cell_type": "code",
   "execution_count": 8,
   "id": "81d90d42",
   "metadata": {},
   "outputs": [
    {
     "data": {
      "text/plain": [
       "{'role': 'assistant', 'content': 'Hello! How can I assist you today?'}"
      ]
     },
     "execution_count": 8,
     "metadata": {},
     "output_type": "execute_result"
    }
   ],
   "source": [
    "await rails.generate_async(messages=messages)"
   ]
  },
  {
   "cell_type": "markdown",
   "id": "ee1dcc12",
   "metadata": {},
   "source": [
    "### Automatic extract information"
   ]
  },
  {
   "cell_type": "code",
   "execution_count": 9,
   "id": "47279cb8",
   "metadata": {},
   "outputs": [],
   "source": [
    "colang_content = \"\"\"\n",
    "define user give name\n",
    "    \"My name is James\"\n",
    "    \"I'm Julio\"\n",
    "    \"Sono Andrea\"\n",
    "\n",
    "define user greeting\n",
    "    \"Hey there!\"\n",
    "    \"How are you?\"\n",
    "    \"What's up?\"\n",
    "\n",
    "define bot name greeting\n",
    "    \"Hey $name!\"\n",
    "\n",
    "define flow give name\n",
    "    user give name\n",
    "    $name = ...\n",
    "    bot name greeting\n",
    "\n",
    "define flow\n",
    "    user greeting\n",
    "    if not $name\n",
    "        bot ask name\n",
    "    else\n",
    "        bot name greeting\n",
    "\"\"\""
   ]
  },
  {
   "cell_type": "code",
   "execution_count": 10,
   "id": "a712586c",
   "metadata": {},
   "outputs": [],
   "source": [
    "messages = [\n",
    "    {\"role\": \"context\", \"content\": \"\"},\n",
    "    {\"role\": \"user\", \"content\": \"Hey there!\"}\n",
    "]"
   ]
  },
  {
   "cell_type": "code",
   "execution_count": 11,
   "id": "f5dc9352",
   "metadata": {},
   "outputs": [
    {
     "data": {
      "text/plain": [
       "{'role': 'assistant',\n",
       " 'content': \"Hello! My name is [Bot Name]. I'm here to help you with any questions or tasks you might have. Would you like me to answer some general questions, generate text for you, or provide suggestions based on your preferences?\"}"
      ]
     },
     "execution_count": 11,
     "metadata": {},
     "output_type": "execute_result"
    }
   ],
   "source": [
    "res = await rails.generate_async(messages=messages)\n",
    "res"
   ]
  },
  {
   "cell_type": "code",
   "execution_count": 12,
   "id": "a4d6607e",
   "metadata": {},
   "outputs": [
    {
     "data": {
      "text/plain": [
       "{'role': 'assistant', 'content': \"Hello James! It's great to meet you.\"}"
      ]
     },
     "execution_count": 12,
     "metadata": {},
     "output_type": "execute_result"
    }
   ],
   "source": [
    "messages += [\n",
    "    res,\n",
    "    {\"role\": \"user\", \"content\": \"I'm James\"}\n",
    "]\n",
    "res = await rails.generate_async(messages=messages)\n",
    "res"
   ]
  }
 ],
 "metadata": {
  "kernelspec": {
   "display_name": "LearnLLMsOps",
   "language": "python",
   "name": "python3"
  },
  "language_info": {
   "codemirror_mode": {
    "name": "ipython",
    "version": 3
   },
   "file_extension": ".py",
   "mimetype": "text/x-python",
   "name": "python",
   "nbconvert_exporter": "python",
   "pygments_lexer": "ipython3",
   "version": "3.10.18"
  }
 },
 "nbformat": 4,
 "nbformat_minor": 5
}
