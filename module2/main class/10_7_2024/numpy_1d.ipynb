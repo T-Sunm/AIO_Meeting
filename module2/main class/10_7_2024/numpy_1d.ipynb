{
 "cells": [
  {
   "cell_type": "code",
   "execution_count": 1,
   "metadata": {},
   "outputs": [],
   "source": [
    "import numpy as np"
   ]
  },
  {
   "cell_type": "code",
   "execution_count": 4,
   "metadata": {},
   "outputs": [
    {
     "name": "stdout",
     "output_type": "stream",
     "text": [
      "[[1. 1. 1.]\n",
      " [1. 1. 1.]\n",
      " [1. 1. 1.]]\n",
      "[[ True  True  True]\n",
      " [ True  True  True]\n",
      " [ True  True  True]]\n"
     ]
    }
   ],
   "source": [
    "# tạo mảng 3x3 toàn số 1\n",
    "arr = np.ones((3, 3))\n",
    "print(arr)\n",
    "\n",
    "#  so sánh từng giá trị trong matrix và trả về matrix bool chứa kết quả\n",
    "arr = np.ones((3, 3)) > 0\n",
    "print(arr)"
   ]
  },
  {
   "cell_type": "code",
   "execution_count": 29,
   "metadata": {},
   "outputs": [
    {
     "name": "stdout",
     "output_type": "stream",
     "text": [
      "[[1. 0. 0.]\n",
      " [0. 1. 0.]\n",
      " [0. 0. 1.]]\n"
     ]
    }
   ],
   "source": [
    "# tạo ma trận đơn vị 3x3\n",
    "arr = np.eye(3)\n",
    "print(arr)"
   ]
  },
  {
   "cell_type": "code",
   "execution_count": 5,
   "metadata": {},
   "outputs": [
    {
     "name": "stdout",
     "output_type": "stream",
     "text": [
      "[1 3 5 7 9]\n"
     ]
    }
   ],
   "source": [
    "arr = np.arange(0, 10)\n",
    "print (arr[arr % 2 == 1])"
   ]
  },
  {
   "cell_type": "code",
   "execution_count": 7,
   "metadata": {},
   "outputs": [
    {
     "name": "stdout",
     "output_type": "stream",
     "text": [
      "[-1  1 -1  3 -1  5 -1  7 -1  9]\n"
     ]
    }
   ],
   "source": [
    "arr = np.arange(0, 10) \n",
    "arr[arr % 2 == 0] = -1\n",
    "print(arr)"
   ]
  },
  {
   "cell_type": "code",
   "execution_count": 8,
   "metadata": {},
   "outputs": [
    {
     "name": "stdout",
     "output_type": "stream",
     "text": [
      "[[0 1 2 3 4]\n",
      " [5 6 7 8 9]]\n"
     ]
    }
   ],
   "source": [
    "arr = np.arange(0, 10)\n",
    "\n",
    "# truyền -1 để tự tính số cột , mình khỏi phải ước tính\n",
    "arr_2d = arr.reshape(2, -1)\n",
    "print(arr_2d)"
   ]
  },
  {
   "cell_type": "code",
   "execution_count": 10,
   "metadata": {},
   "outputs": [
    {
     "name": "stdout",
     "output_type": "stream",
     "text": [
      "[1 1 2 2 3 3]\n"
     ]
    }
   ],
   "source": [
    "# Hàm repeat trong NumPy được sử dụng để lặp lại các phần tử của một mảng theo một cách xác định.\n",
    "\n",
    "arr = np.array([1, 2, 3])\n",
    "\n",
    "# Lặp lại mỗi phần tử 2 lần\n",
    "repeated_arr = np.repeat(arr, 2)\n",
    "print(repeated_arr)"
   ]
  },
  {
   "cell_type": "code",
   "execution_count": 14,
   "metadata": {},
   "outputs": [
    {
     "name": "stdout",
     "output_type": "stream",
     "text": [
      "Mảng ban đầu:\n",
      "[[1 2]\n",
      " [3 4]]\n",
      "\n",
      "Mảng sau khi lặp lại 2 lần dọc theo trục 0, 1 lần dọc theo trục 1, và 3 lần dọc theo trục 2:\n",
      "[[1 2 1 2 1 2]\n",
      " [3 4 3 4 3 4]\n",
      " [1 2 1 2 1 2]\n",
      " [3 4 3 4 3 4]]\n"
     ]
    }
   ],
   "source": [
    "arr = np.array([[1, 2], [3, 4]])\n",
    "\n",
    "# Lặp lại mảng 2 lần dọc theo trục hàng và 3 lần dọc theo trục cột\n",
    "tiled_arr = np.tile(arr, (2, 3))\n",
    "\n",
    "print(\"Mảng ban đầu:\")\n",
    "print(arr)\n",
    "print(\"\\nMảng sau khi lặp lại 2 lần dọc theo trục 0, 1 lần dọc theo trục 1, và 3 lần dọc theo trục 2:\")\n",
    "print(tiled_arr)"
   ]
  },
  {
   "cell_type": "code",
   "execution_count": 16,
   "metadata": {},
   "outputs": [
    {
     "name": "stdout",
     "output_type": "stream",
     "text": [
      "Mảng ban đầu:\n",
      "[[[1 2]\n",
      "  [3 4]]\n",
      "\n",
      " [[5 6]\n",
      "  [7 8]]]\n",
      "\n",
      "Mảng sau khi lặp lại 2 lần dọc theo trục 0, 1 lần dọc theo trục 2, và 3 lần dọc theo trục 2:\n",
      "[[[1 2 1 2 1 2]\n",
      "  [3 4 3 4 3 4]\n",
      "  [1 2 1 2 1 2]\n",
      "  [3 4 3 4 3 4]]\n",
      "\n",
      " [[5 6 5 6 5 6]\n",
      "  [7 8 7 8 7 8]\n",
      "  [5 6 5 6 5 6]\n",
      "  [7 8 7 8 7 8]]\n",
      "\n",
      " [[1 2 1 2 1 2]\n",
      "  [3 4 3 4 3 4]\n",
      "  [1 2 1 2 1 2]\n",
      "  [3 4 3 4 3 4]]\n",
      "\n",
      " [[5 6 5 6 5 6]\n",
      "  [7 8 7 8 7 8]\n",
      "  [5 6 5 6 5 6]\n",
      "  [7 8 7 8 7 8]]]\n"
     ]
    }
   ],
   "source": [
    "arr = np.array([[[1, 2], [3, 4]], [[5, 6], [7, 8]]])\n",
    "\n",
    "# Lặp lại mảng 2 lần dọc theo trục 0, 1 lần dọc theo trục 1, và 3 lần dọc theo trục 2\n",
    "tiled_arr = np.tile(arr, (2, 2, 3))\n",
    "\n",
    "print(\"Mảng ban đầu:\")\n",
    "print(arr)\n",
    "print(\"\\nMảng sau khi lặp lại 2 lần dọc theo trục 0, 1 lần dọc theo trục 2, và 3 lần dọc theo trục 2:\")\n",
    "print(tiled_arr)"
   ]
  },
  {
   "cell_type": "code",
   "execution_count": 17,
   "metadata": {},
   "outputs": [
    {
     "name": "stdout",
     "output_type": "stream",
     "text": [
      "\n",
      "Kết quả sau khi áp dụng hàm vectơ hóa:\n",
      "[ 2.  6. 12. 20.]\n"
     ]
    }
   ],
   "source": [
    "# Hàm Python với ba tham số\n",
    "def myfunc(a, b, c):\n",
    "    return a + b * c\n",
    "\n",
    "\n",
    "# Vectơ hóa hàm\n",
    "vectorized_func = np.vectorize(myfunc)\n",
    "\n",
    "# Tạo các mảng NumPy\n",
    "a = np.array([1, 2, 3, 4])\n",
    "b = np.array([10, 20, 30, 40])\n",
    "c = np.array([0.1, 0.2, 0.3, 0.4])\n",
    "\n",
    "# Áp dụng hàm vectơ hóa cho các mảng\n",
    "result = vectorized_func(a, b, c)\n",
    "\n",
    "print(\"\\nKết quả sau khi áp dụng hàm vectơ hóa:\")\n",
    "print(result)"
   ]
  },
  {
   "cell_type": "code",
   "execution_count": 18,
   "metadata": {},
   "outputs": [
    {
     "name": "stdout",
     "output_type": "stream",
     "text": [
      "[False  True  True False False False  True]\n"
     ]
    }
   ],
   "source": [
    "a = np.array([5 ,7 ,9 ,8 ,6 ,4 ,5])\n",
    "b = np.array([6 ,3 ,4 ,8 ,9 ,7 ,1])\n",
    "\n",
    "#  so sánh từng phần tử trong mảng tương ứng theo index\n",
    "print(a > b)"
   ]
  },
  {
   "cell_type": "code",
   "execution_count": 19,
   "metadata": {},
   "outputs": [
    {
     "name": "stdout",
     "output_type": "stream",
     "text": [
      " Result  [6 7 9 8 9 7 5]\n"
     ]
    }
   ],
   "source": [
    "# numpy.where(condition, [x, y])\n",
    "# Tham số:\n",
    "# condition: Một biểu thức điều kiện. Đây là mảng Boolean hoặc điều kiện mà bạn muốn kiểm tra.\n",
    "# x: (Tùy chọn) Các phần tử để chọn từ nếu điều kiện là True.\n",
    "# y: (Tùy chọn) Các phần tử để chọn từ nếu điều kiện là False.\n",
    "a = np.array([5 ,7 ,9 ,8 ,6 ,4 ,5])\n",
    "b = np.array([6 ,3 ,4 ,8 ,9 ,7 ,1])\n",
    "\n",
    "print (\"Result \",np.where(a <b, b, a))"
   ]
  },
  {
   "cell_type": "code",
   "execution_count": 1,
   "metadata": {},
   "outputs": [],
   "source": [
    "# Cách nhân vô hướng trong numpy, lấy từng hàng ở E : [2.9, 2.4, 1.0, 0.2, 9.2] * cột ở Wq([7.5, -3.2, 9.1, -5.3, 8.9])\n",
    "# lấy từng hàng ở matrix1 ra thì sẽ biến nó thành hàng dọc như dưới\n",
    "\n",
    "# [2.9]\n",
    "# |2.4|\n",
    "# |1.0| *  [2.9, 2.4, 1.0, 0.2, 9.2]\n",
    "# |0.2|\n",
    "# |9.2]"
   ]
  },
  {
   "cell_type": "code",
   "execution_count": 18,
   "metadata": {},
   "outputs": [
    {
     "name": "stdout",
     "output_type": "stream",
     "text": [
      "Kết quả của phép nhân ma trận E với WQ:\n",
      " [[  32.85  -64.98  -18.71  -63.05   67.33]\n",
      " [-106.45    5.16  -31.16   88.2   -30.5 ]\n",
      " [ -20.15  -80.38   60.09   36.85   96.13]\n",
      " [ -45.53  -98.92   40.41   46.69  102.89]\n",
      " [ -56.42  -72.13   67.24   79.63   66.27]]\n"
     ]
    }
   ],
   "source": [
    "import numpy as np\n",
    "E = np.array([\n",
    "    [2.9, 2.4, 1.0, 0.2, 9.2],\n",
    "    [1.2, 3.4, 2.1, 8.2, 0.2],\n",
    "    [4.9, 1.4, 7.0, 2.2, 3.2],\n",
    "    [5.1, 3.2, 8.0, 4.2, 6.2],\n",
    "    [0.9, 2.8, 7.1, 0.3, 1.2]\n",
    "])\n",
    "\n",
    "WQ = np.array([\n",
    "    [7.5, -3.2, 9.1, -5.3, 8.9],\n",
    "    [-9.6, -3.0, 7.0, 9.5, -0.4],\n",
    "    [-5.5, -8.0, 7.2, 9.4, 8.0],\n",
    "    [-8.8, 4.5, -9.7, 5.4, -7.0],\n",
    "    [4.5, -4.5, -7.3, -8.8, 3.9]\n",
    "])\n",
    "result = np.dot(E, WQ)\n",
    "\n",
    "print(\"Kết quả của phép nhân ma trận E với WQ:\\n\", result)\n",
    "# "
   ]
  },
  {
   "cell_type": "code",
   "execution_count": 13,
   "metadata": {},
   "outputs": [
    {
     "name": "stdout",
     "output_type": "stream",
     "text": [
      "[12.62685185 12.62685185 12.62685185 12.62685185 12.62685185 12.62685185\n",
      " 12.62685185 12.62685185 12.62685185 12.62685185 12.62685185 12.62685185\n",
      " 12.62685185 12.62685185 12.62685185 12.62685185 12.62685185 12.62685185\n",
      " 12.62685185 12.62685185 12.62685185 12.62685185 12.62685185 12.62685185\n",
      " 14.18148148 14.18148148 14.18148148 14.18148148 14.18148148 14.18148148\n",
      " 14.18148148 14.18148148 14.18148148 14.18148148 14.18148148 14.18148148\n",
      " 14.18148148 14.18148148 14.18148148 14.18148148 14.18148148 14.18148148\n",
      " 14.18148148 14.18148148 14.18148148 14.18148148 14.18148148 14.18148148\n",
      " 12.37453704 12.37453704 12.37453704 12.37453704 12.37453704 12.37453704\n",
      " 12.37453704 12.37453704 12.37453704 12.37453704 12.37453704 12.37453704\n",
      " 12.37453704 12.37453704 12.37453704 12.37453704 12.37453704 12.37453704\n",
      " 12.37453704 12.37453704 12.37453704 12.37453704 12.37453704 12.37453704\n",
      "  8.37060185  8.37060185  8.37060185  8.37060185  8.37060185  8.37060185\n",
      "  8.37060185  8.37060185  8.37060185  8.37060185  8.37060185  8.37060185\n",
      "  8.37060185  8.37060185  8.37060185  8.37060185  8.37060185  8.37060185\n",
      "  8.37060185  8.37060185  8.37060185  8.37060185  8.37060185  8.37060185\n",
      "  7.51828704  7.51828704  7.51828704  7.51828704  7.51828704  7.51828704\n",
      "  7.51828704  7.51828704  7.51828704  7.51828704  7.51828704  7.51828704\n",
      "  7.51828704  7.51828704  7.51828704  7.51828704  7.51828704  7.51828704\n",
      "  7.51828704  7.51828704  7.51828704  7.51828704  7.51828704  7.51828704\n",
      " 10.85046296 10.85046296 10.85046296 10.85046296 10.85046296 10.85046296\n",
      " 10.85046296 10.85046296 10.85046296 10.85046296 10.85046296 10.85046296\n",
      " 10.85046296 10.85046296 10.85046296 10.85046296 10.85046296 10.85046296\n",
      " 10.85046296 10.85046296 10.85046296 10.85046296 10.85046296 10.85046296\n",
      " 12.60046296 12.60046296 12.60046296 12.60046296 12.60046296 12.60046296\n",
      " 12.60046296 12.60046296 12.60046296 12.60046296 12.60046296 12.60046296\n",
      " 12.60046296 12.60046296 12.60046296 12.60046296 12.60046296 12.60046296\n",
      " 12.60046296 12.60046296 12.60046296 12.60046296 12.60046296 12.60046296\n",
      " 14.32662037 14.32662037 14.32662037 14.32662037 14.32662037 14.32662037\n",
      " 14.32662037 14.32662037 14.32662037 14.32662037 14.32662037 14.32662037\n",
      " 14.32662037 14.32662037 14.32662037 14.32662037 14.32662037 14.32662037\n",
      " 14.32662037 14.32662037 14.32662037 14.32662037 14.32662037 14.32662037\n",
      " 13.65185185 13.65185185 13.65185185 13.65185185 13.65185185 13.65185185\n",
      " 13.65185185 13.65185185 13.65185185 13.65185185 13.65185185 13.65185185\n",
      " 13.65185185 13.65185185 13.65185185 13.65185185 13.65185185 13.65185185\n",
      " 13.65185185 13.65185185 13.65185185 13.65185185 13.65185185 13.65185185\n",
      " 13.75694444 13.75694444 13.75694444 13.75694444 13.75694444 13.75694444\n",
      " 13.75694444 13.75694444 13.75694444 13.75694444 13.75694444 13.75694444\n",
      " 13.75694444 13.75694444 13.75694444 13.75694444 13.75694444 13.75694444\n",
      " 13.75694444 13.75694444 13.75694444 13.75694444 13.75694444 13.75694444]\n"
     ]
    }
   ],
   "source": [
    "import pandas as pd\n",
    "import numpy as np\n",
    "\n",
    "temp = pd.read_csv(\"temperature-1d.csv\" , index_col=0).to_numpy()\n",
    "temp = temp.reshape(-1, 24)\n",
    "\n",
    "# compute mean for each 24 data points\n",
    "mean_24 = np.mean(temp, axis=1)\n",
    "\n",
    "# 1 phần tử trong cột lặp lại 24 lần\n",
    "mean_24_rep = np.repeat(mean_24, 24)\n",
    "print(mean_24_rep)"
   ]
  },
  {
   "cell_type": "code",
   "execution_count": 49,
   "metadata": {},
   "outputs": [
    {
     "name": "stdout",
     "output_type": "stream",
     "text": [
      "labels after encoding : \n",
      " [0 0 0 0 0 0 0 0 0 0 0 0 0 0 0 0 0 0 0 0 0 0 0 0 0 0 0 0 0 0 0 0 0 0 0 0 0\n",
      " 0 0 0 0 0 0 0 0 0 0 0 0 0 1 1 1 1 1 1 1 1 1 1 1 1 1 1 1 1 1 1 1 1 1 1 1 1\n",
      " 1 1 1 1 1 1 1 1 1 1 1 1 1 1 1 1 1 1 1 1 1 1 1 1 1 1 2 2 2 2 2 2 2 2 2 2 2\n",
      " 2 2 2 2 2 2 2 2 2 2 2 2 2 2 2 2 2 2 2 2 2 2 2 2 2 2 2 2 2 2 2 2 2 2 2 2 2\n",
      " 2 2]\n",
      "Result after one-hot : \n",
      " [[1. 0. 0.]\n",
      " [1. 0. 0.]\n",
      " [1. 0. 0.]\n",
      " [1. 0. 0.]\n",
      " [1. 0. 0.]\n",
      " [1. 0. 0.]\n",
      " [1. 0. 0.]\n",
      " [1. 0. 0.]\n",
      " [1. 0. 0.]\n",
      " [1. 0. 0.]\n",
      " [1. 0. 0.]\n",
      " [1. 0. 0.]\n",
      " [1. 0. 0.]\n",
      " [1. 0. 0.]\n",
      " [1. 0. 0.]\n",
      " [1. 0. 0.]\n",
      " [1. 0. 0.]\n",
      " [1. 0. 0.]\n",
      " [1. 0. 0.]\n",
      " [1. 0. 0.]\n",
      " [1. 0. 0.]\n",
      " [1. 0. 0.]\n",
      " [1. 0. 0.]\n",
      " [1. 0. 0.]\n",
      " [1. 0. 0.]\n",
      " [1. 0. 0.]\n",
      " [1. 0. 0.]\n",
      " [1. 0. 0.]\n",
      " [1. 0. 0.]\n",
      " [1. 0. 0.]\n",
      " [1. 0. 0.]\n",
      " [1. 0. 0.]\n",
      " [1. 0. 0.]\n",
      " [1. 0. 0.]\n",
      " [1. 0. 0.]\n",
      " [1. 0. 0.]\n",
      " [1. 0. 0.]\n",
      " [1. 0. 0.]\n",
      " [1. 0. 0.]\n",
      " [1. 0. 0.]\n",
      " [1. 0. 0.]\n",
      " [1. 0. 0.]\n",
      " [1. 0. 0.]\n",
      " [1. 0. 0.]\n",
      " [1. 0. 0.]\n",
      " [1. 0. 0.]\n",
      " [1. 0. 0.]\n",
      " [1. 0. 0.]\n",
      " [1. 0. 0.]\n",
      " [1. 0. 0.]\n",
      " [0. 1. 0.]\n",
      " [0. 1. 0.]\n",
      " [0. 1. 0.]\n",
      " [0. 1. 0.]\n",
      " [0. 1. 0.]\n",
      " [0. 1. 0.]\n",
      " [0. 1. 0.]\n",
      " [0. 1. 0.]\n",
      " [0. 1. 0.]\n",
      " [0. 1. 0.]\n",
      " [0. 1. 0.]\n",
      " [0. 1. 0.]\n",
      " [0. 1. 0.]\n",
      " [0. 1. 0.]\n",
      " [0. 1. 0.]\n",
      " [0. 1. 0.]\n",
      " [0. 1. 0.]\n",
      " [0. 1. 0.]\n",
      " [0. 1. 0.]\n",
      " [0. 1. 0.]\n",
      " [0. 1. 0.]\n",
      " [0. 1. 0.]\n",
      " [0. 1. 0.]\n",
      " [0. 1. 0.]\n",
      " [0. 1. 0.]\n",
      " [0. 1. 0.]\n",
      " [0. 1. 0.]\n",
      " [0. 1. 0.]\n",
      " [0. 1. 0.]\n",
      " [0. 1. 0.]\n",
      " [0. 1. 0.]\n",
      " [0. 1. 0.]\n",
      " [0. 1. 0.]\n",
      " [0. 1. 0.]\n",
      " [0. 1. 0.]\n",
      " [0. 1. 0.]\n",
      " [0. 1. 0.]\n",
      " [0. 1. 0.]\n",
      " [0. 1. 0.]\n",
      " [0. 1. 0.]\n",
      " [0. 1. 0.]\n",
      " [0. 1. 0.]\n",
      " [0. 1. 0.]\n",
      " [0. 1. 0.]\n",
      " [0. 1. 0.]\n",
      " [0. 1. 0.]\n",
      " [0. 1. 0.]\n",
      " [0. 1. 0.]\n",
      " [0. 1. 0.]\n",
      " [0. 1. 0.]\n",
      " [0. 0. 1.]\n",
      " [0. 0. 1.]\n",
      " [0. 0. 1.]\n",
      " [0. 0. 1.]\n",
      " [0. 0. 1.]\n",
      " [0. 0. 1.]\n",
      " [0. 0. 1.]\n",
      " [0. 0. 1.]\n",
      " [0. 0. 1.]\n",
      " [0. 0. 1.]\n",
      " [0. 0. 1.]\n",
      " [0. 0. 1.]\n",
      " [0. 0. 1.]\n",
      " [0. 0. 1.]\n",
      " [0. 0. 1.]\n",
      " [0. 0. 1.]\n",
      " [0. 0. 1.]\n",
      " [0. 0. 1.]\n",
      " [0. 0. 1.]\n",
      " [0. 0. 1.]\n",
      " [0. 0. 1.]\n",
      " [0. 0. 1.]\n",
      " [0. 0. 1.]\n",
      " [0. 0. 1.]\n",
      " [0. 0. 1.]\n",
      " [0. 0. 1.]\n",
      " [0. 0. 1.]\n",
      " [0. 0. 1.]\n",
      " [0. 0. 1.]\n",
      " [0. 0. 1.]\n",
      " [0. 0. 1.]\n",
      " [0. 0. 1.]\n",
      " [0. 0. 1.]\n",
      " [0. 0. 1.]\n",
      " [0. 0. 1.]\n",
      " [0. 0. 1.]\n",
      " [0. 0. 1.]\n",
      " [0. 0. 1.]\n",
      " [0. 0. 1.]\n",
      " [0. 0. 1.]\n",
      " [0. 0. 1.]\n",
      " [0. 0. 1.]\n",
      " [0. 0. 1.]\n",
      " [0. 0. 1.]\n",
      " [0. 0. 1.]\n",
      " [0. 0. 1.]\n",
      " [0. 0. 1.]\n",
      " [0. 0. 1.]\n",
      " [0. 0. 1.]\n",
      " [0. 0. 1.]]\n"
     ]
    }
   ],
   "source": [
    "# one-hot encoding\n",
    "def eda_petal(row):\n",
    "    row[\"species\"] = np.where(unique_sp == row['species'])[0][0]\n",
    "    return row\n",
    "petal = pd.read_csv(\"iris.csv\", index_col=0)\n",
    "unique_sp = np.array(petal['species'].unique())\n",
    "eda_petal = petal.apply(eda_petal, axis=\"columns\").to_numpy()\n",
    "eda_petal_sp = eda_petal[:, -1].astype(int)\n",
    "\n",
    "print(\"labels after encoding : \\n\",eda_petal_sp)\n",
    "\n",
    "nums_labels = unique_sp.shape[0]\n",
    "nums_samples = eda_petal_sp.shape[0]\n",
    "labels_onehot = np.zeros((nums_samples, nums_labels))\n",
    "labels_onehot[np.arange(nums_samples), eda_petal_sp] = 1\n",
    "\n",
    "print(\"Result after one-hot : \\n\" ,labels_onehot)"
   ]
  },
  {
   "cell_type": "code",
   "execution_count": 62,
   "metadata": {},
   "outputs": [
    {
     "name": "stdout",
     "output_type": "stream",
     "text": [
      "[0.09003057 0.24472847 0.66524096]\n"
     ]
    }
   ],
   "source": [
    "# soft_max\n",
    "data = np.array([1, 2, 3])\n",
    "data_exp = np.exp(data)\n",
    "\n",
    "sum_data_exp = np.sum(data_exp, axis=0)\n",
    "result = data_exp / sum_data_exp\n",
    "\n",
    "print(result)"
   ]
  },
  {
   "cell_type": "code",
   "execution_count": 59,
   "metadata": {},
   "outputs": [
    {
     "name": "stdout",
     "output_type": "stream",
     "text": [
      "[0 0 0 0 0 0 0 0 0 0 0 0 0 0 0 0 0 0 0 0 0 0 0 0 0 0 0 0 0 0 0 0 0 0 0 0 0\n",
      " 0 0 0 0 0 0 0 0 0 0 0 0 0 1 1 1 1 1 1 1 1 1 1 1 1 1 1 1 1 1 1 1 1 1 1 1 1\n",
      " 1 1 1 1 1 1 1 1 1 1 1 1 1 1 1 1 1 1 1 1 1 1 1 1 1 1 2 2 2 2 2 2 2 2 2 2 2\n",
      " 2 2 2 2 2 2 2 2 2 2 2 2 2 2 2 2 2 2 2 2 2 2 2 2 2 2 2 2 2 2 2 2 2 2 2 2 2\n",
      " 2 2]\n"
     ]
    }
   ],
   "source": [
    "# Đọc dữ liệu từ tệp (tên tệp được đại diện bởi ...).\n",
    "# Dữ liệu sẽ được chuyển đổi thành kiểu float.\n",
    "# Các giá trị trong tệp được phân tách bởi dấu phẩy (,).\n",
    "# Bỏ qua dòng đầu tiên trong tệp (dòng tiêu đề).\n",
    "# Chỉ đọc các cột có chỉ mục 0, 1, 2, và 3 (các cột sepal_length, sepal_width, petal_length, petal_width).\n",
    "\n",
    "# lấy các đặc trưng lưu vào X\n",
    "X = np.genfromtxt(fname=\"iris.csv\", dtype=float, delimiter=',' ,usecols=[0, 1, 2, 3], skip_header=1)\n",
    "\n",
    "# lấy labels lưu vào Y\n",
    "Y = np.genfromtxt(fname=\"iris.csv\", dtype=str, delimiter=',' , usecols=4, skip_header=1)\n",
    "\n",
    "labels = np.unique(Y)\n",
    "\n",
    "#  thay chuỗi bằng số\n",
    "for i in range(len(labels)):\n",
    "    Y = np.char.replace(Y, labels[i], str(i))\n",
    "Y = Y.astype(int)\n",
    "print(Y)"
   ]
  }
 ],
 "metadata": {
  "kernelspec": {
   "display_name": "40daysPython_env",
   "language": "python",
   "name": "python3"
  },
  "language_info": {
   "codemirror_mode": {
    "name": "ipython",
    "version": 3
   },
   "file_extension": ".py",
   "mimetype": "text/x-python",
   "name": "python",
   "nbconvert_exporter": "python",
   "pygments_lexer": "ipython3",
   "version": "3.10.13"
  }
 },
 "nbformat": 4,
 "nbformat_minor": 2
}
