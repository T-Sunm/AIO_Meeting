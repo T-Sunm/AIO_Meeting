{
 "cells": [
  {
   "cell_type": "markdown",
   "metadata": {},
   "source": [
    "### Simple Classification"
   ]
  },
  {
   "cell_type": "code",
   "execution_count": 2,
   "metadata": {},
   "outputs": [],
   "source": [
    "import numpy as np\n",
    "from sklearn.naive_bayes import BernoulliNB\n",
    "\n",
    "# Data: Studied (1 for Yes, 0 for No) and Result (1 for Pass, 0 for Fail)\n",
    "X = np.array([[0], [0], [1], [1], [1], [0]])\n",
    "y = np.array([0, 1, 0, 1, 1, 0])\n",
    "\n",
    "# create and train the model\n",
    "model = BernoulliNB()\n",
    "model.fit(X,y)\n",
    "\n",
    "#Predict the result for a student who stuided\n",
    "new_data = np.array([[1]])\n",
    "prediction = model.predict(new_data)\n",
    "prediction_proba = model.predict_proba(new_data)"
   ]
  },
  {
   "cell_type": "code",
   "execution_count": 3,
   "metadata": {},
   "outputs": [
    {
     "data": {
      "text/plain": [
       "array([1])"
      ]
     },
     "execution_count": 3,
     "metadata": {},
     "output_type": "execute_result"
    }
   ],
   "source": [
    "prediction"
   ]
  },
  {
   "cell_type": "code",
   "execution_count": 4,
   "metadata": {},
   "outputs": [
    {
     "data": {
      "text/plain": [
       "array([[0.4, 0.6]])"
      ]
     },
     "execution_count": 4,
     "metadata": {},
     "output_type": "execute_result"
    }
   ],
   "source": [
    "prediction_proba"
   ]
  },
  {
   "cell_type": "code",
   "execution_count": 7,
   "metadata": {},
   "outputs": [
    {
     "data": {
      "text/plain": [
       "array([0.5, 0.5])"
      ]
     },
     "execution_count": 7,
     "metadata": {},
     "output_type": "execute_result"
    }
   ],
   "source": [
    "np.exp(model.class_log_prior_)"
   ]
  },
  {
   "cell_type": "code",
   "execution_count": 8,
   "metadata": {},
   "outputs": [
    {
     "data": {
      "text/plain": [
       "array([[0.4],\n",
       "       [0.6]])"
      ]
     },
     "execution_count": 8,
     "metadata": {},
     "output_type": "execute_result"
    }
   ],
   "source": [
    "# Empirical log probability of features given a class, P(x_i|y)\n",
    "# [[P(x_i=1|C=0), P(x_i=0|C=0)],\n",
    "#  [P(x_i=1|C=1), P(x_i=0|C=1)]]\n",
    "\n",
    "np.exp(model.feature_log_prob_)"
   ]
  },
  {
   "cell_type": "markdown",
   "metadata": {},
   "source": [
    "Sự chênh lệch giữa kết quả tính toán thủ công của bạn và kết quả từ **np.exp(model.feature_log_prob_)** có thể do cách scikit-learn xử lý dữ liệu. Cụ thể, scikit-learn có thể áp dụng một số kỹ thuật như làm trơn Laplace (Laplace smoothing) để tránh việc xác suất bằng 0, điều này giúp mô hình tổng quát hóa tốt hơn trên dữ liệu mới.\n",
    "\n",
    "Làm trơn Laplace (Laplace Smoothing)\n",
    "Làm trơn Laplace bổ sung thêm một giá trị nhỏ (thường là 1) vào mỗi tần suất đếm để đảm bảo rằng không có xác suất nào bằng 0. Công thức cho làm trơn Laplace là:\n",
    "\n",
    "$P(x_i \\mid c) = \\frac{N_{x_i|c} + 1}{N_c + k}$\n",
    "\n",
    "Trong đó:\n",
    "\n",
    " - $N_{x_i|c}$ là số lượng mẫu có giá trị $x_i$ trong lớp $c$\n",
    " - $N_c$ là tổng số mẫu trong lớp $c$\\\n",
    " - $k$ là số lượng các giá trị có thể có của $x_i$ (trong trường hợp nhị phân, $k = 2$)\n",
    "\n",
    "\n",
    "$\\textbf{Không có làm trơn (Manual Calculation)}$ (Tính tay) :\n",
    "\n",
    "- $P(x_i = 1 \\mid c = 0) = \\frac{1}{3} = 0.333$\n",
    "- $P(x_i = 1 \\mid c = 1) = \\frac{2}{3} = 0.666$\n",
    "\n",
    "\n",
    "$\\textbf{Với làm trơn Laplace}$ (kết quả sài thư viện sklearn) :\n",
    " \n",
    " - $P(x_i = 1 \\mid c = 0) = \\frac{1+1}{3+2} = \\frac{2}{5} = 0.4$\n",
    " - $P(x_i = 1 \\mid c = 1) = \\frac{2+1}{3+2} = \\frac{3}{5} = 0.6$\n",
    "\n",
    "​"
   ]
  },
  {
   "cell_type": "markdown",
   "metadata": {},
   "source": [
    "### Gaussian Naive Bayes"
   ]
  },
  {
   "cell_type": "code",
   "execution_count": 54,
   "metadata": {},
   "outputs": [
    {
     "data": {
      "text/html": [
       "<div>\n",
       "<style scoped>\n",
       "    .dataframe tbody tr th:only-of-type {\n",
       "        vertical-align: middle;\n",
       "    }\n",
       "\n",
       "    .dataframe tbody tr th {\n",
       "        vertical-align: top;\n",
       "    }\n",
       "\n",
       "    .dataframe thead th {\n",
       "        text-align: right;\n",
       "    }\n",
       "</style>\n",
       "<table border=\"1\" class=\"dataframe\">\n",
       "  <thead>\n",
       "    <tr style=\"text-align: right;\">\n",
       "      <th></th>\n",
       "      <th>Petal_Length</th>\n",
       "      <th>Label</th>\n",
       "    </tr>\n",
       "  </thead>\n",
       "  <tbody>\n",
       "    <tr>\n",
       "      <th>0</th>\n",
       "      <td>1.4</td>\n",
       "      <td>0.0</td>\n",
       "    </tr>\n",
       "    <tr>\n",
       "      <th>1</th>\n",
       "      <td>1.0</td>\n",
       "      <td>0.0</td>\n",
       "    </tr>\n",
       "    <tr>\n",
       "      <th>2</th>\n",
       "      <td>1.3</td>\n",
       "      <td>0.0</td>\n",
       "    </tr>\n",
       "    <tr>\n",
       "      <th>3</th>\n",
       "      <td>1.9</td>\n",
       "      <td>0.0</td>\n",
       "    </tr>\n",
       "    <tr>\n",
       "      <th>4</th>\n",
       "      <td>2.0</td>\n",
       "      <td>0.0</td>\n",
       "    </tr>\n",
       "    <tr>\n",
       "      <th>5</th>\n",
       "      <td>3.8</td>\n",
       "      <td>1.0</td>\n",
       "    </tr>\n",
       "    <tr>\n",
       "      <th>6</th>\n",
       "      <td>4.1</td>\n",
       "      <td>1.0</td>\n",
       "    </tr>\n",
       "    <tr>\n",
       "      <th>7</th>\n",
       "      <td>3.9</td>\n",
       "      <td>1.0</td>\n",
       "    </tr>\n",
       "    <tr>\n",
       "      <th>8</th>\n",
       "      <td>4.2</td>\n",
       "      <td>1.0</td>\n",
       "    </tr>\n",
       "    <tr>\n",
       "      <th>9</th>\n",
       "      <td>3.4</td>\n",
       "      <td>1.0</td>\n",
       "    </tr>\n",
       "  </tbody>\n",
       "</table>\n",
       "</div>"
      ],
      "text/plain": [
       "   Petal_Length  Label\n",
       "0           1.4    0.0\n",
       "1           1.0    0.0\n",
       "2           1.3    0.0\n",
       "3           1.9    0.0\n",
       "4           2.0    0.0\n",
       "5           3.8    1.0\n",
       "6           4.1    1.0\n",
       "7           3.9    1.0\n",
       "8           4.2    1.0\n",
       "9           3.4    1.0"
      ]
     },
     "execution_count": 54,
     "metadata": {},
     "output_type": "execute_result"
    }
   ],
   "source": [
    "import pandas as pd\n",
    "iris = pd.read_csv('./data/iris_1D.csv')\n",
    "iris"
   ]
  },
  {
   "cell_type": "markdown",
   "metadata": {},
   "source": [
    "#### Use Library"
   ]
  },
  {
   "cell_type": "code",
   "execution_count": 53,
   "metadata": {},
   "outputs": [
    {
     "name": "stdout",
     "output_type": "stream",
     "text": [
      "[[1.4]\n",
      " [1. ]\n",
      " [1.3]\n",
      " [1.9]\n",
      " [2. ]\n",
      " [3.8]\n",
      " [4.1]\n",
      " [3.9]\n",
      " [4.2]\n",
      " [3.4]]\n"
     ]
    }
   ],
   "source": [
    "from sklearn.metrics import confusion_matrix\n",
    "from sklearn.metrics import classification_report\n",
    "from sklearn.model_selection import train_test_split\n",
    "\n",
    "X_train = iris.loc[:,'Petal_Length'].values.reshape(-1,1)\n",
    "Y_Train = iris.loc[:,'Label'].values\n",
    "print(X_train)"
   ]
  },
  {
   "cell_type": "code",
   "execution_count": 41,
   "metadata": {},
   "outputs": [],
   "source": [
    "from sklearn.naive_bayes import GaussianNB\n",
    "import numpy as np\n",
    "\n",
    "\n",
    "classifier = GaussianNB()\n",
    "clf = classifier.fit(X_train, Y_Train)\n",
    "\n",
    "# predict\n",
    "x_test = np.array([[3.0]])\n",
    "\n",
    "prediction = clf.predict(x_test)\n",
    "prediction_proba = clf.predict_proba(x_test)"
   ]
  },
  {
   "cell_type": "code",
   "execution_count": 42,
   "metadata": {},
   "outputs": [
    {
     "data": {
      "text/plain": [
       "array([1.])"
      ]
     },
     "execution_count": 42,
     "metadata": {},
     "output_type": "execute_result"
    }
   ],
   "source": [
    "prediction"
   ]
  },
  {
   "cell_type": "code",
   "execution_count": 43,
   "metadata": {},
   "outputs": [
    {
     "data": {
      "text/plain": [
       "array([[0.0454125, 0.9545875]])"
      ]
     },
     "execution_count": 43,
     "metadata": {},
     "output_type": "execute_result"
    }
   ],
   "source": [
    "prediction_proba"
   ]
  },
  {
   "cell_type": "code",
   "execution_count": 44,
   "metadata": {},
   "outputs": [
    {
     "data": {
      "text/plain": [
       "array([5., 5.])"
      ]
     },
     "execution_count": 44,
     "metadata": {},
     "output_type": "execute_result"
    }
   ],
   "source": [
    "clf.class_count_"
   ]
  },
  {
   "cell_type": "code",
   "execution_count": 45,
   "metadata": {},
   "outputs": [
    {
     "data": {
      "text/plain": [
       "array([0.5, 0.5])"
      ]
     },
     "execution_count": 45,
     "metadata": {},
     "output_type": "execute_result"
    }
   ],
   "source": [
    "clf.class_prior_"
   ]
  },
  {
   "cell_type": "code",
   "execution_count": 46,
   "metadata": {},
   "outputs": [
    {
     "data": {
      "text/plain": [
       "array([0., 1.])"
      ]
     },
     "execution_count": 46,
     "metadata": {},
     "output_type": "execute_result"
    }
   ],
   "source": [
    "# các label để phân loại\n",
    "clf.classes_"
   ]
  },
  {
   "cell_type": "code",
   "execution_count": 47,
   "metadata": {},
   "outputs": [
    {
     "data": {
      "text/plain": [
       "array([[0.1416],\n",
       "       [0.0776]])"
      ]
     },
     "execution_count": 47,
     "metadata": {},
     "output_type": "execute_result"
    }
   ],
   "source": [
    "# # giá trị phương sai của đặc trưng so với label = 0 là 0.1416 , đặc trưng so với label = 1 là 0.0776\n",
    "clf.var_"
   ]
  },
  {
   "cell_type": "code",
   "execution_count": 48,
   "metadata": {},
   "outputs": [
    {
     "data": {
      "text/plain": [
       "array([[1.52],\n",
       "       [3.88]])"
      ]
     },
     "execution_count": 48,
     "metadata": {},
     "output_type": "execute_result"
    }
   ],
   "source": [
    "# giá trị mean của đặc trưng so với label = 0 là 1.52 , đặc trưng so với label = 1 là 3,88\n",
    "clf.theta_"
   ]
  },
  {
   "cell_type": "markdown",
   "metadata": {},
   "source": [
    "#### Compute mannualy"
   ]
  },
  {
   "cell_type": "code",
   "execution_count": 67,
   "metadata": {},
   "outputs": [
    {
     "name": "stdout",
     "output_type": "stream",
     "text": [
      "[1.4 1.  1.3 1.9 2.  3.8 4.1 3.9 4.2 3.4]\n",
      "[0. 0. 0. 0. 0. 1. 1. 1. 1. 1.]\n"
     ]
    }
   ],
   "source": [
    "X_train = iris.loc[:, 'Petal_Length'].values\n",
    "Y_train = iris.loc[:, 'Label'].values\n",
    "print(X_train)\n",
    "print(Y_Train)"
   ]
  },
  {
   "cell_type": "code",
   "execution_count": 77,
   "metadata": {},
   "outputs": [
    {
     "name": "stdout",
     "output_type": "stream",
     "text": [
      "[1.4 1.  1.3 1.9 2. ] [3.8 4.1 3.9 4.2 3.4]\n",
      "0.5 0.5\n"
     ]
    }
   ],
   "source": [
    "C0l = []\n",
    "C1l = []\n",
    "count_c0 = 0\n",
    "count_c1 = 0\n",
    "for x,y in zip(X_train, Y_train):\n",
    "    if y == 0:\n",
    "        C0l.append(x)\n",
    "        count_c0 += 1 \n",
    "    elif y == 1:\n",
    "        C1l.append(x)\n",
    "        count_c1 += 1\n",
    "\n",
    "C0l = np.array(C0l)\n",
    "C1l = np.array(C1l)\n",
    "\n",
    "# Tiên nghiệm\n",
    "P_C0 = count_c0 / (count_c0 + count_c1)\n",
    "P_C1 = count_c1 / (count_c0 + count_c1)\n",
    "print(C0l, C1l)\n",
    "print(P_C0, P_C1)"
   ]
  },
  {
   "cell_type": "code",
   "execution_count": 78,
   "metadata": {},
   "outputs": [
    {
     "name": "stdout",
     "output_type": "stream",
     "text": [
      "1.52 0.1416\n",
      "3.88 0.07760000000000002\n"
     ]
    }
   ],
   "source": [
    "mean_C0l = C0l.mean()\n",
    "var_C0l = C0l.var()\n",
    "\n",
    "mean_C1l = C1l.mean()\n",
    "var_C1l = C1l.var()\n",
    "\n",
    "print(mean_C0l, var_C0l)\n",
    "print(mean_C1l, var_C1l)"
   ]
  },
  {
   "cell_type": "code",
   "execution_count": 96,
   "metadata": {},
   "outputs": [],
   "source": [
    "import math\n",
    "def gausian_func(x, mean ,var):\n",
    "    return (1 / math.sqrt(var) * math.sqrt(2*math.pi)) * np.exp(-((x - mean)**2) / (2*var))"
   ]
  },
  {
   "cell_type": "code",
   "execution_count": 97,
   "metadata": {},
   "outputs": [
    {
     "name": "stdout",
     "output_type": "stream",
     "text": [
      "[[0.0454125]]\n",
      "[[0.9545875]]\n"
     ]
    }
   ],
   "source": [
    "x_test = np.array([[3.0]])\n",
    "\n",
    "#Compute PDF\n",
    "pdf_x_c0 = gausian_func(x_test, mean_C0l, var_C0l)\n",
    "pdf_x_c1 = gausian_func(x_test, mean_C1l, var_C1l)\n",
    "\n",
    "total = pdf_x_c0 * P_C0 + pdf_x_c1 * P_C1\n",
    "\n",
    "pdf_c0_x = pdf_x_c0 * P_C0 / total\n",
    "pdf_c1_x = pdf_x_c1 * P_C1 / total\n",
    "print(pdf_c0_x)\n",
    "print(pdf_c1_x)"
   ]
  }
 ],
 "metadata": {
  "kernelspec": {
   "display_name": "40daysPython_env",
   "language": "python",
   "name": "python3"
  },
  "language_info": {
   "codemirror_mode": {
    "name": "ipython",
    "version": 3
   },
   "file_extension": ".py",
   "mimetype": "text/x-python",
   "name": "python",
   "nbconvert_exporter": "python",
   "pygments_lexer": "ipython3",
   "version": "3.10.13"
  }
 },
 "nbformat": 4,
 "nbformat_minor": 2
}
