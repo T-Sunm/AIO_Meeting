{
 "cells": [
  {
   "cell_type": "markdown",
   "metadata": {},
   "source": [
    "Lý thuyết"
   ]
  },
  {
   "cell_type": "code",
   "execution_count": 14,
   "metadata": {},
   "outputs": [
    {
     "name": "stdout",
     "output_type": "stream",
     "text": [
      "before flip : \n",
      " [[0 1]\n",
      " [2 3]\n",
      " [4 5]]\n",
      "after flip : \n",
      " [[4 5]\n",
      " [2 3]\n",
      " [0 1]]\n"
     ]
    }
   ],
   "source": [
    "import numpy as np\n",
    "height = 3\n",
    "width = 2\n",
    "\n",
    "A = np.array([[1, 0],\n",
    "              [0, -1]])\n",
    "img = np.arange(6).reshape(height, width)\n",
    "print(\"before flip : \\n\", img)\n",
    "p = np.array([0, height - 1])\n",
    "output = np.zeros((height, width))\n",
    "for x2 in range(height):\n",
    "    for x1 in range(width):\n",
    "        v = np.array([x1, x2])\n",
    "        color = img[x2, x1]\n",
    "        new_x1, new_x2 = A.dot(v) + p\n",
    "        output[new_x2, new_x1] = color\n",
    "        \n",
    "print(\"after flip : \\n\", output.astype(int))"
   ]
  },
  {
   "cell_type": "code",
   "execution_count": 40,
   "metadata": {},
   "outputs": [
    {
     "name": "stdout",
     "output_type": "stream",
     "text": [
      "before flipped x1-x2 : \n",
      " [[0 1 0 1 0 1]\n",
      " [0 0 1 1 2 2]]\n",
      "before flipped img : \n",
      " [[0 1]\n",
      " [2 3]\n",
      " [4 5]]\n",
      "\n",
      "after flipped x1-x2 : \n",
      " [[0 1 0 1 0 1]\n",
      " [2 2 1 1 0 0]]\n",
      "after flipped img : \n",
      " [[4 5]\n",
      " [2 3]\n",
      " [0 1]]\n"
     ]
    }
   ],
   "source": [
    "# remove for\n",
    "height = 3\n",
    "width = 2\n",
    "\n",
    "A = np.array([[1, 0],\n",
    "              [0, -1]])\n",
    "p = np.array([0, height - 1]).reshape(2, 1)\n",
    "img = np.arange(6).reshape(height, width)\n",
    "output = np.zeros_like(img)\n",
    "\n",
    "# Tạo ma trận tọa độ\n",
    "# np.meshgrid tạo ma trận tọa độ x1 và x2.\n",
    "x1, x2 = np.meshgrid(np.arange(width), np.arange(height))\n",
    "\n",
    "# Chuyển ma trận tọa độ thành các vector\n",
    "# np.vstack kết hợp x1 và x2 thành các vector tọa độ.\n",
    "vectors = np.vstack([x1.ravel(), x2.ravel()])\n",
    "print(\"before flipped x1-x2 : \\n\", vectors)\n",
    "print(\"before flipped img : \\n\", img)\n",
    "\n",
    "print()\n",
    "\n",
    "flipped_loc = A.dot(vectors) + p\n",
    "\n",
    "x1_x2 = list(zip(vectors[0], vectors[1]))\n",
    "newx1_newx2 = list(zip(flipped_loc[0], flipped_loc[1]))\n",
    "\n",
    "for i in range(len(x1_x2)):\n",
    "    x1, x2 = x1_x2[i]\n",
    "    new_x1, new_x2 = newx1_newx2[i]\n",
    "\n",
    "    output[new_x2, new_x1] = img[x2, x1]\n",
    "\n",
    "print(\"after flipped x1-x2 : \\n\", flipped_loc)\n",
    "print(\"after flipped img : \\n\", output)"
   ]
  },
  {
   "cell_type": "code",
   "execution_count": 23,
   "metadata": {},
   "outputs": [
    {
     "data": {
      "text/plain": [
       "True"
      ]
     },
     "execution_count": 23,
     "metadata": {},
     "output_type": "execute_result"
    }
   ],
   "source": [
    "import cv2\n",
    "image = cv2.imread('./image/nature_gray.png')\n",
    "height, width, depth = image.shape\n",
    "A = np.array([[1, 0],\n",
    "              [0, -1]])\n",
    "p = np.array([0, height - 1])\n",
    "\n",
    "output = np.zeros_like(image)\n",
    "\n",
    "for x2 in range(height):\n",
    "    for x1 in range(width):\n",
    "        v = np.array([x1, x2])\n",
    "        color = image[x2, x1]\n",
    "        new_x1, new_x2 = A.dot(v) + p\n",
    "\n",
    "        output[new_x2, new_x1] = color\n",
    "\n",
    "output_filename = './image/flipped_image.png'\n",
    "cv2.imwrite(output_filename, output)"
   ]
  },
  {
   "cell_type": "code",
   "execution_count": 54,
   "metadata": {},
   "outputs": [
    {
     "data": {
      "text/plain": [
       "True"
      ]
     },
     "execution_count": 54,
     "metadata": {},
     "output_type": "execute_result"
    }
   ],
   "source": [
    "# flipped tọa độ vertical  kh cần xài for\n",
    "import cv2\n",
    "image = cv2.imread('./image/nature_gray.png')\n",
    "height, width, depth = image.shape\n",
    "A = np.array([[1, 0],\n",
    "              [0, -1]])\n",
    "p = np.array([0, height - 1]).reshape(2, 1)\n",
    "output = np.zeros_like(image)\n",
    "\n",
    "# Tạo ma trận tọa độ\n",
    "# np.meshgrid tạo ma trận tọa độ x1 và x2.\n",
    "x1, x2 = np.meshgrid(np.arange(width), np.arange(height))\n",
    "\n",
    "# Chuyển ma trận tọa độ thành các vector\n",
    "# np.vstack kết hợp x1 và x2 thành các vector tọa độ.\n",
    "vectors = np.vstack([x1.ravel(), x2.ravel()])\n",
    "\n",
    "flipped_loc = A.dot(vectors) + p\n",
    "\n",
    "# cách 1\n",
    "# x1_x2 = list(zip(vectors[0], vectors[1]))\n",
    "# newx1_newx2 = list(zip(flipped_loc[0], flipped_loc[1]))\n",
    "\n",
    "# for i in range(len(x1_x2)):\n",
    "#     x_1, x_2 = x1_x2[i]\n",
    "#     new_x1, new_x2 = newx1_newx2[i]\n",
    "#     output[new_x2, new_x1] = image[x_2, x_1]\n",
    "\n",
    "# cách 2:\n",
    "output[flipped_loc[1], flipped_loc[0]] = image[x2.ravel(), x1.ravel()]\n",
    "\n",
    "output_filename = './image/flipped_image2.png'\n",
    "cv2.imwrite(output_filename, output)"
   ]
  },
  {
   "cell_type": "code",
   "execution_count": 56,
   "metadata": {},
   "outputs": [
    {
     "data": {
      "text/plain": [
       "True"
      ]
     },
     "execution_count": 56,
     "metadata": {},
     "output_type": "execute_result"
    }
   ],
   "source": [
    "# flipped tọa độ horizontal kh cần xài for\n",
    "import cv2\n",
    "image = cv2.imread('./image/nature_gray.png')\n",
    "height, width, depth = image.shape\n",
    "A = np.array([[-1, 0],\n",
    "              [0, 1]])\n",
    "p = np.array([width - 1, 0]).reshape(2, 1)\n",
    "output = np.zeros_like(image)\n",
    "\n",
    "# Tạo ma trận tọa độ\n",
    "# np.meshgrid tạo ma trận tọa độ x1 và x2.\n",
    "x1, x2 = np.meshgrid(np.arange(width), np.arange(height))\n",
    "\n",
    "# Chuyển ma trận tọa độ thành các vector\n",
    "# np.vstack kết hợp x1 và x2 thành các vector tọa độ.\n",
    "vectors = np.vstack([x1.ravel(), x2.ravel()])\n",
    "\n",
    "flipped_loc = A.dot(vectors) + p\n",
    "\n",
    "# cách 1:\n",
    "# x1_x2 = list(zip(vectors[0], vectors[1]))\n",
    "# newx1_newx2 = list(zip(flipped_loc[0], flipped_loc[1]))\n",
    "\n",
    "# for i in range(len(x1_x2)):\n",
    "#     x_1, x_2 = x1_x2[i]\n",
    "#     new_x1, new_x2 = newx1_newx2[i]\n",
    "#     output[new_x2, new_x1] = image[x_2, x_1]\n",
    "\n",
    "# cách 2:\n",
    "output[flipped_loc[1], flipped_loc[0]] = image[x2.ravel(), x1.ravel()]\n",
    "\n",
    "output_filename = './image/flipped_image_horizontal.png'\n",
    "cv2.imwrite(output_filename, output)"
   ]
  },
  {
   "cell_type": "markdown",
   "metadata": {},
   "source": [
    "Least Squares Estimation"
   ]
  },
  {
   "cell_type": "code",
   "execution_count": 61,
   "metadata": {},
   "outputs": [
    {
     "name": "stdout",
     "output_type": "stream",
     "text": [
      "[[6.7 1. ]\n",
      " [4.6 1. ]\n",
      " [3.5 1. ]\n",
      " [5.5 1. ]]\n",
      "[[6.7 4.6 3.5 5.5]\n",
      " [1.  1.  1.  1. ]]\n",
      "[9.1 5.9 4.6 6.7]\n"
     ]
    }
   ],
   "source": [
    "import numpy as np\n",
    "\n",
    "area = np.array([[6.7, 1],\n",
    "              [4.6, 1],\n",
    "              [3.5, 1],\n",
    "              [5.5, 1]])\n",
    "\n",
    "price = np.array([9.1, 5.9, 4.6, 6.7])\n",
    "\n",
    "print(area)\n",
    "print(area.T)\n",
    "print(price)"
   ]
  },
  {
   "cell_type": "code",
   "execution_count": 69,
   "metadata": {},
   "outputs": [
    {
     "name": "stdout",
     "output_type": "stream",
     "text": [
      "Định thức của ma trận area là: 22.109999999999914\n",
      "Ma trận nghịch đảo của areaT_dot_area là:\n",
      " [[ 0.18091361 -0.91813659]\n",
      " [-0.91813659  4.90954319]]\n",
      "Ma trận của areaT_dot_price là:\n",
      " [141.06  26.3 ]\n",
      "[ 1.37268204 -0.39136137]\n",
      "Vậy ta có phương trình: y = 1.3726820443238337*x -0.3913613749434946\n"
     ]
    }
   ],
   "source": [
    "areaT_dot_area = (area.T).dot(area)\n",
    "\n",
    "# Tính định thức\n",
    "det_area = np.linalg.det(areaT_dot_area)\n",
    "\n",
    "print(\"Định thức của ma trận area là:\", det_area)\n",
    "\n",
    "if det_area == 0:\n",
    "    print(\"Kh có ma trận nghịch đảo area => phương trình vô nghiệm\")\n",
    "\n",
    "inv_areaT_dot_area = np.linalg.inv(areaT_dot_area)\n",
    "print(\"Ma trận nghịch đảo của areaT_dot_area là:\\n\", inv_areaT_dot_area)\n",
    "\n",
    "\n",
    "areaT_dot_price = (area.T).dot(price) \n",
    "print(\"Ma trận của areaT_dot_price là:\\n\", areaT_dot_price)\n",
    "\n",
    "x = inv_areaT_dot_area.dot(areaT_dot_price)\n",
    "\n",
    "print(x)\n",
    "\n",
    "print(f\"Vậy ta có phương trình: y = {x[0]}*x {x[1]}\")"
   ]
  },
  {
   "cell_type": "code",
   "execution_count": 2,
   "metadata": {},
   "outputs": [],
   "source": [
    "import numpy as np\n",
    "import cv2\n",
    "import matplotlib.pyplot as plt\n",
    "\n",
    "\n",
    "# read a color image\n",
    "img1 = cv2.imread('./image/sign1.png')\n",
    "img1 = cv2.resize(img1, (100, 100))\n",
    "\n",
    "img2 = cv2.imread('./image/sign2.png')\n",
    "img2 = cv2.resize(img2, (100, 100))\n",
    "\n",
    "img3 = cv2.imread('./image/sign3.png')\n",
    "img3 = cv2.resize(img3, (100, 100))\n",
    "\n",
    "img4 = cv2.imread('./image/sign4.png')\n",
    "img4 = cv2.resize(img4, (100, 100))\n"
   ]
  },
  {
   "cell_type": "markdown",
   "metadata": {},
   "source": [
    "Using L1 and Cosine Similarity : TrafficSign"
   ]
  },
  {
   "cell_type": "code",
   "execution_count": 10,
   "metadata": {},
   "outputs": [
    {
     "name": "stdout",
     "output_type": "stream",
     "text": [
      "image1 with image2 : 50.618766666666666\n",
      "image1 with image3 : 171.84026666666668\n",
      "image1 with image4 : 90.49526666666667\n"
     ]
    }
   ],
   "source": [
    "img1_2 = np.sum(np.abs(img1 - img2)) / (100 * 100 * 3)\n",
    "img1_3 = np.sum(np.abs(img1 - img3)) / (100 * 100 * 3)\n",
    "img1_4 = np.sum(np.abs(img1 - img4)) / (100 * 100 * 3)\n",
    "\n",
    "\n",
    "print(\"image1 with image2 :\", img1_2)\n",
    "print(\"image1 with image3 :\", img1_3)\n",
    "print(\"image1 with image4 :\", img1_4)"
   ]
  },
  {
   "cell_type": "code",
   "execution_count": 13,
   "metadata": {},
   "outputs": [
    {
     "name": "stdout",
     "output_type": "stream",
     "text": [
      "image1 with image2 : 0.9547094275020529\n",
      "image1 with image3 : 0.5750955260394579\n",
      "image1 with image4 : 0.9669706203695292\n"
     ]
    }
   ],
   "source": [
    "img1_flatten = img1.flatten().astype(np.float64)\n",
    "img2_flatten = img2.flatten().astype(np.float64)\n",
    "img3_flatten = img3.flatten().astype(np.float64)\n",
    "img4_flatten = img4.flatten().astype(np.float64)\n",
    "\n",
    "img1_2 = (img1_flatten.dot(img2_flatten)) / (np.linalg.norm(img1_flatten) * np.linalg.norm(img2_flatten))\n",
    "img1_3 = (img1_flatten.dot(img3_flatten)) / (np.linalg.norm(img1_flatten) * np.linalg.norm(img3_flatten))\n",
    "img1_4 = (img1_flatten.dot(img4_flatten)) / (np.linalg.norm(img1_flatten) * np.linalg.norm(img4_flatten))\n",
    "\n",
    "\n",
    "print(\"image1 with image2 :\", img1_2)\n",
    "print(\"image1 with image3 :\", img1_3)\n",
    "print(\"image1 with image4 :\", img1_4)"
   ]
  },
  {
   "cell_type": "markdown",
   "metadata": {},
   "source": [
    "**KNN Algorithm** "
   ]
  },
  {
   "cell_type": "code",
   "execution_count": 45,
   "metadata": {},
   "outputs": [
    {
     "name": "stdout",
     "output_type": "stream",
     "text": [
      "Với x_test(2.4, 0.8) thì có nhãn 0\n"
     ]
    }
   ],
   "source": [
    "import pandas as pd\n",
    "\n",
    "df = pd.read_csv('./data/iris_2D.csv')\n",
    "data = df.to_numpy()\n",
    "x_test = (2.4, 0.8)\n",
    "N = 3\n",
    "length_width = data[:,0:2]\n",
    "label = data[:, 2].astype(np.int8)\n",
    "distance_euclid = np.sqrt(np.sum(np.abs(length_width - x_test)**2, axis=-1))\n",
    "\n",
    "sorted_distance = sorted(list(zip(label, distance_euclid)), key=lambda x : x[1])\n",
    "KNN = [data[0] for data in sorted_distance][:N]\n",
    "# Đếm số lượng các nhãn trong KNN\n",
    "label_count = [(label, KNN.count(label)) for label in np.unique(label)]\n",
    "max_label = max(label_count,key= lambda count : count[1])\n",
    "print(f\"Với x_test(2.4, 0.8) thì có nhãn {max_label[0]}\")"
   ]
  }
 ],
 "metadata": {
  "kernelspec": {
   "display_name": "40daysPython_env",
   "language": "python",
   "name": "python3"
  },
  "language_info": {
   "codemirror_mode": {
    "name": "ipython",
    "version": 3
   },
   "file_extension": ".py",
   "mimetype": "text/x-python",
   "name": "python",
   "nbconvert_exporter": "python",
   "pygments_lexer": "ipython3",
   "version": "3.10.13"
  }
 },
 "nbformat": 4,
 "nbformat_minor": 2
}
