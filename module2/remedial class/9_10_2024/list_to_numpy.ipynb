{
 "cells": [
  {
   "cell_type": "code",
   "execution_count": null,
   "metadata": {},
   "outputs": [],
   "source": [
    "import numpy as np\n",
    "\n",
    "# Create a 2D array\n",
    "original_array = np.array([[1, 2, 3],\n",
    "                           [4, 5, 6],\n",
    "                           [7, 8, 9]])\n",
    "\n",
    "# -1 thì sẽ reshape về 1 hàng \n",
    "reshaped_array = original_array.reshape(-1)\n",
    "\n",
    "print(\"Original array (2D):\")\n",
    "print(original_array)\n",
    "print(\"\\nReshaped array (1D):\")\n",
    "print(reshaped_array)"
   ]
  },
  {
   "cell_type": "code",
   "execution_count": 40,
   "metadata": {},
   "outputs": [
    {
     "name": "stdout",
     "output_type": "stream",
     "text": [
      "[1 3 0 2 4]\n",
      "inds trước khi plus:  [0 1 2 3]\n",
      "inds sau khi plus:  [1 2 3 4]\n",
      "Indices of boxes to keep: [1]\n",
      "Boxes to keep:\n",
      "[[ 24  84 152 212]]\n"
     ]
    }
   ],
   "source": [
    "import numpy as np\n",
    "\n",
    "def non_max_suppression(boxes, scores, threshold):\n",
    "    \"\"\"\n",
    "    Perform non-maximum suppression.\n",
    "\n",
    "    Parameters:\n",
    "    boxes (numpy.ndarray): Array of bounding boxes, each defined by [x1, y1, x2, y2].\n",
    "    scores (numpy.ndarray): Array of confidence scores for each bounding box.\n",
    "    threshold (float): Overlap threshold for suppression.\n",
    "\n",
    "    Returns:\n",
    "    numpy.ndarray: Indices of bounding boxes to keep.\n",
    "    \"\"\"\n",
    "    if len(boxes) == 0:\n",
    "        return []\n",
    "\n",
    "    # Coordinates of bounding boxes\n",
    "    x1 = boxes[:, 0]\n",
    "    y1 = boxes[:, 1]\n",
    "    x2 = boxes[:, 2]\n",
    "    y2 = boxes[:, 3]\n",
    "\n",
    "    # Compute area of bounding boxes\n",
    "    areas = (x2 - x1 + 1) * (y2 - y1 + 1)\n",
    "\n",
    "    # Sort by scores\n",
    "    order = scores.argsort()[::-1]\n",
    "    print(order)\n",
    "    keep = []\n",
    "    while order.size > 0:\n",
    "        i = order[0]\n",
    "        keep.append(i)\n",
    "\n",
    "        # Compute IoU (Intersection over Union)\n",
    "        xx1 = np.maximum(x1[i], x1[order[1:]])\n",
    "        yy1 = np.maximum(y1[i], y1[order[1:]])\n",
    "        xx2 = np.minimum(x2[i], x2[order[1:]])\n",
    "        yy2 = np.minimum(y2[i], y2[order[1:]])\n",
    "\n",
    "        w = np.maximum(0, xx2 - xx1 + 1)\n",
    "        h = np.maximum(0, yy2 - yy1 + 1)\n",
    "\n",
    "        intersection = w * h\n",
    "        iou = intersection / (areas[i] + areas[order[1:]] - intersection)\n",
    "\n",
    "        # Suppress bounding boxes with IoU over the threshold\n",
    "        # --> lấy những giá trị cần giữ lại truyền vào order\n",
    "        inds = np.where(iou >= threshold)[0]\n",
    "\n",
    "        print(\"inds trước khi plus: \", inds)\n",
    "        # cộng thêm 1 vì where trả về index xuất phát từ 0 , nhưng khi tính toán lại order[1:](chỉ mục bắt đầu = 1) , vậy nên cần + 1\n",
    "        inds = inds + 1\n",
    "        print(\"inds sau khi plus: \", inds)\n",
    "\n",
    "        #  delete xóa theo chỉ mục , vì xài order[1:] lúc tính toán , nên khi xóa phải dựa theo inds\n",
    "        order = np.delete(order, inds)\n",
    "\n",
    "        # ở trên append vào keep nhưng chưa được xóa phía trên , dưới này xóa\n",
    "        order = np.delete(order, 0)\n",
    "        \n",
    "    return keep\n",
    "\n",
    "\n",
    "# Example usage\n",
    "boxes = np.array([\n",
    "        [12, 84, 140, 212],\n",
    "        [24, 84, 152, 212],\n",
    "        [36, 84, 164, 212],\n",
    "        [12, 96, 140, 224],\n",
    "        [24, 96, 152, 224]\n",
    "])\n",
    "\n",
    "scores = np.array([0.8, 1, 0.7, 0.9, 0.5])\n",
    "threshold = 0.5\n",
    "\n",
    "keep_indices = non_max_suppression(boxes, scores, threshold)\n",
    "kept_boxes = boxes[keep_indices]\n",
    "\n",
    "print(\"Indices of boxes to keep:\", keep_indices)\n",
    "print(\"Boxes to keep:\")\n",
    "print(kept_boxes)"
   ]
  },
  {
   "cell_type": "code",
   "execution_count": 46,
   "metadata": {},
   "outputs": [
    {
     "name": "stdout",
     "output_type": "stream",
     "text": [
      "[1 2 3 4]\n"
     ]
    }
   ],
   "source": [
    "order = np.array([1, 3, 0, 2, 4])\n",
    "inds = np.array([0, 1, 2, 3])\n",
    "print(inds + 1)\n",
    "order = order[inds + 1]"
   ]
  },
  {
   "cell_type": "code",
   "execution_count": null,
   "metadata": {},
   "outputs": [],
   "source": [
    "a_data = np.array([6, 5, 7, 1, 9, 2])\n",
    "a_data = np.delete(a_data, 2) # xóa tại vị trí bằng 2"
   ]
  },
  {
   "cell_type": "code",
   "execution_count": 43,
   "metadata": {},
   "outputs": [
    {
     "name": "stdout",
     "output_type": "stream",
     "text": [
      "[6 1 9 2]\n"
     ]
    }
   ],
   "source": [
    "# xóa nhiều phần tử dựa vào start_index và end_index\n",
    "a_data = np.array([6, 5, 7, 1, 9, 2])\n",
    "\n",
    "# xóa phần tử thứ 1 và 2\n",
    "start_index = 1\n",
    "end_index = 3\n",
    "data_prev = a_data[:start_index]\n",
    "data_bef = a_data[end_index:]\n",
    "a_data = np.concatenate((data_prev, data_bef))\n",
    "print(a_data)"
   ]
  },
  {
   "cell_type": "code",
   "execution_count": 45,
   "metadata": {},
   "outputs": [
    {
     "name": "stdout",
     "output_type": "stream",
     "text": [
      "[6 1 9 2]\n"
     ]
    }
   ],
   "source": [
    "a_data = np.array([6, 5, 7, 1, 9, 2])\n",
    "\n",
    "a_data = np.delete(a_data , np.arange(1,3))\n",
    "print(a_data)"
   ]
  },
  {
   "cell_type": "code",
   "execution_count": 49,
   "metadata": {},
   "outputs": [
    {
     "name": "stdout",
     "output_type": "stream",
     "text": [
      "1\n"
     ]
    }
   ],
   "source": [
    "a_data = np.array([6, 5, 7, 1, 9, 2])\n",
    "\n",
    "# trả về số lần phần tử 7 xuất hiện trong list\n",
    "\n",
    "count = (a_data == 7).sum()\n",
    "print(count)"
   ]
  },
  {
   "cell_type": "code",
   "execution_count": 51,
   "metadata": {},
   "outputs": [
    {
     "name": "stdout",
     "output_type": "stream",
     "text": [
      "[6 5 7 1 9 2]\n"
     ]
    }
   ],
   "source": [
    "#copy một array\n",
    "a_data = np.array([6, 5, 7, 1, 9, 2])\n",
    "data = a_data.copy()\n",
    "print(data)"
   ]
  },
  {
   "cell_type": "code",
   "execution_count": 52,
   "metadata": {},
   "outputs": [
    {
     "name": "stdout",
     "output_type": "stream",
     "text": [
      "6\n",
      "1\n",
      "9\n",
      "(6,)\n"
     ]
    }
   ],
   "source": [
    "print(len(a_data))\n",
    "\n",
    "print(np.min(a_data))\n",
    "\n",
    "print(np.max(a_data))\n",
    "\n",
    "print(a_data.shape)"
   ]
  },
  {
   "cell_type": "code",
   "execution_count": 53,
   "metadata": {},
   "outputs": [
    {
     "name": "stdout",
     "output_type": "stream",
     "text": [
      "(0,) 6\n",
      "(1,) 1\n",
      "(2,) 7\n"
     ]
    }
   ],
   "source": [
    "arr1 = np.array([6, 1, 7])\n",
    "\n",
    "for index, value in np.ndenumerate(arr1):\n",
    "    print(index, value)"
   ]
  },
  {
   "cell_type": "code",
   "execution_count": 55,
   "metadata": {},
   "outputs": [
    {
     "name": "stdout",
     "output_type": "stream",
     "text": [
      "[2 4]\n"
     ]
    }
   ],
   "source": [
    "a = np.array([1, 2, 3, 4, 5])\n",
    "print(a[[1, 3]])"
   ]
  },
  {
   "cell_type": "code",
   "execution_count": 56,
   "metadata": {},
   "outputs": [
    {
     "name": "stdout",
     "output_type": "stream",
     "text": [
      "[9 8]\n"
     ]
    }
   ],
   "source": [
    "a = np.array([9,1,3,8,2])\n",
    "print(a[a > 3])"
   ]
  },
  {
   "cell_type": "code",
   "execution_count": 59,
   "metadata": {},
   "outputs": [
    {
     "name": "stdout",
     "output_type": "stream",
     "text": [
      "[[1 2 3]\n",
      " [4 5 6]]\n"
     ]
    }
   ],
   "source": [
    "arr = np.array([[1,2],[3,4],[5,6]])\n",
    "\n",
    "# -1 giúp tự động reshape cột, thay vì tự tìm số cột cho hợp lý\n",
    "print(arr.reshape(2,-1))\n"
   ]
  },
  {
   "cell_type": "code",
   "execution_count": 60,
   "metadata": {},
   "outputs": [
    {
     "name": "stdout",
     "output_type": "stream",
     "text": [
      "[1 2 3 4 5 6]\n"
     ]
    }
   ],
   "source": [
    "#Flattening: Convert a multi-dimensional array into 1D array\n",
    "\n",
    "arr = np.array([[1, 2], [3, 4], [5, 6]])\n",
    "print(arr.flatten())"
   ]
  },
  {
   "cell_type": "code",
   "execution_count": 62,
   "metadata": {},
   "outputs": [
    {
     "name": "stdout",
     "output_type": "stream",
     "text": [
      "[1 2 3 4]\n"
     ]
    }
   ],
   "source": [
    "a = np.array([1, 2])\n",
    "b = np.array([3, 4])\n",
    "\n",
    "print(np.concatenate((a, b)))"
   ]
  },
  {
   "cell_type": "code",
   "execution_count": 63,
   "metadata": {},
   "outputs": [
    {
     "name": "stdout",
     "output_type": "stream",
     "text": [
      "[[2 4]\n",
      " [4 6]\n",
      " [6 8]]\n"
     ]
    }
   ],
   "source": [
    "a = np.array([[1, 2],[3,4],[5,6]])\n",
    "b = np.array([1, 2])\n",
    "\n",
    "# Broadcasting in action: adding the 1D array 'b' to each row of the 2D array\n",
    "\n",
    "result = a + b\n",
    "print(result)"
   ]
  },
  {
   "cell_type": "code",
   "execution_count": 64,
   "metadata": {},
   "outputs": [
    {
     "name": "stdout",
     "output_type": "stream",
     "text": [
      "[ 5 12 21 32]\n"
     ]
    }
   ],
   "source": [
    "# NumPy vectorization involves performing mathematical operations on entire arrays, \n",
    "# eliminating the need to loop through individual\n",
    "# elements.\n",
    "a = np.array([1, 2, 3, 4])\n",
    "b = np.array([5, 6, 7, 8])\n",
    "\n",
    "result = a * b\n",
    "\n",
    "print(result)"
   ]
  },
  {
   "cell_type": "code",
   "execution_count": 87,
   "metadata": {},
   "outputs": [
    {
     "name": "stdout",
     "output_type": "stream",
     "text": [
      "1\n",
      "[[1 2 3 4]\n",
      " [5 6 7 8]]\n",
      "[[1 3 5 7]\n",
      " [2 4 6 8]]\n"
     ]
    }
   ],
   "source": [
    "a = np.array([1, 2, 3, 4, 5, 6, 7, 8])\n",
    "print(a.ndim)\n",
    "\n",
    "a1 = a.reshape((2, -1), order=\"C\")\n",
    "print(a1)\n",
    "\n",
    "a2 = a.reshape((2, -1), order=\"F\")\n",
    "print(a2)"
   ]
  }
 ],
 "metadata": {
  "kernelspec": {
   "display_name": "40daysPython_env",
   "language": "python",
   "name": "python3"
  },
  "language_info": {
   "codemirror_mode": {
    "name": "ipython",
    "version": 3
   },
   "file_extension": ".py",
   "mimetype": "text/x-python",
   "name": "python",
   "nbconvert_exporter": "python",
   "pygments_lexer": "ipython3",
   "version": "3.10.13"
  }
 },
 "nbformat": 4,
 "nbformat_minor": 2
}
