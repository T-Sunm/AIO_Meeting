{
  "cells": [
    {
      "cell_type": "code",
      "execution_count": 29,
      "metadata": {
        "id": "JOvaMDFrfsae"
      },
      "outputs": [],
      "source": [
        "import torch\n",
        "import torch.nn.functional as F"
      ]
    },
    {
      "cell_type": "code",
      "execution_count": 30,
      "metadata": {
        "colab": {
          "base_uri": "https://localhost:8080/"
        },
        "id": "0Jyf0aRDf2Vi",
        "outputId": "97f42b69-6646-4a37-9a20-69995e6a0c6e"
      },
      "outputs": [
        {
          "data": {
            "text/plain": [
              "<torch._C.Generator at 0x2807f7d6470>"
            ]
          },
          "execution_count": 30,
          "metadata": {},
          "output_type": "execute_result"
        }
      ],
      "source": [
        "torch.manual_seed(42)"
      ]
    },
    {
      "cell_type": "markdown",
      "metadata": {
        "id": "wL9mtDd3-9Tn"
      },
      "source": [
        "# Input"
      ]
    },
    {
      "cell_type": "code",
      "execution_count": 31,
      "metadata": {
        "id": "zmXL_qZqgmII"
      },
      "outputs": [],
      "source": [
        "# Content image (ma trận màu xanh dương):\n",
        "# [ [3, 2, 4],\n",
        "#   [1, 9, 5],\n",
        "#   [8, 6, 7] ]\n",
        "content_img = torch.tensor(\n",
        "    [[[[3.0, 2.0, 4.0],\n",
        "       [1.0, 9.0, 5.0],\n",
        "       [8.0, 6.0, 7.0]]]],\n",
        "    requires_grad=False\n",
        ")\n",
        "\n",
        "# Style image (ma trận màu xanh lá):\n",
        "# [ [1, 2, 4],\n",
        "#   [1, 3, 4],\n",
        "#   [4, 2, 1] ]\n",
        "style_img = torch.tensor(\n",
        "    [[[[1.0, 2.0, 4.0],\n",
        "       [1.0, 3.0, 4.0],\n",
        "       [4.0, 2.0, 1.0]]]],\n",
        "    requires_grad=False\n",
        ")\n",
        "\n",
        "# Output image khởi tạo toàn 0 (ma trận màu xám) với requires_grad=True để có thể tối ưu\n",
        "output_img = torch.zeros_like(content_img, requires_grad=True)"
      ]
    },
    {
      "cell_type": "code",
      "execution_count": 32,
      "metadata": {
        "colab": {
          "base_uri": "https://localhost:8080/"
        },
        "id": "r0ac-0n5--Nm",
        "outputId": "755b9a7f-707d-4db0-eeaa-ab5b38b6b011"
      },
      "outputs": [
        {
          "name": "stdout",
          "output_type": "stream",
          "text": [
            "=== INPUT IMAGES ===\n",
            "Content Image:\n",
            " tensor([[3., 2., 4.],\n",
            "        [1., 9., 5.],\n",
            "        [8., 6., 7.]])\n",
            "Style Image:\n",
            " tensor([[1., 2., 4.],\n",
            "        [1., 3., 4.],\n",
            "        [4., 2., 1.]])\n",
            "Output Image (init):\n",
            " tensor([[0., 0., 0.],\n",
            "        [0., 0., 0.],\n",
            "        [0., 0., 0.]])\n"
          ]
        }
      ],
      "source": [
        "print(\"=== INPUT IMAGES ===\")\n",
        "print(\"Content Image:\\n\", content_img[0,0])\n",
        "print(\"Style Image:\\n\", style_img[0,0])\n",
        "print(\"Output Image (init):\\n\", output_img.detach()[0,0])"
      ]
    },
    {
      "cell_type": "markdown",
      "metadata": {
        "id": "DXrXOzETT1nt"
      },
      "source": [
        "# Model"
      ]
    },
    {
      "cell_type": "code",
      "execution_count": 33,
      "metadata": {
        "id": "ZV5JPl2E-lRd"
      },
      "outputs": [],
      "source": [
        "# 1 input channel, 1 output channel, kernel size = 2x2\n",
        "conv_weight = torch.tensor([[[[1.0, -1.0],\n",
        "                              [1.0, 0.0]]]], requires_grad=False)  # shape [1, 1, 2, 2]"
      ]
    },
    {
      "cell_type": "code",
      "execution_count": 34,
      "metadata": {
        "id": "GjUsOi2pgpgX"
      },
      "outputs": [],
      "source": [
        "def simple_cnn(x, weight):\n",
        "    return F.conv2d(x, weight, stride=1, padding=0)"
      ]
    },
    {
      "cell_type": "code",
      "execution_count": 35,
      "metadata": {
        "id": "C2M_RZgWT_6R"
      },
      "outputs": [],
      "source": [
        "# Extract feature maps\n",
        "F_content = simple_cnn(content_img, conv_weight)\n",
        "F_style = simple_cnn(style_img, conv_weight)\n",
        "F_output = simple_cnn(output_img, conv_weight)"
      ]
    },
    {
      "cell_type": "code",
      "execution_count": 36,
      "metadata": {
        "colab": {
          "base_uri": "https://localhost:8080/"
        },
        "id": "cmSHw_km_DFf",
        "outputId": "e31e6cfa-b350-40c4-8c78-90c5114d020f"
      },
      "outputs": [
        {
          "name": "stdout",
          "output_type": "stream",
          "text": [
            "\n",
            "=== FEATURE MAPS ===\n",
            "F_content:\n",
            " tensor([[ 2.,  7.],\n",
            "        [ 0., 10.]])\n",
            "F_style:\n",
            " tensor([[0., 1.],\n",
            "        [2., 1.]])\n",
            "F_output:\n",
            " tensor([[0., 0.],\n",
            "        [0., 0.]], grad_fn=<SelectBackward0>)\n"
          ]
        }
      ],
      "source": [
        "print(\"\\n=== FEATURE MAPS ===\")\n",
        "print(\"F_content:\\n\", F_content[0,0])\n",
        "print(\"F_style:\\n\", F_style[0,0])\n",
        "print(\"F_output:\\n\", F_output[0,0])"
      ]
    },
    {
      "cell_type": "markdown",
      "metadata": {
        "id": "1dbYGybm_HSm"
      },
      "source": [
        "# Loss and Gram matrix"
      ]
    },
    {
      "cell_type": "code",
      "execution_count": 37,
      "metadata": {
        "id": "EWnZRvih-rJt"
      },
      "outputs": [],
      "source": [
        "def gram_matrix(x):\n",
        "    b, c, h, w = x.shape\n",
        "    features = x.view(c, h * w)\n",
        "    return torch.mm(features, features.t())  # shape: [c, c]"
      ]
    },
    {
      "cell_type": "code",
      "execution_count": 38,
      "metadata": {
        "id": "_y_nvWjM-s31"
      },
      "outputs": [],
      "source": [
        "def content_loss(F_target, F_content):\n",
        "    return F.mse_loss(F_target, F_content)\n",
        "\n",
        "def style_loss(F_target, F_style):\n",
        "    G_target = gram_matrix(F_target)\n",
        "    G_style = gram_matrix(F_style)\n",
        "    return F.mse_loss(G_target, G_style)"
      ]
    },
    {
      "cell_type": "code",
      "execution_count": 39,
      "metadata": {
        "id": "_BrmQODkT_8x"
      },
      "outputs": [],
      "source": [
        "# Tính loss\n",
        "c_loss = content_loss(F_output, F_content)\n",
        "s_loss = style_loss(F_output, F_style)\n",
        "total_loss = c_loss + s_loss"
      ]
    },
    {
      "cell_type": "code",
      "execution_count": 40,
      "metadata": {
        "colab": {
          "base_uri": "https://localhost:8080/"
        },
        "id": "cVwI-Cb0_M59",
        "outputId": "f05f0ced-fba1-4140-ce28-acd106d8d13d"
      },
      "outputs": [
        {
          "name": "stdout",
          "output_type": "stream",
          "text": [
            "\n",
            "=== LOSSES ===\n",
            "Content Loss: 38.2500\n",
            "Style Loss: 36.0000\n",
            "Total Loss: 74.2500\n"
          ]
        }
      ],
      "source": [
        "print(\"\\n=== LOSSES ===\")\n",
        "print(f\"Content Loss: {c_loss.item():.4f}\")\n",
        "print(f\"Style Loss: {s_loss.item():.4f}\")\n",
        "print(f\"Total Loss: {total_loss.item():.4f}\")"
      ]
    },
    {
      "cell_type": "code",
      "execution_count": 41,
      "metadata": {
        "id": "XuOsh9ho-1dn"
      },
      "outputs": [],
      "source": [
        "# Backward\n",
        "total_loss.backward()\n",
        "\n",
        "# Learning rate\n",
        "lr = 0.01\n",
        "with torch.no_grad():\n",
        "    output_img -= lr * output_img.grad\n",
        "    output_img.grad.zero_()"
      ]
    },
    {
      "cell_type": "code",
      "execution_count": 42,
      "metadata": {
        "colab": {
          "base_uri": "https://localhost:8080/"
        },
        "id": "jz9Wh2SH-5pt",
        "outputId": "621bf37d-3e21-43d2-ea88-110022e0a75f"
      },
      "outputs": [
        {
          "name": "stdout",
          "output_type": "stream",
          "text": [
            "\n",
            "=== GRADIENTS ===\n",
            "Grad of output_img:\n",
            " tensor([[0., 0., 0.],\n",
            "        [0., 0., 0.],\n",
            "        [0., 0., 0.]])\n",
            "\n",
            "=== OUTPUT IMAGE AFTER 1 UPDATE ===\n",
            "tensor([[ 0.0100,  0.0250, -0.0350],\n",
            "        [ 0.0100,  0.0850, -0.0500],\n",
            "        [ 0.0000,  0.0500,  0.0000]])\n"
          ]
        }
      ],
      "source": [
        "print(\"\\n=== GRADIENTS ===\")\n",
        "print(\"Grad of output_img:\\n\", output_img.grad[0,0])\n",
        "\n",
        "print(\"\\n=== OUTPUT IMAGE AFTER 1 UPDATE ===\")\n",
        "print(output_img.detach()[0,0])"
      ]
    },
    {
      "cell_type": "code",
      "execution_count": null,
      "metadata": {
        "id": "8oZccKOP_Tam"
      },
      "outputs": [],
      "source": []
    }
  ],
  "metadata": {
    "colab": {
      "provenance": []
    },
    "kernelspec": {
      "display_name": "AIOEx",
      "language": "python",
      "name": "python3"
    },
    "language_info": {
      "codemirror_mode": {
        "name": "ipython",
        "version": 3
      },
      "file_extension": ".py",
      "mimetype": "text/x-python",
      "name": "python",
      "nbconvert_exporter": "python",
      "pygments_lexer": "ipython3",
      "version": "3.10.15"
    }
  },
  "nbformat": 4,
  "nbformat_minor": 0
}
