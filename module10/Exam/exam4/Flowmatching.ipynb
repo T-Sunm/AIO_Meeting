{
  "cells": [
    {
      "cell_type": "markdown",
      "metadata": {
        "id": "KiM91SbPcRDG"
      },
      "source": [
        "## Câu hỏi tính toán 1\n"
      ]
    },
    {
      "cell_type": "code",
      "execution_count": 1,
      "metadata": {
        "id": "7iJIIOd4Z8q7"
      },
      "outputs": [],
      "source": [
        "import torch\n",
        "import torch.nn as nn\n",
        "\n",
        "class Flow(nn.Module):\n",
        "    def __init__(self) -> None:\n",
        "        super().__init__()\n",
        "\n",
        "        self.linear = nn.Linear(2, 1)\n",
        "\n",
        "        with torch.no_grad():\n",
        "            self.linear.weight.copy_(torch.tensor([[0.3, 0.8]]))\n",
        "            self.linear.bias.copy_(torch.tensor([0]))\n",
        "\n",
        "            self.linear.weight.requires_grad = False\n",
        "            self.linear.bias.requires_grad = False\n",
        "\n",
        "    def forward(self,  t: torch.Tensor, x: torch.Tensor) -> torch.Tensor:\n",
        "        t = t.unsqueeze(0).float()\n",
        "        x = torch.cat([x, t], dim=0)\n",
        "        x = self.linear(x)\n",
        "        x = nn.Tanh()(x)\n",
        "        return x"
      ]
    },
    {
      "cell_type": "code",
      "execution_count": 2,
      "metadata": {
        "colab": {
          "base_uri": "https://localhost:8080/"
        },
        "id": "AandfLUVcUpt",
        "outputId": "0b7d2237-3cfc-43c2-e99f-5ea30f17912f"
      },
      "outputs": [
        {
          "name": "stdout",
          "output_type": "stream",
          "text": [
            "x_t: 0.2800000309944153\n",
            "\n",
            "pred: 0.5109392404556274\n",
            "\n",
            "target: 0.800000011920929\n",
            "\n",
            "\n",
            "\n",
            "***Đáp án***\n",
            "loss:   0.08355613052845001\n"
          ]
        }
      ],
      "source": [
        "# Khởi tạo model - loss\n",
        "model = Flow()\n",
        "loss_fn = nn.MSELoss()\n",
        "\n",
        "# Giá trị cho trước\n",
        "x_1 = torch.tensor([0.6])\n",
        "x_0 = torch.tensor([-0.2])\n",
        "t = torch.tensor(0.6)\n",
        "###\n",
        "\n",
        "# Tính toán\n",
        "x_t = (1 - t) * x_0 + t*x_1\n",
        "print(\"x_t:\", x_t.item())\n",
        "\n",
        "pred = model(t, x_t)\n",
        "print(\"\\npred:\", pred.item())\n",
        "\n",
        "target = x_1 - x_0\n",
        "print(\"\\ntarget:\", target.item())\n",
        "\n",
        "# Tính toán loss\n",
        "loss = loss_fn(pred, target)\n",
        "print(\"\\n\\n\\n***Đáp án***\\nloss:  \", loss.item())"
      ]
    },
    {
      "cell_type": "markdown",
      "metadata": {
        "id": "97Gt2FghcYDM"
      },
      "source": [
        "## Câu hỏi tính toán 2\n"
      ]
    },
    {
      "cell_type": "code",
      "execution_count": 3,
      "metadata": {
        "id": "QW3gtUXlcY2c"
      },
      "outputs": [],
      "source": [
        "class Flow2(nn.Module):\n",
        "    def __init__(self) -> None:\n",
        "        super().__init__()\n",
        "\n",
        "        self.linear = nn.Linear(2, 1)\n",
        "\n",
        "        with torch.no_grad():\n",
        "            self.linear.weight.copy_(torch.tensor([[0.9, 0.7]]))\n",
        "            self.linear.bias.copy_(torch.tensor([0]))\n",
        "\n",
        "            self.linear.weight.requires_grad = False\n",
        "            self.linear.bias.requires_grad = False\n",
        "\n",
        "    def forward(self,  t: torch.Tensor, x: torch.Tensor) -> torch.Tensor:\n",
        "        t = t.unsqueeze(0).float()\n",
        "        x = torch.cat([x, t], dim=0)\n",
        "        x = self.linear(x)\n",
        "        x = nn.Tanh()(x)\n",
        "        return x"
      ]
    },
    {
      "cell_type": "code",
      "execution_count": 4,
      "metadata": {
        "colab": {
          "base_uri": "https://localhost:8080/"
        },
        "id": "wHdUWkc4caY-",
        "outputId": "8962cf3d-ca12-4417-d4aa-195815ad17e6"
      },
      "outputs": [
        {
          "name": "stdout",
          "output_type": "stream",
          "text": [
            "t1: tensor(0.1000)\n",
            "x2: 0.7604367733001709\n",
            "t2: tensor(0.2000)\n",
            "\n",
            "\n",
            "\n",
            "***Đáp án***\n",
            "x3:   0.8281821608543396\n"
          ]
        }
      ],
      "source": [
        "# Khởi tạo model\n",
        "model = Flow2()\n",
        "\n",
        "# Các giá trị cho trước\n",
        "x1 = torch.tensor([0.7])\n",
        "steps = 10\n",
        "###\n",
        "\n",
        "delta = 1/steps\n",
        "t1 = torch.tensor(0) + delta\n",
        "print(\"t1:\", t1)\n",
        "\n",
        "# Tính toán x2\n",
        "x2 = x1 + delta * model(t1, x1)\n",
        "print(\"x2:\", x2.item())\n",
        "t2 = t1 + delta\n",
        "print(\"t2:\", t2)\n",
        "\n",
        "# Tính toán x3\n",
        "x3 = x2 + delta * model(t2, x2)\n",
        "print(\"\\n\\n\\n***Đáp án***\\nx3:  \", x3.item())\n"
      ]
    }
  ],
  "metadata": {
    "colab": {
      "provenance": []
    },
    "kernelspec": {
      "display_name": "AIOEx",
      "language": "python",
      "name": "python3"
    },
    "language_info": {
      "codemirror_mode": {
        "name": "ipython",
        "version": 3
      },
      "file_extension": ".py",
      "mimetype": "text/x-python",
      "name": "python",
      "nbconvert_exporter": "python",
      "pygments_lexer": "ipython3",
      "version": "3.10.15"
    }
  },
  "nbformat": 4,
  "nbformat_minor": 0
}
