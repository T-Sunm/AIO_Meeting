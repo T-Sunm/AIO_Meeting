{
  "cells": [
    {
      "cell_type": "markdown",
      "id": "HItsinp0SFqA",
      "metadata": {
        "id": "HItsinp0SFqA"
      },
      "source": [
        "## Load Data"
      ]
    },
    {
      "cell_type": "code",
      "execution_count": 1,
      "id": "bb96f0ec-3525-4e79-9ad1-8e95c15a9cf2",
      "metadata": {
        "id": "bb96f0ec-3525-4e79-9ad1-8e95c15a9cf2"
      },
      "outputs": [],
      "source": [
        "import torch\n",
        "from torch import nn\n",
        "import torch.optim as optim\n",
        "from torch.utils.data import Dataset, DataLoader\n",
        "import torchvision\n",
        "from torchvision.datasets import MNIST\n",
        "import torchvision.transforms as transforms\n",
        "import numpy as np\n",
        "import random\n",
        "\n",
        "np.random.seed(0)\n",
        "random.seed(0)\n",
        "torch.manual_seed(0)\n",
        "device = torch.device('cuda:0' if torch.cuda.is_available() else 'cpu')"
      ]
    },
    {
      "cell_type": "code",
      "execution_count": 2,
      "id": "c73f1e96-b8ea-4b8f-b4f3-9b3f27b42acd",
      "metadata": {
        "id": "c73f1e96-b8ea-4b8f-b4f3-9b3f27b42acd"
      },
      "outputs": [],
      "source": [
        "batch_size = 512\n",
        "num_epochs = 10\n",
        "\n",
        "train_dataset = MNIST('./data', train=True, download=True, transform=transforms.ToTensor())\n",
        "train_loader = DataLoader(train_dataset, batch_size, shuffle=True)"
      ]
    },
    {
      "cell_type": "code",
      "execution_count": 3,
      "id": "589bb0df",
      "metadata": {
        "id": "589bb0df"
      },
      "outputs": [],
      "source": [
        "class MLP(nn.Module):\n",
        "    def __init__(self, input_dims, hidden_dims, output_dims):\n",
        "        super(MLP, self).__init__()\n",
        "        self.layer1 = nn.Linear(input_dims, hidden_dims)\n",
        "        self.bn1    = nn.BatchNorm1d(hidden_dims)\n",
        "        self.layer2 = nn.Linear(hidden_dims, hidden_dims)\n",
        "        self.bn2    = nn.BatchNorm1d(hidden_dims)\n",
        "        self.layer3 = nn.Linear(hidden_dims, hidden_dims)\n",
        "        self.bn3    = nn.BatchNorm1d(hidden_dims)\n",
        "        self.output = nn.Linear(hidden_dims, output_dims)\n",
        "        self.act    = nn.LeakyReLU()\n",
        "\n",
        "        for m in self.modules():\n",
        "            if isinstance(m, nn.Linear):\n",
        "                nn.init.kaiming_normal_(m.weight, mode='fan_in', nonlinearity='leaky_relu')\n",
        "                nn.init.constant_(m.bias, 0.0)\n",
        "\n",
        "    def forward(self, x):\n",
        "        x = nn.Flatten()(x)\n",
        "\n",
        "        # first hidden layer\n",
        "        x1 = self.layer1(x)\n",
        "        x1 = self.bn1(x1)\n",
        "        x1 = self.act(x1)\n",
        "\n",
        "        # second hidden layer\n",
        "        x2 = self.layer2(x1)\n",
        "        x2 = self.bn2(x2)\n",
        "        x2 = self.act(x2)\n",
        "\n",
        "        # skip connection: add x1 into input of third layer\n",
        "        x3_in = x2 + x1\n",
        "\n",
        "        # third hidden layer\n",
        "        x3 = self.layer3(x3_in)\n",
        "        x3 = self.bn3(x3)\n",
        "        x3 = self.act(x3)\n",
        "\n",
        "        out = self.output(x3)\n",
        "        return out"
      ]
    },
    {
      "cell_type": "code",
      "execution_count": 4,
      "id": "0db5beca-ee90-4d2e-bb2f-62b20da68cf3",
      "metadata": {
        "id": "0db5beca-ee90-4d2e-bb2f-62b20da68cf3"
      },
      "outputs": [],
      "source": [
        "model = MLP(input_dims=784, hidden_dims=256, output_dims=10).to(device)\n",
        "criterion = nn.CrossEntropyLoss()\n",
        "optimizer = optim.RAdam(model.parameters())"
      ]
    },
    {
      "cell_type": "code",
      "execution_count": 5,
      "id": "21211483-aeed-4beb-aeea-d1e58ae7baf9",
      "metadata": {
        "id": "21211483-aeed-4beb-aeea-d1e58ae7baf9",
        "outputId": "1402e4aa-a04d-4431-d5c0-0a724c9ab347",
        "colab": {
          "base_uri": "https://localhost:8080/"
        }
      },
      "outputs": [
        {
          "output_type": "stream",
          "name": "stdout",
          "text": [
            "Epoch 1/10, Train_Loss: 1.1063, Train_Acc: 0.6645\n",
            "Epoch 2/10, Train_Loss: 0.2630, Train_Acc: 0.9304\n",
            "Epoch 3/10, Train_Loss: 0.1585, Train_Acc: 0.9573\n",
            "Epoch 4/10, Train_Loss: 0.1098, Train_Acc: 0.9702\n",
            "Epoch 5/10, Train_Loss: 0.0789, Train_Acc: 0.9789\n",
            "Epoch 6/10, Train_Loss: 0.0561, Train_Acc: 0.9859\n",
            "Epoch 7/10, Train_Loss: 0.0404, Train_Acc: 0.9908\n",
            "Epoch 8/10, Train_Loss: 0.0283, Train_Acc: 0.9942\n",
            "Epoch 9/10, Train_Loss: 0.0200, Train_Acc: 0.9965\n",
            "Epoch 10/10, Train_Loss: 0.0137, Train_Acc: 0.9981\n"
          ]
        }
      ],
      "source": [
        "for epoch in range(num_epochs):\n",
        "    t_loss = 0\n",
        "    t_acc = 0\n",
        "    cnt = 0\n",
        "    for X, y in train_loader:\n",
        "        X, y = X.to(device), y.to(device)\n",
        "        optimizer.zero_grad()\n",
        "        outputs = model(X)\n",
        "        loss = criterion(outputs, y)\n",
        "        loss.backward()\n",
        "        optimizer.step()\n",
        "\n",
        "        t_loss += loss.item()\n",
        "        t_acc += (torch.argmax(outputs, 1) == y).sum().item()\n",
        "        cnt += len(y)\n",
        "\n",
        "    t_loss /= len(train_loader)\n",
        "    t_acc /= cnt\n",
        "    print(f\"Epoch {epoch+1}/{num_epochs}, Train_Loss: {t_loss:.4f}, Train_Acc: {t_acc:.4f}\")"
      ]
    }
  ],
  "metadata": {
    "accelerator": "GPU",
    "colab": {
      "provenance": []
    },
    "kernelspec": {
      "display_name": "Python 3 (ipykernel)",
      "language": "python",
      "name": "python3"
    },
    "language_info": {
      "codemirror_mode": {
        "name": "ipython",
        "version": 3
      },
      "file_extension": ".py",
      "mimetype": "text/x-python",
      "name": "python",
      "nbconvert_exporter": "python",
      "pygments_lexer": "ipython3",
      "version": "3.12.4"
    },
    "toc": {
      "base_numbering": 1,
      "nav_menu": {},
      "number_sections": true,
      "sideBar": true,
      "skip_h1_title": false,
      "title_cell": "Table of Contents",
      "title_sidebar": "Contents",
      "toc_cell": false,
      "toc_position": {},
      "toc_section_display": true,
      "toc_window_display": true
    }
  },
  "nbformat": 4,
  "nbformat_minor": 5
}