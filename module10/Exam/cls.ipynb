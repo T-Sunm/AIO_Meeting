{
 "cells": [
  {
   "cell_type": "code",
   "execution_count": 1,
   "id": "4bec8e7d",
   "metadata": {},
   "outputs": [],
   "source": [
    "# 1. Import thư viện cần thiết\n",
    "import numpy as np\n",
    "import pandas as pd\n",
    "from sklearn.feature_extraction.text import CountVectorizer\n",
    "from sklearn.model_selection import train_test_split\n",
    "from sklearn.neighbors import KNeighborsClassifier\n",
    "from sklearn.metrics import accuracy_score, classification_report"
   ]
  },
  {
   "cell_type": "code",
   "execution_count": 2,
   "id": "c3c24972",
   "metadata": {},
   "outputs": [
    {
     "name": "stdout",
     "output_type": "stream",
     "text": [
      "=== Ma trận đặc trưng (features) ===\n",
      "   adaptive  ai  and  be  biased  can  flawed  hard  is  learning  powerful  \\\n",
      "0         0   1    1   0       0    0       0     0   1         0         1   \n",
      "1         1   0    1   0       0    0       0     0   0         0         0   \n",
      "2         0   0    1   0       0    0       0     0   0         0         0   \n",
      "3         0   1    0   0       0    0       0     1   1         1         0   \n",
      "4         0   1    0   1       1    1       0     0   0         0         0   \n",
      "5         0   0    1   0       1    0       1     0   0         0         0   \n",
      "\n",
      "   smart  system  useful  very  label  \n",
      "0      0       0       1     0      1  \n",
      "1      1       1       0     0      1  \n",
      "2      1       0       1     1      1  \n",
      "3      0       0       0     1      0  \n",
      "4      0       0       0     0      0  \n",
      "5      0       0       0     0      0   \n",
      "\n"
     ]
    }
   ],
   "source": [
    "\n",
    "corpus = [\n",
    "    \"ai is powerful and useful\",\n",
    "    \"smart and adaptive system\",\n",
    "    \"very smart and useful\",\n",
    "    \"learning AI is very hard\",\n",
    "    \"ai can be biased\",\n",
    "    \"biased and flawed\"\n",
    "]\n",
    "y = np.array([1, 1, 1, 0, 0, 0])\n",
    "\n",
    "# 3. Vectorization: chuyển văn bản thành ma trận đếm từ\n",
    "vectorizer = CountVectorizer()\n",
    "X = vectorizer.fit_transform(corpus)\n",
    "\n",
    "# 4. Tạo DataFrame để quan sát ma trận đặc trưng và vocab\n",
    "df_features = pd.DataFrame(\n",
    "    X.toarray(),\n",
    "    columns=vectorizer.get_feature_names_out()\n",
    ")\n",
    "df_features['label'] = y\n",
    "print(\"=== Ma trận đặc trưng (features) ===\")\n",
    "print(df_features, \"\\n\")"
   ]
  },
  {
   "cell_type": "code",
   "execution_count": 3,
   "id": "64c34a5d",
   "metadata": {},
   "outputs": [
    {
     "name": "stdout",
     "output_type": "stream",
     "text": [
      "Vector của 'ai is a smart system' là: [0 1 0 0 0 0 0 0 1 0 0 1 1 0 0]\n",
      "Vector của 'learning AI is very hard' là: [0 1 0 0 0 0 0 1 1 1 0 0 0 0 1]\n",
      "Khoảng cách Euclid giữa hai câu: 2.2361\n"
     ]
    }
   ],
   "source": [
    "sent1 = \"ai is a smart system\"\n",
    "sent2 = \"learning AI is very hard\"\n",
    "\n",
    "# 2. Chuyển thành ma trận đếm từ\n",
    "X_new = vectorizer.transform([sent1, sent2]).toarray()\n",
    "v1, v2 = X_new[0], X_new[1]\n",
    "\n",
    "# 3. Tính khoảng cách Euclid\n",
    "dist = np.linalg.norm(v1 - v2)\n",
    "print(f\"Vector của '{sent1}' là: {v1}\")\n",
    "print(f\"Vector của '{sent2}' là: {v2}\")\n",
    "print(f\"Khoảng cách Euclid giữa hai câu: {dist:.4f}\")"
   ]
  },
  {
   "cell_type": "code",
   "execution_count": 4,
   "id": "965f6b71",
   "metadata": {},
   "outputs": [
    {
     "name": "stdout",
     "output_type": "stream",
     "text": [
      "Top 3 câu gần nhất với câu mục tiêu:\n",
      "1. \"smart and adaptive system\" (distance = 2.0000)\n",
      "2. \"ai is powerful and useful\" (distance = 2.2361)\n",
      "3. \"learning AI is very hard\" (distance = 2.2361)\n"
     ]
    }
   ],
   "source": [
    "X_array = X.toarray()\n",
    "\n",
    "# 3. Định nghĩa câu mục tiêu và vector hóa\n",
    "target_sent = \"ai is a smart system\"\n",
    "v_target = vectorizer.transform([target_sent]).toarray()[0]\n",
    "\n",
    "# 4. Tính khoảng cách Euclid giữa v_target và từng vector trong X_array\n",
    "dists = np.linalg.norm(X_array - v_target, axis=1)\n",
    "\n",
    "# 5. Lấy top 3 chỉ số có khoảng cách nhỏ nhất\n",
    "top3_idx = np.argsort(dists)[:3]\n",
    "\n",
    "# 6. In kết quả\n",
    "print(\"Top 3 câu gần nhất với câu mục tiêu:\")\n",
    "for rank, idx in enumerate(top3_idx, start=1):\n",
    "    print(f\"{rank}. \\\"{corpus[idx]}\\\" (distance = {dists[idx]:.4f})\")"
   ]
  }
 ],
 "metadata": {
  "kernelspec": {
   "display_name": "AIOEx",
   "language": "python",
   "name": "python3"
  },
  "language_info": {
   "codemirror_mode": {
    "name": "ipython",
    "version": 3
   },
   "file_extension": ".py",
   "mimetype": "text/x-python",
   "name": "python",
   "nbconvert_exporter": "python",
   "pygments_lexer": "ipython3",
   "version": "3.10.15"
  }
 },
 "nbformat": 4,
 "nbformat_minor": 5
}
