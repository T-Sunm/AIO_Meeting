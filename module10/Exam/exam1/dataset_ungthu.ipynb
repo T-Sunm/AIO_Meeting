{
  "nbformat": 4,
  "nbformat_minor": 0,
  "metadata": {
    "colab": {
      "provenance": []
    },
    "kernelspec": {
      "name": "python3",
      "display_name": "Python 3"
    },
    "language_info": {
      "name": "python"
    }
  },
  "cells": [
    {
      "cell_type": "code",
      "execution_count": 1,
      "metadata": {
        "colab": {
          "base_uri": "https://localhost:8080/"
        },
        "id": "NENXZu1bSdTO",
        "outputId": "c0b093d3-5ed8-4a2a-c848-64965a571ee9"
      },
      "outputs": [
        {
          "output_type": "stream",
          "name": "stdout",
          "text": [
            "Downloading...\n",
            "From: https://drive.google.com/uc?id=1dLF8lffQLgBO5Thu__Lk5Pbw57fTkncc\n",
            "To: /content/final_dataset.csv\n",
            "\r  0% 0.00/220 [00:00<?, ?B/s]\r100% 220/220 [00:00<00:00, 295kB/s]\n"
          ]
        }
      ],
      "source": [
        "!gdown 1dLF8lffQLgBO5Thu__Lk5Pbw57fTkncc"
      ]
    },
    {
      "cell_type": "code",
      "source": [
        "import pandas as pd\n",
        "import numpy as np"
      ],
      "metadata": {
        "id": "f1jxLK1BSsQs"
      },
      "execution_count": 6,
      "outputs": []
    },
    {
      "cell_type": "code",
      "source": [
        "df = pd.read_csv('/content/final_dataset.csv')\n",
        "X_train = df[[\"perimeter_mean\", \"area_mean\", \"compactness_mean\"]].values.tolist()\n",
        "labels = df['diagnosis'].values.tolist()"
      ],
      "metadata": {
        "id": "xevswccqSkMF"
      },
      "execution_count": 4,
      "outputs": []
    },
    {
      "cell_type": "code",
      "source": [
        "y_train = [0 if label == 'B' else 1 for label in df['diagnosis'].values]\n",
        "\n",
        "# 4. Kiểm tra kiểu dữ liệu và nội dung của y_train\n",
        "print(type(y_train))\n",
        "print(y_train)"
      ],
      "metadata": {
        "colab": {
          "base_uri": "https://localhost:8080/"
        },
        "id": "a0tW2jSZTGeM",
        "outputId": "37766665-b5fc-49cf-ad35-2efb879ea1d6"
      },
      "execution_count": 5,
      "outputs": [
        {
          "output_type": "stream",
          "name": "stdout",
          "text": [
            "<class 'list'>\n",
            "[0, 0, 0, 0, 0, 1, 1, 1, 1, 1]\n"
          ]
        }
      ]
    },
    {
      "cell_type": "code",
      "source": [
        "# 3. Input x\n",
        "x = np.array([0.25, 0.25, 0.25])\n",
        "\n",
        "# 4. Hàm tính khoảng cách Manhattan\n",
        "def manhattan_distance(u, v):\n",
        "    return np.sum(np.abs(u - v))\n",
        "\n",
        "# 5. Tính khoảng cách từ x đến 3 điểm dữ liệu đầu\n",
        "distances = [manhattan_distance(x, X_train[i]) for i in range(3)]\n",
        "\n",
        "# 6. In kết quả\n",
        "for i, d in enumerate(distances, start=1):\n",
        "    print(f\"Distance x → sample {i} = {d:.4f}\")"
      ],
      "metadata": {
        "colab": {
          "base_uri": "https://localhost:8080/"
        },
        "id": "SXyLxcrNTZFb",
        "outputId": "9657ea85-973e-45cd-9816-16750374720e"
      },
      "execution_count": 7,
      "outputs": [
        {
          "output_type": "stream",
          "name": "stdout",
          "text": [
            "Distance x → sample 1 = 0.2400\n",
            "Distance x → sample 2 = 0.4100\n",
            "Distance x → sample 3 = 0.1800\n"
          ]
        }
      ]
    },
    {
      "cell_type": "code",
      "source": [
        "dists = np.array([manhattan_distance(x, xi) for xi in X_train])\n",
        "# 5. Sắp xếp chỉ số theo khoảng cách tăng dần\n",
        "sorted_idx = np.argsort(dists)\n",
        "\n",
        "# 6. Lấy K = 7 láng giềng gần nhất\n",
        "K = 7\n",
        "topK_idx = sorted_idx[:K]\n",
        "topK_labels = [y_train[i] for i in topK_idx]\n",
        "\n",
        "# 8. Đếm số Class 0 và Class 1\n",
        "count_class_0 = topK_labels.count(0)\n",
        "count_class_1 = topK_labels.count(1)\n",
        "\n",
        "# 9. In kết quả\n",
        "print(f\"\\nTrong {K} mẫu gần nhất:\")\n",
        "print(f\"→ Class 0: {count_class_0}\")\n",
        "print(f\"→ Class 1: {count_class_1}\")"
      ],
      "metadata": {
        "colab": {
          "base_uri": "https://localhost:8080/"
        },
        "id": "b5x3FlZIT_Ej",
        "outputId": "d587062e-283b-4a41-e304-8861966c8f8b"
      },
      "execution_count": 13,
      "outputs": [
        {
          "output_type": "stream",
          "name": "stdout",
          "text": [
            "\n",
            "Trong 7 mẫu gần nhất:\n",
            "→ Class 0: 5\n",
            "→ Class 1: 2\n"
          ]
        }
      ]
    },
    {
      "cell_type": "code",
      "source": [
        "C1 = np.array([0.34, 0.21, 0.20])\n",
        "\n",
        "# 3. Tính khoảng cách Euclidean từ mỗi điểm tới C1\n",
        "distances = np.linalg.norm(X_train - C1, axis=1)\n",
        "\n",
        "# 4. Tính tổng khoảng cách và in kết quả\n",
        "total_distance = distances.sum()\n",
        "print(f\"Tổng khoảng cách tới C1 = {total_distance:.2f}\")"
      ],
      "metadata": {
        "colab": {
          "base_uri": "https://localhost:8080/"
        },
        "id": "OqqJlVKDaUQ8",
        "outputId": "38aee36c-7c14-45b3-e812-3e70bb8c876e"
      },
      "execution_count": 14,
      "outputs": [
        {
          "output_type": "stream",
          "name": "stdout",
          "text": [
            "Tổng khoảng cách tới C1 = 2.79\n"
          ]
        }
      ]
    },
    {
      "cell_type": "code",
      "source": [
        "C2 = np.array([0.63, 0.49, 0.39])\n",
        "\n",
        "# 3. Tính khoảng cách Euclidean từ mỗi điểm tới C2\n",
        "distances = np.linalg.norm(X_train - C2, axis=1)\n",
        "\n",
        "# 4. Tính tổng khoảng cách và in kết quả làm tròn 2 chữ số\n",
        "total_distance_C2 = distances.sum()\n",
        "print(f\"Tổng khoảng cách tới C2 = {total_distance_C2:.2f}\")"
      ],
      "metadata": {
        "colab": {
          "base_uri": "https://localhost:8080/"
        },
        "id": "Wq4zTf_eakBP",
        "outputId": "c5534137-092a-44bd-cc59-666cf3d80e2a"
      },
      "execution_count": 15,
      "outputs": [
        {
          "output_type": "stream",
          "name": "stdout",
          "text": [
            "Tổng khoảng cách tới C2 = 3.74\n"
          ]
        }
      ]
    },
    {
      "cell_type": "code",
      "source": [
        "X_train = df[[\"perimeter_mean\", \"area_mean\", \"compactness_mean\"]].values\n",
        "labels = df['diagnosis'].values\n",
        "\n",
        "C1 = X_train[2]   # [0.34, 0.21, 0.20]\n",
        "C2 = X_train[8]   # [0.63, 0.49, 0.39]\n",
        "\n",
        "# 3. Tính khoảng cách Euclidean tới mỗi tâm\n",
        "dist_to_C1 = np.linalg.norm(X_train - C1, axis=1)\n",
        "dist_to_C2 = np.linalg.norm(X_train - C2, axis=1)\n",
        "\n",
        "# 4. Phân cụm: 0 nếu gần C1 hơn, ngược lại 1\n",
        "allocation = [0 if d1 < d2 else 1\n",
        "              for d1, d2 in zip(dist_to_C1, dist_to_C2)]\n",
        "\n",
        "# 5. In vector phân cụm\n",
        "print(\"Allocation vector (0 = C1, 1 = C2):\")\n",
        "print(allocation)\n",
        "\n",
        "# 6. Nhóm các chỉ số thuộc mỗi cụm\n",
        "cluster_1_indices = [i for i, a in enumerate(allocation) if a == 0]\n",
        "cluster_2_indices = [i for i, a in enumerate(allocation) if a == 1]\n",
        "\n",
        "print(\"\\nClusters grouping indices:\")\n",
        "print(f\"C1 indices: {cluster_1_indices}\")\n",
        "print(f\"C2 indices: {cluster_2_indices}\")"
      ],
      "metadata": {
        "colab": {
          "base_uri": "https://localhost:8080/"
        },
        "id": "PxdF0agXbIEO",
        "outputId": "91b7bd4c-2920-47d4-f9ea-dc7b9d3b4e80"
      },
      "execution_count": 18,
      "outputs": [
        {
          "output_type": "stream",
          "name": "stdout",
          "text": [
            "Allocation vector (0 = C1, 1 = C2):\n",
            "[0, 0, 0, 0, 0, 1, 1, 1, 1, 1]\n",
            "\n",
            "Clusters grouping indices:\n",
            "C1 indices: [0, 1, 2, 3, 4]\n",
            "C2 indices: [5, 6, 7, 8, 9]\n"
          ]
        }
      ]
    },
    {
      "cell_type": "code",
      "source": [
        "# 3. Chuyển allocation thành array để indexing\n",
        "alloc_arr = np.array(allocation)\n",
        "\n",
        "# 4. Lấy các điểm thuộc cụm 1 và cụm 2\n",
        "cluster1 = X_train[alloc_arr == 0]\n",
        "cluster2 = X_train[alloc_arr == 1]\n",
        "\n",
        "# 5. Tính tâm cụm mới (centroid) và làm tròn 2 chữ số\n",
        "C1_new = np.round(cluster1.mean(axis=0), 2)\n",
        "C2_new = np.round(cluster2.mean(axis=0), 2)\n",
        "\n",
        "# 6. In kết quả\n",
        "print(f\"Tâm cụm 1 mới: {C1_new}\")\n",
        "print(f\"Tâm cụm 2 mới: {C2_new}\")"
      ],
      "metadata": {
        "colab": {
          "base_uri": "https://localhost:8080/"
        },
        "id": "rdOiaaEIbXR5",
        "outputId": "e70c7c90-5359-48dd-c37b-a046bc451f33"
      },
      "execution_count": 19,
      "outputs": [
        {
          "output_type": "stream",
          "name": "stdout",
          "text": [
            "Tâm cụm 1 mới: [0.24 0.14 0.16]\n",
            "Tâm cụm 2 mới: [0.56 0.42 0.47]\n"
          ]
        }
      ]
    },
    {
      "cell_type": "code",
      "source": [
        "dist_to_C1 = np.linalg.norm(X_train - C1_new, axis=1)\n",
        "dist_to_C2 = np.linalg.norm(X_train - C2_new, axis=1)\n",
        "\n",
        "# 4. Gán cụm: 0 nếu gần C1 hơn, ngược lại 1\n",
        "allocation = [0 if d1 < d2 else 1 for d1, d2 in zip(dist_to_C1, dist_to_C2)]\n",
        "\n",
        "# 5. In vector phân cụm và nhóm chỉ số\n",
        "print(\"Allocation vector (0=C1, 1=C2):\")\n",
        "print(allocation)\n",
        "\n",
        "cluster1_idxs = [i for i, a in enumerate(allocation) if a == 0]\n",
        "cluster2_idxs = [i for i, a in enumerate(allocation) if a == 1]\n",
        "print(f\"Các chỉ số mẫu thuộc cụm 1: {cluster1_idxs}\")\n",
        "print(f\"Các chỉ số mẫu thuộc cụm 2: {cluster2_idxs}\")"
      ],
      "metadata": {
        "colab": {
          "base_uri": "https://localhost:8080/"
        },
        "id": "tjB_JAdCcSBR",
        "outputId": "f3f38531-ebad-4b56-8dfd-482b944ace54"
      },
      "execution_count": 20,
      "outputs": [
        {
          "output_type": "stream",
          "name": "stdout",
          "text": [
            "Allocation vector (0=C1, 1=C2):\n",
            "[0, 0, 0, 0, 0, 1, 1, 1, 1, 1]\n",
            "Các chỉ số mẫu thuộc cụm 1: [0, 1, 2, 3, 4]\n",
            "Các chỉ số mẫu thuộc cụm 2: [5, 6, 7, 8, 9]\n"
          ]
        }
      ]
    }
  ]
}