{
 "cells": [
  {
   "cell_type": "code",
   "execution_count": 1,
   "id": "945b66b0",
   "metadata": {},
   "outputs": [
    {
     "name": "stdout",
     "output_type": "stream",
     "text": [
      "================== Output =================\n",
      "Bộ từ vựng xây dựng từ corpus:\n",
      "{'adaptive': 0, 'ai': 1, 'and': 2, 'be': 3, 'biased': 4, 'can': 5, 'flawed': 6, 'hard': 7, 'is': 8, 'learning': 9, 'powerful': 10, 'smart': 11, 'system': 12, 'useful': 13, 'very': 14}\n",
      "===========================================\n",
      "================== Output =================\n",
      "Vector đại diện cho các câu trong corpus:\n",
      "[[0 1 1 0 0 0 0 0 1 0 1 0 0 1 0]\n",
      " [1 0 1 0 0 0 0 0 0 0 0 1 1 0 0]\n",
      " [0 0 1 0 0 0 0 0 0 0 0 1 0 1 1]\n",
      " [0 1 0 0 0 0 0 1 1 1 0 0 0 0 1]\n",
      " [0 1 0 1 1 1 0 0 0 0 0 0 0 0 0]\n",
      " [0 0 1 0 1 0 1 0 0 0 0 0 0 0 0]]\n",
      "===========================================\n"
     ]
    }
   ],
   "source": [
    "import numpy as np\n",
    "from sklearn.feature_extraction.text import CountVectorizer\n",
    "\n",
    "# 1. Định nghĩa tập corpus\n",
    "corpus = [\n",
    "    \"ai is powerful and useful\",\n",
    "    \"smart and adaptive system\",\n",
    "    \"very smart and useful\",\n",
    "    \"learning AI is very hard\",\n",
    "    \"ai can be biased\",\n",
    "    \"biased and flawed\"\n",
    "]\n",
    "\n",
    "# 2. Khởi tạo CountVectorizer và tạo ma trận đếm từ (sparse matrix)\n",
    "vectorizer = CountVectorizer()\n",
    "X_sparse = vectorizer.fit_transform(corpus)\n",
    "\n",
    "# 3. In bộ từ vựng (vocabulary)\n",
    "vocab = dict(sorted(vectorizer.vocabulary_.items()))\n",
    "print(\"================== Output =================\")\n",
    "print(\"Bộ từ vựng xây dựng từ corpus:\")\n",
    "print(vocab)\n",
    "print(\"===========================================\")\n",
    "\n",
    "# 4. Chuyển sang mảng dense và in ma trận vector hóa\n",
    "X = X_sparse.toarray()\n",
    "print(\"================== Output =================\")\n",
    "print(\"Vector đại diện cho các câu trong corpus:\")\n",
    "print(X)\n",
    "print(\"===========================================\")"
   ]
  },
  {
   "cell_type": "code",
   "execution_count": 2,
   "id": "cf2925c6",
   "metadata": {},
   "outputs": [
    {
     "name": "stdout",
     "output_type": "stream",
     "text": [
      "Khoảng cách Euclidean từ C1 tới các sample 1, 2, 3, 5:\n",
      "  - Sample 1: 0.000\n",
      "  - Sample 2: 2.646\n",
      "  - Sample 3: 2.236\n",
      "  - Sample 5: 2.646\n"
     ]
    }
   ],
   "source": [
    "# \"ai is powerful and useful\"\n",
    "C1 = np.array([0, 1, 1, 0, 0, 0, 0, 0, 1, 0, 1, 0, 0, 1, 0])\n",
    "# \"ai can be biased\"\n",
    "C2 = np.array([0, 1, 0, 1, 1, 1, 0, 0, 0, 0, 0, 0, 0, 0, 0])\n",
    "\n",
    "# 4. Chọn các sample cần tính: 1, 2, 3, 5  (chỉ số 0,1,2,4)\n",
    "sample_indices = [0, 1, 2, 4]\n",
    "\n",
    "# 5. Tính khoảng cách Euclidean từ C1 tới mỗi sample và in kết quả\n",
    "print(\"Khoảng cách Euclidean từ C1 tới các sample 1, 2, 3, 5:\")\n",
    "for idx in sample_indices:\n",
    "    dist = np.linalg.norm(X[idx] - C1)\n",
    "    print(f\"  - Sample {idx + 1}: {dist:.3f}\")"
   ]
  },
  {
   "cell_type": "code",
   "execution_count": 3,
   "id": "0b710ef1",
   "metadata": {},
   "outputs": [
    {
     "name": "stdout",
     "output_type": "stream",
     "text": [
      "Khoảng cách Euclidean từ C2 tới các sample 1, 2, 3, 5:\n",
      "  - Sample 1: 2.646\n",
      "  - Sample 2: 2.828\n",
      "  - Sample 3: 2.828\n",
      "  - Sample 5: 0.000\n"
     ]
    }
   ],
   "source": [
    "# 5. Tính khoảng cách Euclidean từ C2 tới mỗi sample và in kết quả\n",
    "print(\"Khoảng cách Euclidean từ C2 tới các sample 1, 2, 3, 5:\")\n",
    "for idx in sample_indices:\n",
    "    dist = np.linalg.norm(X[idx] - C2)\n",
    "    print(f\"  - Sample {idx + 1}: {dist:.3f}\")"
   ]
  },
  {
   "cell_type": "code",
   "execution_count": 5,
   "id": "ef72e670",
   "metadata": {},
   "outputs": [
    {
     "name": "stdout",
     "output_type": "stream",
     "text": [
      "Khoảng cách Euclidean từ các sample tới các tâm: [[0.         2.64575131]\n",
      " [2.64575131 2.82842712]\n",
      " [2.23606798 2.82842712]\n",
      " [2.44948974 2.64575131]\n",
      " [2.64575131 0.        ]\n",
      " [2.44948974 2.23606798]]\n",
      "===========================================\n",
      "Vector phân cụm (allocation):\n",
      "['C1', 'C1', 'C1', 'C1', 'C2', 'C2']\n"
     ]
    }
   ],
   "source": [
    "centroids = np.stack([C1, C2], axis=0)  # shape = (2, vocab_size)\n",
    "\n",
    "# 4. Tính khoảng cách Euclidean tới mỗi tâm cho mọi sample\n",
    "#    dists has shape (n_samples, 2)\n",
    "dists = np.linalg.norm(X[:, None, :] - centroids[None, :, :], axis=2)\n",
    "print(\"Khoảng cách Euclidean từ các sample tới các tâm:\", dists)\n",
    "print(\"===========================================\")\n",
    "# 5. Phân cụm: cluster 0 → C1, cluster 1 → C2\n",
    "cluster_idx = np.argmin(dists, axis=1)  # mảng độ dài 6, giá trị 0 hoặc 1\n",
    "allocation = [\"C1\" if ci == 0 else \"C2\" for ci in cluster_idx]\n",
    "\n",
    "# 6. Kết quả\n",
    "print(\"Vector phân cụm (allocation):\")\n",
    "print(allocation)"
   ]
  },
  {
   "cell_type": "code",
   "execution_count": 7,
   "id": "afd34a56",
   "metadata": {},
   "outputs": [
    {
     "name": "stdout",
     "output_type": "stream",
     "text": [
      "C1 mới: [0.25 0.5  0.75 0.   0.   0.   0.   0.25 0.5  0.25 0.25 0.5  0.25 0.5\n",
      " 0.5 ]\n",
      "C2 mới: [0.  0.5 0.5 0.5 1.  0.5 0.5 0.  0.  0.  0.  0.  0.  0.  0. ]\n"
     ]
    }
   ],
   "source": [
    "cluster1 = X[[i for i, a in enumerate(allocation) if a == 'C1']]\n",
    "cluster2 = X[[i for i, a in enumerate(allocation) if a == 'C2']]\n",
    "\n",
    "C1_new = np.round(cluster1.mean(axis=0), 2)\n",
    "C2_new = np.round(cluster2.mean(axis=0), 2)\n",
    "\n",
    "print(\"C1 mới:\", C1_new)\n",
    "print(\"C2 mới:\", C2_new)"
   ]
  },
  {
   "cell_type": "code",
   "execution_count": 8,
   "id": "8b66e8e4",
   "metadata": {},
   "outputs": [
    {
     "name": "stdout",
     "output_type": "stream",
     "text": [
      "Sample 1 thuộc cụm: C1\n",
      "Sample 2 thuộc cụm: C1\n",
      "Sample 3 thuộc cụm: C1\n",
      "Sample 4 thuộc cụm: C1\n",
      "Sample 5 thuộc cụm: C2\n",
      "Sample 6 thuộc cụm: C2\n",
      "\n",
      "Vector phân cụm (numeric): [1, 1, 1, 1, 2, 2]\n"
     ]
    }
   ],
   "source": [
    "# 4. Tính khoảng cách Euclidean từ mỗi sample tới C1_new và C2_new\n",
    "dist_to_C1 = np.linalg.norm(X - C1_new, axis=1)\n",
    "dist_to_C2 = np.linalg.norm(X - C2_new, axis=1)\n",
    "\n",
    "# 5. Phân cụm lại: gần C1_new thì thuộc cụm 1, ngược lại thuộc cụm 2\n",
    "allocation = []\n",
    "for d1, d2 in zip(dist_to_C1, dist_to_C2):\n",
    "    allocation.append('C1' if d1 < d2 else 'C2')\n",
    "\n",
    "# 6. In kết quả\n",
    "for idx, cluster in enumerate(allocation, start=1):\n",
    "    print(f\"Sample {idx} thuộc cụm: {cluster}\")\n",
    "\n",
    "# Nếu muốn vector numeric (1 hoặc 2) thay vì 'C1'/'C2':\n",
    "allocation_numeric = [1 if c == 'C1' else 2 for c in allocation]\n",
    "print(\"\\nVector phân cụm (numeric):\", allocation_numeric)"
   ]
  }
 ],
 "metadata": {
  "kernelspec": {
   "display_name": "AIOEx",
   "language": "python",
   "name": "python3"
  },
  "language_info": {
   "codemirror_mode": {
    "name": "ipython",
    "version": 3
   },
   "file_extension": ".py",
   "mimetype": "text/x-python",
   "name": "python",
   "nbconvert_exporter": "python",
   "pygments_lexer": "ipython3",
   "version": "3.10.15"
  }
 },
 "nbformat": 4,
 "nbformat_minor": 5
}
