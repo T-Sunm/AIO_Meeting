{
 "cells": [
  {
   "cell_type": "code",
   "execution_count": 1,
   "id": "2e8a335f",
   "metadata": {},
   "outputs": [],
   "source": [
    "import torch\n",
    "import torch.nn as nn\n",
    "import torch.nn.functional as F\n",
    "\n",
    "# ===== ENGLISH VOCAB =====\n",
    "en_vocab = {\n",
    "    0: torch.tensor([1.1, -1.0]),    # <eos>\n",
    "    1: torch.tensor([-1.5, 0.6]),    # I\n",
    "    2: torch.tensor([-0.8, -1.3]),   # hate\n",
    "    3: torch.tensor([0.3, 1.1])      # you\n",
    "}\n",
    "\n",
    "# ===== VIETNAMESE VOCAB =====\n",
    "vi_vocab = {\n",
    "    0: torch.tensor([-2.3, -0.3]),   # <sos>\n",
    "    1: torch.tensor([0.0, 0.0]),     # <eos>\n",
    "    2: torch.tensor([-0.2, -2.4]),   # tôi\n",
    "    3: torch.tensor([0.1, 2.1]),     # ghét\n",
    "    4: torch.tensor([0.1, 0.0]),     # bạn\n",
    "    5: torch.tensor([0.0, 0.2]),     # em\n",
    "    6: torch.tensor([-0.1, -0.2])    # anh\n",
    "}\n",
    "\n",
    "# ===== ENCODER =====\n",
    "class EncoderRNN(nn.Module):\n",
    "    def __init__(self):\n",
    "        super().__init__()\n",
    "        self.W_ih = nn.Parameter(torch.tensor(\n",
    "            [[-0.1, 1.1], [0.2, -1.1]]))  # 2x2\n",
    "        self.b_ih = nn.Parameter(torch.tensor([-0.5, 0.7]))\n",
    "        self.W_hh = nn.Parameter(torch.tensor(\n",
    "            [[-0.2, 1.1], [0.6, -0.2]]))  # 2x2\n",
    "        self.b_hh = nn.Parameter(torch.tensor([0.3, 0.0]))\n",
    "\n",
    "    def forward(self, x_seq):\n",
    "        h = torch.zeros(2)\n",
    "        for x in x_seq:\n",
    "            h = torch.tanh(self.W_ih @ x + self.b_ih +\n",
    "                           self.W_hh @ h + self.b_hh)\n",
    "        return h\n",
    "\n",
    "# ===== DECODER =====\n",
    "class DecoderRNN(nn.Module):\n",
    "    def __init__(self):\n",
    "        super().__init__()\n",
    "        self.W_ih = nn.Parameter(torch.tensor([[0.7, -1.3], [-0.9, -0.8]]))\n",
    "        self.b_ih = nn.Parameter(torch.tensor([0.0, -0.9]))\n",
    "        self.W_hh = nn.Parameter(torch.tensor([[0.0, -0.1], [-0.3, 1.4]]))\n",
    "        self.b_hh = nn.Parameter(torch.tensor([-0.3, -0.7]))\n",
    "\n",
    "        self.fc = nn.Linear(2, 7)\n",
    "        with torch.no_grad():\n",
    "            self.fc.weight.copy_(torch.tensor([\n",
    "                [0.6, 0.3],\n",
    "                [-0.4, -0.8],\n",
    "                [-1.0, 1.7],\n",
    "                [1.8, 1.7],\n",
    "                [0.9, 0.2],\n",
    "                [0.8, 0.3],\n",
    "                [-1.8, -0.4]\n",
    "            ]))\n",
    "            self.fc.bias.copy_(torch.tensor(\n",
    "                [-0.3, 0.4, 0.8, 0.7, -1.0, -1.2, 0.1]))\n",
    "\n",
    "    def forward(self, x_t, h_prev):\n",
    "        h = torch.tanh(self.W_ih @ x_t + self.b_ih +\n",
    "                       self.W_hh @ h_prev + self.b_hh)\n",
    "        logits = self.fc(h)\n",
    "        probs = F.softmax(logits, dim=-1)\n",
    "        return probs, h"
   ]
  },
  {
   "cell_type": "markdown",
   "id": "269b026e",
   "metadata": {},
   "source": [
    "### FNE3MT01 "
   ]
  },
  {
   "cell_type": "code",
   "execution_count": 3,
   "id": "e2fc1c78",
   "metadata": {},
   "outputs": [
    {
     "name": "stdout",
     "output_type": "stream",
     "text": [
      "Encoder hidden state h2: tensor([-0.9594,  0.9819], grad_fn=<TanhBackward0>)\n"
     ]
    }
   ],
   "source": [
    "encoder = EncoderRNN()\n",
    "x_seq = [en_vocab[1], en_vocab[2]]  # I hate you\n",
    "h2 = encoder(x_seq)\n",
    "print(\"Encoder hidden state h2:\", h2)"
   ]
  },
  {
   "cell_type": "markdown",
   "id": "38ab9b13",
   "metadata": {},
   "source": [
    "### FNE3MT02"
   ]
  }
 ],
 "metadata": {
  "kernelspec": {
   "display_name": "AIOEx",
   "language": "python",
   "name": "python3"
  },
  "language_info": {
   "codemirror_mode": {
    "name": "ipython",
    "version": 3
   },
   "file_extension": ".py",
   "mimetype": "text/x-python",
   "name": "python",
   "nbconvert_exporter": "python",
   "pygments_lexer": "ipython3",
   "version": "3.10.15"
  }
 },
 "nbformat": 4,
 "nbformat_minor": 5
}
